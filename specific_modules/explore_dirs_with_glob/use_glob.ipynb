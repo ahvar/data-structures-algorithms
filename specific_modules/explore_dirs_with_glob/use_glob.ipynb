{
 "cells": [
  {
   "cell_type": "markdown",
   "metadata": {},
   "source": [
    "# Exploring Directories"
   ]
  },
  {
   "cell_type": "markdown",
   "metadata": {},
   "source": [
    "## Some Useful Modules: `glob`, `os`, `Path`\n",
    "Get the $HOME environment variable and list files in your home directory  "
   ]
  },
  {
   "cell_type": "code",
   "execution_count": 10,
   "metadata": {},
   "outputs": [
    {
     "data": {
      "text/html": [
       "<pre style=\"white-space:pre;overflow-x:auto;line-height:normal;font-family:Menlo,'DejaVu Sans Mono',consolas,'Courier New',monospace\"><span style=\"font-weight: bold\">[</span>\n",
       "    <span style=\"color: #008000; text-decoration-color: #008000\">'/Users/arthurvargas/Music'</span>,\n",
       "    <span style=\"color: #008000; text-decoration-color: #008000\">'/Users/arthurvargas/bin'</span>,\n",
       "    <span style=\"color: #008000; text-decoration-color: #008000\">'/Users/arthurvargas/Pictures'</span>,\n",
       "    <span style=\"color: #008000; text-decoration-color: #008000\">'/Users/arthurvargas/Desktop'</span>,\n",
       "    <span style=\"color: #008000; text-decoration-color: #008000\">'/Users/arthurvargas/Library'</span>,\n",
       "    <span style=\"color: #008000; text-decoration-color: #008000\">'/Users/arthurvargas/Public'</span>,\n",
       "    <span style=\"color: #008000; text-decoration-color: #008000\">'/Users/arthurvargas/Movies'</span>,\n",
       "    <span style=\"color: #008000; text-decoration-color: #008000\">'/Users/arthurvargas/dev'</span>,\n",
       "    <span style=\"color: #008000; text-decoration-color: #008000\">'/Users/arthurvargas/Documents'</span>,\n",
       "    <span style=\"color: #008000; text-decoration-color: #008000\">'/Users/arthurvargas/Downloads'</span>,\n",
       "    <span style=\"color: #008000; text-decoration-color: #008000\">'/Users/arthurvargas/miniconda3'</span>\n",
       "<span style=\"font-weight: bold\">]</span>\n",
       "</pre>\n"
      ],
      "text/plain": [
       "\u001b[1m[\u001b[0m\n",
       "    \u001b[32m'/Users/arthurvargas/Music'\u001b[0m,\n",
       "    \u001b[32m'/Users/arthurvargas/bin'\u001b[0m,\n",
       "    \u001b[32m'/Users/arthurvargas/Pictures'\u001b[0m,\n",
       "    \u001b[32m'/Users/arthurvargas/Desktop'\u001b[0m,\n",
       "    \u001b[32m'/Users/arthurvargas/Library'\u001b[0m,\n",
       "    \u001b[32m'/Users/arthurvargas/Public'\u001b[0m,\n",
       "    \u001b[32m'/Users/arthurvargas/Movies'\u001b[0m,\n",
       "    \u001b[32m'/Users/arthurvargas/dev'\u001b[0m,\n",
       "    \u001b[32m'/Users/arthurvargas/Documents'\u001b[0m,\n",
       "    \u001b[32m'/Users/arthurvargas/Downloads'\u001b[0m,\n",
       "    \u001b[32m'/Users/arthurvargas/miniconda3'\u001b[0m\n",
       "\u001b[1m]\u001b[0m\n"
      ]
     },
     "metadata": {},
     "output_type": "display_data"
    }
   ],
   "source": [
    "import glob\n",
    "import os\n",
    "import rich\n",
    "from rich import print\n",
    "from pathlib import Path\n",
    "home = os.getenv(\"HOME\")\n",
    "files = glob.glob(os.path.join(home, \"*\"))\n",
    "print(files)"
   ]
  },
  {
   "cell_type": "code",
   "execution_count": 17,
   "metadata": {},
   "outputs": [
    {
     "data": {
      "text/html": [
       "<pre style=\"white-space:pre;overflow-x:auto;line-height:normal;font-family:Menlo,'DejaVu Sans Mono',consolas,'Courier New',monospace\"><span style=\"font-weight: bold\">[</span>\n",
       "    <span style=\"color: #008000; text-decoration-color: #008000\">'/Users/arthurvargas/miniconda3/man'</span>,\n",
       "    <span style=\"color: #008000; text-decoration-color: #008000\">'/Users/arthurvargas/miniconda3/conda-meta'</span>,\n",
       "    <span style=\"color: #008000; text-decoration-color: #008000\">'/Users/arthurvargas/miniconda3/condabin'</span>,\n",
       "    <span style=\"color: #008000; text-decoration-color: #008000\">'/Users/arthurvargas/miniconda3/ssl'</span>,\n",
       "    <span style=\"color: #008000; text-decoration-color: #008000\">'/Users/arthurvargas/miniconda3/cmake'</span>,\n",
       "    <span style=\"color: #008000; text-decoration-color: #008000\">'/Users/arthurvargas/miniconda3/bin'</span>,\n",
       "    <span style=\"color: #008000; text-decoration-color: #008000\">'/Users/arthurvargas/miniconda3/shell'</span>,\n",
       "    <span style=\"color: #008000; text-decoration-color: #008000\">'/Users/arthurvargas/miniconda3/include'</span>,\n",
       "    <span style=\"color: #008000; text-decoration-color: #008000\">'/Users/arthurvargas/miniconda3/sbin'</span>,\n",
       "    <span style=\"color: #008000; text-decoration-color: #008000\">'/Users/arthurvargas/miniconda3/_conda'</span>,\n",
       "    <span style=\"color: #008000; text-decoration-color: #008000\">'/Users/arthurvargas/miniconda3/etc'</span>,\n",
       "    <span style=\"color: #008000; text-decoration-color: #008000\">'/Users/arthurvargas/miniconda3/python.app'</span>,\n",
       "    <span style=\"color: #008000; text-decoration-color: #008000\">'/Users/arthurvargas/miniconda3/pkgs'</span>,\n",
       "    <span style=\"color: #008000; text-decoration-color: #008000\">'/Users/arthurvargas/miniconda3/lib'</span>,\n",
       "    <span style=\"color: #008000; text-decoration-color: #008000\">'/Users/arthurvargas/miniconda3/LICENSE.txt'</span>,\n",
       "    <span style=\"color: #008000; text-decoration-color: #008000\">'/Users/arthurvargas/miniconda3/envs'</span>,\n",
       "    <span style=\"color: #008000; text-decoration-color: #008000\">'/Users/arthurvargas/miniconda3/share'</span>\n",
       "<span style=\"font-weight: bold\">]</span>\n",
       "</pre>\n"
      ],
      "text/plain": [
       "\u001b[1m[\u001b[0m\n",
       "    \u001b[32m'/Users/arthurvargas/miniconda3/man'\u001b[0m,\n",
       "    \u001b[32m'/Users/arthurvargas/miniconda3/conda-meta'\u001b[0m,\n",
       "    \u001b[32m'/Users/arthurvargas/miniconda3/condabin'\u001b[0m,\n",
       "    \u001b[32m'/Users/arthurvargas/miniconda3/ssl'\u001b[0m,\n",
       "    \u001b[32m'/Users/arthurvargas/miniconda3/cmake'\u001b[0m,\n",
       "    \u001b[32m'/Users/arthurvargas/miniconda3/bin'\u001b[0m,\n",
       "    \u001b[32m'/Users/arthurvargas/miniconda3/shell'\u001b[0m,\n",
       "    \u001b[32m'/Users/arthurvargas/miniconda3/include'\u001b[0m,\n",
       "    \u001b[32m'/Users/arthurvargas/miniconda3/sbin'\u001b[0m,\n",
       "    \u001b[32m'/Users/arthurvargas/miniconda3/_conda'\u001b[0m,\n",
       "    \u001b[32m'/Users/arthurvargas/miniconda3/etc'\u001b[0m,\n",
       "    \u001b[32m'/Users/arthurvargas/miniconda3/python.app'\u001b[0m,\n",
       "    \u001b[32m'/Users/arthurvargas/miniconda3/pkgs'\u001b[0m,\n",
       "    \u001b[32m'/Users/arthurvargas/miniconda3/lib'\u001b[0m,\n",
       "    \u001b[32m'/Users/arthurvargas/miniconda3/LICENSE.txt'\u001b[0m,\n",
       "    \u001b[32m'/Users/arthurvargas/miniconda3/envs'\u001b[0m,\n",
       "    \u001b[32m'/Users/arthurvargas/miniconda3/share'\u001b[0m\n",
       "\u001b[1m]\u001b[0m\n"
      ]
     },
     "metadata": {},
     "output_type": "display_data"
    }
   ],
   "source": [
    "plus_hidden = glob.glob(os.path.join(home, \"miniconda3\", \"*\"), recursive=True)\n",
    "print(plus_hidden)"
   ]
  }
 ],
 "metadata": {
  "kernelspec": {
   "display_name": "envs",
   "language": "python",
   "name": "python3"
  },
  "language_info": {
   "codemirror_mode": {
    "name": "ipython",
    "version": 3
   },
   "file_extension": ".py",
   "mimetype": "text/x-python",
   "name": "python",
   "nbconvert_exporter": "python",
   "pygments_lexer": "ipython3",
   "version": "3.12.7"
  }
 },
 "nbformat": 4,
 "nbformat_minor": 2
}
