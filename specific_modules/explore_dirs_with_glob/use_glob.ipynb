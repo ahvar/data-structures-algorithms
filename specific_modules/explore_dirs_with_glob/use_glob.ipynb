{
 "cells": [
  {
   "cell_type": "markdown",
   "metadata": {},
   "source": [
    "# Exploring Directories"
   ]
  },
  {
   "cell_type": "markdown",
   "metadata": {},
   "source": [
    "## Some Useful Modules: `glob`, `os`, `Path`\n",
    "Get the $HOME environment variable and list files in your home directory  "
   ]
  },
  {
   "cell_type": "code",
   "execution_count": 1,
   "metadata": {},
   "outputs": [
    {
     "data": {
      "text/html": [
       "<pre style=\"white-space:pre;overflow-x:auto;line-height:normal;font-family:Menlo,'DejaVu Sans Mono',consolas,'Courier New',monospace\"><span style=\"font-weight: bold\">[</span>\n",
       "    <span style=\"color: #008000; text-decoration-color: #008000\">'/Users/arthurvargas/Music'</span>,\n",
       "    <span style=\"color: #008000; text-decoration-color: #008000\">'/Users/arthurvargas/bin'</span>,\n",
       "    <span style=\"color: #008000; text-decoration-color: #008000\">'/Users/arthurvargas/Pictures'</span>,\n",
       "    <span style=\"color: #008000; text-decoration-color: #008000\">'/Users/arthurvargas/Desktop'</span>,\n",
       "    <span style=\"color: #008000; text-decoration-color: #008000\">'/Users/arthurvargas/Library'</span>,\n",
       "    <span style=\"color: #008000; text-decoration-color: #008000\">'/Users/arthurvargas/Public'</span>,\n",
       "    <span style=\"color: #008000; text-decoration-color: #008000\">'/Users/arthurvargas/Movies'</span>,\n",
       "    <span style=\"color: #008000; text-decoration-color: #008000\">'/Users/arthurvargas/dev'</span>,\n",
       "    <span style=\"color: #008000; text-decoration-color: #008000\">'/Users/arthurvargas/Documents'</span>,\n",
       "    <span style=\"color: #008000; text-decoration-color: #008000\">'/Users/arthurvargas/Downloads'</span>,\n",
       "    <span style=\"color: #008000; text-decoration-color: #008000\">'/Users/arthurvargas/miniconda3'</span>\n",
       "<span style=\"font-weight: bold\">]</span>\n",
       "</pre>\n"
      ],
      "text/plain": [
       "\u001b[1m[\u001b[0m\n",
       "    \u001b[32m'/Users/arthurvargas/Music'\u001b[0m,\n",
       "    \u001b[32m'/Users/arthurvargas/bin'\u001b[0m,\n",
       "    \u001b[32m'/Users/arthurvargas/Pictures'\u001b[0m,\n",
       "    \u001b[32m'/Users/arthurvargas/Desktop'\u001b[0m,\n",
       "    \u001b[32m'/Users/arthurvargas/Library'\u001b[0m,\n",
       "    \u001b[32m'/Users/arthurvargas/Public'\u001b[0m,\n",
       "    \u001b[32m'/Users/arthurvargas/Movies'\u001b[0m,\n",
       "    \u001b[32m'/Users/arthurvargas/dev'\u001b[0m,\n",
       "    \u001b[32m'/Users/arthurvargas/Documents'\u001b[0m,\n",
       "    \u001b[32m'/Users/arthurvargas/Downloads'\u001b[0m,\n",
       "    \u001b[32m'/Users/arthurvargas/miniconda3'\u001b[0m\n",
       "\u001b[1m]\u001b[0m\n"
      ]
     },
     "metadata": {},
     "output_type": "display_data"
    }
   ],
   "source": [
    "import glob\n",
    "import os\n",
    "import rich\n",
    "from rich import print\n",
    "from pathlib import Path\n",
    "home = os.getenv(\"HOME\")\n",
    "files = glob.glob(os.path.join(home, \"*\"))\n",
    "print(files)"
   ]
  },
  {
   "cell_type": "code",
   "execution_count": 2,
   "metadata": {},
   "outputs": [
    {
     "data": {
      "text/html": [
       "<pre style=\"white-space:pre;overflow-x:auto;line-height:normal;font-family:Menlo,'DejaVu Sans Mono',consolas,'Courier New',monospace\"><span style=\"font-weight: bold\">[</span>\n",
       "    <span style=\"color: #008000; text-decoration-color: #008000\">'/Users/arthurvargas/miniconda3/etc/'</span>,\n",
       "    <span style=\"color: #008000; text-decoration-color: #008000\">'/Users/arthurvargas/miniconda3/etc/aau_token'</span>,\n",
       "    <span style=\"color: #008000; text-decoration-color: #008000\">'/Users/arthurvargas/miniconda3/etc/profile.d'</span>,\n",
       "    <span style=\"color: #008000; text-decoration-color: #008000\">'/Users/arthurvargas/miniconda3/etc/profile.d/conda.csh'</span>,\n",
       "    <span style=\"color: #008000; text-decoration-color: #008000\">'/Users/arthurvargas/miniconda3/etc/profile.d/conda.sh'</span>,\n",
       "    <span style=\"color: #008000; text-decoration-color: #008000\">'/Users/arthurvargas/miniconda3/etc/fish'</span>,\n",
       "    <span style=\"color: #008000; text-decoration-color: #008000\">'/Users/arthurvargas/miniconda3/etc/fish/conf.d'</span>,\n",
       "    <span style=\"color: #008000; text-decoration-color: #008000\">'/Users/arthurvargas/miniconda3/etc/fish/conf.d/conda.fish'</span>\n",
       "<span style=\"font-weight: bold\">]</span>\n",
       "</pre>\n"
      ],
      "text/plain": [
       "\u001b[1m[\u001b[0m\n",
       "    \u001b[32m'/Users/arthurvargas/miniconda3/etc/'\u001b[0m,\n",
       "    \u001b[32m'/Users/arthurvargas/miniconda3/etc/aau_token'\u001b[0m,\n",
       "    \u001b[32m'/Users/arthurvargas/miniconda3/etc/profile.d'\u001b[0m,\n",
       "    \u001b[32m'/Users/arthurvargas/miniconda3/etc/profile.d/conda.csh'\u001b[0m,\n",
       "    \u001b[32m'/Users/arthurvargas/miniconda3/etc/profile.d/conda.sh'\u001b[0m,\n",
       "    \u001b[32m'/Users/arthurvargas/miniconda3/etc/fish'\u001b[0m,\n",
       "    \u001b[32m'/Users/arthurvargas/miniconda3/etc/fish/conf.d'\u001b[0m,\n",
       "    \u001b[32m'/Users/arthurvargas/miniconda3/etc/fish/conf.d/conda.fish'\u001b[0m\n",
       "\u001b[1m]\u001b[0m\n"
      ]
     },
     "metadata": {},
     "output_type": "display_data"
    }
   ],
   "source": [
    "plus_hidden = glob.glob(os.path.join(home, \"miniconda3\", \"etc\", \"**\"), recursive=True)\n",
    "print(plus_hidden)"
   ]
  },
  {
   "cell_type": "code",
   "execution_count": 9,
   "metadata": {},
   "outputs": [
    {
     "data": {
      "text/html": [
       "<pre style=\"white-space:pre;overflow-x:auto;line-height:normal;font-family:Menlo,'DejaVu Sans Mono',consolas,'Courier New',monospace\"><span style=\"font-weight: bold\">[</span>\n",
       "    <span style=\"color: #008000; text-decoration-color: #008000\">'/Users/arthurvargas/dev/gene_annotator/migrations'</span>,\n",
       "    <span style=\"color: #008000; text-decoration-color: #008000\">'/Users/arthurvargas/dev/gene_annotator/app'</span>,\n",
       "    <span style=\"color: #008000; text-decoration-color: #008000\">'/Users/arthurvargas/dev/gene_annotator/requirements.txt'</span>,\n",
       "    <span style=\"color: #008000; text-decoration-color: #008000\">'/Users/arthurvargas/dev/gene_annotator/test'</span>,\n",
       "    <span style=\"color: #008000; text-decoration-color: #008000\">'/Users/arthurvargas/dev/gene_annotator/etl'</span>,\n",
       "    <span style=\"color: #008000; text-decoration-color: #008000\">'/Users/arthurvargas/dev/gene_annotator/__init__.py'</span>,\n",
       "    <span style=\"color: #008000; text-decoration-color: #008000\">'/Users/arthurvargas/dev/gene_annotator/utils'</span>,\n",
       "    <span style=\"color: #008000; text-decoration-color: #008000\">'/Users/arthurvargas/dev/gene_annotator/README.md'</span>,\n",
       "    <span style=\"color: #008000; text-decoration-color: #008000\">'/Users/arthurvargas/dev/gene_annotator/containers'</span>,\n",
       "    <span style=\"color: #008000; text-decoration-color: #008000\">'/Users/arthurvargas/dev/gene_annotator/helper_scripts'</span>,\n",
       "    <span style=\"color: #008000; text-decoration-color: #008000\">'/Users/arthurvargas/dev/gene_annotator/migrations/script.py.mako'</span>,\n",
       "    <span style=\"color: #008000; text-decoration-color: #008000\">'/Users/arthurvargas/dev/gene_annotator/migrations/env.py'</span>,\n",
       "    <span style=\"color: #008000; text-decoration-color: #008000\">'/Users/arthurvargas/dev/gene_annotator/migrations/alembic.ini'</span>,\n",
       "    <span style=\"color: #008000; text-decoration-color: #008000\">'/Users/arthurvargas/dev/gene_annotator/migrations/versions'</span>,\n",
       "    <span style=\"color: #008000; text-decoration-color: #008000\">'/Users/arthurvargas/dev/gene_annotator/migrations/README'</span>,\n",
       "    <span style=\"color: #008000; text-decoration-color: #008000\">'/Users/arthurvargas/dev/gene_annotator/migrations/versions/c8a235c654ef_users_table.py'</span>,\n",
       "    <span style=\"color: #008000; text-decoration-color: #008000\">'/Users/arthurvargas/dev/gene_annotator/app/app.db'</span>,\n",
       "    <span style=\"color: #008000; text-decoration-color: #008000\">'/Users/arthurvargas/dev/gene_annotator/app/config.py'</span>,\n",
       "    <span style=\"color: #008000; text-decoration-color: #008000\">'/Users/arthurvargas/dev/gene_annotator/app/__init__.py'</span>,\n",
       "    <span style=\"color: #008000; text-decoration-color: #008000\">'/Users/arthurvargas/dev/gene_annotator/app/models'</span>,\n",
       "    <span style=\"color: #008000; text-decoration-color: #008000\">'/Users/arthurvargas/dev/gene_annotator/app/forms.py'</span>,\n",
       "    <span style=\"color: #008000; text-decoration-color: #008000\">'/Users/arthurvargas/dev/gene_annotator/app/templates'</span>,\n",
       "    <span style=\"color: #008000; text-decoration-color: #008000\">'/Users/arthurvargas/dev/gene_annotator/app/gene_annotate.py'</span>,\n",
       "    <span style=\"color: #008000; text-decoration-color: #008000\">'/Users/arthurvargas/dev/gene_annotator/app/routes.py'</span>,\n",
       "    <span style=\"color: #008000; text-decoration-color: #008000\">'/Users/arthurvargas/dev/gene_annotator/app/models/user.py'</span>,\n",
       "    <span style=\"color: #008000; text-decoration-color: #008000\">'/Users/arthurvargas/dev/gene_annotator/app/models/__init__.py'</span>,\n",
       "    <span style=\"color: #008000; text-decoration-color: #008000\">'/Users/arthurvargas/dev/gene_annotator/app/templates/index.html'</span>,\n",
       "    <span style=\"color: #008000; text-decoration-color: #008000\">'/Users/arthurvargas/dev/gene_annotator/app/templates/base.html'</span>,\n",
       "    <span style=\"color: #008000; text-decoration-color: #008000\">'/Users/arthurvargas/dev/gene_annotator/app/templates/login.html'</span>,\n",
       "    <span style=\"color: #008000; text-decoration-color: #008000\">'/Users/arthurvargas/dev/gene_annotator/test/utils'</span>,\n",
       "    <span style=\"color: #008000; text-decoration-color: #008000\">'/Users/arthurvargas/dev/gene_annotator/test/utils/test_pipeline_utils.py'</span>,\n",
       "    <span style=\"color: #008000; text-decoration-color: #008000\">'/Users/arthurvargas/dev/gene_annotator/etl/__init__.py'</span>,\n",
       "    <span style=\"color: #008000; text-decoration-color: #008000\">'/Users/arthurvargas/dev/gene_annotator/etl/pipeline.py'</span>,\n",
       "    <span style=\"color: #008000; text-decoration-color: #008000\">'/Users/arthurvargas/dev/gene_annotator/etl/data'</span>,\n",
       "    <span style=\"color: #008000; text-decoration-color: #008000\">'/Users/arthurvargas/dev/gene_annotator/etl/data/gene_annotation.tsv'</span>,\n",
       "    <span style=\"color: #008000; text-decoration-color: #008000\">'/Users/arthurvargas/dev/gene_annotator/etl/data/genes.csv'</span>,\n",
       "    <span style=\"color: #008000; text-decoration-color: #008000\">'/Users/arthurvargas/dev/gene_annotator/utils/references.py'</span>,\n",
       "    <span style=\"color: #008000; text-decoration-color: #008000\">'/Users/arthurvargas/dev/gene_annotator/utils/__init__.py'</span>,\n",
       "    <span style=\"color: #008000; text-decoration-color: #008000\">'/Users/arthurvargas/dev/gene_annotator/utils/pipeline_exceptions.py'</span>,\n",
       "    <span style=\"color: #008000; text-decoration-color: #008000\">'/Users/arthurvargas/dev/gene_annotator/utils/pipeline_utils.py'</span>,\n",
       "    <span style=\"color: #008000; text-decoration-color: #008000\">'/Users/arthurvargas/dev/gene_annotator/utils/logging_utils.py'</span>,\n",
       "    <span style=\"color: #008000; text-decoration-color: #008000\">'/Users/arthurvargas/dev/gene_annotator/containers/etl-pipeline-dockerfile'</span>,\n",
       "    <span style=\"color: #008000; text-decoration-color: #008000\">'/Users/arthurvargas/dev/gene_annotator/helper_scripts/run_etl.sh'</span>,\n",
       "    <span style=\"color: #008000; text-decoration-color: #008000\">'/Users/arthurvargas/dev/gene_annotator/helper_scripts/export_python_path.sh'</span>,\n",
       "    <span style=\"color: #008000; text-decoration-color: #008000\">'/Users/arthurvargas/dev/gene_annotator/helper_scripts/help.sh'</span>\n",
       "<span style=\"font-weight: bold\">]</span>\n",
       "</pre>\n"
      ],
      "text/plain": [
       "\u001b[1m[\u001b[0m\n",
       "    \u001b[32m'/Users/arthurvargas/dev/gene_annotator/migrations'\u001b[0m,\n",
       "    \u001b[32m'/Users/arthurvargas/dev/gene_annotator/app'\u001b[0m,\n",
       "    \u001b[32m'/Users/arthurvargas/dev/gene_annotator/requirements.txt'\u001b[0m,\n",
       "    \u001b[32m'/Users/arthurvargas/dev/gene_annotator/test'\u001b[0m,\n",
       "    \u001b[32m'/Users/arthurvargas/dev/gene_annotator/etl'\u001b[0m,\n",
       "    \u001b[32m'/Users/arthurvargas/dev/gene_annotator/__init__.py'\u001b[0m,\n",
       "    \u001b[32m'/Users/arthurvargas/dev/gene_annotator/utils'\u001b[0m,\n",
       "    \u001b[32m'/Users/arthurvargas/dev/gene_annotator/README.md'\u001b[0m,\n",
       "    \u001b[32m'/Users/arthurvargas/dev/gene_annotator/containers'\u001b[0m,\n",
       "    \u001b[32m'/Users/arthurvargas/dev/gene_annotator/helper_scripts'\u001b[0m,\n",
       "    \u001b[32m'/Users/arthurvargas/dev/gene_annotator/migrations/script.py.mako'\u001b[0m,\n",
       "    \u001b[32m'/Users/arthurvargas/dev/gene_annotator/migrations/env.py'\u001b[0m,\n",
       "    \u001b[32m'/Users/arthurvargas/dev/gene_annotator/migrations/alembic.ini'\u001b[0m,\n",
       "    \u001b[32m'/Users/arthurvargas/dev/gene_annotator/migrations/versions'\u001b[0m,\n",
       "    \u001b[32m'/Users/arthurvargas/dev/gene_annotator/migrations/README'\u001b[0m,\n",
       "    \u001b[32m'/Users/arthurvargas/dev/gene_annotator/migrations/versions/c8a235c654ef_users_table.py'\u001b[0m,\n",
       "    \u001b[32m'/Users/arthurvargas/dev/gene_annotator/app/app.db'\u001b[0m,\n",
       "    \u001b[32m'/Users/arthurvargas/dev/gene_annotator/app/config.py'\u001b[0m,\n",
       "    \u001b[32m'/Users/arthurvargas/dev/gene_annotator/app/__init__.py'\u001b[0m,\n",
       "    \u001b[32m'/Users/arthurvargas/dev/gene_annotator/app/models'\u001b[0m,\n",
       "    \u001b[32m'/Users/arthurvargas/dev/gene_annotator/app/forms.py'\u001b[0m,\n",
       "    \u001b[32m'/Users/arthurvargas/dev/gene_annotator/app/templates'\u001b[0m,\n",
       "    \u001b[32m'/Users/arthurvargas/dev/gene_annotator/app/gene_annotate.py'\u001b[0m,\n",
       "    \u001b[32m'/Users/arthurvargas/dev/gene_annotator/app/routes.py'\u001b[0m,\n",
       "    \u001b[32m'/Users/arthurvargas/dev/gene_annotator/app/models/user.py'\u001b[0m,\n",
       "    \u001b[32m'/Users/arthurvargas/dev/gene_annotator/app/models/__init__.py'\u001b[0m,\n",
       "    \u001b[32m'/Users/arthurvargas/dev/gene_annotator/app/templates/index.html'\u001b[0m,\n",
       "    \u001b[32m'/Users/arthurvargas/dev/gene_annotator/app/templates/base.html'\u001b[0m,\n",
       "    \u001b[32m'/Users/arthurvargas/dev/gene_annotator/app/templates/login.html'\u001b[0m,\n",
       "    \u001b[32m'/Users/arthurvargas/dev/gene_annotator/test/utils'\u001b[0m,\n",
       "    \u001b[32m'/Users/arthurvargas/dev/gene_annotator/test/utils/test_pipeline_utils.py'\u001b[0m,\n",
       "    \u001b[32m'/Users/arthurvargas/dev/gene_annotator/etl/__init__.py'\u001b[0m,\n",
       "    \u001b[32m'/Users/arthurvargas/dev/gene_annotator/etl/pipeline.py'\u001b[0m,\n",
       "    \u001b[32m'/Users/arthurvargas/dev/gene_annotator/etl/data'\u001b[0m,\n",
       "    \u001b[32m'/Users/arthurvargas/dev/gene_annotator/etl/data/gene_annotation.tsv'\u001b[0m,\n",
       "    \u001b[32m'/Users/arthurvargas/dev/gene_annotator/etl/data/genes.csv'\u001b[0m,\n",
       "    \u001b[32m'/Users/arthurvargas/dev/gene_annotator/utils/references.py'\u001b[0m,\n",
       "    \u001b[32m'/Users/arthurvargas/dev/gene_annotator/utils/__init__.py'\u001b[0m,\n",
       "    \u001b[32m'/Users/arthurvargas/dev/gene_annotator/utils/pipeline_exceptions.py'\u001b[0m,\n",
       "    \u001b[32m'/Users/arthurvargas/dev/gene_annotator/utils/pipeline_utils.py'\u001b[0m,\n",
       "    \u001b[32m'/Users/arthurvargas/dev/gene_annotator/utils/logging_utils.py'\u001b[0m,\n",
       "    \u001b[32m'/Users/arthurvargas/dev/gene_annotator/containers/etl-pipeline-dockerfile'\u001b[0m,\n",
       "    \u001b[32m'/Users/arthurvargas/dev/gene_annotator/helper_scripts/run_etl.sh'\u001b[0m,\n",
       "    \u001b[32m'/Users/arthurvargas/dev/gene_annotator/helper_scripts/export_python_path.sh'\u001b[0m,\n",
       "    \u001b[32m'/Users/arthurvargas/dev/gene_annotator/helper_scripts/help.sh'\u001b[0m\n",
       "\u001b[1m]\u001b[0m\n"
      ]
     },
     "metadata": {},
     "output_type": "display_data"
    }
   ],
   "source": [
    "all_files = glob.glob(os.path.join(home, \"dev\", \"gene_annotator\", \"**/*\"), recursive=True)\n",
    "print(all_files)"
   ]
  },
  {
   "cell_type": "markdown",
   "metadata": {},
   "source": [
    "### List all Python Files in the Project Sub-Directory"
   ]
  },
  {
   "cell_type": "code",
   "execution_count": 13,
   "metadata": {},
   "outputs": [
    {
     "data": {
      "text/html": [
       "<pre style=\"white-space:pre;overflow-x:auto;line-height:normal;font-family:Menlo,'DejaVu Sans Mono',consolas,'Courier New',monospace\"><span style=\"font-weight: bold\">[</span>\n",
       "    <span style=\"color: #008000; text-decoration-color: #008000\">'/Users/arthurvargas/dev/gene_annotator/__init__.py'</span>,\n",
       "    <span style=\"color: #008000; text-decoration-color: #008000\">'/Users/arthurvargas/dev/gene_annotator/migrations/env.py'</span>,\n",
       "    <span style=\"color: #008000; text-decoration-color: #008000\">'/Users/arthurvargas/dev/gene_annotator/migrations/versions/c8a235c654ef_users_table.py'</span>,\n",
       "    <span style=\"color: #008000; text-decoration-color: #008000\">'/Users/arthurvargas/dev/gene_annotator/app/config.py'</span>,\n",
       "    <span style=\"color: #008000; text-decoration-color: #008000\">'/Users/arthurvargas/dev/gene_annotator/app/__init__.py'</span>,\n",
       "    <span style=\"color: #008000; text-decoration-color: #008000\">'/Users/arthurvargas/dev/gene_annotator/app/forms.py'</span>,\n",
       "    <span style=\"color: #008000; text-decoration-color: #008000\">'/Users/arthurvargas/dev/gene_annotator/app/gene_annotate.py'</span>,\n",
       "    <span style=\"color: #008000; text-decoration-color: #008000\">'/Users/arthurvargas/dev/gene_annotator/app/routes.py'</span>,\n",
       "    <span style=\"color: #008000; text-decoration-color: #008000\">'/Users/arthurvargas/dev/gene_annotator/app/models/user.py'</span>,\n",
       "    <span style=\"color: #008000; text-decoration-color: #008000\">'/Users/arthurvargas/dev/gene_annotator/app/models/__init__.py'</span>,\n",
       "    <span style=\"color: #008000; text-decoration-color: #008000\">'/Users/arthurvargas/dev/gene_annotator/test/utils/test_pipeline_utils.py'</span>,\n",
       "    <span style=\"color: #008000; text-decoration-color: #008000\">'/Users/arthurvargas/dev/gene_annotator/etl/__init__.py'</span>,\n",
       "    <span style=\"color: #008000; text-decoration-color: #008000\">'/Users/arthurvargas/dev/gene_annotator/etl/pipeline.py'</span>,\n",
       "    <span style=\"color: #008000; text-decoration-color: #008000\">'/Users/arthurvargas/dev/gene_annotator/utils/references.py'</span>,\n",
       "    <span style=\"color: #008000; text-decoration-color: #008000\">'/Users/arthurvargas/dev/gene_annotator/utils/__init__.py'</span>,\n",
       "    <span style=\"color: #008000; text-decoration-color: #008000\">'/Users/arthurvargas/dev/gene_annotator/utils/pipeline_exceptions.py'</span>,\n",
       "    <span style=\"color: #008000; text-decoration-color: #008000\">'/Users/arthurvargas/dev/gene_annotator/utils/pipeline_utils.py'</span>,\n",
       "    <span style=\"color: #008000; text-decoration-color: #008000\">'/Users/arthurvargas/dev/gene_annotator/utils/logging_utils.py'</span>\n",
       "<span style=\"font-weight: bold\">]</span>\n",
       "</pre>\n"
      ],
      "text/plain": [
       "\u001b[1m[\u001b[0m\n",
       "    \u001b[32m'/Users/arthurvargas/dev/gene_annotator/__init__.py'\u001b[0m,\n",
       "    \u001b[32m'/Users/arthurvargas/dev/gene_annotator/migrations/env.py'\u001b[0m,\n",
       "    \u001b[32m'/Users/arthurvargas/dev/gene_annotator/migrations/versions/c8a235c654ef_users_table.py'\u001b[0m,\n",
       "    \u001b[32m'/Users/arthurvargas/dev/gene_annotator/app/config.py'\u001b[0m,\n",
       "    \u001b[32m'/Users/arthurvargas/dev/gene_annotator/app/__init__.py'\u001b[0m,\n",
       "    \u001b[32m'/Users/arthurvargas/dev/gene_annotator/app/forms.py'\u001b[0m,\n",
       "    \u001b[32m'/Users/arthurvargas/dev/gene_annotator/app/gene_annotate.py'\u001b[0m,\n",
       "    \u001b[32m'/Users/arthurvargas/dev/gene_annotator/app/routes.py'\u001b[0m,\n",
       "    \u001b[32m'/Users/arthurvargas/dev/gene_annotator/app/models/user.py'\u001b[0m,\n",
       "    \u001b[32m'/Users/arthurvargas/dev/gene_annotator/app/models/__init__.py'\u001b[0m,\n",
       "    \u001b[32m'/Users/arthurvargas/dev/gene_annotator/test/utils/test_pipeline_utils.py'\u001b[0m,\n",
       "    \u001b[32m'/Users/arthurvargas/dev/gene_annotator/etl/__init__.py'\u001b[0m,\n",
       "    \u001b[32m'/Users/arthurvargas/dev/gene_annotator/etl/pipeline.py'\u001b[0m,\n",
       "    \u001b[32m'/Users/arthurvargas/dev/gene_annotator/utils/references.py'\u001b[0m,\n",
       "    \u001b[32m'/Users/arthurvargas/dev/gene_annotator/utils/__init__.py'\u001b[0m,\n",
       "    \u001b[32m'/Users/arthurvargas/dev/gene_annotator/utils/pipeline_exceptions.py'\u001b[0m,\n",
       "    \u001b[32m'/Users/arthurvargas/dev/gene_annotator/utils/pipeline_utils.py'\u001b[0m,\n",
       "    \u001b[32m'/Users/arthurvargas/dev/gene_annotator/utils/logging_utils.py'\u001b[0m\n",
       "\u001b[1m]\u001b[0m\n"
      ]
     },
     "metadata": {},
     "output_type": "display_data"
    }
   ],
   "source": [
    "py_files = glob.glob(os.path.join(home, \"dev\", \"gene_annotator\", \"**/*.py\"), recursive=True)\n",
    "print(py_files)"
   ]
  },
  {
   "cell_type": "code",
   "execution_count": 15,
   "metadata": {},
   "outputs": [
    {
     "data": {
      "text/html": [
       "<pre style=\"white-space:pre;overflow-x:auto;line-height:normal;font-family:Menlo,'DejaVu Sans Mono',consolas,'Courier New',monospace\"><span style=\"font-weight: bold\">[</span>\n",
       "    <span style=\"color: #008000; text-decoration-color: #008000\">'/Users/arthurvargas/dev/gene_annotator/__init__.py'</span>,\n",
       "    <span style=\"color: #008000; text-decoration-color: #008000\">'/Users/arthurvargas/dev/gene_annotator/app/__init__.py'</span>,\n",
       "    <span style=\"color: #008000; text-decoration-color: #008000\">'/Users/arthurvargas/dev/gene_annotator/app/models/__init__.py'</span>,\n",
       "    <span style=\"color: #008000; text-decoration-color: #008000\">'/Users/arthurvargas/dev/gene_annotator/etl/__init__.py'</span>,\n",
       "    <span style=\"color: #008000; text-decoration-color: #008000\">'/Users/arthurvargas/dev/gene_annotator/utils/__init__.py'</span>\n",
       "<span style=\"font-weight: bold\">]</span>\n",
       "</pre>\n"
      ],
      "text/plain": [
       "\u001b[1m[\u001b[0m\n",
       "    \u001b[32m'/Users/arthurvargas/dev/gene_annotator/__init__.py'\u001b[0m,\n",
       "    \u001b[32m'/Users/arthurvargas/dev/gene_annotator/app/__init__.py'\u001b[0m,\n",
       "    \u001b[32m'/Users/arthurvargas/dev/gene_annotator/app/models/__init__.py'\u001b[0m,\n",
       "    \u001b[32m'/Users/arthurvargas/dev/gene_annotator/etl/__init__.py'\u001b[0m,\n",
       "    \u001b[32m'/Users/arthurvargas/dev/gene_annotator/utils/__init__.py'\u001b[0m\n",
       "\u001b[1m]\u001b[0m\n"
      ]
     },
     "metadata": {},
     "output_type": "display_data"
    }
   ],
   "source": [
    "init_files = glob.glob(os.path.join(home, \"dev\", \"gene_annotator\", \"**/__init__.py\"), recursive=True)\n",
    "print(init_files)"
   ]
  },
  {
   "cell_type": "markdown",
   "metadata": {},
   "source": [
    "### List All Text and Python Files in a Project Directory"
   ]
  },
  {
   "cell_type": "code",
   "execution_count": 19,
   "metadata": {},
   "outputs": [
    {
     "data": {
      "text/html": [
       "<pre style=\"white-space:pre;overflow-x:auto;line-height:normal;font-family:Menlo,'DejaVu Sans Mono',consolas,'Courier New',monospace\"><span style=\"font-weight: bold\">[</span>\n",
       "    <span style=\"color: #008000; text-decoration-color: #008000\">'/Users/arthurvargas/dev/market-scout/requirements.txt'</span>,\n",
       "    <span style=\"color: #008000; text-decoration-color: #008000\">'/Users/arthurvargas/dev/market-scout/migrations/env.py'</span>,\n",
       "    <span style=\"color: #008000; text-decoration-color: #008000\">'/Users/arthurvargas/dev/market-scout/migrations/versions/b40e249344e7_users_table.py'</span>,\n",
       "    <span style=\"color: #008000; text-decoration-color: #008000\">'/Users/arthurvargas/dev/market-scout/migrations/versions/6646c01687d7_.py'</span>,\n",
       "    <span style=\"color: #008000; text-decoration-color: #008000\">'/Users/arthurvargas/dev/market-scout/test/__init__.py'</span>,\n",
       "    <span style=\"color: #008000; text-decoration-color: #008000\">'/Users/arthurvargas/dev/market-scout/test/test_app.py'</span>,\n",
       "    <span style=\"color: #008000; text-decoration-color: #008000\">'/Users/arthurvargas/dev/market-scout/test/utils/__init__.py'</span>,\n",
       "    <span style=\"color: #008000; text-decoration-color: #008000\">'/Users/arthurvargas/dev/market-scout/test/utils/cli/test_callbacks.py'</span>,\n",
       "    <span style=\"color: #008000; text-decoration-color: #008000\">'/Users/arthurvargas/dev/market-scout/test/utils/cli/__init__.py'</span>,\n",
       "    <span style=\"color: #008000; text-decoration-color: #008000\">'/Users/arthurvargas/dev/market-scout/test/utils/cli/test_cli.py'</span>,\n",
       "    <span style=\"color: #008000; text-decoration-color: #008000\">'/Users/arthurvargas/dev/market-scout/test/models/test_portfolio.py'</span>,\n",
       "    <span style=\"color: #008000; text-decoration-color: #008000\">'/Users/arthurvargas/dev/market-scout/test/models/__init__.py'</span>,\n",
       "    <span style=\"color: #008000; text-decoration-color: #008000\">'/Users/arthurvargas/dev/market-scout/test/models/test_indicators.py'</span>,\n",
       "    <span style=\"color: #008000; text-decoration-color: #008000\">'/Users/arthurvargas/dev/market-scout/test/models/test_order.py'</span>,\n",
       "    <span style=\"color: #008000; text-decoration-color: #008000\">'/Users/arthurvargas/dev/market-scout/test/models/test_position.py'</span>,\n",
       "    <span style=\"color: #008000; text-decoration-color: #008000\">'/Users/arthurvargas/dev/market-scout/test/processors/test_analysis.py'</span>,\n",
       "    <span style=\"color: #008000; text-decoration-color: #008000\">'/Users/arthurvargas/dev/market-scout/test/processors/test_data_processor.py'</span>,\n",
       "    <span style=\"color: #008000; text-decoration-color: #008000\">'/Users/arthurvargas/dev/market-scout/test/accounts/__init__.py'</span>,\n",
       "    <span style=\"color: #008000; text-decoration-color: #008000\">'/Users/arthurvargas/dev/market-scout/test/accounts/test_forecast.py'</span>,\n",
       "    <span style=\"color: #008000; text-decoration-color: #008000\">'/Users/arthurvargas/dev/market-scout/test/api/__init__.py'</span>,\n",
       "    <span style=\"color: #008000; text-decoration-color: #008000\">'/Users/arthurvargas/dev/market-scout/test/api/test_ib_utils.py'</span>,\n",
       "    <span style=\"color: #008000; text-decoration-color: #008000\">'/Users/arthurvargas/dev/market-scout/test/api/test_ib.py'</span>,\n",
       "    <span style=\"color: #008000; text-decoration-color: #008000\">'/Users/arthurvargas/dev/market-scout/test/handlers/test_ib_handlers.py'</span>,\n",
       "    <span style=\"color: #008000; text-decoration-color: #008000\">'/Users/arthurvargas/dev/market-scout/src/__init__.py'</span>,\n",
       "    <span style=\"color: #008000; text-decoration-color: #008000\">'/Users/arthurvargas/dev/market-scout/src/cli.py'</span>,\n",
       "    <span style=\"color: #008000; text-decoration-color: #008000\">'/Users/arthurvargas/dev/market-scout/src/cli_app.py'</span>,\n",
       "    <span style=\"color: #008000; text-decoration-color: #008000\">'/Users/arthurvargas/dev/market-scout/src/backtesting/data_processor.py'</span>,\n",
       "    <span style=\"color: #008000; text-decoration-color: #008000\">'/Users/arthurvargas/dev/market-scout/src/backtesting/__init__.py'</span>,\n",
       "    <span style=\"color: #008000; text-decoration-color: #008000\">'/Users/arthurvargas/dev/market-scout/src/broker/__init__.py'</span>,\n",
       "    <span style=\"color: #008000; text-decoration-color: #008000\">'/Users/arthurvargas/dev/market-scout/src/broker/ib_api_exception.py'</span>,\n",
       "    <span style=\"color: #008000; text-decoration-color: #008000\">'/Users/arthurvargas/dev/market-scout/src/broker/broker.py'</span>,\n",
       "    <span style=\"color: #008000; text-decoration-color: #008000\">'/Users/arthurvargas/dev/market-scout/src/app/config.py'</span>,\n",
       "    <span style=\"color: #008000; text-decoration-color: #008000\">'/Users/arthurvargas/dev/market-scout/src/app/__init__.py'</span>,\n",
       "    <span style=\"color: #008000; text-decoration-color: #008000\">'/Users/arthurvargas/dev/market-scout/src/app/forms.py'</span>,\n",
       "    <span style=\"color: #008000; text-decoration-color: #008000\">'/Users/arthurvargas/dev/market-scout/src/app/mkt_scout.py'</span>,\n",
       "    <span style=\"color: #008000; text-decoration-color: #008000\">'/Users/arthurvargas/dev/market-scout/src/app/routes.py'</span>,\n",
       "    <span style=\"color: #008000; text-decoration-color: #008000\">'/Users/arthurvargas/dev/market-scout/src/app/models/user.py'</span>,\n",
       "    <span style=\"color: #008000; text-decoration-color: #008000\">'/Users/arthurvargas/dev/market-scout/src/app/models/profit_and_loss.py'</span>,\n",
       "    <span style=\"color: #008000; text-decoration-color: #008000\">'/Users/arthurvargas/dev/market-scout/src/app/models/trade.py'</span>,\n",
       "    <span style=\"color: #008000; text-decoration-color: #008000\">'/Users/arthurvargas/dev/market-scout/src/app/models/__init__.py'</span>,\n",
       "    <span style=\"color: #008000; text-decoration-color: #008000\">'/Users/arthurvargas/dev/market-scout/src/strategies/__init__.py'</span>,\n",
       "    <span style=\"color: #008000; text-decoration-color: #008000\">'/Users/arthurvargas/dev/market-scout/src/strategies/momentum.py'</span>,\n",
       "    <span style=\"color: #008000; text-decoration-color: #008000\">'/Users/arthurvargas/dev/market-scout/src/utils/references.py'</span>,\n",
       "    <span style=\"color: #008000; text-decoration-color: #008000\">'/Users/arthurvargas/dev/market-scout/src/utils/tabulation.py'</span>,\n",
       "    <span style=\"color: #008000; text-decoration-color: #008000\">'/Users/arthurvargas/dev/market-scout/src/utils/__init__.py'</span>,\n",
       "    <span style=\"color: #008000; text-decoration-color: #008000\">'/Users/arthurvargas/dev/market-scout/src/utils/logging_utils.py'</span>,\n",
       "    <span style=\"color: #008000; text-decoration-color: #008000\">'/Users/arthurvargas/dev/market-scout/src/utils/command/command_callbacks.py'</span>,\n",
       "    <span style=\"color: #008000; text-decoration-color: #008000\">'/Users/arthurvargas/dev/market-scout/src/utils/command/__init__.py'</span>,\n",
       "    <span style=\"color: #008000; text-decoration-color: #008000\">'/Users/arthurvargas/dev/market-scout/src/utils/command/command_utils.py'</span>,\n",
       "    <span style=\"color: #008000; text-decoration-color: #008000\">'/Users/arthurvargas/dev/market-scout/src/utils/command/command_exceptions.py'</span>,\n",
       "    <span style=\"color: #008000; text-decoration-color: #008000\">'/Users/arthurvargas/dev/market-scout/src/models/indicator.py'</span>,\n",
       "    <span style=\"color: #008000; text-decoration-color: #008000\">'/Users/arthurvargas/dev/market-scout/src/models/order.py'</span>,\n",
       "    <span style=\"color: #008000; text-decoration-color: #008000\">'/Users/arthurvargas/dev/market-scout/src/models/__init__.py'</span>,\n",
       "    <span style=\"color: #008000; text-decoration-color: #008000\">'/Users/arthurvargas/dev/market-scout/src/models/vol.py'</span>,\n",
       "    <span style=\"color: #008000; text-decoration-color: #008000\">'/Users/arthurvargas/dev/market-scout/src/models/trading_rule.py'</span>,\n",
       "    <span style=\"color: #008000; text-decoration-color: #008000\">'/Users/arthurvargas/dev/market-scout/src/models/instrument.py'</span>,\n",
       "    <span style=\"color: #008000; text-decoration-color: #008000\">'/Users/arthurvargas/dev/market-scout/src/models/starter.py'</span>,\n",
       "    <span style=\"color: #008000; text-decoration-color: #008000\">'/Users/arthurvargas/dev/market-scout/src/models/strategies/pairs_trading.py'</span>,\n",
       "    <span style=\"color: #008000; text-decoration-color: #008000\">'/Users/arthurvargas/dev/market-scout/src/models/strategies/base_strategy.py'</span>,\n",
       "    <span style=\"color: #008000; text-decoration-color: #008000\">'/Users/arthurvargas/dev/market-scout/src/models/strategies/__init__.py'</span>,\n",
       "    <span style=\"color: #008000; text-decoration-color: #008000\">'/Users/arthurvargas/dev/market-scout/src/models/strategies/rule.py'</span>,\n",
       "    <span style=\"color: #008000; text-decoration-color: #008000\">'/Users/arthurvargas/dev/market-scout/src/patch/ibpy2_original_overloading.py'</span>,\n",
       "    <span style=\"color: #008000; text-decoration-color: #008000\">'/Users/arthurvargas/dev/market-scout/src/patch/ibpy2_original_dispatcher.py'</span>,\n",
       "    <span style=\"color: #008000; text-decoration-color: #008000\">'/Users/arthurvargas/dev/market-scout/src/patch/ibpy2_original_message.py'</span>,\n",
       "    <span style=\"color: #008000; text-decoration-color: #008000\">'/Users/arthurvargas/dev/market-scout/src/patch/ibpy2_original_eclient_socket.py'</span>,\n",
       "    <span style=\"color: #008000; text-decoration-color: #008000\">'/Users/arthurvargas/dev/market-scout/src/patch/ibpy2_modified_message.py'</span>,\n",
       "    <span style=\"color: #008000; text-decoration-color: #008000\">'/Users/arthurvargas/dev/market-scout/src/patch/ibpy2_modified_init.py'</span>,\n",
       "    <span style=\"color: #008000; text-decoration-color: #008000\">'/Users/arthurvargas/dev/market-scout/src/patch/ibpy2_modified_overloading.py'</span>,\n",
       "    <span style=\"color: #008000; text-decoration-color: #008000\">'/Users/arthurvargas/dev/market-scout/src/patch/__init__.py'</span>,\n",
       "    <span style=\"color: #008000; text-decoration-color: #008000\">'/Users/arthurvargas/dev/market-scout/src/patch/ibpy2_modified_ereader.py'</span>,\n",
       "    <span style=\"color: #008000; text-decoration-color: #008000\">'/Users/arthurvargas/dev/market-scout/src/patch/patch_ibpy2.py'</span>,\n",
       "    <span style=\"color: #008000; text-decoration-color: #008000\">'/Users/arthurvargas/dev/market-scout/src/patch/ibpy2_original_ereader.py'</span>,\n",
       "    <span style=\"color: #008000; text-decoration-color: #008000\">'/Users/arthurvargas/dev/market-scout/src/patch/ibpy2_modified_eclient_socket.py'</span>,\n",
       "    <span style=\"color: #008000; text-decoration-color: #008000\">'/Users/arthurvargas/dev/market-scout/src/patch/ibpy2_modified_dispatcher.py'</span>,\n",
       "    <span style=\"color: #008000; text-decoration-color: #008000\">'/Users/arthurvargas/dev/market-scout/src/patch/ibpy2_original_init.py'</span>,\n",
       "    <span style=\"color: #008000; text-decoration-color: #008000\">'/Users/arthurvargas/dev/market-scout/src/accounts/profit_and_loss.py'</span>,\n",
       "    <span style=\"color: #008000; text-decoration-color: #008000\">'/Users/arthurvargas/dev/market-scout/src/accounts/__init__.py'</span>,\n",
       "    <span style=\"color: #008000; text-decoration-color: #008000\">'/Users/arthurvargas/dev/market-scout/src/accounts/curve.py'</span>,\n",
       "    <span style=\"color: #008000; text-decoration-color: #008000\">'/Users/arthurvargas/dev/market-scout/src/examples/__init__.py'</span>,\n",
       "    <span style=\"color: #008000; text-decoration-color: #008000\">'/Users/arthurvargas/dev/market-scout/src/examples/inspect_anything.py'</span>,\n",
       "    <span style=\"color: #008000; text-decoration-color: #008000\">'/Users/arthurvargas/dev/market-scout/src/examples/bktdr/backtrader_explorer.py'</span>,\n",
       "    <span style=\"color: #008000; text-decoration-color: #008000\">'/Users/arthurvargas/dev/market-scout/src/examples/bktdr/__init__.py'</span>,\n",
       "    <span style=\"color: #008000; text-decoration-color: #008000\">'/Users/arthurvargas/dev/market-scout/src/examples/bktdr/init_cerebro.py'</span>,\n",
       "    <span style=\"color: #008000; text-decoration-color: #008000\">'/Users/arthurvargas/dev/market-scout/src/examples/ibasy/__init__.py'</span>,\n",
       "    <span style=\"color: #008000; text-decoration-color: #008000\">'/Users/arthurvargas/dev/market-scout/src/examples/ibasy/synchronous_client_operations_with_ib.py'</span>,\n",
       "    <span style=\"color: #008000; text-decoration-color: #008000\">'/Users/arthurvargas/dev/market-scout/src/examples/ibasy/asynchronous_task_usage.py'</span>,\n",
       "    <span style=\"color: #008000; text-decoration-color: #008000\">'/Users/arthurvargas/dev/market-scout/src/examples/ibasy/inspect_ibasync.py'</span>,\n",
       "    <span style=\"color: #008000; text-decoration-color: #008000\">'/Users/arthurvargas/dev/market-scout/src/examples/ibasy/asynchronous_client_operations_with_ib.py'</span>,\n",
       "    <span style=\"color: #008000; text-decoration-color: #008000\">'/Users/arthurvargas/dev/market-scout/src/handlers/ib_handler.py'</span>,\n",
       "    <span style=\"color: #008000; text-decoration-color: #008000\">'/Users/arthurvargas/dev/market-scout/src/handlers/__init__.py'</span>\n",
       "<span style=\"font-weight: bold\">]</span>\n",
       "</pre>\n"
      ],
      "text/plain": [
       "\u001b[1m[\u001b[0m\n",
       "    \u001b[32m'/Users/arthurvargas/dev/market-scout/requirements.txt'\u001b[0m,\n",
       "    \u001b[32m'/Users/arthurvargas/dev/market-scout/migrations/env.py'\u001b[0m,\n",
       "    \u001b[32m'/Users/arthurvargas/dev/market-scout/migrations/versions/b40e249344e7_users_table.py'\u001b[0m,\n",
       "    \u001b[32m'/Users/arthurvargas/dev/market-scout/migrations/versions/6646c01687d7_.py'\u001b[0m,\n",
       "    \u001b[32m'/Users/arthurvargas/dev/market-scout/test/__init__.py'\u001b[0m,\n",
       "    \u001b[32m'/Users/arthurvargas/dev/market-scout/test/test_app.py'\u001b[0m,\n",
       "    \u001b[32m'/Users/arthurvargas/dev/market-scout/test/utils/__init__.py'\u001b[0m,\n",
       "    \u001b[32m'/Users/arthurvargas/dev/market-scout/test/utils/cli/test_callbacks.py'\u001b[0m,\n",
       "    \u001b[32m'/Users/arthurvargas/dev/market-scout/test/utils/cli/__init__.py'\u001b[0m,\n",
       "    \u001b[32m'/Users/arthurvargas/dev/market-scout/test/utils/cli/test_cli.py'\u001b[0m,\n",
       "    \u001b[32m'/Users/arthurvargas/dev/market-scout/test/models/test_portfolio.py'\u001b[0m,\n",
       "    \u001b[32m'/Users/arthurvargas/dev/market-scout/test/models/__init__.py'\u001b[0m,\n",
       "    \u001b[32m'/Users/arthurvargas/dev/market-scout/test/models/test_indicators.py'\u001b[0m,\n",
       "    \u001b[32m'/Users/arthurvargas/dev/market-scout/test/models/test_order.py'\u001b[0m,\n",
       "    \u001b[32m'/Users/arthurvargas/dev/market-scout/test/models/test_position.py'\u001b[0m,\n",
       "    \u001b[32m'/Users/arthurvargas/dev/market-scout/test/processors/test_analysis.py'\u001b[0m,\n",
       "    \u001b[32m'/Users/arthurvargas/dev/market-scout/test/processors/test_data_processor.py'\u001b[0m,\n",
       "    \u001b[32m'/Users/arthurvargas/dev/market-scout/test/accounts/__init__.py'\u001b[0m,\n",
       "    \u001b[32m'/Users/arthurvargas/dev/market-scout/test/accounts/test_forecast.py'\u001b[0m,\n",
       "    \u001b[32m'/Users/arthurvargas/dev/market-scout/test/api/__init__.py'\u001b[0m,\n",
       "    \u001b[32m'/Users/arthurvargas/dev/market-scout/test/api/test_ib_utils.py'\u001b[0m,\n",
       "    \u001b[32m'/Users/arthurvargas/dev/market-scout/test/api/test_ib.py'\u001b[0m,\n",
       "    \u001b[32m'/Users/arthurvargas/dev/market-scout/test/handlers/test_ib_handlers.py'\u001b[0m,\n",
       "    \u001b[32m'/Users/arthurvargas/dev/market-scout/src/__init__.py'\u001b[0m,\n",
       "    \u001b[32m'/Users/arthurvargas/dev/market-scout/src/cli.py'\u001b[0m,\n",
       "    \u001b[32m'/Users/arthurvargas/dev/market-scout/src/cli_app.py'\u001b[0m,\n",
       "    \u001b[32m'/Users/arthurvargas/dev/market-scout/src/backtesting/data_processor.py'\u001b[0m,\n",
       "    \u001b[32m'/Users/arthurvargas/dev/market-scout/src/backtesting/__init__.py'\u001b[0m,\n",
       "    \u001b[32m'/Users/arthurvargas/dev/market-scout/src/broker/__init__.py'\u001b[0m,\n",
       "    \u001b[32m'/Users/arthurvargas/dev/market-scout/src/broker/ib_api_exception.py'\u001b[0m,\n",
       "    \u001b[32m'/Users/arthurvargas/dev/market-scout/src/broker/broker.py'\u001b[0m,\n",
       "    \u001b[32m'/Users/arthurvargas/dev/market-scout/src/app/config.py'\u001b[0m,\n",
       "    \u001b[32m'/Users/arthurvargas/dev/market-scout/src/app/__init__.py'\u001b[0m,\n",
       "    \u001b[32m'/Users/arthurvargas/dev/market-scout/src/app/forms.py'\u001b[0m,\n",
       "    \u001b[32m'/Users/arthurvargas/dev/market-scout/src/app/mkt_scout.py'\u001b[0m,\n",
       "    \u001b[32m'/Users/arthurvargas/dev/market-scout/src/app/routes.py'\u001b[0m,\n",
       "    \u001b[32m'/Users/arthurvargas/dev/market-scout/src/app/models/user.py'\u001b[0m,\n",
       "    \u001b[32m'/Users/arthurvargas/dev/market-scout/src/app/models/profit_and_loss.py'\u001b[0m,\n",
       "    \u001b[32m'/Users/arthurvargas/dev/market-scout/src/app/models/trade.py'\u001b[0m,\n",
       "    \u001b[32m'/Users/arthurvargas/dev/market-scout/src/app/models/__init__.py'\u001b[0m,\n",
       "    \u001b[32m'/Users/arthurvargas/dev/market-scout/src/strategies/__init__.py'\u001b[0m,\n",
       "    \u001b[32m'/Users/arthurvargas/dev/market-scout/src/strategies/momentum.py'\u001b[0m,\n",
       "    \u001b[32m'/Users/arthurvargas/dev/market-scout/src/utils/references.py'\u001b[0m,\n",
       "    \u001b[32m'/Users/arthurvargas/dev/market-scout/src/utils/tabulation.py'\u001b[0m,\n",
       "    \u001b[32m'/Users/arthurvargas/dev/market-scout/src/utils/__init__.py'\u001b[0m,\n",
       "    \u001b[32m'/Users/arthurvargas/dev/market-scout/src/utils/logging_utils.py'\u001b[0m,\n",
       "    \u001b[32m'/Users/arthurvargas/dev/market-scout/src/utils/command/command_callbacks.py'\u001b[0m,\n",
       "    \u001b[32m'/Users/arthurvargas/dev/market-scout/src/utils/command/__init__.py'\u001b[0m,\n",
       "    \u001b[32m'/Users/arthurvargas/dev/market-scout/src/utils/command/command_utils.py'\u001b[0m,\n",
       "    \u001b[32m'/Users/arthurvargas/dev/market-scout/src/utils/command/command_exceptions.py'\u001b[0m,\n",
       "    \u001b[32m'/Users/arthurvargas/dev/market-scout/src/models/indicator.py'\u001b[0m,\n",
       "    \u001b[32m'/Users/arthurvargas/dev/market-scout/src/models/order.py'\u001b[0m,\n",
       "    \u001b[32m'/Users/arthurvargas/dev/market-scout/src/models/__init__.py'\u001b[0m,\n",
       "    \u001b[32m'/Users/arthurvargas/dev/market-scout/src/models/vol.py'\u001b[0m,\n",
       "    \u001b[32m'/Users/arthurvargas/dev/market-scout/src/models/trading_rule.py'\u001b[0m,\n",
       "    \u001b[32m'/Users/arthurvargas/dev/market-scout/src/models/instrument.py'\u001b[0m,\n",
       "    \u001b[32m'/Users/arthurvargas/dev/market-scout/src/models/starter.py'\u001b[0m,\n",
       "    \u001b[32m'/Users/arthurvargas/dev/market-scout/src/models/strategies/pairs_trading.py'\u001b[0m,\n",
       "    \u001b[32m'/Users/arthurvargas/dev/market-scout/src/models/strategies/base_strategy.py'\u001b[0m,\n",
       "    \u001b[32m'/Users/arthurvargas/dev/market-scout/src/models/strategies/__init__.py'\u001b[0m,\n",
       "    \u001b[32m'/Users/arthurvargas/dev/market-scout/src/models/strategies/rule.py'\u001b[0m,\n",
       "    \u001b[32m'/Users/arthurvargas/dev/market-scout/src/patch/ibpy2_original_overloading.py'\u001b[0m,\n",
       "    \u001b[32m'/Users/arthurvargas/dev/market-scout/src/patch/ibpy2_original_dispatcher.py'\u001b[0m,\n",
       "    \u001b[32m'/Users/arthurvargas/dev/market-scout/src/patch/ibpy2_original_message.py'\u001b[0m,\n",
       "    \u001b[32m'/Users/arthurvargas/dev/market-scout/src/patch/ibpy2_original_eclient_socket.py'\u001b[0m,\n",
       "    \u001b[32m'/Users/arthurvargas/dev/market-scout/src/patch/ibpy2_modified_message.py'\u001b[0m,\n",
       "    \u001b[32m'/Users/arthurvargas/dev/market-scout/src/patch/ibpy2_modified_init.py'\u001b[0m,\n",
       "    \u001b[32m'/Users/arthurvargas/dev/market-scout/src/patch/ibpy2_modified_overloading.py'\u001b[0m,\n",
       "    \u001b[32m'/Users/arthurvargas/dev/market-scout/src/patch/__init__.py'\u001b[0m,\n",
       "    \u001b[32m'/Users/arthurvargas/dev/market-scout/src/patch/ibpy2_modified_ereader.py'\u001b[0m,\n",
       "    \u001b[32m'/Users/arthurvargas/dev/market-scout/src/patch/patch_ibpy2.py'\u001b[0m,\n",
       "    \u001b[32m'/Users/arthurvargas/dev/market-scout/src/patch/ibpy2_original_ereader.py'\u001b[0m,\n",
       "    \u001b[32m'/Users/arthurvargas/dev/market-scout/src/patch/ibpy2_modified_eclient_socket.py'\u001b[0m,\n",
       "    \u001b[32m'/Users/arthurvargas/dev/market-scout/src/patch/ibpy2_modified_dispatcher.py'\u001b[0m,\n",
       "    \u001b[32m'/Users/arthurvargas/dev/market-scout/src/patch/ibpy2_original_init.py'\u001b[0m,\n",
       "    \u001b[32m'/Users/arthurvargas/dev/market-scout/src/accounts/profit_and_loss.py'\u001b[0m,\n",
       "    \u001b[32m'/Users/arthurvargas/dev/market-scout/src/accounts/__init__.py'\u001b[0m,\n",
       "    \u001b[32m'/Users/arthurvargas/dev/market-scout/src/accounts/curve.py'\u001b[0m,\n",
       "    \u001b[32m'/Users/arthurvargas/dev/market-scout/src/examples/__init__.py'\u001b[0m,\n",
       "    \u001b[32m'/Users/arthurvargas/dev/market-scout/src/examples/inspect_anything.py'\u001b[0m,\n",
       "    \u001b[32m'/Users/arthurvargas/dev/market-scout/src/examples/bktdr/backtrader_explorer.py'\u001b[0m,\n",
       "    \u001b[32m'/Users/arthurvargas/dev/market-scout/src/examples/bktdr/__init__.py'\u001b[0m,\n",
       "    \u001b[32m'/Users/arthurvargas/dev/market-scout/src/examples/bktdr/init_cerebro.py'\u001b[0m,\n",
       "    \u001b[32m'/Users/arthurvargas/dev/market-scout/src/examples/ibasy/__init__.py'\u001b[0m,\n",
       "    \u001b[32m'/Users/arthurvargas/dev/market-scout/src/examples/ibasy/synchronous_client_operations_with_ib.py'\u001b[0m,\n",
       "    \u001b[32m'/Users/arthurvargas/dev/market-scout/src/examples/ibasy/asynchronous_task_usage.py'\u001b[0m,\n",
       "    \u001b[32m'/Users/arthurvargas/dev/market-scout/src/examples/ibasy/inspect_ibasync.py'\u001b[0m,\n",
       "    \u001b[32m'/Users/arthurvargas/dev/market-scout/src/examples/ibasy/asynchronous_client_operations_with_ib.py'\u001b[0m,\n",
       "    \u001b[32m'/Users/arthurvargas/dev/market-scout/src/handlers/ib_handler.py'\u001b[0m,\n",
       "    \u001b[32m'/Users/arthurvargas/dev/market-scout/src/handlers/__init__.py'\u001b[0m\n",
       "\u001b[1m]\u001b[0m\n"
      ]
     },
     "metadata": {},
     "output_type": "display_data"
    }
   ],
   "source": [
    "txt_files = glob.glob(os.path.join(home, \"dev\", \"market-scout\", \"**/*.txt\"), recursive=True)\n",
    "py_files = glob.glob(os.path.join(home, \"dev\", \"market-scout\", \"**/*.py\"), recursive=True)\n",
    "txt_and_py = txt_files + py_files\n",
    "print(txt_and_py)"
   ]
  },
  {
   "cell_type": "markdown",
   "metadata": {},
   "source": [
    "### List the Hidden Files in a Directory"
   ]
  },
  {
   "cell_type": "code",
   "execution_count": 25,
   "metadata": {},
   "outputs": [
    {
     "data": {
      "text/html": [
       "<pre style=\"white-space:pre;overflow-x:auto;line-height:normal;font-family:Menlo,'DejaVu Sans Mono',consolas,'Courier New',monospace\"><span style=\"font-weight: bold\">[</span><span style=\"color: #008000; text-decoration-color: #008000\">'/Users/arthurvargas/dev/.nextflow'</span><span style=\"font-weight: bold\">]</span>\n",
       "</pre>\n"
      ],
      "text/plain": [
       "\u001b[1m[\u001b[0m\u001b[32m'/Users/arthurvargas/dev/.nextflow'\u001b[0m\u001b[1m]\u001b[0m\n"
      ]
     },
     "metadata": {},
     "output_type": "display_data"
    }
   ],
   "source": [
    "hidden_dirs = glob.glob(os.path.join(home, \"dev\", \".*\"), recursive=True)\n",
    "print(hidden_dirs)"
   ]
  },
  {
   "cell_type": "code",
   "execution_count": 28,
   "metadata": {},
   "outputs": [
    {
     "data": {
      "text/html": [
       "<pre style=\"white-space:pre;overflow-x:auto;line-height:normal;font-family:Menlo,'DejaVu Sans Mono',consolas,'Courier New',monospace\"><span style=\"color: #800080; text-decoration-color: #800080\">/Users/arthurvargas/dev/market-scout/</span><span style=\"color: #ff00ff; text-decoration-color: #ff00ff\">migrations</span>\n",
       "</pre>\n"
      ],
      "text/plain": [
       "\u001b[35m/Users/arthurvargas/dev/market-scout/\u001b[0m\u001b[95mmigrations\u001b[0m\n"
      ]
     },
     "metadata": {},
     "output_type": "display_data"
    },
    {
     "data": {
      "text/html": [
       "<pre style=\"white-space:pre;overflow-x:auto;line-height:normal;font-family:Menlo,'DejaVu Sans Mono',consolas,'Courier New',monospace\"><span style=\"color: #800080; text-decoration-color: #800080\">/Users/arthurvargas/dev/market-scout/</span><span style=\"color: #ff00ff; text-decoration-color: #ff00ff\">test</span>\n",
       "</pre>\n"
      ],
      "text/plain": [
       "\u001b[35m/Users/arthurvargas/dev/market-scout/\u001b[0m\u001b[95mtest\u001b[0m\n"
      ]
     },
     "metadata": {},
     "output_type": "display_data"
    },
    {
     "data": {
      "text/html": [
       "<pre style=\"white-space:pre;overflow-x:auto;line-height:normal;font-family:Menlo,'DejaVu Sans Mono',consolas,'Courier New',monospace\"><span style=\"color: #800080; text-decoration-color: #800080\">/Users/arthurvargas/dev/market-scout/</span><span style=\"color: #ff00ff; text-decoration-color: #ff00ff\">config</span>\n",
       "</pre>\n"
      ],
      "text/plain": [
       "\u001b[35m/Users/arthurvargas/dev/market-scout/\u001b[0m\u001b[95mconfig\u001b[0m\n"
      ]
     },
     "metadata": {},
     "output_type": "display_data"
    },
    {
     "data": {
      "text/html": [
       "<pre style=\"white-space:pre;overflow-x:auto;line-height:normal;font-family:Menlo,'DejaVu Sans Mono',consolas,'Courier New',monospace\"><span style=\"color: #800080; text-decoration-color: #800080\">/Users/arthurvargas/dev/market-scout/</span><span style=\"color: #ff00ff; text-decoration-color: #ff00ff\">docs</span>\n",
       "</pre>\n"
      ],
      "text/plain": [
       "\u001b[35m/Users/arthurvargas/dev/market-scout/\u001b[0m\u001b[95mdocs\u001b[0m\n"
      ]
     },
     "metadata": {},
     "output_type": "display_data"
    },
    {
     "data": {
      "text/html": [
       "<pre style=\"white-space:pre;overflow-x:auto;line-height:normal;font-family:Menlo,'DejaVu Sans Mono',consolas,'Courier New',monospace\"><span style=\"color: #800080; text-decoration-color: #800080\">/Users/arthurvargas/dev/market-scout/</span><span style=\"color: #ff00ff; text-decoration-color: #ff00ff\">img</span>\n",
       "</pre>\n"
      ],
      "text/plain": [
       "\u001b[35m/Users/arthurvargas/dev/market-scout/\u001b[0m\u001b[95mimg\u001b[0m\n"
      ]
     },
     "metadata": {},
     "output_type": "display_data"
    },
    {
     "data": {
      "text/html": [
       "<pre style=\"white-space:pre;overflow-x:auto;line-height:normal;font-family:Menlo,'DejaVu Sans Mono',consolas,'Courier New',monospace\"><span style=\"color: #800080; text-decoration-color: #800080\">/Users/arthurvargas/dev/market-scout/</span><span style=\"color: #ff00ff; text-decoration-color: #ff00ff\">scripts</span>\n",
       "</pre>\n"
      ],
      "text/plain": [
       "\u001b[35m/Users/arthurvargas/dev/market-scout/\u001b[0m\u001b[95mscripts\u001b[0m\n"
      ]
     },
     "metadata": {},
     "output_type": "display_data"
    },
    {
     "data": {
      "text/html": [
       "<pre style=\"white-space:pre;overflow-x:auto;line-height:normal;font-family:Menlo,'DejaVu Sans Mono',consolas,'Courier New',monospace\"><span style=\"color: #800080; text-decoration-color: #800080\">/Users/arthurvargas/dev/market-scout/</span><span style=\"color: #ff00ff; text-decoration-color: #ff00ff\">containers</span>\n",
       "</pre>\n"
      ],
      "text/plain": [
       "\u001b[35m/Users/arthurvargas/dev/market-scout/\u001b[0m\u001b[95mcontainers\u001b[0m\n"
      ]
     },
     "metadata": {},
     "output_type": "display_data"
    },
    {
     "data": {
      "text/html": [
       "<pre style=\"white-space:pre;overflow-x:auto;line-height:normal;font-family:Menlo,'DejaVu Sans Mono',consolas,'Courier New',monospace\"><span style=\"color: #800080; text-decoration-color: #800080\">/Users/arthurvargas/dev/market-scout/</span><span style=\"color: #ff00ff; text-decoration-color: #ff00ff\">src</span>\n",
       "</pre>\n"
      ],
      "text/plain": [
       "\u001b[35m/Users/arthurvargas/dev/market-scout/\u001b[0m\u001b[95msrc\u001b[0m\n"
      ]
     },
     "metadata": {},
     "output_type": "display_data"
    },
    {
     "data": {
      "text/html": [
       "<pre style=\"white-space:pre;overflow-x:auto;line-height:normal;font-family:Menlo,'DejaVu Sans Mono',consolas,'Courier New',monospace\"><span style=\"color: #800080; text-decoration-color: #800080\">/Users/arthurvargas/dev/market-scout/migrations/</span><span style=\"color: #ff00ff; text-decoration-color: #ff00ff\">versions</span>\n",
       "</pre>\n"
      ],
      "text/plain": [
       "\u001b[35m/Users/arthurvargas/dev/market-scout/migrations/\u001b[0m\u001b[95mversions\u001b[0m\n"
      ]
     },
     "metadata": {},
     "output_type": "display_data"
    },
    {
     "data": {
      "text/html": [
       "<pre style=\"white-space:pre;overflow-x:auto;line-height:normal;font-family:Menlo,'DejaVu Sans Mono',consolas,'Courier New',monospace\"><span style=\"color: #800080; text-decoration-color: #800080\">/Users/arthurvargas/dev/market-scout/test/</span><span style=\"color: #ff00ff; text-decoration-color: #ff00ff\">utils</span>\n",
       "</pre>\n"
      ],
      "text/plain": [
       "\u001b[35m/Users/arthurvargas/dev/market-scout/test/\u001b[0m\u001b[95mutils\u001b[0m\n"
      ]
     },
     "metadata": {},
     "output_type": "display_data"
    },
    {
     "data": {
      "text/html": [
       "<pre style=\"white-space:pre;overflow-x:auto;line-height:normal;font-family:Menlo,'DejaVu Sans Mono',consolas,'Courier New',monospace\"><span style=\"color: #800080; text-decoration-color: #800080\">/Users/arthurvargas/dev/market-scout/test/</span><span style=\"color: #ff00ff; text-decoration-color: #ff00ff\">models</span>\n",
       "</pre>\n"
      ],
      "text/plain": [
       "\u001b[35m/Users/arthurvargas/dev/market-scout/test/\u001b[0m\u001b[95mmodels\u001b[0m\n"
      ]
     },
     "metadata": {},
     "output_type": "display_data"
    },
    {
     "data": {
      "text/html": [
       "<pre style=\"white-space:pre;overflow-x:auto;line-height:normal;font-family:Menlo,'DejaVu Sans Mono',consolas,'Courier New',monospace\"><span style=\"color: #800080; text-decoration-color: #800080\">/Users/arthurvargas/dev/market-scout/test/</span><span style=\"color: #ff00ff; text-decoration-color: #ff00ff\">processors</span>\n",
       "</pre>\n"
      ],
      "text/plain": [
       "\u001b[35m/Users/arthurvargas/dev/market-scout/test/\u001b[0m\u001b[95mprocessors\u001b[0m\n"
      ]
     },
     "metadata": {},
     "output_type": "display_data"
    },
    {
     "data": {
      "text/html": [
       "<pre style=\"white-space:pre;overflow-x:auto;line-height:normal;font-family:Menlo,'DejaVu Sans Mono',consolas,'Courier New',monospace\"><span style=\"color: #800080; text-decoration-color: #800080\">/Users/arthurvargas/dev/market-scout/test/</span><span style=\"color: #ff00ff; text-decoration-color: #ff00ff\">accounts</span>\n",
       "</pre>\n"
      ],
      "text/plain": [
       "\u001b[35m/Users/arthurvargas/dev/market-scout/test/\u001b[0m\u001b[95maccounts\u001b[0m\n"
      ]
     },
     "metadata": {},
     "output_type": "display_data"
    },
    {
     "data": {
      "text/html": [
       "<pre style=\"white-space:pre;overflow-x:auto;line-height:normal;font-family:Menlo,'DejaVu Sans Mono',consolas,'Courier New',monospace\"><span style=\"color: #800080; text-decoration-color: #800080\">/Users/arthurvargas/dev/market-scout/test/</span><span style=\"color: #ff00ff; text-decoration-color: #ff00ff\">api</span>\n",
       "</pre>\n"
      ],
      "text/plain": [
       "\u001b[35m/Users/arthurvargas/dev/market-scout/test/\u001b[0m\u001b[95mapi\u001b[0m\n"
      ]
     },
     "metadata": {},
     "output_type": "display_data"
    },
    {
     "data": {
      "text/html": [
       "<pre style=\"white-space:pre;overflow-x:auto;line-height:normal;font-family:Menlo,'DejaVu Sans Mono',consolas,'Courier New',monospace\"><span style=\"color: #800080; text-decoration-color: #800080\">/Users/arthurvargas/dev/market-scout/test/</span><span style=\"color: #ff00ff; text-decoration-color: #ff00ff\">handlers</span>\n",
       "</pre>\n"
      ],
      "text/plain": [
       "\u001b[35m/Users/arthurvargas/dev/market-scout/test/\u001b[0m\u001b[95mhandlers\u001b[0m\n"
      ]
     },
     "metadata": {},
     "output_type": "display_data"
    },
    {
     "data": {
      "text/html": [
       "<pre style=\"white-space:pre;overflow-x:auto;line-height:normal;font-family:Menlo,'DejaVu Sans Mono',consolas,'Courier New',monospace\"><span style=\"color: #800080; text-decoration-color: #800080\">/Users/arthurvargas/dev/market-scout/test/utils/</span><span style=\"color: #ff00ff; text-decoration-color: #ff00ff\">cli</span>\n",
       "</pre>\n"
      ],
      "text/plain": [
       "\u001b[35m/Users/arthurvargas/dev/market-scout/test/utils/\u001b[0m\u001b[95mcli\u001b[0m\n"
      ]
     },
     "metadata": {},
     "output_type": "display_data"
    },
    {
     "data": {
      "text/html": [
       "<pre style=\"white-space:pre;overflow-x:auto;line-height:normal;font-family:Menlo,'DejaVu Sans Mono',consolas,'Courier New',monospace\"><span style=\"color: #800080; text-decoration-color: #800080\">/Users/arthurvargas/dev/market-scout/docs/</span><span style=\"color: #ff00ff; text-decoration-color: #ff00ff\">diagrams</span>\n",
       "</pre>\n"
      ],
      "text/plain": [
       "\u001b[35m/Users/arthurvargas/dev/market-scout/docs/\u001b[0m\u001b[95mdiagrams\u001b[0m\n"
      ]
     },
     "metadata": {},
     "output_type": "display_data"
    },
    {
     "data": {
      "text/html": [
       "<pre style=\"white-space:pre;overflow-x:auto;line-height:normal;font-family:Menlo,'DejaVu Sans Mono',consolas,'Courier New',monospace\"><span style=\"color: #800080; text-decoration-color: #800080\">/Users/arthurvargas/dev/market-scout/docs/diagrams/</span><span style=\"color: #ff00ff; text-decoration-color: #ff00ff\">src</span>\n",
       "</pre>\n"
      ],
      "text/plain": [
       "\u001b[35m/Users/arthurvargas/dev/market-scout/docs/diagrams/\u001b[0m\u001b[95msrc\u001b[0m\n"
      ]
     },
     "metadata": {},
     "output_type": "display_data"
    },
    {
     "data": {
      "text/html": [
       "<pre style=\"white-space:pre;overflow-x:auto;line-height:normal;font-family:Menlo,'DejaVu Sans Mono',consolas,'Courier New',monospace\"><span style=\"color: #800080; text-decoration-color: #800080\">/Users/arthurvargas/dev/market-scout/src/</span><span style=\"color: #ff00ff; text-decoration-color: #ff00ff\">backtesting</span>\n",
       "</pre>\n"
      ],
      "text/plain": [
       "\u001b[35m/Users/arthurvargas/dev/market-scout/src/\u001b[0m\u001b[95mbacktesting\u001b[0m\n"
      ]
     },
     "metadata": {},
     "output_type": "display_data"
    },
    {
     "data": {
      "text/html": [
       "<pre style=\"white-space:pre;overflow-x:auto;line-height:normal;font-family:Menlo,'DejaVu Sans Mono',consolas,'Courier New',monospace\"><span style=\"color: #800080; text-decoration-color: #800080\">/Users/arthurvargas/dev/market-scout/src/</span><span style=\"color: #ff00ff; text-decoration-color: #ff00ff\">broker</span>\n",
       "</pre>\n"
      ],
      "text/plain": [
       "\u001b[35m/Users/arthurvargas/dev/market-scout/src/\u001b[0m\u001b[95mbroker\u001b[0m\n"
      ]
     },
     "metadata": {},
     "output_type": "display_data"
    },
    {
     "data": {
      "text/html": [
       "<pre style=\"white-space:pre;overflow-x:auto;line-height:normal;font-family:Menlo,'DejaVu Sans Mono',consolas,'Courier New',monospace\"><span style=\"color: #800080; text-decoration-color: #800080\">/Users/arthurvargas/dev/market-scout/src/</span><span style=\"color: #ff00ff; text-decoration-color: #ff00ff\">app</span>\n",
       "</pre>\n"
      ],
      "text/plain": [
       "\u001b[35m/Users/arthurvargas/dev/market-scout/src/\u001b[0m\u001b[95mapp\u001b[0m\n"
      ]
     },
     "metadata": {},
     "output_type": "display_data"
    },
    {
     "data": {
      "text/html": [
       "<pre style=\"white-space:pre;overflow-x:auto;line-height:normal;font-family:Menlo,'DejaVu Sans Mono',consolas,'Courier New',monospace\"><span style=\"color: #800080; text-decoration-color: #800080\">/Users/arthurvargas/dev/market-scout/src/</span><span style=\"color: #ff00ff; text-decoration-color: #ff00ff\">strategies</span>\n",
       "</pre>\n"
      ],
      "text/plain": [
       "\u001b[35m/Users/arthurvargas/dev/market-scout/src/\u001b[0m\u001b[95mstrategies\u001b[0m\n"
      ]
     },
     "metadata": {},
     "output_type": "display_data"
    },
    {
     "data": {
      "text/html": [
       "<pre style=\"white-space:pre;overflow-x:auto;line-height:normal;font-family:Menlo,'DejaVu Sans Mono',consolas,'Courier New',monospace\"><span style=\"color: #800080; text-decoration-color: #800080\">/Users/arthurvargas/dev/market-scout/src/</span><span style=\"color: #ff00ff; text-decoration-color: #ff00ff\">utils</span>\n",
       "</pre>\n"
      ],
      "text/plain": [
       "\u001b[35m/Users/arthurvargas/dev/market-scout/src/\u001b[0m\u001b[95mutils\u001b[0m\n"
      ]
     },
     "metadata": {},
     "output_type": "display_data"
    },
    {
     "data": {
      "text/html": [
       "<pre style=\"white-space:pre;overflow-x:auto;line-height:normal;font-family:Menlo,'DejaVu Sans Mono',consolas,'Courier New',monospace\"><span style=\"color: #800080; text-decoration-color: #800080\">/Users/arthurvargas/dev/market-scout/src/</span><span style=\"color: #ff00ff; text-decoration-color: #ff00ff\">models</span>\n",
       "</pre>\n"
      ],
      "text/plain": [
       "\u001b[35m/Users/arthurvargas/dev/market-scout/src/\u001b[0m\u001b[95mmodels\u001b[0m\n"
      ]
     },
     "metadata": {},
     "output_type": "display_data"
    },
    {
     "data": {
      "text/html": [
       "<pre style=\"white-space:pre;overflow-x:auto;line-height:normal;font-family:Menlo,'DejaVu Sans Mono',consolas,'Courier New',monospace\"><span style=\"color: #800080; text-decoration-color: #800080\">/Users/arthurvargas/dev/market-scout/src/</span><span style=\"color: #ff00ff; text-decoration-color: #ff00ff\">indicator_config</span>\n",
       "</pre>\n"
      ],
      "text/plain": [
       "\u001b[35m/Users/arthurvargas/dev/market-scout/src/\u001b[0m\u001b[95mindicator_config\u001b[0m\n"
      ]
     },
     "metadata": {},
     "output_type": "display_data"
    },
    {
     "data": {
      "text/html": [
       "<pre style=\"white-space:pre;overflow-x:auto;line-height:normal;font-family:Menlo,'DejaVu Sans Mono',consolas,'Courier New',monospace\"><span style=\"color: #800080; text-decoration-color: #800080\">/Users/arthurvargas/dev/market-scout/src/</span><span style=\"color: #ff00ff; text-decoration-color: #ff00ff\">patch</span>\n",
       "</pre>\n"
      ],
      "text/plain": [
       "\u001b[35m/Users/arthurvargas/dev/market-scout/src/\u001b[0m\u001b[95mpatch\u001b[0m\n"
      ]
     },
     "metadata": {},
     "output_type": "display_data"
    },
    {
     "data": {
      "text/html": [
       "<pre style=\"white-space:pre;overflow-x:auto;line-height:normal;font-family:Menlo,'DejaVu Sans Mono',consolas,'Courier New',monospace\"><span style=\"color: #800080; text-decoration-color: #800080\">/Users/arthurvargas/dev/market-scout/src/</span><span style=\"color: #ff00ff; text-decoration-color: #ff00ff\">accounts</span>\n",
       "</pre>\n"
      ],
      "text/plain": [
       "\u001b[35m/Users/arthurvargas/dev/market-scout/src/\u001b[0m\u001b[95maccounts\u001b[0m\n"
      ]
     },
     "metadata": {},
     "output_type": "display_data"
    },
    {
     "data": {
      "text/html": [
       "<pre style=\"white-space:pre;overflow-x:auto;line-height:normal;font-family:Menlo,'DejaVu Sans Mono',consolas,'Courier New',monospace\"><span style=\"color: #800080; text-decoration-color: #800080\">/Users/arthurvargas/dev/market-scout/src/</span><span style=\"color: #ff00ff; text-decoration-color: #ff00ff\">examples</span>\n",
       "</pre>\n"
      ],
      "text/plain": [
       "\u001b[35m/Users/arthurvargas/dev/market-scout/src/\u001b[0m\u001b[95mexamples\u001b[0m\n"
      ]
     },
     "metadata": {},
     "output_type": "display_data"
    },
    {
     "data": {
      "text/html": [
       "<pre style=\"white-space:pre;overflow-x:auto;line-height:normal;font-family:Menlo,'DejaVu Sans Mono',consolas,'Courier New',monospace\"><span style=\"color: #800080; text-decoration-color: #800080\">/Users/arthurvargas/dev/market-scout/src/</span><span style=\"color: #ff00ff; text-decoration-color: #ff00ff\">handlers</span>\n",
       "</pre>\n"
      ],
      "text/plain": [
       "\u001b[35m/Users/arthurvargas/dev/market-scout/src/\u001b[0m\u001b[95mhandlers\u001b[0m\n"
      ]
     },
     "metadata": {},
     "output_type": "display_data"
    },
    {
     "data": {
      "text/html": [
       "<pre style=\"white-space:pre;overflow-x:auto;line-height:normal;font-family:Menlo,'DejaVu Sans Mono',consolas,'Courier New',monospace\"><span style=\"color: #800080; text-decoration-color: #800080\">/Users/arthurvargas/dev/market-scout/src/app/</span><span style=\"color: #ff00ff; text-decoration-color: #ff00ff\">models</span>\n",
       "</pre>\n"
      ],
      "text/plain": [
       "\u001b[35m/Users/arthurvargas/dev/market-scout/src/app/\u001b[0m\u001b[95mmodels\u001b[0m\n"
      ]
     },
     "metadata": {},
     "output_type": "display_data"
    },
    {
     "data": {
      "text/html": [
       "<pre style=\"white-space:pre;overflow-x:auto;line-height:normal;font-family:Menlo,'DejaVu Sans Mono',consolas,'Courier New',monospace\"><span style=\"color: #800080; text-decoration-color: #800080\">/Users/arthurvargas/dev/market-scout/src/app/</span><span style=\"color: #ff00ff; text-decoration-color: #ff00ff\">templates</span>\n",
       "</pre>\n"
      ],
      "text/plain": [
       "\u001b[35m/Users/arthurvargas/dev/market-scout/src/app/\u001b[0m\u001b[95mtemplates\u001b[0m\n"
      ]
     },
     "metadata": {},
     "output_type": "display_data"
    },
    {
     "data": {
      "text/html": [
       "<pre style=\"white-space:pre;overflow-x:auto;line-height:normal;font-family:Menlo,'DejaVu Sans Mono',consolas,'Courier New',monospace\"><span style=\"color: #800080; text-decoration-color: #800080\">/Users/arthurvargas/dev/market-scout/src/utils/</span><span style=\"color: #ff00ff; text-decoration-color: #ff00ff\">command</span>\n",
       "</pre>\n"
      ],
      "text/plain": [
       "\u001b[35m/Users/arthurvargas/dev/market-scout/src/utils/\u001b[0m\u001b[95mcommand\u001b[0m\n"
      ]
     },
     "metadata": {},
     "output_type": "display_data"
    },
    {
     "data": {
      "text/html": [
       "<pre style=\"white-space:pre;overflow-x:auto;line-height:normal;font-family:Menlo,'DejaVu Sans Mono',consolas,'Courier New',monospace\"><span style=\"color: #800080; text-decoration-color: #800080\">/Users/arthurvargas/dev/market-scout/src/models/</span><span style=\"color: #ff00ff; text-decoration-color: #ff00ff\">strategies</span>\n",
       "</pre>\n"
      ],
      "text/plain": [
       "\u001b[35m/Users/arthurvargas/dev/market-scout/src/models/\u001b[0m\u001b[95mstrategies\u001b[0m\n"
      ]
     },
     "metadata": {},
     "output_type": "display_data"
    },
    {
     "data": {
      "text/html": [
       "<pre style=\"white-space:pre;overflow-x:auto;line-height:normal;font-family:Menlo,'DejaVu Sans Mono',consolas,'Courier New',monospace\"><span style=\"color: #800080; text-decoration-color: #800080\">/Users/arthurvargas/dev/market-scout/src/examples/</span><span style=\"color: #ff00ff; text-decoration-color: #ff00ff\">bktdr</span>\n",
       "</pre>\n"
      ],
      "text/plain": [
       "\u001b[35m/Users/arthurvargas/dev/market-scout/src/examples/\u001b[0m\u001b[95mbktdr\u001b[0m\n"
      ]
     },
     "metadata": {},
     "output_type": "display_data"
    },
    {
     "data": {
      "text/html": [
       "<pre style=\"white-space:pre;overflow-x:auto;line-height:normal;font-family:Menlo,'DejaVu Sans Mono',consolas,'Courier New',monospace\"><span style=\"color: #800080; text-decoration-color: #800080\">/Users/arthurvargas/dev/market-scout/src/examples/</span><span style=\"color: #ff00ff; text-decoration-color: #ff00ff\">ibasy</span>\n",
       "</pre>\n"
      ],
      "text/plain": [
       "\u001b[35m/Users/arthurvargas/dev/market-scout/src/examples/\u001b[0m\u001b[95mibasy\u001b[0m\n"
      ]
     },
     "metadata": {},
     "output_type": "display_data"
    }
   ],
   "source": [
    "for obj in glob.iglob(os.path.join(home, \"dev\", \"market-scout\", \"**/*\"), recursive=True):\n",
    "    if os.path.isdir(obj):\n",
    "        print(obj)"
   ]
  },
  {
   "cell_type": "code",
   "execution_count": null,
   "metadata": {},
   "outputs": [],
   "source": []
  },
  {
   "cell_type": "code",
   "execution_count": null,
   "metadata": {},
   "outputs": [],
   "source": []
  },
  {
   "cell_type": "code",
   "execution_count": null,
   "metadata": {},
   "outputs": [],
   "source": []
  }
 ],
 "metadata": {
  "kernelspec": {
   "display_name": "envs",
   "language": "python",
   "name": "python3"
  },
  "language_info": {
   "codemirror_mode": {
    "name": "ipython",
    "version": 3
   },
   "file_extension": ".py",
   "mimetype": "text/x-python",
   "name": "python",
   "nbconvert_exporter": "python",
   "pygments_lexer": "ipython3",
   "version": "3.12.7"
  }
 },
 "nbformat": 4,
 "nbformat_minor": 2
}
