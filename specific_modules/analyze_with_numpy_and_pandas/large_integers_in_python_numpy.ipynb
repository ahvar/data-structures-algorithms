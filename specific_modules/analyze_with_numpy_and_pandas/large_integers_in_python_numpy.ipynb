{
 "cells": [
  {
   "cell_type": "markdown",
   "metadata": {},
   "source": [
    "NumPy can't hold integers larger than 64 bits. If you try to create an array with a larger integer, NumPy will put a Python object inside the array's values, and the code will run much slower. "
   ]
  },
  {
   "cell_type": "code",
   "execution_count": 1,
   "metadata": {},
   "outputs": [
    {
     "ename": "OverflowError",
     "evalue": "Python int too large to convert to C long",
     "output_type": "error",
     "traceback": [
      "\u001b[0;31m---------------------------------------------------------------------------\u001b[0m",
      "\u001b[0;31mOverflowError\u001b[0m                             Traceback (most recent call last)",
      "Cell \u001b[0;32mIn[1], line 8\u001b[0m\n\u001b[1;32m      5\u001b[0m large_int \u001b[38;5;241m=\u001b[39m \u001b[38;5;241m10\u001b[39m\u001b[38;5;241m*\u001b[39m\u001b[38;5;241m*\u001b[39m\u001b[38;5;241m100\u001b[39m\n\u001b[1;32m      7\u001b[0m \u001b[38;5;66;03m# Create a NumPy array with dtype uint64 (limited to 64 bits)\u001b[39;00m\n\u001b[0;32m----> 8\u001b[0m uint64_array \u001b[38;5;241m=\u001b[39m \u001b[43mnp\u001b[49m\u001b[38;5;241;43m.\u001b[39;49m\u001b[43marray\u001b[49m\u001b[43m(\u001b[49m\u001b[43m[\u001b[49m\u001b[43mlarge_int\u001b[49m\u001b[43m]\u001b[49m\u001b[43m,\u001b[49m\u001b[43m \u001b[49m\u001b[43mdtype\u001b[49m\u001b[38;5;241;43m=\u001b[39;49m\u001b[43mnp\u001b[49m\u001b[38;5;241;43m.\u001b[39;49m\u001b[43muint64\u001b[49m\u001b[43m)\u001b[49m\n\u001b[1;32m     10\u001b[0m \u001b[38;5;66;03m# Create a NumPy array with dtype object (stores Python objects)\u001b[39;00m\n\u001b[1;32m     11\u001b[0m object_array \u001b[38;5;241m=\u001b[39m np\u001b[38;5;241m.\u001b[39marray([large_int], dtype\u001b[38;5;241m=\u001b[39m\u001b[38;5;28mobject\u001b[39m)\n",
      "\u001b[0;31mOverflowError\u001b[0m: Python int too large to convert to C long"
     ]
    }
   ],
   "source": [
    "import numpy as np\n",
    "import time\n",
    "\n",
    "# Example of Python's native int with a very large integer\n",
    "large_int = 10**100\n",
    "\n",
    "# Create a NumPy array with dtype uint64 (limited to 64 bits)\n",
    "uint64_array = np.array([large_int], dtype=np.uint64)\n",
    "\n",
    "# Create a NumPy array with dtype object (stores Python objects)\n",
    "object_array = np.array([large_int], dtype=object)\n",
    "\n",
    "# Measure time to sum the elements in each array\n",
    "start_native = time.time()\n",
    "native_sum = sum([large_int, large_int])  # Using Python int\n",
    "end_native = time.time()\n",
    "\n",
    "start_uint64 = time.time()\n",
    "uint64_sum = np.sum(uint64_array)  # NumPy uint64\n",
    "end_uint64 = time.time()\n",
    "\n",
    "start_object = time.time()\n",
    "object_sum = np.sum(object_array)  # NumPy with Python object\n",
    "end_object = time.time()\n",
    "\n",
    "# Display results\n",
    "results = {\n",
    "    \"Python int sum (native)\": {\"Result\": native_sum, \"Time (s)\": end_native - start_native},\n",
    "    \"NumPy uint64 sum\": {\"Result\": uint64_sum, \"Time (s)\": end_uint64 - start_uint64},\n",
    "    \"NumPy object array sum\": {\"Result\": object_sum, \"Time (s)\": end_object - start_object},\n",
    "}\n",
    "import pandas as pd\n",
    "import ace_tools\n",
    "df = pd.DataFrame(results).T\n",
    "import ace_tools as tools; tools.display_dataframe_to_user(name=\"NumPy Integer Performance Comparison\", dataframe=df)\n"
   ]
  }
 ],
 "metadata": {
  "kernelspec": {
   "display_name": "envs",
   "language": "python",
   "name": "python3"
  },
  "language_info": {
   "codemirror_mode": {
    "name": "ipython",
    "version": 3
   },
   "file_extension": ".py",
   "mimetype": "text/x-python",
   "name": "python",
   "nbconvert_exporter": "python",
   "pygments_lexer": "ipython3",
   "version": "3.12.7"
  }
 },
 "nbformat": 4,
 "nbformat_minor": 2
}
