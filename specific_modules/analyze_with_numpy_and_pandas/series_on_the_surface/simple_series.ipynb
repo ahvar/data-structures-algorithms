{
 "cells": [
  {
   "cell_type": "markdown",
   "metadata": {},
   "source": [
    "Double abstraction..."
   ]
  },
  {
   "cell_type": "code",
   "execution_count": 2,
   "metadata": {},
   "outputs": [
    {
     "data": {
      "text/plain": [
       "142"
      ]
     },
     "execution_count": 2,
     "metadata": {},
     "output_type": "execute_result"
    }
   ],
   "source": [
    "from rich import print as rprint\n",
    "series = {'index':[0,1,2,3], 'data':[145,142,38,13],'name':'songs'}\n",
    "\n",
    "def get(series, idx):\n",
    "    value_idx = series['index'].index(idx)\n",
    "    return series['data'][value_idx]\n",
    "\n",
    "get(series,1)\n"
   ]
  },
  {
   "cell_type": "markdown",
   "metadata": {},
   "source": [
    "Allowing non-integer values, the data structure supports other index types, such as strings and dates..."
   ]
  },
  {
   "cell_type": "code",
   "execution_count": 3,
   "metadata": {},
   "outputs": [
    {
     "data": {
      "text/html": [
       "<pre style=\"white-space:pre;overflow-x:auto;line-height:normal;font-family:Menlo,'DejaVu Sans Mono',consolas,'Courier New',monospace\"><span style=\"color: #008080; text-decoration-color: #008080; font-weight: bold\">142</span>\n",
       "</pre>\n"
      ],
      "text/plain": [
       "\u001b[1;36m142\u001b[0m\n"
      ]
     },
     "metadata": {},
     "output_type": "display_data"
    }
   ],
   "source": [
    "songs = {'index':['Paul', 'John', 'George', 'Ringo'], 'data': [145,142,38,13], 'name':'counts'}\n",
    "rprint(get(songs,'John'))"
   ]
  },
  {
   "cell_type": "code",
   "execution_count": 4,
   "metadata": {},
   "outputs": [
    {
     "data": {
      "text/html": [
       "<pre style=\"white-space:pre;overflow-x:auto;line-height:normal;font-family:Menlo,'DejaVu Sans Mono',consolas,'Courier New',monospace\">Paul      <span style=\"color: #008080; text-decoration-color: #008080; font-weight: bold\">145</span>\n",
       "John      <span style=\"color: #008080; text-decoration-color: #008080; font-weight: bold\">142</span>\n",
       "George     <span style=\"color: #008080; text-decoration-color: #008080; font-weight: bold\">38</span>\n",
       "Ringo      <span style=\"color: #008080; text-decoration-color: #008080; font-weight: bold\">13</span>\n",
       "dtype: int64\n",
       "</pre>\n"
      ],
      "text/plain": [
       "Paul      \u001b[1;36m145\u001b[0m\n",
       "John      \u001b[1;36m142\u001b[0m\n",
       "George     \u001b[1;36m38\u001b[0m\n",
       "Ringo      \u001b[1;36m13\u001b[0m\n",
       "dtype: int64\n"
      ]
     },
     "metadata": {},
     "output_type": "display_data"
    },
    {
     "data": {
      "text/plain": [
       "Index(['Paul', 'John', 'George', 'Ringo'], dtype='object')"
      ]
     },
     "execution_count": 4,
     "metadata": {},
     "output_type": "execute_result"
    }
   ],
   "source": [
    "import pandas as pd\n",
    "songs2 = pd.Series([145,142,38,13], index=['Paul','John','George','Ringo'])\n",
    "rprint(songs2)\n",
    "songs2.index\n"
   ]
  },
  {
   "cell_type": "markdown",
   "metadata": {},
   "source": [
    "1. The generic name for an index == axis\n",
    "2. And the index values are also called axis labels\n",
    "3. The data is also called the `values` of the series\n",
    "\n",
    "The `dtype` printed is the type of the values, not the index. Even though it looks 2D, the index is not part of the values"
   ]
  },
  {
   "cell_type": "code",
   "execution_count": 5,
   "metadata": {},
   "outputs": [
    {
     "data": {
      "text/html": [
       "<pre style=\"white-space:pre;overflow-x:auto;line-height:normal;font-family:Menlo,'DejaVu Sans Mono',consolas,'Courier New',monospace\"><span style=\"color: #008080; text-decoration-color: #008080; font-weight: bold\">0</span>    <span style=\"color: #008080; text-decoration-color: #008080; font-weight: bold\">145</span>\n",
       "<span style=\"color: #008080; text-decoration-color: #008080; font-weight: bold\">1</span>    <span style=\"color: #008080; text-decoration-color: #008080; font-weight: bold\">142</span>\n",
       "<span style=\"color: #008080; text-decoration-color: #008080; font-weight: bold\">2</span>     <span style=\"color: #008080; text-decoration-color: #008080; font-weight: bold\">38</span>\n",
       "<span style=\"color: #008080; text-decoration-color: #008080; font-weight: bold\">3</span>     <span style=\"color: #008080; text-decoration-color: #008080; font-weight: bold\">13</span>\n",
       "Name: counts, dtype: int64<span style=\"font-weight: bold\">[</span>pyarrow<span style=\"font-weight: bold\">]</span>\n",
       "</pre>\n"
      ],
      "text/plain": [
       "\u001b[1;36m0\u001b[0m    \u001b[1;36m145\u001b[0m\n",
       "\u001b[1;36m1\u001b[0m    \u001b[1;36m142\u001b[0m\n",
       "\u001b[1;36m2\u001b[0m     \u001b[1;36m38\u001b[0m\n",
       "\u001b[1;36m3\u001b[0m     \u001b[1;36m13\u001b[0m\n",
       "Name: counts, dtype: int64\u001b[1m[\u001b[0mpyarrow\u001b[1m]\u001b[0m\n"
      ]
     },
     "metadata": {},
     "output_type": "display_data"
    },
    {
     "data": {
      "text/plain": [
       "RangeIndex(start=0, stop=4, step=1)"
      ]
     },
     "execution_count": 5,
     "metadata": {},
     "output_type": "execute_result"
    }
   ],
   "source": [
    "songs3 = pd.Series([145,142,38,13], name='counts', dtype='int64[pyarrow]')\n",
    "rprint(songs3)\n",
    "songs3.index"
   ]
  },
  {
   "cell_type": "markdown",
   "metadata": {},
   "source": [
    "In the below case, `dtype` == object, which is used for data types not natively supported by pyarrow backend"
   ]
  },
  {
   "cell_type": "code",
   "execution_count": 6,
   "metadata": {},
   "outputs": [
    {
     "data": {
      "text/plain": [
       "0                                 Richard\n",
       "1                                 Starkey\n",
       "2                                      13\n",
       "3    <__main__.Foo object at 0x105b70b30>\n",
       "Name: Ringo, dtype: object"
      ]
     },
     "execution_count": 6,
     "metadata": {},
     "output_type": "execute_result"
    }
   ],
   "source": [
    "class Foo:\n",
    "    pass\n",
    "ringo = pd.Series(['Richard','Starkey',13,Foo()],name='Ringo')\n",
    "ringo"
   ]
  },
  {
   "cell_type": "code",
   "execution_count": 12,
   "metadata": {},
   "outputs": [
    {
     "data": {
      "text/html": [
       "<pre style=\"white-space:pre;overflow-x:auto;line-height:normal;font-family:Menlo,'DejaVu Sans Mono',consolas,'Courier New',monospace\">Series size: <span style=\"color: #008080; text-decoration-color: #008080; font-weight: bold\">2</span>\n",
       "</pre>\n"
      ],
      "text/plain": [
       "Series size: \u001b[1;36m2\u001b[0m\n"
      ]
     },
     "metadata": {},
     "output_type": "display_data"
    },
    {
     "data": {
      "text/html": [
       "<pre style=\"white-space:pre;overflow-x:auto;line-height:normal;font-family:Menlo,'DejaVu Sans Mono',consolas,'Courier New',monospace\">Series count: <span style=\"color: #008080; text-decoration-color: #008080; font-weight: bold\">1</span>\n",
       "</pre>\n"
      ],
      "text/plain": [
       "Series count: \u001b[1;36m1\u001b[0m\n"
      ]
     },
     "metadata": {},
     "output_type": "display_data"
    }
   ],
   "source": [
    "import numpy as np\n",
    "nan_series = pd.Series([2,np.nan], index=['Ono','Clapton'])\n",
    "rprint(\"Series size:\",nan_series.size)\n",
    "rprint(\"Series count:\", nan_series.count())"
   ]
  },
  {
   "cell_type": "markdown",
   "metadata": {},
   "source": [
    "Pandas supports indexing by name and by position by using `iloc`"
   ]
  },
  {
   "cell_type": "code",
   "execution_count": 14,
   "metadata": {},
   "outputs": [
    {
     "data": {
      "text/html": [
       "<pre style=\"white-space:pre;overflow-x:auto;line-height:normal;font-family:Menlo,'DejaVu Sans Mono',consolas,'Courier New',monospace\">indexing by position: <span style=\"color: #008080; text-decoration-color: #008080; font-weight: bold\">142</span>\n",
       "</pre>\n"
      ],
      "text/plain": [
       "indexing by position: \u001b[1;36m142\u001b[0m\n"
      ]
     },
     "metadata": {},
     "output_type": "display_data"
    },
    {
     "data": {
      "text/html": [
       "<pre style=\"white-space:pre;overflow-x:auto;line-height:normal;font-family:Menlo,'DejaVu Sans Mono',consolas,'Courier New',monospace\">indexing np array: <span style=\"color: #008080; text-decoration-color: #008080; font-weight: bold\">142</span>\n",
       "</pre>\n"
      ],
      "text/plain": [
       "indexing np array: \u001b[1;36m142\u001b[0m\n"
      ]
     },
     "metadata": {},
     "output_type": "display_data"
    }
   ],
   "source": [
    "numpy_ser = np.array([145,142,38,13])\n",
    "rprint(\"indexing by position:\",songs3.iloc[1])\n",
    "rprint(\"indexing np array:\", numpy_ser[1])"
   ]
  },
  {
   "cell_type": "markdown",
   "metadata": {},
   "source": [
    "Both pandas series and numpy array have methods in common"
   ]
  },
  {
   "cell_type": "code",
   "execution_count": 17,
   "metadata": {},
   "outputs": [
    {
     "data": {
      "text/html": [
       "<pre style=\"white-space:pre;overflow-x:auto;line-height:normal;font-family:Menlo,'DejaVu Sans Mono',consolas,'Courier New',monospace\"><span style=\"color: #008080; text-decoration-color: #008080; font-weight: bold\">84.5</span>\n",
       "</pre>\n"
      ],
      "text/plain": [
       "\u001b[1;36m84.5\u001b[0m\n"
      ]
     },
     "metadata": {},
     "output_type": "display_data"
    },
    {
     "data": {
      "text/html": [
       "<pre style=\"white-space:pre;overflow-x:auto;line-height:normal;font-family:Menlo,'DejaVu Sans Mono',consolas,'Courier New',monospace\"><span style=\"color: #008080; text-decoration-color: #008080; font-weight: bold\">84.5</span>\n",
       "</pre>\n"
      ],
      "text/plain": [
       "\u001b[1;36m84.5\u001b[0m\n"
      ]
     },
     "metadata": {},
     "output_type": "display_data"
    }
   ],
   "source": [
    "rprint(songs3.mean())\n",
    "rprint(numpy_ser.mean())"
   ]
  },
  {
   "cell_type": "markdown",
   "metadata": {},
   "source": [
    "Use set operations to determine the methods that are common to both types"
   ]
  },
  {
   "cell_type": "code",
   "execution_count": 18,
   "metadata": {},
   "outputs": [
    {
     "data": {
      "text/plain": [
       "112"
      ]
     },
     "execution_count": 18,
     "metadata": {},
     "output_type": "execute_result"
    }
   ],
   "source": [
    "len(set(dir(numpy_ser)) & set(dir(songs3)))"
   ]
  },
  {
   "cell_type": "markdown",
   "metadata": {},
   "source": [
    "The mask below represents the locations with a value higher than the median value of the series"
   ]
  },
  {
   "cell_type": "code",
   "execution_count": 23,
   "metadata": {},
   "outputs": [
    {
     "data": {
      "text/html": [
       "<pre style=\"white-space:pre;overflow-x:auto;line-height:normal;font-family:Menlo,'DejaVu Sans Mono',consolas,'Courier New',monospace\">Paul       <span style=\"color: #00ff00; text-decoration-color: #00ff00; font-style: italic\">True</span>\n",
       "John       <span style=\"color: #00ff00; text-decoration-color: #00ff00; font-style: italic\">True</span>\n",
       "George    <span style=\"color: #ff0000; text-decoration-color: #ff0000; font-style: italic\">False</span>\n",
       "Ringo     <span style=\"color: #ff0000; text-decoration-color: #ff0000; font-style: italic\">False</span>\n",
       "Name: counts, dtype: bool<span style=\"font-weight: bold\">[</span>pyarrow<span style=\"font-weight: bold\">]</span>\n",
       "</pre>\n"
      ],
      "text/plain": [
       "Paul       \u001b[3;92mTrue\u001b[0m\n",
       "John       \u001b[3;92mTrue\u001b[0m\n",
       "George    \u001b[3;91mFalse\u001b[0m\n",
       "Ringo     \u001b[3;91mFalse\u001b[0m\n",
       "Name: counts, dtype: bool\u001b[1m[\u001b[0mpyarrow\u001b[1m]\u001b[0m\n"
      ]
     },
     "metadata": {},
     "output_type": "display_data"
    },
    {
     "data": {
      "text/html": [
       "<pre style=\"white-space:pre;overflow-x:auto;line-height:normal;font-family:Menlo,'DejaVu Sans Mono',consolas,'Courier New',monospace\">use mask as filter: Paul    <span style=\"color: #008080; text-decoration-color: #008080; font-weight: bold\">145</span>\n",
       "John    <span style=\"color: #008080; text-decoration-color: #008080; font-weight: bold\">142</span>\n",
       "Name: counts, dtype: int64<span style=\"font-weight: bold\">[</span>pyarrow<span style=\"font-weight: bold\">]</span>\n",
       "</pre>\n"
      ],
      "text/plain": [
       "use mask as filter: Paul    \u001b[1;36m145\u001b[0m\n",
       "John    \u001b[1;36m142\u001b[0m\n",
       "Name: counts, dtype: int64\u001b[1m[\u001b[0mpyarrow\u001b[1m]\u001b[0m\n"
      ]
     },
     "metadata": {},
     "output_type": "display_data"
    }
   ],
   "source": [
    "songs3 = pd.Series([145,142,38,13],index=[\"Paul\",\"John\",\"George\",\"Ringo\"],name=\"counts\", dtype=\"int64[pyarrow]\")\n",
    "mask = songs3 > songs3.median()\n",
    "rprint(mask)\n",
    "rprint(\"use mask as filter:\", songs3[mask])"
   ]
  },
  {
   "cell_type": "markdown",
   "metadata": {},
   "source": [
    "NumPy also supports filtering with boolean arrays but lacks the .median method on an array. Instead, NumPy provides a median function in the NumPy namespace."
   ]
  },
  {
   "cell_type": "code",
   "execution_count": 24,
   "metadata": {},
   "outputs": [
    {
     "data": {
      "text/plain": [
       "array([145, 142])"
      ]
     },
     "execution_count": 24,
     "metadata": {},
     "output_type": "execute_result"
    }
   ],
   "source": [
    "numpy_ser[numpy_ser > np.median(numpy_ser)]"
   ]
  }
 ],
 "metadata": {
  "kernelspec": {
   "display_name": "Python 3",
   "language": "python",
   "name": "python3"
  },
  "language_info": {
   "codemirror_mode": {
    "name": "ipython",
    "version": 3
   },
   "file_extension": ".py",
   "mimetype": "text/x-python",
   "name": "python",
   "nbconvert_exporter": "python",
   "pygments_lexer": "ipython3",
   "version": "3.12.7"
  }
 },
 "nbformat": 4,
 "nbformat_minor": 2
}
