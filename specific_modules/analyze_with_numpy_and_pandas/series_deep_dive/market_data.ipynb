{
 "cells": [
  {
   "cell_type": "code",
   "execution_count": 1,
   "metadata": {},
   "outputs": [
    {
     "data": {
      "text/html": [
       "<pre style=\"white-space:pre;overflow-x:auto;line-height:normal;font-family:Menlo,'DejaVu Sans Mono',consolas,'Courier New',monospace\"><span style=\"font-weight: bold\">[</span>\n",
       "    <span style=\"color: #008000; text-decoration-color: #008000\">'Event'</span>,\n",
       "    <span style=\"color: #008000; text-decoration-color: #008000\">'util'</span>,\n",
       "    <span style=\"color: #008000; text-decoration-color: #008000\">'Client'</span>,\n",
       "    <span style=\"color: #008000; text-decoration-color: #008000\">'Bag'</span>,\n",
       "    <span style=\"color: #008000; text-decoration-color: #008000\">'Bond'</span>,\n",
       "    <span style=\"color: #008000; text-decoration-color: #008000\">'CFD'</span>,\n",
       "    <span style=\"color: #008000; text-decoration-color: #008000\">'ComboLeg'</span>,\n",
       "    <span style=\"color: #008000; text-decoration-color: #008000\">'Commodity'</span>,\n",
       "    <span style=\"color: #008000; text-decoration-color: #008000\">'ContFuture'</span>,\n",
       "    <span style=\"color: #008000; text-decoration-color: #008000\">'Contract'</span>,\n",
       "    <span style=\"color: #008000; text-decoration-color: #008000\">'ContractDescription'</span>,\n",
       "    <span style=\"color: #008000; text-decoration-color: #008000\">'ContractDetails'</span>,\n",
       "    <span style=\"color: #008000; text-decoration-color: #008000\">'Crypto'</span>,\n",
       "    <span style=\"color: #008000; text-decoration-color: #008000\">'DeltaNeutralContract'</span>,\n",
       "    <span style=\"color: #008000; text-decoration-color: #008000\">'Forex'</span>,\n",
       "    <span style=\"color: #008000; text-decoration-color: #008000\">'Future'</span>,\n",
       "    <span style=\"color: #008000; text-decoration-color: #008000\">'FuturesOption'</span>,\n",
       "    <span style=\"color: #008000; text-decoration-color: #008000\">'Index'</span>,\n",
       "    <span style=\"color: #008000; text-decoration-color: #008000\">'MutualFund'</span>,\n",
       "    <span style=\"color: #008000; text-decoration-color: #008000\">'Option'</span>,\n",
       "    <span style=\"color: #008000; text-decoration-color: #008000\">'ScanData'</span>,\n",
       "    <span style=\"color: #008000; text-decoration-color: #008000\">'Stock'</span>,\n",
       "    <span style=\"color: #008000; text-decoration-color: #008000\">'TagValue'</span>,\n",
       "    <span style=\"color: #008000; text-decoration-color: #008000\">'Warrant'</span>,\n",
       "    <span style=\"color: #008000; text-decoration-color: #008000\">'FlexError'</span>,\n",
       "    <span style=\"color: #008000; text-decoration-color: #008000\">'FlexReport'</span>,\n",
       "    <span style=\"color: #008000; text-decoration-color: #008000\">'IB'</span>,\n",
       "    <span style=\"color: #008000; text-decoration-color: #008000\">'IBC'</span>,\n",
       "    <span style=\"color: #008000; text-decoration-color: #008000\">'Watchdog'</span>,\n",
       "    <span style=\"color: #008000; text-decoration-color: #008000\">'AccountValue'</span>,\n",
       "    <span style=\"color: #008000; text-decoration-color: #008000\">'BarData'</span>,\n",
       "    <span style=\"color: #008000; text-decoration-color: #008000\">'BarDataList'</span>,\n",
       "    <span style=\"color: #008000; text-decoration-color: #008000\">'CommissionReport'</span>,\n",
       "    <span style=\"color: #008000; text-decoration-color: #008000\">'ConnectionStats'</span>,\n",
       "    <span style=\"color: #008000; text-decoration-color: #008000\">'DOMLevel'</span>,\n",
       "    <span style=\"color: #008000; text-decoration-color: #008000\">'DepthMktDataDescription'</span>,\n",
       "    <span style=\"color: #008000; text-decoration-color: #008000\">'Dividends'</span>,\n",
       "    <span style=\"color: #008000; text-decoration-color: #008000\">'Execution'</span>,\n",
       "    <span style=\"color: #008000; text-decoration-color: #008000\">'ExecutionFilter'</span>,\n",
       "    <span style=\"color: #008000; text-decoration-color: #008000\">'FamilyCode'</span>,\n",
       "    <span style=\"color: #008000; text-decoration-color: #008000\">'Fill'</span>,\n",
       "    <span style=\"color: #008000; text-decoration-color: #008000\">'FundamentalRatios'</span>,\n",
       "    <span style=\"color: #008000; text-decoration-color: #008000\">'HistogramData'</span>,\n",
       "    <span style=\"color: #008000; text-decoration-color: #008000\">'HistoricalNews'</span>,\n",
       "    <span style=\"color: #008000; text-decoration-color: #008000\">'HistoricalTick'</span>,\n",
       "    <span style=\"color: #008000; text-decoration-color: #008000\">'HistoricalTickBidAsk'</span>,\n",
       "    <span style=\"color: #008000; text-decoration-color: #008000\">'HistoricalTickLast'</span>,\n",
       "    <span style=\"color: #008000; text-decoration-color: #008000\">'HistoricalSchedule'</span>,\n",
       "    <span style=\"color: #008000; text-decoration-color: #008000\">'HistoricalSession'</span>,\n",
       "    <span style=\"color: #008000; text-decoration-color: #008000\">'MktDepthData'</span>,\n",
       "    <span style=\"color: #008000; text-decoration-color: #008000\">'NewsArticle'</span>,\n",
       "    <span style=\"color: #008000; text-decoration-color: #008000\">'NewsBulletin'</span>,\n",
       "    <span style=\"color: #008000; text-decoration-color: #008000\">'NewsProvider'</span>,\n",
       "    <span style=\"color: #008000; text-decoration-color: #008000\">'NewsTick'</span>,\n",
       "    <span style=\"color: #008000; text-decoration-color: #008000\">'OptionChain'</span>,\n",
       "    <span style=\"color: #008000; text-decoration-color: #008000\">'OptionComputation'</span>,\n",
       "    <span style=\"color: #008000; text-decoration-color: #008000\">'PnL'</span>,\n",
       "    <span style=\"color: #008000; text-decoration-color: #008000\">'PnLSingle'</span>,\n",
       "    <span style=\"color: #008000; text-decoration-color: #008000\">'PortfolioItem'</span>,\n",
       "    <span style=\"color: #008000; text-decoration-color: #008000\">'Position'</span>,\n",
       "    <span style=\"color: #008000; text-decoration-color: #008000\">'PriceIncrement'</span>,\n",
       "    <span style=\"color: #008000; text-decoration-color: #008000\">'RealTimeBar'</span>,\n",
       "    <span style=\"color: #008000; text-decoration-color: #008000\">'RealTimeBarList'</span>,\n",
       "    <span style=\"color: #008000; text-decoration-color: #008000\">'ScanDataList'</span>,\n",
       "    <span style=\"color: #008000; text-decoration-color: #008000\">'ScannerSubscription'</span>,\n",
       "    <span style=\"color: #008000; text-decoration-color: #008000\">'SmartComponent'</span>,\n",
       "    <span style=\"color: #008000; text-decoration-color: #008000\">'SoftDollarTier'</span>,\n",
       "    <span style=\"color: #008000; text-decoration-color: #008000\">'TickAttrib'</span>,\n",
       "    <span style=\"color: #008000; text-decoration-color: #008000\">'TickAttribBidAsk'</span>,\n",
       "    <span style=\"color: #008000; text-decoration-color: #008000\">'TickAttribLast'</span>,\n",
       "    <span style=\"color: #008000; text-decoration-color: #008000\">'TickByTickAllLast'</span>,\n",
       "    <span style=\"color: #008000; text-decoration-color: #008000\">'WshEventData'</span>,\n",
       "    <span style=\"color: #008000; text-decoration-color: #008000\">'TickByTickBidAsk'</span>,\n",
       "    <span style=\"color: #008000; text-decoration-color: #008000\">'TickByTickMidPoint'</span>,\n",
       "    <span style=\"color: #008000; text-decoration-color: #008000\">'TickData'</span>,\n",
       "    <span style=\"color: #008000; text-decoration-color: #008000\">'TradeLogEntry'</span>,\n",
       "    <span style=\"color: #008000; text-decoration-color: #008000\">'BracketOrder'</span>,\n",
       "    <span style=\"color: #008000; text-decoration-color: #008000\">'ExecutionCondition'</span>,\n",
       "    <span style=\"color: #008000; text-decoration-color: #008000\">'LimitOrder'</span>,\n",
       "    <span style=\"color: #008000; text-decoration-color: #008000\">'MarginCondition'</span>,\n",
       "    <span style=\"color: #008000; text-decoration-color: #008000\">'MarketOrder'</span>,\n",
       "    <span style=\"color: #008000; text-decoration-color: #008000\">'Order'</span>,\n",
       "    <span style=\"color: #008000; text-decoration-color: #008000\">'OrderComboLeg'</span>,\n",
       "    <span style=\"color: #008000; text-decoration-color: #008000\">'OrderCondition'</span>,\n",
       "    <span style=\"color: #008000; text-decoration-color: #008000\">'OrderState'</span>,\n",
       "    <span style=\"color: #008000; text-decoration-color: #008000\">'OrderStatus'</span>,\n",
       "    <span style=\"color: #008000; text-decoration-color: #008000\">'PercentChangeCondition'</span>,\n",
       "    <span style=\"color: #008000; text-decoration-color: #008000\">'PriceCondition'</span>,\n",
       "    <span style=\"color: #008000; text-decoration-color: #008000\">'StopLimitOrder'</span>,\n",
       "    <span style=\"color: #008000; text-decoration-color: #008000\">'StopOrder'</span>,\n",
       "    <span style=\"color: #008000; text-decoration-color: #008000\">'TimeCondition'</span>,\n",
       "    <span style=\"color: #008000; text-decoration-color: #008000\">'Trade'</span>,\n",
       "    <span style=\"color: #008000; text-decoration-color: #008000\">'VolumeCondition'</span>,\n",
       "    <span style=\"color: #008000; text-decoration-color: #008000\">'Ticker'</span>,\n",
       "    <span style=\"color: #008000; text-decoration-color: #008000\">'__version__'</span>,\n",
       "    <span style=\"color: #008000; text-decoration-color: #008000\">'__version_info__'</span>,\n",
       "    <span style=\"color: #008000; text-decoration-color: #008000\">'RequestError'</span>,\n",
       "    <span style=\"color: #008000; text-decoration-color: #008000\">'Wrapper'</span>,\n",
       "    <span style=\"color: #008000; text-decoration-color: #008000\">'StartupFetch'</span>,\n",
       "    <span style=\"color: #008000; text-decoration-color: #008000\">'StartupFetchALL'</span>,\n",
       "    <span style=\"color: #008000; text-decoration-color: #008000\">'StartupFetchNONE'</span>\n",
       "<span style=\"font-weight: bold\">]</span>\n",
       "</pre>\n"
      ],
      "text/plain": [
       "\u001b[1m[\u001b[0m\n",
       "    \u001b[32m'Event'\u001b[0m,\n",
       "    \u001b[32m'util'\u001b[0m,\n",
       "    \u001b[32m'Client'\u001b[0m,\n",
       "    \u001b[32m'Bag'\u001b[0m,\n",
       "    \u001b[32m'Bond'\u001b[0m,\n",
       "    \u001b[32m'CFD'\u001b[0m,\n",
       "    \u001b[32m'ComboLeg'\u001b[0m,\n",
       "    \u001b[32m'Commodity'\u001b[0m,\n",
       "    \u001b[32m'ContFuture'\u001b[0m,\n",
       "    \u001b[32m'Contract'\u001b[0m,\n",
       "    \u001b[32m'ContractDescription'\u001b[0m,\n",
       "    \u001b[32m'ContractDetails'\u001b[0m,\n",
       "    \u001b[32m'Crypto'\u001b[0m,\n",
       "    \u001b[32m'DeltaNeutralContract'\u001b[0m,\n",
       "    \u001b[32m'Forex'\u001b[0m,\n",
       "    \u001b[32m'Future'\u001b[0m,\n",
       "    \u001b[32m'FuturesOption'\u001b[0m,\n",
       "    \u001b[32m'Index'\u001b[0m,\n",
       "    \u001b[32m'MutualFund'\u001b[0m,\n",
       "    \u001b[32m'Option'\u001b[0m,\n",
       "    \u001b[32m'ScanData'\u001b[0m,\n",
       "    \u001b[32m'Stock'\u001b[0m,\n",
       "    \u001b[32m'TagValue'\u001b[0m,\n",
       "    \u001b[32m'Warrant'\u001b[0m,\n",
       "    \u001b[32m'FlexError'\u001b[0m,\n",
       "    \u001b[32m'FlexReport'\u001b[0m,\n",
       "    \u001b[32m'IB'\u001b[0m,\n",
       "    \u001b[32m'IBC'\u001b[0m,\n",
       "    \u001b[32m'Watchdog'\u001b[0m,\n",
       "    \u001b[32m'AccountValue'\u001b[0m,\n",
       "    \u001b[32m'BarData'\u001b[0m,\n",
       "    \u001b[32m'BarDataList'\u001b[0m,\n",
       "    \u001b[32m'CommissionReport'\u001b[0m,\n",
       "    \u001b[32m'ConnectionStats'\u001b[0m,\n",
       "    \u001b[32m'DOMLevel'\u001b[0m,\n",
       "    \u001b[32m'DepthMktDataDescription'\u001b[0m,\n",
       "    \u001b[32m'Dividends'\u001b[0m,\n",
       "    \u001b[32m'Execution'\u001b[0m,\n",
       "    \u001b[32m'ExecutionFilter'\u001b[0m,\n",
       "    \u001b[32m'FamilyCode'\u001b[0m,\n",
       "    \u001b[32m'Fill'\u001b[0m,\n",
       "    \u001b[32m'FundamentalRatios'\u001b[0m,\n",
       "    \u001b[32m'HistogramData'\u001b[0m,\n",
       "    \u001b[32m'HistoricalNews'\u001b[0m,\n",
       "    \u001b[32m'HistoricalTick'\u001b[0m,\n",
       "    \u001b[32m'HistoricalTickBidAsk'\u001b[0m,\n",
       "    \u001b[32m'HistoricalTickLast'\u001b[0m,\n",
       "    \u001b[32m'HistoricalSchedule'\u001b[0m,\n",
       "    \u001b[32m'HistoricalSession'\u001b[0m,\n",
       "    \u001b[32m'MktDepthData'\u001b[0m,\n",
       "    \u001b[32m'NewsArticle'\u001b[0m,\n",
       "    \u001b[32m'NewsBulletin'\u001b[0m,\n",
       "    \u001b[32m'NewsProvider'\u001b[0m,\n",
       "    \u001b[32m'NewsTick'\u001b[0m,\n",
       "    \u001b[32m'OptionChain'\u001b[0m,\n",
       "    \u001b[32m'OptionComputation'\u001b[0m,\n",
       "    \u001b[32m'PnL'\u001b[0m,\n",
       "    \u001b[32m'PnLSingle'\u001b[0m,\n",
       "    \u001b[32m'PortfolioItem'\u001b[0m,\n",
       "    \u001b[32m'Position'\u001b[0m,\n",
       "    \u001b[32m'PriceIncrement'\u001b[0m,\n",
       "    \u001b[32m'RealTimeBar'\u001b[0m,\n",
       "    \u001b[32m'RealTimeBarList'\u001b[0m,\n",
       "    \u001b[32m'ScanDataList'\u001b[0m,\n",
       "    \u001b[32m'ScannerSubscription'\u001b[0m,\n",
       "    \u001b[32m'SmartComponent'\u001b[0m,\n",
       "    \u001b[32m'SoftDollarTier'\u001b[0m,\n",
       "    \u001b[32m'TickAttrib'\u001b[0m,\n",
       "    \u001b[32m'TickAttribBidAsk'\u001b[0m,\n",
       "    \u001b[32m'TickAttribLast'\u001b[0m,\n",
       "    \u001b[32m'TickByTickAllLast'\u001b[0m,\n",
       "    \u001b[32m'WshEventData'\u001b[0m,\n",
       "    \u001b[32m'TickByTickBidAsk'\u001b[0m,\n",
       "    \u001b[32m'TickByTickMidPoint'\u001b[0m,\n",
       "    \u001b[32m'TickData'\u001b[0m,\n",
       "    \u001b[32m'TradeLogEntry'\u001b[0m,\n",
       "    \u001b[32m'BracketOrder'\u001b[0m,\n",
       "    \u001b[32m'ExecutionCondition'\u001b[0m,\n",
       "    \u001b[32m'LimitOrder'\u001b[0m,\n",
       "    \u001b[32m'MarginCondition'\u001b[0m,\n",
       "    \u001b[32m'MarketOrder'\u001b[0m,\n",
       "    \u001b[32m'Order'\u001b[0m,\n",
       "    \u001b[32m'OrderComboLeg'\u001b[0m,\n",
       "    \u001b[32m'OrderCondition'\u001b[0m,\n",
       "    \u001b[32m'OrderState'\u001b[0m,\n",
       "    \u001b[32m'OrderStatus'\u001b[0m,\n",
       "    \u001b[32m'PercentChangeCondition'\u001b[0m,\n",
       "    \u001b[32m'PriceCondition'\u001b[0m,\n",
       "    \u001b[32m'StopLimitOrder'\u001b[0m,\n",
       "    \u001b[32m'StopOrder'\u001b[0m,\n",
       "    \u001b[32m'TimeCondition'\u001b[0m,\n",
       "    \u001b[32m'Trade'\u001b[0m,\n",
       "    \u001b[32m'VolumeCondition'\u001b[0m,\n",
       "    \u001b[32m'Ticker'\u001b[0m,\n",
       "    \u001b[32m'__version__'\u001b[0m,\n",
       "    \u001b[32m'__version_info__'\u001b[0m,\n",
       "    \u001b[32m'RequestError'\u001b[0m,\n",
       "    \u001b[32m'Wrapper'\u001b[0m,\n",
       "    \u001b[32m'StartupFetch'\u001b[0m,\n",
       "    \u001b[32m'StartupFetchALL'\u001b[0m,\n",
       "    \u001b[32m'StartupFetchNONE'\u001b[0m\n",
       "\u001b[1m]\u001b[0m\n"
      ]
     },
     "metadata": {},
     "output_type": "display_data"
    }
   ],
   "source": [
    "import ib_async\n",
    "from rich import print as rprint\n",
    "rprint(ib_async.__all__)"
   ]
  },
  {
   "cell_type": "code",
   "execution_count": 2,
   "metadata": {},
   "outputs": [],
   "source": [
    "from ib_async import *\n",
    "util.startLoop()"
   ]
  },
  {
   "cell_type": "code",
   "execution_count": null,
   "metadata": {},
   "outputs": [
    {
     "data": {
      "text/plain": [
       "<IB connected to 127.0.0.1:4002 clientId=1>"
      ]
     },
     "execution_count": 3,
     "metadata": {},
     "output_type": "execute_result"
    },
    {
     "name": "stderr",
     "output_type": "stream",
     "text": [
      "Error 1100, reqId -1: Connectivity between IBKR and Trader Workstation has been lost.\n",
      "Error 1102, reqId -1: Connectivity between IBKR and Trader Workstation has been restored - data maintained. The following farms are connected: usfarm; secdefnj. The following farms are not connected: ushmds.\n",
      "Error 1100, reqId -1: Connectivity between IBKR and Trader Workstation has been lost.\n",
      "Error 1102, reqId -1: Connectivity between IBKR and Trader Workstation has been restored - data maintained. The following farms are connected: usfarm; secdefnj. The following farms are not connected: ushmds.\n",
      "Error 1100, reqId -1: Connectivity between IBKR and Trader Workstation has been lost.\n",
      "Error 1102, reqId -1: Connectivity between IBKR and Trader Workstation has been restored - data maintained. The following farms are connected: usfarm; secdefnj. The following farms are not connected: ushmds.\n",
      "Peer closed connection.\n",
      "Future exception was never retrieved\n",
      "future: <Future finished exception=ConnectionError('Socket disconnect')>\n",
      "ConnectionError: Socket disconnect\n",
      "Future exception was never retrieved\n",
      "future: <Future finished exception=ConnectionError('Socket disconnect')>\n",
      "ConnectionError: Socket disconnect\n"
     ]
    }
   ],
   "source": [
    "ib = IB()\n",
    "ib.connect('127.0.0.1', 4002, clientId=1)"
   ]
  },
  {
   "cell_type": "code",
   "execution_count": 24,
   "metadata": {},
   "outputs": [
    {
     "data": {
      "text/plain": [
       "[AccountValue(account='DU1433635', tag='NetLiquidationByCurrency', value='265630.27', currency='BASE', modelCode='')]"
      ]
     },
     "execution_count": 24,
     "metadata": {},
     "output_type": "execute_result"
    }
   ],
   "source": [
    "[v for v in ib.accountValues() if v.tag == 'NetLiquidationByCurrency' and v.currency == 'BASE']"
   ]
  },
  {
   "cell_type": "code",
   "execution_count": 4,
   "metadata": {},
   "outputs": [
    {
     "data": {
      "text/html": [
       "<pre style=\"white-space:pre;overflow-x:auto;line-height:normal;font-family:Menlo,'DejaVu Sans Mono',consolas,'Courier New',monospace\"><span style=\"color: #800080; text-decoration-color: #800080; font-weight: bold\">Contract</span><span style=\"font-weight: bold\">(</span><span style=\"color: #808000; text-decoration-color: #808000\">secType</span>=<span style=\"color: #008000; text-decoration-color: #008000\">'STK'</span>, <span style=\"color: #808000; text-decoration-color: #808000\">conId</span>=<span style=\"color: #008080; text-decoration-color: #008080; font-weight: bold\">76792991</span>, <span style=\"color: #808000; text-decoration-color: #808000\">symbol</span>=<span style=\"color: #008000; text-decoration-color: #008000\">'TSLA'</span>, <span style=\"color: #808000; text-decoration-color: #808000\">exchange</span>=<span style=\"color: #008000; text-decoration-color: #008000\">'SMART'</span>, <span style=\"color: #808000; text-decoration-color: #808000\">primaryExchange</span>=<span style=\"color: #008000; text-decoration-color: #008000\">'NASDAQ'</span>, <span style=\"color: #808000; text-decoration-color: #808000\">currency</span>=<span style=\"color: #008000; text-decoration-color: #008000\">'USD'</span>, \n",
       "<span style=\"color: #808000; text-decoration-color: #808000\">localSymbol</span>=<span style=\"color: #008000; text-decoration-color: #008000\">'TSLA'</span>, <span style=\"color: #808000; text-decoration-color: #808000\">tradingClass</span>=<span style=\"color: #008000; text-decoration-color: #008000\">'NMS'</span><span style=\"font-weight: bold\">)</span>\n",
       "</pre>\n"
      ],
      "text/plain": [
       "\u001b[1;35mContract\u001b[0m\u001b[1m(\u001b[0m\u001b[33msecType\u001b[0m=\u001b[32m'STK'\u001b[0m, \u001b[33mconId\u001b[0m=\u001b[1;36m76792991\u001b[0m, \u001b[33msymbol\u001b[0m=\u001b[32m'TSLA'\u001b[0m, \u001b[33mexchange\u001b[0m=\u001b[32m'SMART'\u001b[0m, \u001b[33mprimaryExchange\u001b[0m=\u001b[32m'NASDAQ'\u001b[0m, \u001b[33mcurrency\u001b[0m=\u001b[32m'USD'\u001b[0m, \n",
       "\u001b[33mlocalSymbol\u001b[0m=\u001b[32m'TSLA'\u001b[0m, \u001b[33mtradingClass\u001b[0m=\u001b[32m'NMS'\u001b[0m\u001b[1m)\u001b[0m\n"
      ]
     },
     "metadata": {},
     "output_type": "display_data"
    },
    {
     "data": {
      "text/plain": [
       "[None]"
      ]
     },
     "execution_count": 4,
     "metadata": {},
     "output_type": "execute_result"
    }
   ],
   "source": [
    "tsla = Stock('TSLA', 'SMART', 'USD')\n",
    "tsla_details = ib.reqContractDetails(tsla)\n",
    "[rprint(tsla_detail.contract) for tsla_detail in tsla_details]\n",
    "\n",
    "\n"
   ]
  },
  {
   "cell_type": "code",
   "execution_count": 5,
   "metadata": {},
   "outputs": [
    {
     "data": {
      "text/html": [
       "<div>\n",
       "<style scoped>\n",
       "    .dataframe tbody tr th:only-of-type {\n",
       "        vertical-align: middle;\n",
       "    }\n",
       "\n",
       "    .dataframe tbody tr th {\n",
       "        vertical-align: top;\n",
       "    }\n",
       "\n",
       "    .dataframe thead th {\n",
       "        text-align: right;\n",
       "    }\n",
       "</style>\n",
       "<table border=\"1\" class=\"dataframe\">\n",
       "  <thead>\n",
       "    <tr style=\"text-align: right;\">\n",
       "      <th></th>\n",
       "      <th>contract</th>\n",
       "      <th>marketName</th>\n",
       "      <th>minTick</th>\n",
       "      <th>orderTypes</th>\n",
       "      <th>validExchanges</th>\n",
       "      <th>priceMagnifier</th>\n",
       "      <th>underConId</th>\n",
       "      <th>longName</th>\n",
       "      <th>contractMonth</th>\n",
       "      <th>industry</th>\n",
       "      <th>...</th>\n",
       "      <th>callable</th>\n",
       "      <th>putable</th>\n",
       "      <th>coupon</th>\n",
       "      <th>convertible</th>\n",
       "      <th>maturity</th>\n",
       "      <th>issueDate</th>\n",
       "      <th>nextOptionDate</th>\n",
       "      <th>nextOptionType</th>\n",
       "      <th>nextOptionPartial</th>\n",
       "      <th>notes</th>\n",
       "    </tr>\n",
       "  </thead>\n",
       "  <tbody>\n",
       "    <tr>\n",
       "      <th>0</th>\n",
       "      <td>Contract(secType='STK', conId=76792991, symbol...</td>\n",
       "      <td>NMS</td>\n",
       "      <td>0.01</td>\n",
       "      <td>ACTIVETIM,AD,ADDONT,ADJUST,ALERT,ALGO,ALLOC,AO...</td>\n",
       "      <td>SMART,AMEX,NYSE,CBOE,PHLX,ISE,CHX,ARCA,NASDAQ,...</td>\n",
       "      <td>1</td>\n",
       "      <td>0</td>\n",
       "      <td>TESLA INC</td>\n",
       "      <td></td>\n",
       "      <td>Consumer, Cyclical</td>\n",
       "      <td>...</td>\n",
       "      <td>False</td>\n",
       "      <td>False</td>\n",
       "      <td>0</td>\n",
       "      <td>False</td>\n",
       "      <td></td>\n",
       "      <td></td>\n",
       "      <td></td>\n",
       "      <td></td>\n",
       "      <td>False</td>\n",
       "      <td></td>\n",
       "    </tr>\n",
       "  </tbody>\n",
       "</table>\n",
       "<p>1 rows × 44 columns</p>\n",
       "</div>"
      ],
      "text/plain": [
       "                                            contract marketName  minTick  \\\n",
       "0  Contract(secType='STK', conId=76792991, symbol...        NMS     0.01   \n",
       "\n",
       "                                          orderTypes  \\\n",
       "0  ACTIVETIM,AD,ADDONT,ADJUST,ALERT,ALGO,ALLOC,AO...   \n",
       "\n",
       "                                      validExchanges  priceMagnifier  \\\n",
       "0  SMART,AMEX,NYSE,CBOE,PHLX,ISE,CHX,ARCA,NASDAQ,...               1   \n",
       "\n",
       "   underConId   longName contractMonth            industry  ... callable  \\\n",
       "0           0  TESLA INC                Consumer, Cyclical  ...    False   \n",
       "\n",
       "  putable coupon convertible maturity issueDate  nextOptionDate  \\\n",
       "0   False      0       False                                      \n",
       "\n",
       "   nextOptionType  nextOptionPartial notes  \n",
       "0                              False        \n",
       "\n",
       "[1 rows x 44 columns]"
      ]
     },
     "execution_count": 5,
     "metadata": {},
     "output_type": "execute_result"
    }
   ],
   "source": [
    "util.df(tsla_details)"
   ]
  },
  {
   "cell_type": "code",
   "execution_count": 6,
   "metadata": {},
   "outputs": [
    {
     "data": {
      "text/plain": [
       "Stock(conId=76792991, symbol='TSLA', exchange='SMART', primaryExchange='NASDAQ', currency='USD', localSymbol='TSLA', tradingClass='NMS')"
      ]
     },
     "execution_count": 6,
     "metadata": {},
     "output_type": "execute_result"
    }
   ],
   "source": [
    "tsla\n",
    "ib.qualifyContracts(tsla)\n",
    "tsla"
   ]
  },
  {
   "cell_type": "code",
   "execution_count": 7,
   "metadata": {},
   "outputs": [],
   "source": [
    "ib.reqHeadTimeStamp(tsla,whatToShow='TRADES', useRTH=True)\n",
    "bars = ib.reqHistoricalData(tsla,endDateTime='', durationStr='2 Y', barSizeSetting='4 hours', whatToShow='TRADES',useRTH=True, formatDate=1)"
   ]
  },
  {
   "cell_type": "code",
   "execution_count": 8,
   "metadata": {},
   "outputs": [
    {
     "data": {
      "text/html": [
       "<div>\n",
       "<style scoped>\n",
       "    .dataframe tbody tr th:only-of-type {\n",
       "        vertical-align: middle;\n",
       "    }\n",
       "\n",
       "    .dataframe tbody tr th {\n",
       "        vertical-align: top;\n",
       "    }\n",
       "\n",
       "    .dataframe thead th {\n",
       "        text-align: right;\n",
       "    }\n",
       "</style>\n",
       "<table border=\"1\" class=\"dataframe\">\n",
       "  <thead>\n",
       "    <tr style=\"text-align: right;\">\n",
       "      <th></th>\n",
       "      <th>date</th>\n",
       "      <th>open</th>\n",
       "      <th>high</th>\n",
       "      <th>low</th>\n",
       "      <th>close</th>\n",
       "      <th>volume</th>\n",
       "      <th>average</th>\n",
       "      <th>barCount</th>\n",
       "    </tr>\n",
       "  </thead>\n",
       "  <tbody>\n",
       "    <tr>\n",
       "      <th>0</th>\n",
       "      <td>2023-02-16 09:30:00-05:00</td>\n",
       "      <td>210.78</td>\n",
       "      <td>217.65</td>\n",
       "      <td>208.31</td>\n",
       "      <td>216.82</td>\n",
       "      <td>58098611.0</td>\n",
       "      <td>213.762</td>\n",
       "      <td>209163</td>\n",
       "    </tr>\n",
       "    <tr>\n",
       "      <th>1</th>\n",
       "      <td>2023-02-16 11:00:00-05:00</td>\n",
       "      <td>216.83</td>\n",
       "      <td>217.50</td>\n",
       "      <td>209.74</td>\n",
       "      <td>211.01</td>\n",
       "      <td>82381834.0</td>\n",
       "      <td>213.539</td>\n",
       "      <td>294800</td>\n",
       "    </tr>\n",
       "    <tr>\n",
       "      <th>2</th>\n",
       "      <td>2023-02-16 15:00:00-05:00</td>\n",
       "      <td>211.01</td>\n",
       "      <td>211.17</td>\n",
       "      <td>201.84</td>\n",
       "      <td>201.95</td>\n",
       "      <td>41767415.0</td>\n",
       "      <td>205.414</td>\n",
       "      <td>147253</td>\n",
       "    </tr>\n",
       "    <tr>\n",
       "      <th>3</th>\n",
       "      <td>2023-02-17 09:30:00-05:00</td>\n",
       "      <td>199.99</td>\n",
       "      <td>204.59</td>\n",
       "      <td>199.17</td>\n",
       "      <td>200.88</td>\n",
       "      <td>57762637.0</td>\n",
       "      <td>202.264</td>\n",
       "      <td>207273</td>\n",
       "    </tr>\n",
       "    <tr>\n",
       "      <th>4</th>\n",
       "      <td>2023-02-17 11:00:00-05:00</td>\n",
       "      <td>200.89</td>\n",
       "      <td>208.00</td>\n",
       "      <td>197.50</td>\n",
       "      <td>207.61</td>\n",
       "      <td>89971951.0</td>\n",
       "      <td>202.065</td>\n",
       "      <td>306506</td>\n",
       "    </tr>\n",
       "  </tbody>\n",
       "</table>\n",
       "</div>"
      ],
      "text/plain": [
       "                       date    open    high     low   close      volume  \\\n",
       "0 2023-02-16 09:30:00-05:00  210.78  217.65  208.31  216.82  58098611.0   \n",
       "1 2023-02-16 11:00:00-05:00  216.83  217.50  209.74  211.01  82381834.0   \n",
       "2 2023-02-16 15:00:00-05:00  211.01  211.17  201.84  201.95  41767415.0   \n",
       "3 2023-02-17 09:30:00-05:00  199.99  204.59  199.17  200.88  57762637.0   \n",
       "4 2023-02-17 11:00:00-05:00  200.89  208.00  197.50  207.61  89971951.0   \n",
       "\n",
       "   average  barCount  \n",
       "0  213.762    209163  \n",
       "1  213.539    294800  \n",
       "2  205.414    147253  \n",
       "3  202.264    207273  \n",
       "4  202.065    306506  "
      ]
     },
     "metadata": {},
     "output_type": "display_data"
    },
    {
     "data": {
      "text/html": [
       "<div>\n",
       "<style scoped>\n",
       "    .dataframe tbody tr th:only-of-type {\n",
       "        vertical-align: middle;\n",
       "    }\n",
       "\n",
       "    .dataframe tbody tr th {\n",
       "        vertical-align: top;\n",
       "    }\n",
       "\n",
       "    .dataframe thead th {\n",
       "        text-align: right;\n",
       "    }\n",
       "</style>\n",
       "<table border=\"1\" class=\"dataframe\">\n",
       "  <thead>\n",
       "    <tr style=\"text-align: right;\">\n",
       "      <th></th>\n",
       "      <th>date</th>\n",
       "      <th>open</th>\n",
       "      <th>high</th>\n",
       "      <th>low</th>\n",
       "      <th>close</th>\n",
       "      <th>volume</th>\n",
       "      <th>average</th>\n",
       "      <th>barCount</th>\n",
       "    </tr>\n",
       "  </thead>\n",
       "  <tbody>\n",
       "    <tr>\n",
       "      <th>1165</th>\n",
       "      <td>2025-02-13 11:00:00-05:00</td>\n",
       "      <td>356.82</td>\n",
       "      <td>357.07</td>\n",
       "      <td>348.17</td>\n",
       "      <td>352.45</td>\n",
       "      <td>27370242.0</td>\n",
       "      <td>351.564</td>\n",
       "      <td>109457</td>\n",
       "    </tr>\n",
       "    <tr>\n",
       "      <th>1166</th>\n",
       "      <td>2025-02-13 15:00:00-05:00</td>\n",
       "      <td>352.52</td>\n",
       "      <td>356.90</td>\n",
       "      <td>352.39</td>\n",
       "      <td>356.03</td>\n",
       "      <td>8635374.0</td>\n",
       "      <td>354.808</td>\n",
       "      <td>41604</td>\n",
       "    </tr>\n",
       "    <tr>\n",
       "      <th>1167</th>\n",
       "      <td>2025-02-14 09:30:00-05:00</td>\n",
       "      <td>360.49</td>\n",
       "      <td>362.00</td>\n",
       "      <td>350.03</td>\n",
       "      <td>351.30</td>\n",
       "      <td>20057045.0</td>\n",
       "      <td>354.639</td>\n",
       "      <td>85817</td>\n",
       "    </tr>\n",
       "    <tr>\n",
       "      <th>1168</th>\n",
       "      <td>2025-02-14 11:00:00-05:00</td>\n",
       "      <td>351.36</td>\n",
       "      <td>354.60</td>\n",
       "      <td>347.50</td>\n",
       "      <td>354.40</td>\n",
       "      <td>21219980.0</td>\n",
       "      <td>351.242</td>\n",
       "      <td>88489</td>\n",
       "    </tr>\n",
       "    <tr>\n",
       "      <th>1169</th>\n",
       "      <td>2025-02-14 15:00:00-05:00</td>\n",
       "      <td>354.38</td>\n",
       "      <td>356.44</td>\n",
       "      <td>353.58</td>\n",
       "      <td>355.90</td>\n",
       "      <td>6466967.0</td>\n",
       "      <td>355.173</td>\n",
       "      <td>27530</td>\n",
       "    </tr>\n",
       "  </tbody>\n",
       "</table>\n",
       "</div>"
      ],
      "text/plain": [
       "                          date    open    high     low   close      volume  \\\n",
       "1165 2025-02-13 11:00:00-05:00  356.82  357.07  348.17  352.45  27370242.0   \n",
       "1166 2025-02-13 15:00:00-05:00  352.52  356.90  352.39  356.03   8635374.0   \n",
       "1167 2025-02-14 09:30:00-05:00  360.49  362.00  350.03  351.30  20057045.0   \n",
       "1168 2025-02-14 11:00:00-05:00  351.36  354.60  347.50  354.40  21219980.0   \n",
       "1169 2025-02-14 15:00:00-05:00  354.38  356.44  353.58  355.90   6466967.0   \n",
       "\n",
       "      average  barCount  \n",
       "1165  351.564    109457  \n",
       "1166  354.808     41604  \n",
       "1167  354.639     85817  \n",
       "1168  351.242     88489  \n",
       "1169  355.173     27530  "
      ]
     },
     "metadata": {},
     "output_type": "display_data"
    }
   ],
   "source": [
    "df = util.df(bars)\n",
    "display(df.head())\n",
    "display(df.tail())"
   ]
  },
  {
   "cell_type": "code",
   "execution_count": 9,
   "metadata": {},
   "outputs": [
    {
     "data": {
      "text/html": [
       "<pre style=\"white-space:pre;overflow-x:auto;line-height:normal;font-family:Menlo,'DejaVu Sans Mono',consolas,'Courier New',monospace\">date        <span style=\"color: #008080; text-decoration-color: #008080; font-weight: bold\">2023</span>-<span style=\"color: #008080; text-decoration-color: #008080; font-weight: bold\">02</span>-<span style=\"color: #008080; text-decoration-color: #008080; font-weight: bold\">16</span> <span style=\"color: #00ff00; text-decoration-color: #00ff00; font-weight: bold\">09:30:00</span>-<span style=\"color: #00ff00; text-decoration-color: #00ff00; font-weight: bold\">05:00</span>\n",
       "open                           <span style=\"color: #008080; text-decoration-color: #008080; font-weight: bold\">210.78</span>\n",
       "high                           <span style=\"color: #008080; text-decoration-color: #008080; font-weight: bold\">217.65</span>\n",
       "low                            <span style=\"color: #008080; text-decoration-color: #008080; font-weight: bold\">208.31</span>\n",
       "close                          <span style=\"color: #008080; text-decoration-color: #008080; font-weight: bold\">216.82</span>\n",
       "volume                     <span style=\"color: #008080; text-decoration-color: #008080; font-weight: bold\">58098611.0</span>\n",
       "average                       <span style=\"color: #008080; text-decoration-color: #008080; font-weight: bold\">213.762</span>\n",
       "barCount                       <span style=\"color: #008080; text-decoration-color: #008080; font-weight: bold\">209163</span>\n",
       "Name: <span style=\"color: #008080; text-decoration-color: #008080; font-weight: bold\">0</span>, dtype: object\n",
       "</pre>\n"
      ],
      "text/plain": [
       "date        \u001b[1;36m2023\u001b[0m-\u001b[1;36m02\u001b[0m-\u001b[1;36m16\u001b[0m \u001b[1;92m09:30:00\u001b[0m-\u001b[1;92m05:00\u001b[0m\n",
       "open                           \u001b[1;36m210.78\u001b[0m\n",
       "high                           \u001b[1;36m217.65\u001b[0m\n",
       "low                            \u001b[1;36m208.31\u001b[0m\n",
       "close                          \u001b[1;36m216.82\u001b[0m\n",
       "volume                     \u001b[1;36m58098611.0\u001b[0m\n",
       "average                       \u001b[1;36m213.762\u001b[0m\n",
       "barCount                       \u001b[1;36m209163\u001b[0m\n",
       "Name: \u001b[1;36m0\u001b[0m, dtype: object\n"
      ]
     },
     "metadata": {},
     "output_type": "display_data"
    }
   ],
   "source": [
    "from datetime import datetime\n",
    "\n",
    "#sep = datetime(2024,10,30,9,30,30)\n",
    "series = df.iloc[0]\n",
    "rprint(series)"
   ]
  },
  {
   "cell_type": "code",
   "execution_count": 10,
   "metadata": {},
   "outputs": [
    {
     "data": {
      "text/plain": [
       "np.int64(1170)"
      ]
     },
     "execution_count": 10,
     "metadata": {},
     "output_type": "execute_result"
    }
   ],
   "source": [
    "high_price = df[\"high\"]\n",
    "high_price.agg('count')"
   ]
  },
  {
   "cell_type": "markdown",
   "metadata": {},
   "source": [
    "Some common aggregation methods and properties for working with a series of daily high prices"
   ]
  },
  {
   "cell_type": "code",
   "execution_count": 11,
   "metadata": {},
   "outputs": [
    {
     "data": {
      "text/html": [
       "<pre style=\"white-space:pre;overflow-x:auto;line-height:normal;font-family:Menlo,'DejaVu Sans Mono',consolas,'Courier New',monospace\">index value of max <span style=\"color: #008080; text-decoration-color: #008080; font-weight: bold\">1055</span>\n",
       "</pre>\n"
      ],
      "text/plain": [
       "index value of max \u001b[1;36m1055\u001b[0m\n"
      ]
     },
     "metadata": {},
     "output_type": "display_data"
    },
    {
     "data": {
      "text/html": [
       "<pre style=\"white-space:pre;overflow-x:auto;line-height:normal;font-family:Menlo,'DejaVu Sans Mono',consolas,'Courier New',monospace\">max price <span style=\"color: #008080; text-decoration-color: #008080; font-weight: bold\">488.54</span>\n",
       "</pre>\n"
      ],
      "text/plain": [
       "max price \u001b[1;36m488.54\u001b[0m\n"
      ]
     },
     "metadata": {},
     "output_type": "display_data"
    },
    {
     "data": {
      "text/html": [
       "<pre style=\"white-space:pre;overflow-x:auto;line-height:normal;font-family:Menlo,'DejaVu Sans Mono',consolas,'Courier New',monospace\">stddev <span style=\"color: #008080; text-decoration-color: #008080; font-weight: bold\">73.696344603912</span>\n",
       "</pre>\n"
      ],
      "text/plain": [
       "stddev \u001b[1;36m73.696344603912\u001b[0m\n"
      ]
     },
     "metadata": {},
     "output_type": "display_data"
    },
    {
     "data": {
      "text/html": [
       "<pre style=\"white-space:pre;overflow-x:auto;line-height:normal;font-family:Menlo,'DejaVu Sans Mono',consolas,'Courier New',monospace\">unbiased variance <span style=\"color: #008080; text-decoration-color: #008080; font-weight: bold\">5431.151207978548</span>\n",
       "</pre>\n"
      ],
      "text/plain": [
       "unbiased variance \u001b[1;36m5431.151207978548\u001b[0m\n"
      ]
     },
     "metadata": {},
     "output_type": "display_data"
    },
    {
     "data": {
      "text/html": [
       "<pre style=\"white-space:pre;overflow-x:auto;line-height:normal;font-family:Menlo,'DejaVu Sans Mono',consolas,'Courier New',monospace\">unbiased skew <span style=\"color: #008080; text-decoration-color: #008080; font-weight: bold\">1.2918330738953079</span>\n",
       "</pre>\n"
      ],
      "text/plain": [
       "unbiased skew \u001b[1;36m1.2918330738953079\u001b[0m\n"
      ]
     },
     "metadata": {},
     "output_type": "display_data"
    },
    {
     "data": {
      "text/html": [
       "<pre style=\"white-space:pre;overflow-x:auto;line-height:normal;font-family:Menlo,'DejaVu Sans Mono',consolas,'Courier New',monospace\">average high price <span style=\"color: #008080; text-decoration-color: #008080; font-weight: bold\">247.56705128205124</span>\n",
       "</pre>\n"
      ],
      "text/plain": [
       "average high price \u001b[1;36m247.56705128205124\u001b[0m\n"
      ]
     },
     "metadata": {},
     "output_type": "display_data"
    },
    {
     "data": {
      "text/html": [
       "<pre style=\"white-space:pre;overflow-x:auto;line-height:normal;font-family:Menlo,'DejaVu Sans Mono',consolas,'Courier New',monospace\">high price series <span style=\"color: #008080; text-decoration-color: #008080; font-weight: bold\">0</span>       <span style=\"color: #008080; text-decoration-color: #008080; font-weight: bold\">217.65</span>\n",
       "<span style=\"color: #008080; text-decoration-color: #008080; font-weight: bold\">1</span>       <span style=\"color: #008080; text-decoration-color: #008080; font-weight: bold\">217.50</span>\n",
       "<span style=\"color: #008080; text-decoration-color: #008080; font-weight: bold\">2</span>       <span style=\"color: #008080; text-decoration-color: #008080; font-weight: bold\">211.17</span>\n",
       "<span style=\"color: #008080; text-decoration-color: #008080; font-weight: bold\">3</span>       <span style=\"color: #008080; text-decoration-color: #008080; font-weight: bold\">204.59</span>\n",
       "<span style=\"color: #008080; text-decoration-color: #008080; font-weight: bold\">4</span>       <span style=\"color: #008080; text-decoration-color: #008080; font-weight: bold\">208.00</span>\n",
       "         <span style=\"color: #808000; text-decoration-color: #808000\">...</span>  \n",
       "<span style=\"color: #008080; text-decoration-color: #008080; font-weight: bold\">1165</span>    <span style=\"color: #008080; text-decoration-color: #008080; font-weight: bold\">357.07</span>\n",
       "<span style=\"color: #008080; text-decoration-color: #008080; font-weight: bold\">1166</span>    <span style=\"color: #008080; text-decoration-color: #008080; font-weight: bold\">356.90</span>\n",
       "<span style=\"color: #008080; text-decoration-color: #008080; font-weight: bold\">1167</span>    <span style=\"color: #008080; text-decoration-color: #008080; font-weight: bold\">362.00</span>\n",
       "<span style=\"color: #008080; text-decoration-color: #008080; font-weight: bold\">1168</span>    <span style=\"color: #008080; text-decoration-color: #008080; font-weight: bold\">354.60</span>\n",
       "<span style=\"color: #008080; text-decoration-color: #008080; font-weight: bold\">1169</span>    <span style=\"color: #008080; text-decoration-color: #008080; font-weight: bold\">356.44</span>\n",
       "Name: high, Length: <span style=\"color: #008080; text-decoration-color: #008080; font-weight: bold\">1170</span>, dtype: float64\n",
       "</pre>\n"
      ],
      "text/plain": [
       "high price series \u001b[1;36m0\u001b[0m       \u001b[1;36m217.65\u001b[0m\n",
       "\u001b[1;36m1\u001b[0m       \u001b[1;36m217.50\u001b[0m\n",
       "\u001b[1;36m2\u001b[0m       \u001b[1;36m211.17\u001b[0m\n",
       "\u001b[1;36m3\u001b[0m       \u001b[1;36m204.59\u001b[0m\n",
       "\u001b[1;36m4\u001b[0m       \u001b[1;36m208.00\u001b[0m\n",
       "         \u001b[33m...\u001b[0m  \n",
       "\u001b[1;36m1165\u001b[0m    \u001b[1;36m357.07\u001b[0m\n",
       "\u001b[1;36m1166\u001b[0m    \u001b[1;36m356.90\u001b[0m\n",
       "\u001b[1;36m1167\u001b[0m    \u001b[1;36m362.00\u001b[0m\n",
       "\u001b[1;36m1168\u001b[0m    \u001b[1;36m354.60\u001b[0m\n",
       "\u001b[1;36m1169\u001b[0m    \u001b[1;36m356.44\u001b[0m\n",
       "Name: high, Length: \u001b[1;36m1170\u001b[0m, dtype: float64\n"
      ]
     },
     "metadata": {},
     "output_type": "display_data"
    },
    {
     "data": {
      "text/html": [
       "<pre style=\"white-space:pre;overflow-x:auto;line-height:normal;font-family:Menlo,'DejaVu Sans Mono',consolas,'Courier New',monospace\">number of bytes <span style=\"color: #008080; text-decoration-color: #008080; font-weight: bold\">9360</span>\n",
       "</pre>\n"
      ],
      "text/plain": [
       "number of bytes \u001b[1;36m9360\u001b[0m\n"
      ]
     },
     "metadata": {},
     "output_type": "display_data"
    },
    {
     "data": {
      "text/html": [
       "<pre style=\"white-space:pre;overflow-x:auto;line-height:normal;font-family:Menlo,'DejaVu Sans Mono',consolas,'Courier New',monospace\">memory usage <span style=\"color: #008080; text-decoration-color: #008080; font-weight: bold\">9492</span>\n",
       "</pre>\n"
      ],
      "text/plain": [
       "memory usage \u001b[1;36m9492\u001b[0m\n"
      ]
     },
     "metadata": {},
     "output_type": "display_data"
    }
   ],
   "source": [
    "rprint(\"index value of max\", high_price.agg('idxmax')) # index value of max\n",
    "rprint(\"max price\", high_price.max()) # max\n",
    "rprint(\"stddev\",high_price.std()) # stddev\n",
    "rprint(\"unbiased variance\",high_price.var()) # unbiased variance\n",
    "rprint(\"unbiased skew\", high_price.skew())\n",
    "rprint(\"average high price\", high_price.mean())\n",
    "rprint(\"high price series\", high_price)\n",
    "rprint(\"number of bytes\", high_price.nbytes)\n",
    "rprint(\"memory usage\", high_price.memory_usage())\n"
   ]
  },
  {
   "cell_type": "markdown",
   "metadata": {},
   "source": [
    "### Is the price above or below the mean?"
   ]
  },
  {
   "cell_type": "code",
   "execution_count": 12,
   "metadata": {},
   "outputs": [
    {
     "name": "stdout",
     "output_type": "stream",
     "text": [
      "113 μs ± 906 ns per loop (mean ± std. dev. of 7 runs, 10,000 loops each)\n"
     ]
    }
   ],
   "source": [
    "%%timeit\n",
    "import numpy as np\n",
    "mean = high_price.mean()\n",
    "def gt_mean(val):\n",
    "    if val < mean:\n",
    "        return \"low\"\n",
    "    if val > mean:\n",
    "        return \"high\"\n",
    "    return \"equal\"\n",
    "(high_price.apply(gt_mean))\n",
    "\n"
   ]
  },
  {
   "cell_type": "markdown",
   "metadata": {},
   "source": [
    "### Is the value above or below the mean using `.case_when()`"
   ]
  },
  {
   "cell_type": "code",
   "execution_count": 13,
   "metadata": {},
   "outputs": [
    {
     "name": "stdout",
     "output_type": "stream",
     "text": [
      "307 μs ± 3.22 μs per loop (mean ± std. dev. of 7 runs, 1,000 loops each)\n"
     ]
    }
   ],
   "source": [
    "%%timeit\n",
    "import pandas as pd\n",
    "low_price = df[\"low\"]\n",
    "mean = low_price.mean()\n",
    "(low_price\n",
    " .case_when(caselist=[\n",
    "     (low_price.gt(mean), \"high\"), \n",
    "     (low_price.lt(mean), \"low\"),\n",
    "     (pd.Series(True,index=low_price.index), \"Equal\")]))\n"
   ]
  },
  {
   "cell_type": "code",
   "execution_count": null,
   "metadata": {},
   "outputs": [],
   "source": []
  }
 ],
 "metadata": {
  "kernelspec": {
   "display_name": "Python 3",
   "language": "python",
   "name": "python3"
  },
  "language_info": {
   "codemirror_mode": {
    "name": "ipython",
    "version": 3
   },
   "file_extension": ".py",
   "mimetype": "text/x-python",
   "name": "python",
   "nbconvert_exporter": "python",
   "pygments_lexer": "ipython3",
   "version": "3.12.7"
  }
 },
 "nbformat": 4,
 "nbformat_minor": 2
}
