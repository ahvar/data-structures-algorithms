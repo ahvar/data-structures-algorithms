{
 "cells": [
  {
   "cell_type": "code",
   "execution_count": 2,
   "metadata": {},
   "outputs": [
    {
     "data": {
      "text/html": [
       "<pre style=\"white-space:pre;overflow-x:auto;line-height:normal;font-family:Menlo,'DejaVu Sans Mono',consolas,'Courier New',monospace\"><span style=\"font-weight: bold\">[</span>\n",
       "    <span style=\"color: #008000; text-decoration-color: #008000\">'Event'</span>,\n",
       "    <span style=\"color: #008000; text-decoration-color: #008000\">'util'</span>,\n",
       "    <span style=\"color: #008000; text-decoration-color: #008000\">'Client'</span>,\n",
       "    <span style=\"color: #008000; text-decoration-color: #008000\">'Bag'</span>,\n",
       "    <span style=\"color: #008000; text-decoration-color: #008000\">'Bond'</span>,\n",
       "    <span style=\"color: #008000; text-decoration-color: #008000\">'CFD'</span>,\n",
       "    <span style=\"color: #008000; text-decoration-color: #008000\">'ComboLeg'</span>,\n",
       "    <span style=\"color: #008000; text-decoration-color: #008000\">'Commodity'</span>,\n",
       "    <span style=\"color: #008000; text-decoration-color: #008000\">'ContFuture'</span>,\n",
       "    <span style=\"color: #008000; text-decoration-color: #008000\">'Contract'</span>,\n",
       "    <span style=\"color: #008000; text-decoration-color: #008000\">'ContractDescription'</span>,\n",
       "    <span style=\"color: #008000; text-decoration-color: #008000\">'ContractDetails'</span>,\n",
       "    <span style=\"color: #008000; text-decoration-color: #008000\">'Crypto'</span>,\n",
       "    <span style=\"color: #008000; text-decoration-color: #008000\">'DeltaNeutralContract'</span>,\n",
       "    <span style=\"color: #008000; text-decoration-color: #008000\">'Forex'</span>,\n",
       "    <span style=\"color: #008000; text-decoration-color: #008000\">'Future'</span>,\n",
       "    <span style=\"color: #008000; text-decoration-color: #008000\">'FuturesOption'</span>,\n",
       "    <span style=\"color: #008000; text-decoration-color: #008000\">'Index'</span>,\n",
       "    <span style=\"color: #008000; text-decoration-color: #008000\">'MutualFund'</span>,\n",
       "    <span style=\"color: #008000; text-decoration-color: #008000\">'Option'</span>,\n",
       "    <span style=\"color: #008000; text-decoration-color: #008000\">'ScanData'</span>,\n",
       "    <span style=\"color: #008000; text-decoration-color: #008000\">'Stock'</span>,\n",
       "    <span style=\"color: #008000; text-decoration-color: #008000\">'TagValue'</span>,\n",
       "    <span style=\"color: #008000; text-decoration-color: #008000\">'Warrant'</span>,\n",
       "    <span style=\"color: #008000; text-decoration-color: #008000\">'FlexError'</span>,\n",
       "    <span style=\"color: #008000; text-decoration-color: #008000\">'FlexReport'</span>,\n",
       "    <span style=\"color: #008000; text-decoration-color: #008000\">'IB'</span>,\n",
       "    <span style=\"color: #008000; text-decoration-color: #008000\">'IBC'</span>,\n",
       "    <span style=\"color: #008000; text-decoration-color: #008000\">'Watchdog'</span>,\n",
       "    <span style=\"color: #008000; text-decoration-color: #008000\">'AccountValue'</span>,\n",
       "    <span style=\"color: #008000; text-decoration-color: #008000\">'BarData'</span>,\n",
       "    <span style=\"color: #008000; text-decoration-color: #008000\">'BarDataList'</span>,\n",
       "    <span style=\"color: #008000; text-decoration-color: #008000\">'CommissionReport'</span>,\n",
       "    <span style=\"color: #008000; text-decoration-color: #008000\">'ConnectionStats'</span>,\n",
       "    <span style=\"color: #008000; text-decoration-color: #008000\">'DOMLevel'</span>,\n",
       "    <span style=\"color: #008000; text-decoration-color: #008000\">'DepthMktDataDescription'</span>,\n",
       "    <span style=\"color: #008000; text-decoration-color: #008000\">'Dividends'</span>,\n",
       "    <span style=\"color: #008000; text-decoration-color: #008000\">'Execution'</span>,\n",
       "    <span style=\"color: #008000; text-decoration-color: #008000\">'ExecutionFilter'</span>,\n",
       "    <span style=\"color: #008000; text-decoration-color: #008000\">'FamilyCode'</span>,\n",
       "    <span style=\"color: #008000; text-decoration-color: #008000\">'Fill'</span>,\n",
       "    <span style=\"color: #008000; text-decoration-color: #008000\">'FundamentalRatios'</span>,\n",
       "    <span style=\"color: #008000; text-decoration-color: #008000\">'HistogramData'</span>,\n",
       "    <span style=\"color: #008000; text-decoration-color: #008000\">'HistoricalNews'</span>,\n",
       "    <span style=\"color: #008000; text-decoration-color: #008000\">'HistoricalTick'</span>,\n",
       "    <span style=\"color: #008000; text-decoration-color: #008000\">'HistoricalTickBidAsk'</span>,\n",
       "    <span style=\"color: #008000; text-decoration-color: #008000\">'HistoricalTickLast'</span>,\n",
       "    <span style=\"color: #008000; text-decoration-color: #008000\">'HistoricalSchedule'</span>,\n",
       "    <span style=\"color: #008000; text-decoration-color: #008000\">'HistoricalSession'</span>,\n",
       "    <span style=\"color: #008000; text-decoration-color: #008000\">'MktDepthData'</span>,\n",
       "    <span style=\"color: #008000; text-decoration-color: #008000\">'NewsArticle'</span>,\n",
       "    <span style=\"color: #008000; text-decoration-color: #008000\">'NewsBulletin'</span>,\n",
       "    <span style=\"color: #008000; text-decoration-color: #008000\">'NewsProvider'</span>,\n",
       "    <span style=\"color: #008000; text-decoration-color: #008000\">'NewsTick'</span>,\n",
       "    <span style=\"color: #008000; text-decoration-color: #008000\">'OptionChain'</span>,\n",
       "    <span style=\"color: #008000; text-decoration-color: #008000\">'OptionComputation'</span>,\n",
       "    <span style=\"color: #008000; text-decoration-color: #008000\">'PnL'</span>,\n",
       "    <span style=\"color: #008000; text-decoration-color: #008000\">'PnLSingle'</span>,\n",
       "    <span style=\"color: #008000; text-decoration-color: #008000\">'PortfolioItem'</span>,\n",
       "    <span style=\"color: #008000; text-decoration-color: #008000\">'Position'</span>,\n",
       "    <span style=\"color: #008000; text-decoration-color: #008000\">'PriceIncrement'</span>,\n",
       "    <span style=\"color: #008000; text-decoration-color: #008000\">'RealTimeBar'</span>,\n",
       "    <span style=\"color: #008000; text-decoration-color: #008000\">'RealTimeBarList'</span>,\n",
       "    <span style=\"color: #008000; text-decoration-color: #008000\">'ScanDataList'</span>,\n",
       "    <span style=\"color: #008000; text-decoration-color: #008000\">'ScannerSubscription'</span>,\n",
       "    <span style=\"color: #008000; text-decoration-color: #008000\">'SmartComponent'</span>,\n",
       "    <span style=\"color: #008000; text-decoration-color: #008000\">'SoftDollarTier'</span>,\n",
       "    <span style=\"color: #008000; text-decoration-color: #008000\">'TickAttrib'</span>,\n",
       "    <span style=\"color: #008000; text-decoration-color: #008000\">'TickAttribBidAsk'</span>,\n",
       "    <span style=\"color: #008000; text-decoration-color: #008000\">'TickAttribLast'</span>,\n",
       "    <span style=\"color: #008000; text-decoration-color: #008000\">'TickByTickAllLast'</span>,\n",
       "    <span style=\"color: #008000; text-decoration-color: #008000\">'WshEventData'</span>,\n",
       "    <span style=\"color: #008000; text-decoration-color: #008000\">'TickByTickBidAsk'</span>,\n",
       "    <span style=\"color: #008000; text-decoration-color: #008000\">'TickByTickMidPoint'</span>,\n",
       "    <span style=\"color: #008000; text-decoration-color: #008000\">'TickData'</span>,\n",
       "    <span style=\"color: #008000; text-decoration-color: #008000\">'TradeLogEntry'</span>,\n",
       "    <span style=\"color: #008000; text-decoration-color: #008000\">'BracketOrder'</span>,\n",
       "    <span style=\"color: #008000; text-decoration-color: #008000\">'ExecutionCondition'</span>,\n",
       "    <span style=\"color: #008000; text-decoration-color: #008000\">'LimitOrder'</span>,\n",
       "    <span style=\"color: #008000; text-decoration-color: #008000\">'MarginCondition'</span>,\n",
       "    <span style=\"color: #008000; text-decoration-color: #008000\">'MarketOrder'</span>,\n",
       "    <span style=\"color: #008000; text-decoration-color: #008000\">'Order'</span>,\n",
       "    <span style=\"color: #008000; text-decoration-color: #008000\">'OrderComboLeg'</span>,\n",
       "    <span style=\"color: #008000; text-decoration-color: #008000\">'OrderCondition'</span>,\n",
       "    <span style=\"color: #008000; text-decoration-color: #008000\">'OrderState'</span>,\n",
       "    <span style=\"color: #008000; text-decoration-color: #008000\">'OrderStatus'</span>,\n",
       "    <span style=\"color: #008000; text-decoration-color: #008000\">'PercentChangeCondition'</span>,\n",
       "    <span style=\"color: #008000; text-decoration-color: #008000\">'PriceCondition'</span>,\n",
       "    <span style=\"color: #008000; text-decoration-color: #008000\">'StopLimitOrder'</span>,\n",
       "    <span style=\"color: #008000; text-decoration-color: #008000\">'StopOrder'</span>,\n",
       "    <span style=\"color: #008000; text-decoration-color: #008000\">'TimeCondition'</span>,\n",
       "    <span style=\"color: #008000; text-decoration-color: #008000\">'Trade'</span>,\n",
       "    <span style=\"color: #008000; text-decoration-color: #008000\">'VolumeCondition'</span>,\n",
       "    <span style=\"color: #008000; text-decoration-color: #008000\">'Ticker'</span>,\n",
       "    <span style=\"color: #008000; text-decoration-color: #008000\">'__version__'</span>,\n",
       "    <span style=\"color: #008000; text-decoration-color: #008000\">'__version_info__'</span>,\n",
       "    <span style=\"color: #008000; text-decoration-color: #008000\">'RequestError'</span>,\n",
       "    <span style=\"color: #008000; text-decoration-color: #008000\">'Wrapper'</span>,\n",
       "    <span style=\"color: #008000; text-decoration-color: #008000\">'StartupFetch'</span>,\n",
       "    <span style=\"color: #008000; text-decoration-color: #008000\">'StartupFetchALL'</span>,\n",
       "    <span style=\"color: #008000; text-decoration-color: #008000\">'StartupFetchNONE'</span>\n",
       "<span style=\"font-weight: bold\">]</span>\n",
       "</pre>\n"
      ],
      "text/plain": [
       "\u001b[1m[\u001b[0m\n",
       "    \u001b[32m'Event'\u001b[0m,\n",
       "    \u001b[32m'util'\u001b[0m,\n",
       "    \u001b[32m'Client'\u001b[0m,\n",
       "    \u001b[32m'Bag'\u001b[0m,\n",
       "    \u001b[32m'Bond'\u001b[0m,\n",
       "    \u001b[32m'CFD'\u001b[0m,\n",
       "    \u001b[32m'ComboLeg'\u001b[0m,\n",
       "    \u001b[32m'Commodity'\u001b[0m,\n",
       "    \u001b[32m'ContFuture'\u001b[0m,\n",
       "    \u001b[32m'Contract'\u001b[0m,\n",
       "    \u001b[32m'ContractDescription'\u001b[0m,\n",
       "    \u001b[32m'ContractDetails'\u001b[0m,\n",
       "    \u001b[32m'Crypto'\u001b[0m,\n",
       "    \u001b[32m'DeltaNeutralContract'\u001b[0m,\n",
       "    \u001b[32m'Forex'\u001b[0m,\n",
       "    \u001b[32m'Future'\u001b[0m,\n",
       "    \u001b[32m'FuturesOption'\u001b[0m,\n",
       "    \u001b[32m'Index'\u001b[0m,\n",
       "    \u001b[32m'MutualFund'\u001b[0m,\n",
       "    \u001b[32m'Option'\u001b[0m,\n",
       "    \u001b[32m'ScanData'\u001b[0m,\n",
       "    \u001b[32m'Stock'\u001b[0m,\n",
       "    \u001b[32m'TagValue'\u001b[0m,\n",
       "    \u001b[32m'Warrant'\u001b[0m,\n",
       "    \u001b[32m'FlexError'\u001b[0m,\n",
       "    \u001b[32m'FlexReport'\u001b[0m,\n",
       "    \u001b[32m'IB'\u001b[0m,\n",
       "    \u001b[32m'IBC'\u001b[0m,\n",
       "    \u001b[32m'Watchdog'\u001b[0m,\n",
       "    \u001b[32m'AccountValue'\u001b[0m,\n",
       "    \u001b[32m'BarData'\u001b[0m,\n",
       "    \u001b[32m'BarDataList'\u001b[0m,\n",
       "    \u001b[32m'CommissionReport'\u001b[0m,\n",
       "    \u001b[32m'ConnectionStats'\u001b[0m,\n",
       "    \u001b[32m'DOMLevel'\u001b[0m,\n",
       "    \u001b[32m'DepthMktDataDescription'\u001b[0m,\n",
       "    \u001b[32m'Dividends'\u001b[0m,\n",
       "    \u001b[32m'Execution'\u001b[0m,\n",
       "    \u001b[32m'ExecutionFilter'\u001b[0m,\n",
       "    \u001b[32m'FamilyCode'\u001b[0m,\n",
       "    \u001b[32m'Fill'\u001b[0m,\n",
       "    \u001b[32m'FundamentalRatios'\u001b[0m,\n",
       "    \u001b[32m'HistogramData'\u001b[0m,\n",
       "    \u001b[32m'HistoricalNews'\u001b[0m,\n",
       "    \u001b[32m'HistoricalTick'\u001b[0m,\n",
       "    \u001b[32m'HistoricalTickBidAsk'\u001b[0m,\n",
       "    \u001b[32m'HistoricalTickLast'\u001b[0m,\n",
       "    \u001b[32m'HistoricalSchedule'\u001b[0m,\n",
       "    \u001b[32m'HistoricalSession'\u001b[0m,\n",
       "    \u001b[32m'MktDepthData'\u001b[0m,\n",
       "    \u001b[32m'NewsArticle'\u001b[0m,\n",
       "    \u001b[32m'NewsBulletin'\u001b[0m,\n",
       "    \u001b[32m'NewsProvider'\u001b[0m,\n",
       "    \u001b[32m'NewsTick'\u001b[0m,\n",
       "    \u001b[32m'OptionChain'\u001b[0m,\n",
       "    \u001b[32m'OptionComputation'\u001b[0m,\n",
       "    \u001b[32m'PnL'\u001b[0m,\n",
       "    \u001b[32m'PnLSingle'\u001b[0m,\n",
       "    \u001b[32m'PortfolioItem'\u001b[0m,\n",
       "    \u001b[32m'Position'\u001b[0m,\n",
       "    \u001b[32m'PriceIncrement'\u001b[0m,\n",
       "    \u001b[32m'RealTimeBar'\u001b[0m,\n",
       "    \u001b[32m'RealTimeBarList'\u001b[0m,\n",
       "    \u001b[32m'ScanDataList'\u001b[0m,\n",
       "    \u001b[32m'ScannerSubscription'\u001b[0m,\n",
       "    \u001b[32m'SmartComponent'\u001b[0m,\n",
       "    \u001b[32m'SoftDollarTier'\u001b[0m,\n",
       "    \u001b[32m'TickAttrib'\u001b[0m,\n",
       "    \u001b[32m'TickAttribBidAsk'\u001b[0m,\n",
       "    \u001b[32m'TickAttribLast'\u001b[0m,\n",
       "    \u001b[32m'TickByTickAllLast'\u001b[0m,\n",
       "    \u001b[32m'WshEventData'\u001b[0m,\n",
       "    \u001b[32m'TickByTickBidAsk'\u001b[0m,\n",
       "    \u001b[32m'TickByTickMidPoint'\u001b[0m,\n",
       "    \u001b[32m'TickData'\u001b[0m,\n",
       "    \u001b[32m'TradeLogEntry'\u001b[0m,\n",
       "    \u001b[32m'BracketOrder'\u001b[0m,\n",
       "    \u001b[32m'ExecutionCondition'\u001b[0m,\n",
       "    \u001b[32m'LimitOrder'\u001b[0m,\n",
       "    \u001b[32m'MarginCondition'\u001b[0m,\n",
       "    \u001b[32m'MarketOrder'\u001b[0m,\n",
       "    \u001b[32m'Order'\u001b[0m,\n",
       "    \u001b[32m'OrderComboLeg'\u001b[0m,\n",
       "    \u001b[32m'OrderCondition'\u001b[0m,\n",
       "    \u001b[32m'OrderState'\u001b[0m,\n",
       "    \u001b[32m'OrderStatus'\u001b[0m,\n",
       "    \u001b[32m'PercentChangeCondition'\u001b[0m,\n",
       "    \u001b[32m'PriceCondition'\u001b[0m,\n",
       "    \u001b[32m'StopLimitOrder'\u001b[0m,\n",
       "    \u001b[32m'StopOrder'\u001b[0m,\n",
       "    \u001b[32m'TimeCondition'\u001b[0m,\n",
       "    \u001b[32m'Trade'\u001b[0m,\n",
       "    \u001b[32m'VolumeCondition'\u001b[0m,\n",
       "    \u001b[32m'Ticker'\u001b[0m,\n",
       "    \u001b[32m'__version__'\u001b[0m,\n",
       "    \u001b[32m'__version_info__'\u001b[0m,\n",
       "    \u001b[32m'RequestError'\u001b[0m,\n",
       "    \u001b[32m'Wrapper'\u001b[0m,\n",
       "    \u001b[32m'StartupFetch'\u001b[0m,\n",
       "    \u001b[32m'StartupFetchALL'\u001b[0m,\n",
       "    \u001b[32m'StartupFetchNONE'\u001b[0m\n",
       "\u001b[1m]\u001b[0m\n"
      ]
     },
     "metadata": {},
     "output_type": "display_data"
    }
   ],
   "source": [
    "import ib_async\n",
    "from rich import print as rprint\n",
    "rprint(ib_async.__all__)"
   ]
  },
  {
   "cell_type": "code",
   "execution_count": 3,
   "metadata": {},
   "outputs": [],
   "source": [
    "from ib_async import *\n",
    "util.startLoop()"
   ]
  },
  {
   "cell_type": "code",
   "execution_count": 4,
   "metadata": {},
   "outputs": [
    {
     "name": "stderr",
     "output_type": "stream",
     "text": [
      "Error 321, reqId -1: Error validating request.-'cr' : cause - The API interface is currently in Read-Only mode.\n",
      "Error 321, reqId -1: Error validating request.-'b2' : cause - The API interface is currently in Read-Only mode.\n",
      "open orders request timed out\n",
      "completed orders request timed out\n"
     ]
    },
    {
     "data": {
      "text/plain": [
       "<IB connected to 127.0.0.1:4002 clientId=1>"
      ]
     },
     "execution_count": 4,
     "metadata": {},
     "output_type": "execute_result"
    },
    {
     "name": "stderr",
     "output_type": "stream",
     "text": [
      "Error 1100, reqId -1: Connectivity between IBKR and Trader Workstation has been lost.\n",
      "Error 1102, reqId -1: Connectivity between IBKR and Trader Workstation has been restored - data maintained. All data farms are connected: usfarm; ushmds; secdefnj.\n",
      "Error 1100, reqId -1: Connectivity between IBKR and Trader Workstation has been lost.\n",
      "Error 1102, reqId -1: Connectivity between IBKR and Trader Workstation has been restored - data maintained. All data farms are connected: usfarm; ushmds; secdefnj.\n",
      "Error 1100, reqId -1: Connectivity between IBKR and Trader Workstation has been lost.\n",
      "Error 1102, reqId -1: Connectivity between IBKR and Trader Workstation has been restored - data maintained. All data farms are connected: usfarm; ushmds; secdefnj.\n"
     ]
    }
   ],
   "source": [
    "ib = IB()\n",
    "ib.connect('127.0.0.1', 4002, clientId=1)"
   ]
  },
  {
   "cell_type": "code",
   "execution_count": 5,
   "metadata": {},
   "outputs": [
    {
     "data": {
      "text/plain": [
       "[AccountValue(account='DU1433635', tag='NetLiquidationByCurrency', value='265250.87', currency='BASE', modelCode='')]"
      ]
     },
     "execution_count": 5,
     "metadata": {},
     "output_type": "execute_result"
    }
   ],
   "source": [
    "[v for v in ib.accountValues() if v.tag == 'NetLiquidationByCurrency' and v.currency == 'BASE']"
   ]
  },
  {
   "cell_type": "code",
   "execution_count": 9,
   "metadata": {},
   "outputs": [
    {
     "data": {
      "text/html": [
       "<pre style=\"white-space:pre;overflow-x:auto;line-height:normal;font-family:Menlo,'DejaVu Sans Mono',consolas,'Courier New',monospace\"><span style=\"color: #800080; text-decoration-color: #800080; font-weight: bold\">Contract</span><span style=\"font-weight: bold\">(</span><span style=\"color: #808000; text-decoration-color: #808000\">secType</span>=<span style=\"color: #008000; text-decoration-color: #008000\">'STK'</span>, <span style=\"color: #808000; text-decoration-color: #808000\">conId</span>=<span style=\"color: #008080; text-decoration-color: #008080; font-weight: bold\">76792991</span>, <span style=\"color: #808000; text-decoration-color: #808000\">symbol</span>=<span style=\"color: #008000; text-decoration-color: #008000\">'TSLA'</span>, <span style=\"color: #808000; text-decoration-color: #808000\">exchange</span>=<span style=\"color: #008000; text-decoration-color: #008000\">'SMART'</span>, <span style=\"color: #808000; text-decoration-color: #808000\">primaryExchange</span>=<span style=\"color: #008000; text-decoration-color: #008000\">'NASDAQ'</span>, <span style=\"color: #808000; text-decoration-color: #808000\">currency</span>=<span style=\"color: #008000; text-decoration-color: #008000\">'USD'</span>, \n",
       "<span style=\"color: #808000; text-decoration-color: #808000\">localSymbol</span>=<span style=\"color: #008000; text-decoration-color: #008000\">'TSLA'</span>, <span style=\"color: #808000; text-decoration-color: #808000\">tradingClass</span>=<span style=\"color: #008000; text-decoration-color: #008000\">'NMS'</span><span style=\"font-weight: bold\">)</span>\n",
       "</pre>\n"
      ],
      "text/plain": [
       "\u001b[1;35mContract\u001b[0m\u001b[1m(\u001b[0m\u001b[33msecType\u001b[0m=\u001b[32m'STK'\u001b[0m, \u001b[33mconId\u001b[0m=\u001b[1;36m76792991\u001b[0m, \u001b[33msymbol\u001b[0m=\u001b[32m'TSLA'\u001b[0m, \u001b[33mexchange\u001b[0m=\u001b[32m'SMART'\u001b[0m, \u001b[33mprimaryExchange\u001b[0m=\u001b[32m'NASDAQ'\u001b[0m, \u001b[33mcurrency\u001b[0m=\u001b[32m'USD'\u001b[0m, \n",
       "\u001b[33mlocalSymbol\u001b[0m=\u001b[32m'TSLA'\u001b[0m, \u001b[33mtradingClass\u001b[0m=\u001b[32m'NMS'\u001b[0m\u001b[1m)\u001b[0m\n"
      ]
     },
     "metadata": {},
     "output_type": "display_data"
    },
    {
     "data": {
      "text/plain": [
       "[None]"
      ]
     },
     "execution_count": 9,
     "metadata": {},
     "output_type": "execute_result"
    }
   ],
   "source": [
    "tsla = Stock('TSLA', 'SMART', 'USD')\n",
    "tsla_details = ib.reqContractDetails(tsla)\n",
    "[rprint(tsla_detail.contract) for tsla_detail in tsla_details]\n",
    "\n",
    "\n"
   ]
  },
  {
   "cell_type": "code",
   "execution_count": 11,
   "metadata": {},
   "outputs": [
    {
     "data": {
      "text/html": [
       "<div>\n",
       "<style scoped>\n",
       "    .dataframe tbody tr th:only-of-type {\n",
       "        vertical-align: middle;\n",
       "    }\n",
       "\n",
       "    .dataframe tbody tr th {\n",
       "        vertical-align: top;\n",
       "    }\n",
       "\n",
       "    .dataframe thead th {\n",
       "        text-align: right;\n",
       "    }\n",
       "</style>\n",
       "<table border=\"1\" class=\"dataframe\">\n",
       "  <thead>\n",
       "    <tr style=\"text-align: right;\">\n",
       "      <th></th>\n",
       "      <th>contract</th>\n",
       "      <th>marketName</th>\n",
       "      <th>minTick</th>\n",
       "      <th>orderTypes</th>\n",
       "      <th>validExchanges</th>\n",
       "      <th>priceMagnifier</th>\n",
       "      <th>underConId</th>\n",
       "      <th>longName</th>\n",
       "      <th>contractMonth</th>\n",
       "      <th>industry</th>\n",
       "      <th>...</th>\n",
       "      <th>callable</th>\n",
       "      <th>putable</th>\n",
       "      <th>coupon</th>\n",
       "      <th>convertible</th>\n",
       "      <th>maturity</th>\n",
       "      <th>issueDate</th>\n",
       "      <th>nextOptionDate</th>\n",
       "      <th>nextOptionType</th>\n",
       "      <th>nextOptionPartial</th>\n",
       "      <th>notes</th>\n",
       "    </tr>\n",
       "  </thead>\n",
       "  <tbody>\n",
       "    <tr>\n",
       "      <th>0</th>\n",
       "      <td>Contract(secType='STK', conId=76792991, symbol...</td>\n",
       "      <td>NMS</td>\n",
       "      <td>0.01</td>\n",
       "      <td>ACTIVETIM,AD,ADJUST,ALERT,ALGO,ALLOC,AON,AVGCO...</td>\n",
       "      <td>SMART,AMEX,NYSE,CBOE,PHLX,ISE,CHX,ARCA,NASDAQ,...</td>\n",
       "      <td>1</td>\n",
       "      <td>0</td>\n",
       "      <td>TESLA INC</td>\n",
       "      <td></td>\n",
       "      <td>Consumer, Cyclical</td>\n",
       "      <td>...</td>\n",
       "      <td>False</td>\n",
       "      <td>False</td>\n",
       "      <td>0</td>\n",
       "      <td>False</td>\n",
       "      <td></td>\n",
       "      <td></td>\n",
       "      <td></td>\n",
       "      <td></td>\n",
       "      <td>False</td>\n",
       "      <td></td>\n",
       "    </tr>\n",
       "  </tbody>\n",
       "</table>\n",
       "<p>1 rows × 44 columns</p>\n",
       "</div>"
      ],
      "text/plain": [
       "                                            contract marketName  minTick  \\\n",
       "0  Contract(secType='STK', conId=76792991, symbol...        NMS     0.01   \n",
       "\n",
       "                                          orderTypes  \\\n",
       "0  ACTIVETIM,AD,ADJUST,ALERT,ALGO,ALLOC,AON,AVGCO...   \n",
       "\n",
       "                                      validExchanges  priceMagnifier  \\\n",
       "0  SMART,AMEX,NYSE,CBOE,PHLX,ISE,CHX,ARCA,NASDAQ,...               1   \n",
       "\n",
       "   underConId   longName contractMonth            industry  ... callable  \\\n",
       "0           0  TESLA INC                Consumer, Cyclical  ...    False   \n",
       "\n",
       "  putable coupon convertible maturity issueDate  nextOptionDate  \\\n",
       "0   False      0       False                                      \n",
       "\n",
       "   nextOptionType  nextOptionPartial notes  \n",
       "0                              False        \n",
       "\n",
       "[1 rows x 44 columns]"
      ]
     },
     "execution_count": 11,
     "metadata": {},
     "output_type": "execute_result"
    }
   ],
   "source": [
    "util.df(tsla_details)"
   ]
  },
  {
   "cell_type": "code",
   "execution_count": 13,
   "metadata": {},
   "outputs": [
    {
     "data": {
      "text/plain": [
       "Stock(conId=76792991, symbol='TSLA', exchange='SMART', primaryExchange='NASDAQ', currency='USD', localSymbol='TSLA', tradingClass='NMS')"
      ]
     },
     "execution_count": 13,
     "metadata": {},
     "output_type": "execute_result"
    }
   ],
   "source": [
    "tsla\n",
    "ib.qualifyContracts(tsla)\n",
    "tsla"
   ]
  },
  {
   "cell_type": "code",
   "execution_count": 15,
   "metadata": {},
   "outputs": [],
   "source": [
    "ib.reqHeadTimeStamp(tsla,whatToShow='TRADES', useRTH=True)\n",
    "bars = ib.reqHistoricalData(tsla,endDateTime='', durationStr='60 D', barSizeSetting='1 hour', whatToShow='TRADES',useRTH=True, formatDate=1)"
   ]
  },
  {
   "cell_type": "code",
   "execution_count": 16,
   "metadata": {},
   "outputs": [
    {
     "data": {
      "text/html": [
       "<div>\n",
       "<style scoped>\n",
       "    .dataframe tbody tr th:only-of-type {\n",
       "        vertical-align: middle;\n",
       "    }\n",
       "\n",
       "    .dataframe tbody tr th {\n",
       "        vertical-align: top;\n",
       "    }\n",
       "\n",
       "    .dataframe thead th {\n",
       "        text-align: right;\n",
       "    }\n",
       "</style>\n",
       "<table border=\"1\" class=\"dataframe\">\n",
       "  <thead>\n",
       "    <tr style=\"text-align: right;\">\n",
       "      <th></th>\n",
       "      <th>date</th>\n",
       "      <th>open</th>\n",
       "      <th>high</th>\n",
       "      <th>low</th>\n",
       "      <th>close</th>\n",
       "      <th>volume</th>\n",
       "      <th>average</th>\n",
       "      <th>barCount</th>\n",
       "    </tr>\n",
       "  </thead>\n",
       "  <tbody>\n",
       "    <tr>\n",
       "      <th>0</th>\n",
       "      <td>2024-09-30 09:30:00-04:00</td>\n",
       "      <td>259.02</td>\n",
       "      <td>264.86</td>\n",
       "      <td>258.10</td>\n",
       "      <td>263.03</td>\n",
       "      <td>11357080.0</td>\n",
       "      <td>262.508</td>\n",
       "      <td>41882</td>\n",
       "    </tr>\n",
       "    <tr>\n",
       "      <th>1</th>\n",
       "      <td>2024-09-30 10:00:00-04:00</td>\n",
       "      <td>262.98</td>\n",
       "      <td>264.32</td>\n",
       "      <td>256.81</td>\n",
       "      <td>257.46</td>\n",
       "      <td>14484736.0</td>\n",
       "      <td>259.979</td>\n",
       "      <td>53890</td>\n",
       "    </tr>\n",
       "    <tr>\n",
       "      <th>2</th>\n",
       "      <td>2024-09-30 11:00:00-04:00</td>\n",
       "      <td>257.51</td>\n",
       "      <td>261.00</td>\n",
       "      <td>256.92</td>\n",
       "      <td>259.89</td>\n",
       "      <td>8410414.0</td>\n",
       "      <td>258.769</td>\n",
       "      <td>32162</td>\n",
       "    </tr>\n",
       "    <tr>\n",
       "      <th>3</th>\n",
       "      <td>2024-09-30 12:00:00-04:00</td>\n",
       "      <td>259.91</td>\n",
       "      <td>261.48</td>\n",
       "      <td>259.40</td>\n",
       "      <td>259.52</td>\n",
       "      <td>5308751.0</td>\n",
       "      <td>260.563</td>\n",
       "      <td>19726</td>\n",
       "    </tr>\n",
       "    <tr>\n",
       "      <th>4</th>\n",
       "      <td>2024-09-30 13:00:00-04:00</td>\n",
       "      <td>259.51</td>\n",
       "      <td>260.27</td>\n",
       "      <td>258.34</td>\n",
       "      <td>260.10</td>\n",
       "      <td>4134569.0</td>\n",
       "      <td>259.230</td>\n",
       "      <td>15159</td>\n",
       "    </tr>\n",
       "  </tbody>\n",
       "</table>\n",
       "</div>"
      ],
      "text/plain": [
       "                       date    open    high     low   close      volume  \\\n",
       "0 2024-09-30 09:30:00-04:00  259.02  264.86  258.10  263.03  11357080.0   \n",
       "1 2024-09-30 10:00:00-04:00  262.98  264.32  256.81  257.46  14484736.0   \n",
       "2 2024-09-30 11:00:00-04:00  257.51  261.00  256.92  259.89   8410414.0   \n",
       "3 2024-09-30 12:00:00-04:00  259.91  261.48  259.40  259.52   5308751.0   \n",
       "4 2024-09-30 13:00:00-04:00  259.51  260.27  258.34  260.10   4134569.0   \n",
       "\n",
       "   average  barCount  \n",
       "0  262.508     41882  \n",
       "1  259.979     53890  \n",
       "2  258.769     32162  \n",
       "3  260.563     19726  \n",
       "4  259.230     15159  "
      ]
     },
     "metadata": {},
     "output_type": "display_data"
    },
    {
     "data": {
      "text/html": [
       "<div>\n",
       "<style scoped>\n",
       "    .dataframe tbody tr th:only-of-type {\n",
       "        vertical-align: middle;\n",
       "    }\n",
       "\n",
       "    .dataframe tbody tr th {\n",
       "        vertical-align: top;\n",
       "    }\n",
       "\n",
       "    .dataframe thead th {\n",
       "        text-align: right;\n",
       "    }\n",
       "</style>\n",
       "<table border=\"1\" class=\"dataframe\">\n",
       "  <thead>\n",
       "    <tr style=\"text-align: right;\">\n",
       "      <th></th>\n",
       "      <th>date</th>\n",
       "      <th>open</th>\n",
       "      <th>high</th>\n",
       "      <th>low</th>\n",
       "      <th>close</th>\n",
       "      <th>volume</th>\n",
       "      <th>average</th>\n",
       "      <th>barCount</th>\n",
       "    </tr>\n",
       "  </thead>\n",
       "  <tbody>\n",
       "    <tr>\n",
       "      <th>410</th>\n",
       "      <td>2024-12-23 09:30:00-05:00</td>\n",
       "      <td>431.00</td>\n",
       "      <td>432.80</td>\n",
       "      <td>422.07</td>\n",
       "      <td>427.89</td>\n",
       "      <td>8929648.0</td>\n",
       "      <td>426.693</td>\n",
       "      <td>40918</td>\n",
       "    </tr>\n",
       "    <tr>\n",
       "      <th>411</th>\n",
       "      <td>2024-12-23 10:00:00-05:00</td>\n",
       "      <td>427.90</td>\n",
       "      <td>429.55</td>\n",
       "      <td>415.41</td>\n",
       "      <td>429.31</td>\n",
       "      <td>10916016.0</td>\n",
       "      <td>423.484</td>\n",
       "      <td>47370</td>\n",
       "    </tr>\n",
       "    <tr>\n",
       "      <th>412</th>\n",
       "      <td>2024-12-23 11:00:00-05:00</td>\n",
       "      <td>429.33</td>\n",
       "      <td>434.51</td>\n",
       "      <td>428.61</td>\n",
       "      <td>431.12</td>\n",
       "      <td>8933383.0</td>\n",
       "      <td>431.864</td>\n",
       "      <td>34464</td>\n",
       "    </tr>\n",
       "    <tr>\n",
       "      <th>413</th>\n",
       "      <td>2024-12-23 12:00:00-05:00</td>\n",
       "      <td>431.18</td>\n",
       "      <td>432.54</td>\n",
       "      <td>427.35</td>\n",
       "      <td>432.44</td>\n",
       "      <td>4787565.0</td>\n",
       "      <td>430.272</td>\n",
       "      <td>19827</td>\n",
       "    </tr>\n",
       "    <tr>\n",
       "      <th>414</th>\n",
       "      <td>2024-12-23 13:00:00-05:00</td>\n",
       "      <td>432.44</td>\n",
       "      <td>433.50</td>\n",
       "      <td>432.10</td>\n",
       "      <td>433.08</td>\n",
       "      <td>386940.0</td>\n",
       "      <td>433.014</td>\n",
       "      <td>1639</td>\n",
       "    </tr>\n",
       "  </tbody>\n",
       "</table>\n",
       "</div>"
      ],
      "text/plain": [
       "                         date    open    high     low   close      volume  \\\n",
       "410 2024-12-23 09:30:00-05:00  431.00  432.80  422.07  427.89   8929648.0   \n",
       "411 2024-12-23 10:00:00-05:00  427.90  429.55  415.41  429.31  10916016.0   \n",
       "412 2024-12-23 11:00:00-05:00  429.33  434.51  428.61  431.12   8933383.0   \n",
       "413 2024-12-23 12:00:00-05:00  431.18  432.54  427.35  432.44   4787565.0   \n",
       "414 2024-12-23 13:00:00-05:00  432.44  433.50  432.10  433.08    386940.0   \n",
       "\n",
       "     average  barCount  \n",
       "410  426.693     40918  \n",
       "411  423.484     47370  \n",
       "412  431.864     34464  \n",
       "413  430.272     19827  \n",
       "414  433.014      1639  "
      ]
     },
     "metadata": {},
     "output_type": "display_data"
    }
   ],
   "source": [
    "df = util.df(bars)\n",
    "display(df.head())\n",
    "display(df.tail())"
   ]
  },
  {
   "cell_type": "code",
   "execution_count": 31,
   "metadata": {},
   "outputs": [
    {
     "data": {
      "text/html": [
       "<pre style=\"white-space:pre;overflow-x:auto;line-height:normal;font-family:Menlo,'DejaVu Sans Mono',consolas,'Courier New',monospace\">date        <span style=\"color: #008080; text-decoration-color: #008080; font-weight: bold\">2024</span>-<span style=\"color: #008080; text-decoration-color: #008080; font-weight: bold\">09</span>-<span style=\"color: #008080; text-decoration-color: #008080; font-weight: bold\">30</span> <span style=\"color: #00ff00; text-decoration-color: #00ff00; font-weight: bold\">09:30:00</span>-<span style=\"color: #00ff00; text-decoration-color: #00ff00; font-weight: bold\">04:00</span>\n",
       "open                           <span style=\"color: #008080; text-decoration-color: #008080; font-weight: bold\">259.02</span>\n",
       "high                           <span style=\"color: #008080; text-decoration-color: #008080; font-weight: bold\">264.86</span>\n",
       "low                             <span style=\"color: #008080; text-decoration-color: #008080; font-weight: bold\">258.1</span>\n",
       "close                          <span style=\"color: #008080; text-decoration-color: #008080; font-weight: bold\">263.03</span>\n",
       "volume                     <span style=\"color: #008080; text-decoration-color: #008080; font-weight: bold\">11357080.0</span>\n",
       "average                       <span style=\"color: #008080; text-decoration-color: #008080; font-weight: bold\">262.508</span>\n",
       "barCount                        <span style=\"color: #008080; text-decoration-color: #008080; font-weight: bold\">41882</span>\n",
       "Name: <span style=\"color: #008080; text-decoration-color: #008080; font-weight: bold\">0</span>, dtype: object\n",
       "</pre>\n"
      ],
      "text/plain": [
       "date        \u001b[1;36m2024\u001b[0m-\u001b[1;36m09\u001b[0m-\u001b[1;36m30\u001b[0m \u001b[1;92m09:30:00\u001b[0m-\u001b[1;92m04:00\u001b[0m\n",
       "open                           \u001b[1;36m259.02\u001b[0m\n",
       "high                           \u001b[1;36m264.86\u001b[0m\n",
       "low                             \u001b[1;36m258.1\u001b[0m\n",
       "close                          \u001b[1;36m263.03\u001b[0m\n",
       "volume                     \u001b[1;36m11357080.0\u001b[0m\n",
       "average                       \u001b[1;36m262.508\u001b[0m\n",
       "barCount                        \u001b[1;36m41882\u001b[0m\n",
       "Name: \u001b[1;36m0\u001b[0m, dtype: object\n"
      ]
     },
     "metadata": {},
     "output_type": "display_data"
    }
   ],
   "source": [
    "from datetime import datetime\n",
    "\n",
    "#sep = datetime(2024,9,30,9,30,30)\n",
    "series = df.iloc[0]\n",
    "rprint(series)"
   ]
  },
  {
   "cell_type": "code",
   "execution_count": 34,
   "metadata": {},
   "outputs": [
    {
     "data": {
      "text/plain": [
       "np.int64(415)"
      ]
     },
     "execution_count": 34,
     "metadata": {},
     "output_type": "execute_result"
    }
   ],
   "source": [
    "high_price = df[\"high\"]\n",
    "high_price.agg('count')"
   ]
  },
  {
   "cell_type": "markdown",
   "metadata": {},
   "source": [
    "Some common aggregation methods and properties for working with a series of daily high prices"
   ]
  },
  {
   "cell_type": "code",
   "execution_count": 45,
   "metadata": {},
   "outputs": [
    {
     "data": {
      "text/html": [
       "<pre style=\"white-space:pre;overflow-x:auto;line-height:normal;font-family:Menlo,'DejaVu Sans Mono',consolas,'Courier New',monospace\">index value of max <span style=\"color: #008080; text-decoration-color: #008080; font-weight: bold\">391</span>\n",
       "</pre>\n"
      ],
      "text/plain": [
       "index value of max \u001b[1;36m391\u001b[0m\n"
      ]
     },
     "metadata": {},
     "output_type": "display_data"
    },
    {
     "data": {
      "text/html": [
       "<pre style=\"white-space:pre;overflow-x:auto;line-height:normal;font-family:Menlo,'DejaVu Sans Mono',consolas,'Courier New',monospace\">max price <span style=\"color: #008080; text-decoration-color: #008080; font-weight: bold\">488.54</span>\n",
       "</pre>\n"
      ],
      "text/plain": [
       "max price \u001b[1;36m488.54\u001b[0m\n"
      ]
     },
     "metadata": {},
     "output_type": "display_data"
    },
    {
     "data": {
      "text/html": [
       "<pre style=\"white-space:pre;overflow-x:auto;line-height:normal;font-family:Menlo,'DejaVu Sans Mono',consolas,'Courier New',monospace\">stddev <span style=\"color: #008080; text-decoration-color: #008080; font-weight: bold\">75.92005999598115</span>\n",
       "</pre>\n"
      ],
      "text/plain": [
       "stddev \u001b[1;36m75.92005999598115\u001b[0m\n"
      ]
     },
     "metadata": {},
     "output_type": "display_data"
    },
    {
     "data": {
      "text/html": [
       "<pre style=\"white-space:pre;overflow-x:auto;line-height:normal;font-family:Menlo,'DejaVu Sans Mono',consolas,'Courier New',monospace\">unbiased variance <span style=\"color: #008080; text-decoration-color: #008080; font-weight: bold\">5763.855509793377</span>\n",
       "</pre>\n"
      ],
      "text/plain": [
       "unbiased variance \u001b[1;36m5763.855509793377\u001b[0m\n"
      ]
     },
     "metadata": {},
     "output_type": "display_data"
    },
    {
     "data": {
      "text/html": [
       "<pre style=\"white-space:pre;overflow-x:auto;line-height:normal;font-family:Menlo,'DejaVu Sans Mono',consolas,'Courier New',monospace\">unbiased skew <span style=\"color: #008080; text-decoration-color: #008080; font-weight: bold\">0.4994282565893324</span>\n",
       "</pre>\n"
      ],
      "text/plain": [
       "unbiased skew \u001b[1;36m0.4994282565893324\u001b[0m\n"
      ]
     },
     "metadata": {},
     "output_type": "display_data"
    },
    {
     "data": {
      "text/html": [
       "<pre style=\"white-space:pre;overflow-x:auto;line-height:normal;font-family:Menlo,'DejaVu Sans Mono',consolas,'Courier New',monospace\">average high price <span style=\"color: #008080; text-decoration-color: #008080; font-weight: bold\">313.3170361445783</span>\n",
       "</pre>\n"
      ],
      "text/plain": [
       "average high price \u001b[1;36m313.3170361445783\u001b[0m\n"
      ]
     },
     "metadata": {},
     "output_type": "display_data"
    },
    {
     "data": {
      "text/html": [
       "<pre style=\"white-space:pre;overflow-x:auto;line-height:normal;font-family:Menlo,'DejaVu Sans Mono',consolas,'Courier New',monospace\">high price series <span style=\"color: #008080; text-decoration-color: #008080; font-weight: bold\">0</span>      <span style=\"color: #008080; text-decoration-color: #008080; font-weight: bold\">264.86</span>\n",
       "<span style=\"color: #008080; text-decoration-color: #008080; font-weight: bold\">1</span>      <span style=\"color: #008080; text-decoration-color: #008080; font-weight: bold\">264.32</span>\n",
       "<span style=\"color: #008080; text-decoration-color: #008080; font-weight: bold\">2</span>      <span style=\"color: #008080; text-decoration-color: #008080; font-weight: bold\">261.00</span>\n",
       "<span style=\"color: #008080; text-decoration-color: #008080; font-weight: bold\">3</span>      <span style=\"color: #008080; text-decoration-color: #008080; font-weight: bold\">261.48</span>\n",
       "<span style=\"color: #008080; text-decoration-color: #008080; font-weight: bold\">4</span>      <span style=\"color: #008080; text-decoration-color: #008080; font-weight: bold\">260.27</span>\n",
       "        <span style=\"color: #808000; text-decoration-color: #808000\">...</span>  \n",
       "<span style=\"color: #008080; text-decoration-color: #008080; font-weight: bold\">410</span>    <span style=\"color: #008080; text-decoration-color: #008080; font-weight: bold\">432.80</span>\n",
       "<span style=\"color: #008080; text-decoration-color: #008080; font-weight: bold\">411</span>    <span style=\"color: #008080; text-decoration-color: #008080; font-weight: bold\">429.55</span>\n",
       "<span style=\"color: #008080; text-decoration-color: #008080; font-weight: bold\">412</span>    <span style=\"color: #008080; text-decoration-color: #008080; font-weight: bold\">434.51</span>\n",
       "<span style=\"color: #008080; text-decoration-color: #008080; font-weight: bold\">413</span>    <span style=\"color: #008080; text-decoration-color: #008080; font-weight: bold\">432.54</span>\n",
       "<span style=\"color: #008080; text-decoration-color: #008080; font-weight: bold\">414</span>    <span style=\"color: #008080; text-decoration-color: #008080; font-weight: bold\">433.50</span>\n",
       "Name: high, Length: <span style=\"color: #008080; text-decoration-color: #008080; font-weight: bold\">415</span>, dtype: float64\n",
       "</pre>\n"
      ],
      "text/plain": [
       "high price series \u001b[1;36m0\u001b[0m      \u001b[1;36m264.86\u001b[0m\n",
       "\u001b[1;36m1\u001b[0m      \u001b[1;36m264.32\u001b[0m\n",
       "\u001b[1;36m2\u001b[0m      \u001b[1;36m261.00\u001b[0m\n",
       "\u001b[1;36m3\u001b[0m      \u001b[1;36m261.48\u001b[0m\n",
       "\u001b[1;36m4\u001b[0m      \u001b[1;36m260.27\u001b[0m\n",
       "        \u001b[33m...\u001b[0m  \n",
       "\u001b[1;36m410\u001b[0m    \u001b[1;36m432.80\u001b[0m\n",
       "\u001b[1;36m411\u001b[0m    \u001b[1;36m429.55\u001b[0m\n",
       "\u001b[1;36m412\u001b[0m    \u001b[1;36m434.51\u001b[0m\n",
       "\u001b[1;36m413\u001b[0m    \u001b[1;36m432.54\u001b[0m\n",
       "\u001b[1;36m414\u001b[0m    \u001b[1;36m433.50\u001b[0m\n",
       "Name: high, Length: \u001b[1;36m415\u001b[0m, dtype: float64\n"
      ]
     },
     "metadata": {},
     "output_type": "display_data"
    }
   ],
   "source": [
    "rprint(\"index value of max\", high_price.agg('idxmax')) # index value of max\n",
    "rprint(\"max price\", high_price.max()) # max\n",
    "rprint(\"stddev\",high_price.std()) # stddev\n",
    "rprint(\"unbiased variance\",high_price.var()) # unbiased variance\n",
    "rprint(\"unbiased skew\", high_price.skew())\n",
    "rprint(\"average high price\", high_price.mean())\n",
    "rprint(\"high price series\", high_price)"
   ]
  }
 ],
 "metadata": {
  "kernelspec": {
   "display_name": "envs",
   "language": "python",
   "name": "python3"
  },
  "language_info": {
   "codemirror_mode": {
    "name": "ipython",
    "version": 3
   },
   "file_extension": ".py",
   "mimetype": "text/x-python",
   "name": "python",
   "nbconvert_exporter": "python",
   "pygments_lexer": "ipython3",
   "version": "3.12.7"
  }
 },
 "nbformat": 4,
 "nbformat_minor": 2
}
