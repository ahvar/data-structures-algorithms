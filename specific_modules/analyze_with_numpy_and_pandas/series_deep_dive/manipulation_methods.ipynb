{
 "cells": [
  {
   "cell_type": "code",
   "execution_count": 2,
   "metadata": {},
   "outputs": [
    {
     "data": {
      "text/plain": [
       "420"
      ]
     },
     "execution_count": 2,
     "metadata": {},
     "output_type": "execute_result"
    }
   ],
   "source": [
    "import pandas as pd\n",
    "from rich import print as rprint\n",
    "url = 'https://github.com/mattharrison/datasets/raw/master/data/vehicles.csv.zip'\n",
    "df = pd.read_csv(url, dtype_backend='pyarrow', engine='pyarrow')\n",
    "city_mpg = df.city08\n",
    "highway_mpg = df.highway08\n",
    "len(dir(city_mpg))"
   ]
  },
  {
   "cell_type": "markdown",
   "metadata": {},
   "source": [
    "`.apply` applies function to an entire series or element-wise to every value. If it does the latter, you lose the optimized and fast storage of `numpy` because you pull data into Python. It breaks out of the fast vectorized code paths we can leverage in pandas"
   ]
  },
  {
   "cell_type": "code",
   "execution_count": 3,
   "metadata": {},
   "outputs": [
    {
     "name": "stdout",
     "output_type": "stream",
     "text": [
      "3 ms ± 16.7 μs per loop (mean ± std. dev. of 7 runs, 100 loops each)\n"
     ]
    }
   ],
   "source": [
    "%%timeit\n",
    "def gt20(val):\n",
    "    return val > 20\n",
    "\n",
    "city_mpg.apply(gt20)\n"
   ]
  },
  {
   "cell_type": "markdown",
   "metadata": {},
   "source": [
    "Use the broadcasted `.gt` method, and it runs almost 50 times faster"
   ]
  },
  {
   "cell_type": "code",
   "execution_count": 4,
   "metadata": {},
   "outputs": [
    {
     "name": "stdout",
     "output_type": "stream",
     "text": [
      "28.8 μs ± 1.3 μs per loop (mean ± std. dev. of 7 runs, 10,000 loops each)\n"
     ]
    }
   ],
   "source": [
    "%timeit city_mpg.gt(20)"
   ]
  },
  {
   "cell_type": "markdown",
   "metadata": {},
   "source": [
    "Show the top five makes and label everything else *other*"
   ]
  },
  {
   "cell_type": "code",
   "execution_count": 5,
   "metadata": {},
   "outputs": [
    {
     "data": {
      "text/plain": [
       "0        Alfa Romeo\n",
       "1           Ferrari\n",
       "2             Dodge\n",
       "3             Dodge\n",
       "4            Subaru\n",
       "            ...    \n",
       "41139        Subaru\n",
       "41140        Subaru\n",
       "41141        Subaru\n",
       "41142        Subaru\n",
       "41143        Subaru\n",
       "Name: make, Length: 41144, dtype: string[pyarrow]"
      ]
     },
     "execution_count": 5,
     "metadata": {},
     "output_type": "execute_result"
    }
   ],
   "source": [
    "make = df.make\n",
    "make"
   ]
  },
  {
   "cell_type": "code",
   "execution_count": 6,
   "metadata": {},
   "outputs": [
    {
     "data": {
      "text/plain": [
       "make\n",
       "Chevrolet                           4003\n",
       "Ford                                3371\n",
       "Dodge                               2583\n",
       "GMC                                 2494\n",
       "Toyota                              2071\n",
       "                                    ... \n",
       "Grumman Allied Industries              1\n",
       "Environmental Rsch and Devp Corp       1\n",
       "General Motors                         1\n",
       "Goldacre                               1\n",
       "Isis Imports Ltd                       1\n",
       "Name: count, Length: 136, dtype: int64[pyarrow]"
      ]
     },
     "execution_count": 6,
     "metadata": {},
     "output_type": "execute_result"
    }
   ],
   "source": [
    "make.value_counts()"
   ]
  },
  {
   "cell_type": "code",
   "execution_count": 7,
   "metadata": {},
   "outputs": [
    {
     "data": {
      "text/html": [
       "<pre style=\"white-space:pre;overflow-x:auto;line-height:normal;font-family:Menlo,'DejaVu Sans Mono',consolas,'Courier New',monospace\"><span style=\"color: #800080; text-decoration-color: #800080; font-weight: bold\">Index</span><span style=\"font-weight: bold\">([</span><span style=\"color: #008000; text-decoration-color: #008000\">'Chevrolet'</span>, <span style=\"color: #008000; text-decoration-color: #008000\">'Ford'</span>, <span style=\"color: #008000; text-decoration-color: #008000\">'Dodge'</span>, <span style=\"color: #008000; text-decoration-color: #008000\">'GMC'</span>, <span style=\"color: #008000; text-decoration-color: #008000\">'Toyota'</span><span style=\"font-weight: bold\">]</span>, <span style=\"color: #808000; text-decoration-color: #808000\">dtype</span>=<span style=\"color: #008000; text-decoration-color: #008000\">'string[pyarrow]'</span>, <span style=\"color: #808000; text-decoration-color: #808000\">name</span>=<span style=\"color: #008000; text-decoration-color: #008000\">'make'</span><span style=\"font-weight: bold\">)</span>\n",
       "</pre>\n"
      ],
      "text/plain": [
       "\u001b[1;35mIndex\u001b[0m\u001b[1m(\u001b[0m\u001b[1m[\u001b[0m\u001b[32m'Chevrolet'\u001b[0m, \u001b[32m'Ford'\u001b[0m, \u001b[32m'Dodge'\u001b[0m, \u001b[32m'GMC'\u001b[0m, \u001b[32m'Toyota'\u001b[0m\u001b[1m]\u001b[0m, \u001b[33mdtype\u001b[0m=\u001b[32m'string\u001b[0m\u001b[32m[\u001b[0m\u001b[32mpyarrow\u001b[0m\u001b[32m]\u001b[0m\u001b[32m'\u001b[0m, \u001b[33mname\u001b[0m=\u001b[32m'make'\u001b[0m\u001b[1m)\u001b[0m\n"
      ]
     },
     "metadata": {},
     "output_type": "display_data"
    }
   ],
   "source": [
    "top5 = make.value_counts().index[:5]\n",
    "rprint(top5)\n"
   ]
  },
  {
   "cell_type": "code",
   "execution_count": 8,
   "metadata": {},
   "outputs": [
    {
     "name": "stdout",
     "output_type": "stream",
     "text": [
      "19.4 ms ± 341 μs per loop (mean ± std. dev. of 7 runs, 100 loops each)\n"
     ]
    }
   ],
   "source": [
    "%%timeit\n",
    "def generalize_top5(val):\n",
    "    if val in top5:\n",
    "        return val\n",
    "    return 'Other'\n",
    "make.apply(generalize_top5)"
   ]
  },
  {
   "cell_type": "markdown",
   "metadata": {},
   "source": [
    "### Using the .where method\n",
    "This method takes a boolean array to mark where the condition is `True`. Keeps values from the series it is called on where boolean array is `True`, and if the boolean array is `False`, it uses the value of the second parameter, `Other`"
   ]
  },
  {
   "cell_type": "code",
   "execution_count": 9,
   "metadata": {},
   "outputs": [
    {
     "data": {
      "text/html": [
       "<pre style=\"white-space:pre;overflow-x:auto;line-height:normal;font-family:Menlo,'DejaVu Sans Mono',consolas,'Courier New',monospace\"><span style=\"color: #008080; text-decoration-color: #008080; font-weight: bold\">0</span>        Other\n",
       "<span style=\"color: #008080; text-decoration-color: #008080; font-weight: bold\">1</span>        Other\n",
       "<span style=\"color: #008080; text-decoration-color: #008080; font-weight: bold\">2</span>        Dodge\n",
       "<span style=\"color: #008080; text-decoration-color: #008080; font-weight: bold\">3</span>        Dodge\n",
       "<span style=\"color: #008080; text-decoration-color: #008080; font-weight: bold\">4</span>        Other\n",
       "         <span style=\"color: #808000; text-decoration-color: #808000\">...</span>  \n",
       "<span style=\"color: #008080; text-decoration-color: #008080; font-weight: bold\">41139</span>    Other\n",
       "<span style=\"color: #008080; text-decoration-color: #008080; font-weight: bold\">41140</span>    Other\n",
       "<span style=\"color: #008080; text-decoration-color: #008080; font-weight: bold\">41141</span>    Other\n",
       "<span style=\"color: #008080; text-decoration-color: #008080; font-weight: bold\">41142</span>    Other\n",
       "<span style=\"color: #008080; text-decoration-color: #008080; font-weight: bold\">41143</span>    Other\n",
       "Name: make, Length: <span style=\"color: #008080; text-decoration-color: #008080; font-weight: bold\">41144</span>, dtype: string<span style=\"font-weight: bold\">[</span>pyarrow<span style=\"font-weight: bold\">]</span>\n",
       "</pre>\n"
      ],
      "text/plain": [
       "\u001b[1;36m0\u001b[0m        Other\n",
       "\u001b[1;36m1\u001b[0m        Other\n",
       "\u001b[1;36m2\u001b[0m        Dodge\n",
       "\u001b[1;36m3\u001b[0m        Dodge\n",
       "\u001b[1;36m4\u001b[0m        Other\n",
       "         \u001b[33m...\u001b[0m  \n",
       "\u001b[1;36m41139\u001b[0m    Other\n",
       "\u001b[1;36m41140\u001b[0m    Other\n",
       "\u001b[1;36m41141\u001b[0m    Other\n",
       "\u001b[1;36m41142\u001b[0m    Other\n",
       "\u001b[1;36m41143\u001b[0m    Other\n",
       "Name: make, Length: \u001b[1;36m41144\u001b[0m, dtype: string\u001b[1m[\u001b[0mpyarrow\u001b[1m]\u001b[0m\n"
      ]
     },
     "metadata": {},
     "output_type": "display_data"
    }
   ],
   "source": [
    "rprint(make.where(make.isin(top5), other='Other'))"
   ]
  },
  {
   "cell_type": "markdown",
   "metadata": {},
   "source": [
    "In this case the `.where` method is about fifteen times faster, for this data, than using `.apply`"
   ]
  },
  {
   "cell_type": "code",
   "execution_count": 10,
   "metadata": {},
   "outputs": [
    {
     "name": "stdout",
     "output_type": "stream",
     "text": [
      "727 μs ± 2.97 μs per loop (mean ± std. dev. of 7 runs, 1,000 loops each)\n"
     ]
    }
   ],
   "source": [
    "%timeit make.where(make.isin(top5),other='Other')"
   ]
  },
  {
   "cell_type": "markdown",
   "metadata": {},
   "source": [
    "The complement of the `where` method is the `mask` method. Wherever the condition is `False` it keeps the original values; if it is `True` it replaces the value with the `other` parameter. The tilde, `~`, performs an inversion of the boolean array, switching all `True` values to `False` and vice versa"
   ]
  },
  {
   "cell_type": "code",
   "execution_count": 11,
   "metadata": {},
   "outputs": [
    {
     "data": {
      "text/plain": [
       "0        Other\n",
       "1        Other\n",
       "2        Dodge\n",
       "3        Dodge\n",
       "4        Other\n",
       "         ...  \n",
       "41139    Other\n",
       "41140    Other\n",
       "41141    Other\n",
       "41142    Other\n",
       "41143    Other\n",
       "Name: make, Length: 41144, dtype: string[pyarrow]"
      ]
     },
     "execution_count": 11,
     "metadata": {},
     "output_type": "execute_result"
    }
   ],
   "source": [
    "make.mask(~make.isin(top5),other='Other')"
   ]
  },
  {
   "cell_type": "markdown",
   "metadata": {},
   "source": [
    "Broadcast `numpy` function to entire series. `np.log` is a universal function ( *ufunc* ) and works on arrays."
   ]
  },
  {
   "cell_type": "code",
   "execution_count": 12,
   "metadata": {},
   "outputs": [
    {
     "name": "stdout",
     "output_type": "stream",
     "text": [
      "125 μs ± 66.7 ns per loop (mean ± std. dev. of 7 runs, 10,000 loops each)\n"
     ]
    }
   ],
   "source": [
    "import numpy as np\n",
    "\n",
    "np.__version__\n",
    "\n",
    "%timeit city_mpg.apply(np.log)"
   ]
  },
  {
   "cell_type": "markdown",
   "metadata": {},
   "source": [
    "Compare that with Python's math module:"
   ]
  },
  {
   "cell_type": "code",
   "execution_count": 13,
   "metadata": {},
   "outputs": [
    {
     "name": "stdout",
     "output_type": "stream",
     "text": [
      "2.72 ms ± 2.88 μs per loop (mean ± std. dev. of 7 runs, 100 loops each)\n"
     ]
    }
   ],
   "source": [
    "import math\n",
    "%timeit city_mpg.apply(math.log)"
   ]
  },
  {
   "cell_type": "markdown",
   "metadata": {},
   "source": [
    "keep the top five makes and get the top 10 for the remainder of the top ten, other for the rest"
   ]
  },
  {
   "cell_type": "code",
   "execution_count": 14,
   "metadata": {},
   "outputs": [
    {
     "data": {
      "text/plain": [
       "0        Other\n",
       "1        Other\n",
       "2        Dodge\n",
       "3        Dodge\n",
       "4        Other\n",
       "         ...  \n",
       "41139    Other\n",
       "41140    Other\n",
       "41141    Other\n",
       "41142    Other\n",
       "41143    Other\n",
       "Name: make, Length: 41144, dtype: object"
      ]
     },
     "execution_count": 14,
     "metadata": {},
     "output_type": "execute_result"
    }
   ],
   "source": [
    "vc = make.value_counts()\n",
    "top5 = vc.index[:5] # start at 0 stop at 5\n",
    "top10 = vc.index[:10] # start at 0 stop at 10\n",
    "\n",
    "def generalize(val):\n",
    "    if val in top5:\n",
    "        return val\n",
    "    elif val in top10:\n",
    "        return 'Top10'\n",
    "    else:\n",
    "        return 'Other'\n",
    "    \n",
    "make.apply(generalize)"
   ]
  },
  {
   "cell_type": "markdown",
   "metadata": {},
   "source": [
    "### `.case_when` method\n",
    "replace values where conditions are `True`\n",
    "provide list of tuples for `caselist` parameter:\n",
    "1. boolean array or function taking series and returning boolean array\n",
    "2. values when the boolean array is `True`\n",
    "3. series of boolean `True` values with `Other` as replacement value\n"
   ]
  },
  {
   "cell_type": "code",
   "execution_count": 15,
   "metadata": {},
   "outputs": [
    {
     "data": {
      "text/plain": [
       "0        Other\n",
       "1        Other\n",
       "2        Dodge\n",
       "3        Dodge\n",
       "4        Other\n",
       "         ...  \n",
       "41139    Other\n",
       "41140    Other\n",
       "41141    Other\n",
       "41142    Other\n",
       "41143    Other\n",
       "Name: make, Length: 41144, dtype: object"
      ]
     },
     "execution_count": 15,
     "metadata": {},
     "output_type": "execute_result"
    }
   ],
   "source": [
    "(make\n",
    " .case_when(caselist=[(make.isin(top5),make),\n",
    "                      (make.isin(top10),'Top10'),\n",
    "                      (pd.Series(True,index=make.index), 'Other')]))"
   ]
  },
  {
   "cell_type": "markdown",
   "metadata": {},
   "source": [
    "### Alternatively, with `.where`\n",
    "the same thing can be achieved...."
   ]
  },
  {
   "cell_type": "code",
   "execution_count": 16,
   "metadata": {},
   "outputs": [
    {
     "data": {
      "text/plain": [
       "0        Other\n",
       "1        Other\n",
       "2        Dodge\n",
       "3        Dodge\n",
       "4        Other\n",
       "         ...  \n",
       "41139    Other\n",
       "41140    Other\n",
       "41141    Other\n",
       "41142    Other\n",
       "41143    Other\n",
       "Name: make, Length: 41144, dtype: string[pyarrow]"
      ]
     },
     "execution_count": 16,
     "metadata": {},
     "output_type": "execute_result"
    }
   ],
   "source": [
    "(make\n",
    " .where(make.isin(top5), 'Top10')\n",
    " .where(make.isin(top10), 'Other'))"
   ]
  },
  {
   "cell_type": "markdown",
   "metadata": {},
   "source": [
    "### The *cylinders* column has missing values. \n"
   ]
  },
  {
   "cell_type": "code",
   "execution_count": 17,
   "metadata": {},
   "outputs": [
    {
     "data": {
      "text/plain": [
       "np.int64(206)"
      ]
     },
     "execution_count": 17,
     "metadata": {},
     "output_type": "execute_result"
    }
   ],
   "source": [
    "cyl = df.cylinders\n",
    "(cyl\n",
    " .isna()\n",
    " .sum())\n"
   ]
  },
  {
   "cell_type": "markdown",
   "metadata": {},
   "source": [
    "If we index `.loc` with a boolean array, it returns the rows where the boolean array is `True`"
   ]
  },
  {
   "cell_type": "code",
   "execution_count": 18,
   "metadata": {},
   "outputs": [
    {
     "data": {
      "text/plain": [
       "7138     Nissan\n",
       "7139     Toyota\n",
       "8143     Toyota\n",
       "8144       Ford\n",
       "8146       Ford\n",
       "          ...  \n",
       "34563     Tesla\n",
       "34564     Tesla\n",
       "34565     Tesla\n",
       "34566     Tesla\n",
       "34567     Tesla\n",
       "Name: make, Length: 206, dtype: string[pyarrow]"
      ]
     },
     "execution_count": 18,
     "metadata": {},
     "output_type": "execute_result"
    }
   ],
   "source": [
    "missing = cyl.isna()\n",
    "make.loc[missing]"
   ]
  },
  {
   "cell_type": "markdown",
   "metadata": {},
   "source": [
    "*index operation* is performed with square brackets `[ ]`\n",
    "If we index `.loc` with a boolean array, it returns rows where the boolean array is `True`\n",
    "The `.fillna` method allows user to specify replacement value for any missing data\n",
    "Operations return a new Series"
   ]
  },
  {
   "cell_type": "code",
   "execution_count": 19,
   "metadata": {},
   "outputs": [
    {
     "data": {
      "text/plain": [
       "7138     <NA>\n",
       "7139     <NA>\n",
       "8143     <NA>\n",
       "8144     <NA>\n",
       "8146     <NA>\n",
       "         ... \n",
       "34563    <NA>\n",
       "34564    <NA>\n",
       "34565    <NA>\n",
       "34566    <NA>\n",
       "34567    <NA>\n",
       "Name: cylinders, Length: 206, dtype: int64[pyarrow]"
      ]
     },
     "execution_count": 19,
     "metadata": {},
     "output_type": "execute_result"
    }
   ],
   "source": [
    "cyl[cyl.isna()]"
   ]
  },
  {
   "cell_type": "code",
   "execution_count": 20,
   "metadata": {},
   "outputs": [
    {
     "data": {
      "text/plain": [
       "7136    6\n",
       "7137    6\n",
       "7138    0\n",
       "7139    0\n",
       "7140    6\n",
       "7141    6\n",
       "Name: cylinders, dtype: int64[pyarrow]"
      ]
     },
     "execution_count": 20,
     "metadata": {},
     "output_type": "execute_result"
    }
   ],
   "source": [
    "cyl.fillna(0).loc[7136:7141]"
   ]
  },
  {
   "cell_type": "code",
   "execution_count": 21,
   "metadata": {},
   "outputs": [
    {
     "data": {
      "text/plain": [
       "0    32.0\n",
       "1    40.0\n",
       "2    <NA>\n",
       "3    42.0\n",
       "4    39.0\n",
       "5    32.0\n",
       "dtype: float[pyarrow]"
      ]
     },
     "execution_count": 21,
     "metadata": {},
     "output_type": "execute_result"
    }
   ],
   "source": [
    "temp = pd.Series([32,40,None,42,39,32], dtype='float[pyarrow]')\n",
    "temp"
   ]
  },
  {
   "cell_type": "markdown",
   "metadata": {},
   "source": [
    "### `.interpolate()` ordered data, like temperatures, to replace missing values"
   ]
  },
  {
   "cell_type": "code",
   "execution_count": 22,
   "metadata": {},
   "outputs": [
    {
     "data": {
      "text/plain": [
       "0    32.0\n",
       "1    40.0\n",
       "2    41.0\n",
       "3    42.0\n",
       "4    39.0\n",
       "5    32.0\n",
       "dtype: float[pyarrow]"
      ]
     },
     "execution_count": 22,
     "metadata": {},
     "output_type": "execute_result"
    }
   ],
   "source": [
    "temp.interpolate()"
   ]
  },
  {
   "cell_type": "markdown",
   "metadata": {},
   "source": [
    "### `.clip()` outliers in data\n",
    "The first 447 entries in `city_mpg` range from 9 - 31. Trim these values to be between 5th (11.0) and 95th (27.0) quantile"
   ]
  },
  {
   "cell_type": "code",
   "execution_count": 23,
   "metadata": {},
   "outputs": [
    {
     "data": {
      "text/plain": [
       "0      19\n",
       "1      11\n",
       "2      23\n",
       "3      11\n",
       "4      17\n",
       "       ..\n",
       "442    15\n",
       "443    15\n",
       "444    15\n",
       "445    15\n",
       "446    27\n",
       "Name: city08, Length: 447, dtype: int64[pyarrow]"
      ]
     },
     "execution_count": 23,
     "metadata": {},
     "output_type": "execute_result"
    }
   ],
   "source": [
    "(city_mpg\n",
    " .loc[:446]\n",
    " .clip(lower=city_mpg.quantile(.05),\n",
    "       upper=city_mpg.quantile(.95)))"
   ]
  },
  {
   "cell_type": "markdown",
   "metadata": {},
   "source": [
    "### Sorting values vs Sorting the index\n",
    "the `.sort_values()` method will sort values in ascending order and also rearrange the index accordingly:"
   ]
  },
  {
   "cell_type": "code",
   "execution_count": 24,
   "metadata": {},
   "outputs": [
    {
     "data": {
      "text/plain": [
       "7901       6\n",
       "21060      6\n",
       "34557      6\n",
       "35887      6\n",
       "37161      6\n",
       "        ... \n",
       "34563    138\n",
       "34564    140\n",
       "31256    150\n",
       "32599    150\n",
       "33423    150\n",
       "Name: city08, Length: 41144, dtype: int64[pyarrow]"
      ]
     },
     "execution_count": 24,
     "metadata": {},
     "output_type": "execute_result"
    }
   ],
   "source": [
    "city_mpg.sort_values()"
   ]
  },
  {
   "cell_type": "markdown",
   "metadata": {},
   "source": [
    "Because of index alignment, you can still do math operations on a sorted series"
   ]
  },
  {
   "cell_type": "code",
   "execution_count": 25,
   "metadata": {},
   "outputs": [
    {
     "data": {
      "text/plain": [
       "0        22.0\n",
       "1        11.5\n",
       "2        28.0\n",
       "3        11.0\n",
       "4        20.0\n",
       "         ... \n",
       "41139    22.5\n",
       "41140    24.0\n",
       "41141    21.0\n",
       "41142    21.0\n",
       "41143    18.5\n",
       "Length: 41144, dtype: double[pyarrow]"
      ]
     },
     "execution_count": 25,
     "metadata": {},
     "output_type": "execute_result"
    }
   ],
   "source": [
    "(city_mpg.sort_values() + highway_mpg) / 2"
   ]
  },
  {
   "cell_type": "code",
   "execution_count": 26,
   "metadata": {},
   "outputs": [
    {
     "data": {
      "text/html": [
       "<pre style=\"white-space:pre;overflow-x:auto;line-height:normal;font-family:Menlo,'DejaVu Sans Mono',consolas,'Courier New',monospace\"><span style=\"color: #008080; text-decoration-color: #008080; font-weight: bold\">0</span>        <span style=\"color: #008080; text-decoration-color: #008080; font-weight: bold\">19</span>\n",
       "<span style=\"color: #008080; text-decoration-color: #008080; font-weight: bold\">1</span>         <span style=\"color: #008080; text-decoration-color: #008080; font-weight: bold\">9</span>\n",
       "<span style=\"color: #008080; text-decoration-color: #008080; font-weight: bold\">2</span>        <span style=\"color: #008080; text-decoration-color: #008080; font-weight: bold\">23</span>\n",
       "<span style=\"color: #008080; text-decoration-color: #008080; font-weight: bold\">3</span>        <span style=\"color: #008080; text-decoration-color: #008080; font-weight: bold\">10</span>\n",
       "<span style=\"color: #008080; text-decoration-color: #008080; font-weight: bold\">4</span>        <span style=\"color: #008080; text-decoration-color: #008080; font-weight: bold\">17</span>\n",
       "         ..\n",
       "<span style=\"color: #008080; text-decoration-color: #008080; font-weight: bold\">41139</span>    <span style=\"color: #008080; text-decoration-color: #008080; font-weight: bold\">19</span>\n",
       "<span style=\"color: #008080; text-decoration-color: #008080; font-weight: bold\">41140</span>    <span style=\"color: #008080; text-decoration-color: #008080; font-weight: bold\">20</span>\n",
       "<span style=\"color: #008080; text-decoration-color: #008080; font-weight: bold\">41141</span>    <span style=\"color: #008080; text-decoration-color: #008080; font-weight: bold\">18</span>\n",
       "<span style=\"color: #008080; text-decoration-color: #008080; font-weight: bold\">41142</span>    <span style=\"color: #008080; text-decoration-color: #008080; font-weight: bold\">18</span>\n",
       "<span style=\"color: #008080; text-decoration-color: #008080; font-weight: bold\">41143</span>    <span style=\"color: #008080; text-decoration-color: #008080; font-weight: bold\">16</span>\n",
       "Name: city08, Length: <span style=\"color: #008080; text-decoration-color: #008080; font-weight: bold\">41144</span>, dtype: int64<span style=\"font-weight: bold\">[</span>pyarrow<span style=\"font-weight: bold\">]</span>\n",
       "</pre>\n"
      ],
      "text/plain": [
       "\u001b[1;36m0\u001b[0m        \u001b[1;36m19\u001b[0m\n",
       "\u001b[1;36m1\u001b[0m         \u001b[1;36m9\u001b[0m\n",
       "\u001b[1;36m2\u001b[0m        \u001b[1;36m23\u001b[0m\n",
       "\u001b[1;36m3\u001b[0m        \u001b[1;36m10\u001b[0m\n",
       "\u001b[1;36m4\u001b[0m        \u001b[1;36m17\u001b[0m\n",
       "         ..\n",
       "\u001b[1;36m41139\u001b[0m    \u001b[1;36m19\u001b[0m\n",
       "\u001b[1;36m41140\u001b[0m    \u001b[1;36m20\u001b[0m\n",
       "\u001b[1;36m41141\u001b[0m    \u001b[1;36m18\u001b[0m\n",
       "\u001b[1;36m41142\u001b[0m    \u001b[1;36m18\u001b[0m\n",
       "\u001b[1;36m41143\u001b[0m    \u001b[1;36m16\u001b[0m\n",
       "Name: city08, Length: \u001b[1;36m41144\u001b[0m, dtype: int64\u001b[1m[\u001b[0mpyarrow\u001b[1m]\u001b[0m\n"
      ]
     },
     "metadata": {},
     "output_type": "display_data"
    },
    {
     "data": {
      "text/html": [
       "<pre style=\"white-space:pre;overflow-x:auto;line-height:normal;font-family:Menlo,'DejaVu Sans Mono',consolas,'Courier New',monospace\"><span style=\"color: #008080; text-decoration-color: #008080; font-weight: bold\">7901</span>       <span style=\"color: #008080; text-decoration-color: #008080; font-weight: bold\">6</span>\n",
       "<span style=\"color: #008080; text-decoration-color: #008080; font-weight: bold\">21060</span>      <span style=\"color: #008080; text-decoration-color: #008080; font-weight: bold\">6</span>\n",
       "<span style=\"color: #008080; text-decoration-color: #008080; font-weight: bold\">34557</span>      <span style=\"color: #008080; text-decoration-color: #008080; font-weight: bold\">6</span>\n",
       "<span style=\"color: #008080; text-decoration-color: #008080; font-weight: bold\">35887</span>      <span style=\"color: #008080; text-decoration-color: #008080; font-weight: bold\">6</span>\n",
       "<span style=\"color: #008080; text-decoration-color: #008080; font-weight: bold\">37161</span>      <span style=\"color: #008080; text-decoration-color: #008080; font-weight: bold\">6</span>\n",
       "        <span style=\"color: #808000; text-decoration-color: #808000\">...</span> \n",
       "<span style=\"color: #008080; text-decoration-color: #008080; font-weight: bold\">34563</span>    <span style=\"color: #008080; text-decoration-color: #008080; font-weight: bold\">138</span>\n",
       "<span style=\"color: #008080; text-decoration-color: #008080; font-weight: bold\">34564</span>    <span style=\"color: #008080; text-decoration-color: #008080; font-weight: bold\">140</span>\n",
       "<span style=\"color: #008080; text-decoration-color: #008080; font-weight: bold\">31256</span>    <span style=\"color: #008080; text-decoration-color: #008080; font-weight: bold\">150</span>\n",
       "<span style=\"color: #008080; text-decoration-color: #008080; font-weight: bold\">32599</span>    <span style=\"color: #008080; text-decoration-color: #008080; font-weight: bold\">150</span>\n",
       "<span style=\"color: #008080; text-decoration-color: #008080; font-weight: bold\">33423</span>    <span style=\"color: #008080; text-decoration-color: #008080; font-weight: bold\">150</span>\n",
       "Name: city08, Length: <span style=\"color: #008080; text-decoration-color: #008080; font-weight: bold\">41144</span>, dtype: int64<span style=\"font-weight: bold\">[</span>pyarrow<span style=\"font-weight: bold\">]</span>\n",
       "</pre>\n"
      ],
      "text/plain": [
       "\u001b[1;36m7901\u001b[0m       \u001b[1;36m6\u001b[0m\n",
       "\u001b[1;36m21060\u001b[0m      \u001b[1;36m6\u001b[0m\n",
       "\u001b[1;36m34557\u001b[0m      \u001b[1;36m6\u001b[0m\n",
       "\u001b[1;36m35887\u001b[0m      \u001b[1;36m6\u001b[0m\n",
       "\u001b[1;36m37161\u001b[0m      \u001b[1;36m6\u001b[0m\n",
       "        \u001b[33m...\u001b[0m \n",
       "\u001b[1;36m34563\u001b[0m    \u001b[1;36m138\u001b[0m\n",
       "\u001b[1;36m34564\u001b[0m    \u001b[1;36m140\u001b[0m\n",
       "\u001b[1;36m31256\u001b[0m    \u001b[1;36m150\u001b[0m\n",
       "\u001b[1;36m32599\u001b[0m    \u001b[1;36m150\u001b[0m\n",
       "\u001b[1;36m33423\u001b[0m    \u001b[1;36m150\u001b[0m\n",
       "Name: city08, Length: \u001b[1;36m41144\u001b[0m, dtype: int64\u001b[1m[\u001b[0mpyarrow\u001b[1m]\u001b[0m\n"
      ]
     },
     "metadata": {},
     "output_type": "display_data"
    },
    {
     "data": {
      "text/html": [
       "<pre style=\"white-space:pre;overflow-x:auto;line-height:normal;font-family:Menlo,'DejaVu Sans Mono',consolas,'Courier New',monospace\"><span style=\"color: #008080; text-decoration-color: #008080; font-weight: bold\">0</span>        <span style=\"color: #008080; text-decoration-color: #008080; font-weight: bold\">19</span>\n",
       "<span style=\"color: #008080; text-decoration-color: #008080; font-weight: bold\">1</span>         <span style=\"color: #008080; text-decoration-color: #008080; font-weight: bold\">9</span>\n",
       "<span style=\"color: #008080; text-decoration-color: #008080; font-weight: bold\">2</span>        <span style=\"color: #008080; text-decoration-color: #008080; font-weight: bold\">23</span>\n",
       "<span style=\"color: #008080; text-decoration-color: #008080; font-weight: bold\">3</span>        <span style=\"color: #008080; text-decoration-color: #008080; font-weight: bold\">10</span>\n",
       "<span style=\"color: #008080; text-decoration-color: #008080; font-weight: bold\">4</span>        <span style=\"color: #008080; text-decoration-color: #008080; font-weight: bold\">17</span>\n",
       "         ..\n",
       "<span style=\"color: #008080; text-decoration-color: #008080; font-weight: bold\">41139</span>    <span style=\"color: #008080; text-decoration-color: #008080; font-weight: bold\">19</span>\n",
       "<span style=\"color: #008080; text-decoration-color: #008080; font-weight: bold\">41140</span>    <span style=\"color: #008080; text-decoration-color: #008080; font-weight: bold\">20</span>\n",
       "<span style=\"color: #008080; text-decoration-color: #008080; font-weight: bold\">41141</span>    <span style=\"color: #008080; text-decoration-color: #008080; font-weight: bold\">18</span>\n",
       "<span style=\"color: #008080; text-decoration-color: #008080; font-weight: bold\">41142</span>    <span style=\"color: #008080; text-decoration-color: #008080; font-weight: bold\">18</span>\n",
       "<span style=\"color: #008080; text-decoration-color: #008080; font-weight: bold\">41143</span>    <span style=\"color: #008080; text-decoration-color: #008080; font-weight: bold\">16</span>\n",
       "Name: city08, Length: <span style=\"color: #008080; text-decoration-color: #008080; font-weight: bold\">41144</span>, dtype: int64<span style=\"font-weight: bold\">[</span>pyarrow<span style=\"font-weight: bold\">]</span>\n",
       "</pre>\n"
      ],
      "text/plain": [
       "\u001b[1;36m0\u001b[0m        \u001b[1;36m19\u001b[0m\n",
       "\u001b[1;36m1\u001b[0m         \u001b[1;36m9\u001b[0m\n",
       "\u001b[1;36m2\u001b[0m        \u001b[1;36m23\u001b[0m\n",
       "\u001b[1;36m3\u001b[0m        \u001b[1;36m10\u001b[0m\n",
       "\u001b[1;36m4\u001b[0m        \u001b[1;36m17\u001b[0m\n",
       "         ..\n",
       "\u001b[1;36m41139\u001b[0m    \u001b[1;36m19\u001b[0m\n",
       "\u001b[1;36m41140\u001b[0m    \u001b[1;36m20\u001b[0m\n",
       "\u001b[1;36m41141\u001b[0m    \u001b[1;36m18\u001b[0m\n",
       "\u001b[1;36m41142\u001b[0m    \u001b[1;36m18\u001b[0m\n",
       "\u001b[1;36m41143\u001b[0m    \u001b[1;36m16\u001b[0m\n",
       "Name: city08, Length: \u001b[1;36m41144\u001b[0m, dtype: int64\u001b[1m[\u001b[0mpyarrow\u001b[1m]\u001b[0m\n"
      ]
     },
     "metadata": {},
     "output_type": "display_data"
    }
   ],
   "source": [
    "rprint(city_mpg)\n",
    "rprint(city_mpg.sort_values())\n",
    "rprint(city_mpg.sort_values().sort_index())"
   ]
  },
  {
   "cell_type": "markdown",
   "metadata": {},
   "source": [
    "The `.drop_duplicates()` method will remove values appearing more than once...you can keep the first, or last, or `False` to remove all duplicates, including the initial value"
   ]
  },
  {
   "cell_type": "code",
   "execution_count": 27,
   "metadata": {},
   "outputs": [
    {
     "data": {
      "text/plain": [
       "0         19\n",
       "1          9\n",
       "2         23\n",
       "3         10\n",
       "4         17\n",
       "        ... \n",
       "34364    127\n",
       "34409    114\n",
       "34564    140\n",
       "34565    115\n",
       "34566    104\n",
       "Name: city08, Length: 105, dtype: int64[pyarrow]"
      ]
     },
     "execution_count": 27,
     "metadata": {},
     "output_type": "execute_result"
    }
   ],
   "source": [
    "city_mpg.drop_duplicates()"
   ]
  },
  {
   "cell_type": "markdown",
   "metadata": {},
   "source": [
    "### `.rank()`\n",
    "Returns a Series that keeps the original index but uses the ranks of values from the original Series. customize ranking with the `method` parameter. By default, if two values are the same, their rank will be the average of the positions they take\n",
    "\n",
    "specify `min` to put equal values in the same rank, but the next rank will be the number of values that were equal"
   ]
  },
  {
   "cell_type": "code",
   "execution_count": 28,
   "metadata": {},
   "outputs": [
    {
     "data": {
      "text/plain": [
       "0        27060.5\n",
       "1          235.5\n",
       "2        35830.0\n",
       "3          607.5\n",
       "4        19484.0\n",
       "          ...   \n",
       "41139    27060.5\n",
       "41140    29719.5\n",
       "41141    23528.0\n",
       "41142    23528.0\n",
       "41143    15479.0\n",
       "Name: city08, Length: 41144, dtype: double[pyarrow]"
      ]
     },
     "execution_count": 28,
     "metadata": {},
     "output_type": "execute_result"
    }
   ],
   "source": [
    "city_mpg.rank()"
   ]
  },
  {
   "cell_type": "code",
   "execution_count": 29,
   "metadata": {},
   "outputs": [
    {
     "data": {
      "text/plain": [
       "0        25555\n",
       "1          136\n",
       "2        35119\n",
       "3          336\n",
       "4        17467\n",
       "         ...  \n",
       "41139    25555\n",
       "41140    28567\n",
       "41141    21502\n",
       "41142    21502\n",
       "41143    13492\n",
       "Name: city08, Length: 41144, dtype: uint64[pyarrow]"
      ]
     },
     "execution_count": 29,
     "metadata": {},
     "output_type": "execute_result"
    }
   ],
   "source": [
    "city_mpg.rank(method='min')"
   ]
  },
  {
   "cell_type": "markdown",
   "metadata": {},
   "source": [
    "Or use the `dense` option to list ranks consecutively"
   ]
  },
  {
   "cell_type": "code",
   "execution_count": 30,
   "metadata": {},
   "outputs": [
    {
     "data": {
      "text/plain": [
       "0        14\n",
       "1         4\n",
       "2        18\n",
       "3         5\n",
       "4        12\n",
       "         ..\n",
       "41139    14\n",
       "41140    15\n",
       "41141    13\n",
       "41142    13\n",
       "41143    11\n",
       "Name: city08, Length: 41144, dtype: uint64[pyarrow]"
      ]
     },
     "execution_count": 30,
     "metadata": {},
     "output_type": "execute_result"
    }
   ],
   "source": [
    "city_mpg.rank(method='dense')"
   ]
  },
  {
   "cell_type": "markdown",
   "metadata": {},
   "source": [
    "### Using the `cut` function to create bins of equal width"
   ]
  },
  {
   "cell_type": "code",
   "execution_count": 31,
   "metadata": {},
   "outputs": [
    {
     "data": {
      "text/plain": [
       "0        (5.856, 20.4]\n",
       "1        (5.856, 20.4]\n",
       "2         (20.4, 34.8]\n",
       "3        (5.856, 20.4]\n",
       "4        (5.856, 20.4]\n",
       "             ...      \n",
       "41139    (5.856, 20.4]\n",
       "41140    (5.856, 20.4]\n",
       "41141    (5.856, 20.4]\n",
       "41142    (5.856, 20.4]\n",
       "41143    (5.856, 20.4]\n",
       "Name: city08, Length: 41144, dtype: category\n",
       "Categories (10, interval[float64, right]): [(5.856, 20.4] < (20.4, 34.8] < (34.8, 49.2] < (49.2, 63.6] ... (92.4, 106.8] < (106.8, 121.2] < (121.2, 135.6] < (135.6, 150.0]]"
      ]
     },
     "execution_count": 31,
     "metadata": {},
     "output_type": "execute_result"
    }
   ],
   "source": [
    "pd.cut(city_mpg,10)"
   ]
  },
  {
   "cell_type": "markdown",
   "metadata": {},
   "source": [
    "use `cut` to create specific size bins. Note the bins have a half-open interval. They do not have the start value but do include the end value. \n",
    "If `city_mpg` had values with 0 or above 150, they would be missing after binning the series"
   ]
  },
  {
   "cell_type": "code",
   "execution_count": 32,
   "metadata": {},
   "outputs": [
    {
     "data": {
      "text/plain": [
       "0        (10, 20]\n",
       "1         (0, 10]\n",
       "2        (20, 40]\n",
       "3         (0, 10]\n",
       "4        (10, 20]\n",
       "           ...   \n",
       "41139    (10, 20]\n",
       "41140    (10, 20]\n",
       "41141    (10, 20]\n",
       "41142    (10, 20]\n",
       "41143    (10, 20]\n",
       "Name: city08, Length: 41144, dtype: category\n",
       "Categories (5, interval[int64, right]): [(0, 10] < (10, 20] < (20, 40] < (40, 70] < (70, 150]]"
      ]
     },
     "execution_count": 32,
     "metadata": {},
     "output_type": "execute_result"
    }
   ],
   "source": [
    "pd.cut(city_mpg, [0,10,20,40,70,150])"
   ]
  },
  {
   "cell_type": "markdown",
   "metadata": {},
   "source": [
    "### Bin data with quantiles using `qcut`\n",
    "Ten bins with approximately equal numbers of entries in each bin (rather than each bin width being the same)"
   ]
  },
  {
   "cell_type": "code",
   "execution_count": 33,
   "metadata": {},
   "outputs": [
    {
     "data": {
      "text/plain": [
       "0         (18.0, 20.0]\n",
       "1        (5.999, 13.0]\n",
       "2         (21.0, 24.0]\n",
       "3        (5.999, 13.0]\n",
       "4         (16.0, 17.0]\n",
       "             ...      \n",
       "41139     (18.0, 20.0]\n",
       "41140     (18.0, 20.0]\n",
       "41141     (17.0, 18.0]\n",
       "41142     (17.0, 18.0]\n",
       "41143     (15.0, 16.0]\n",
       "Name: city08, Length: 41144, dtype: category\n",
       "Categories (10, interval[float64, right]): [(5.999, 13.0] < (13.0, 14.0] < (14.0, 15.0] < (15.0, 16.0] ... (18.0, 20.0] < (20.0, 21.0] < (21.0, 24.0] < (24.0, 150.0]]"
      ]
     },
     "execution_count": 33,
     "metadata": {},
     "output_type": "execute_result"
    }
   ],
   "source": [
    "pd.qcut(city_mpg,10)"
   ]
  },
  {
   "cell_type": "code",
   "execution_count": 34,
   "metadata": {},
   "outputs": [
    {
     "data": {
      "text/plain": [
       "0        7\n",
       "1        1\n",
       "2        9\n",
       "3        1\n",
       "4        5\n",
       "        ..\n",
       "41139    7\n",
       "41140    7\n",
       "41141    6\n",
       "41142    6\n",
       "41143    4\n",
       "Name: city08, Length: 41144, dtype: category\n",
       "Categories (10, int64): [1 < 2 < 3 < 4 ... 7 < 8 < 9 < 10]"
      ]
     },
     "execution_count": 34,
     "metadata": {},
     "output_type": "execute_result"
    }
   ],
   "source": [
    "pd.qcut(city_mpg,10,labels=list(range(1,11)))"
   ]
  },
  {
   "cell_type": "markdown",
   "metadata": {},
   "source": [
    "### Indexing Operations"
   ]
  },
  {
   "cell_type": "code",
   "execution_count": 36,
   "metadata": {},
   "outputs": [
    {
     "data": {
      "text/plain": [
       "Alfa Romeo    19\n",
       "Ferrari        9\n",
       "Dodge         23\n",
       "Dodge         10\n",
       "Subaru        17\n",
       "              ..\n",
       "Subaru        19\n",
       "Subaru        20\n",
       "Subaru        18\n",
       "Subaru        18\n",
       "Subaru        16\n",
       "Name: city08, Length: 41144, dtype: int64[pyarrow]"
      ]
     },
     "execution_count": 36,
     "metadata": {},
     "output_type": "execute_result"
    }
   ],
   "source": [
    "city2 = city_mpg.rename(make.to_dict())\n",
    "city2"
   ]
  },
  {
   "cell_type": "markdown",
   "metadata": {},
   "source": [
    "The `.rename` method accepts a series, a scalar, or a function that takes an old label and returns a new label or sequence. When we pass in a series, and the index values are the same, the values from the series that we passed in are used as the index. Careful though! if you pass a scalar value (a single string) innto `.rename`, the index will stay the same, but the `.name` attribute of the series will update"
   ]
  },
  {
   "cell_type": "code",
   "execution_count": 39,
   "metadata": {},
   "outputs": [
    {
     "data": {
      "text/plain": [
       "Alfa Romeo    19\n",
       "Ferrari        9\n",
       "Dodge         23\n",
       "Dodge         10\n",
       "Subaru        17\n",
       "              ..\n",
       "Subaru        19\n",
       "Subaru        20\n",
       "Subaru        18\n",
       "Subaru        18\n",
       "Subaru        16\n",
       "Name: city08, Length: 41144, dtype: int64[pyarrow]"
      ]
     },
     "execution_count": 39,
     "metadata": {},
     "output_type": "execute_result"
    }
   ],
   "source": [
    "city2.index\n",
    "city2.rename(make)"
   ]
  },
  {
   "cell_type": "markdown",
   "metadata": {},
   "source": [
    "### Resetting the Index\n",
    "set the index to monotonic increasing, that is, unique integers starting at zero. Returns a dataframe"
   ]
  },
  {
   "cell_type": "code",
   "execution_count": 52,
   "metadata": {},
   "outputs": [
    {
     "name": "stdout",
     "output_type": "stream",
     "text": [
      "            index  city08\n",
      "0      Alfa Romeo      19\n",
      "1         Ferrari       9\n",
      "2           Dodge      23\n",
      "3           Dodge      10\n",
      "4          Subaru      17\n",
      "...           ...     ...\n",
      "41139      Subaru      19\n",
      "41140      Subaru      20\n",
      "41141      Subaru      18\n",
      "41142      Subaru      18\n",
      "41143      Subaru      16\n",
      "\n",
      "[41144 rows x 2 columns]\n"
     ]
    }
   ],
   "source": [
    "print(city2.reset_index())"
   ]
  },
  {
   "cell_type": "markdown",
   "metadata": {},
   "source": [
    "Drop the current index and return a Series"
   ]
  },
  {
   "cell_type": "code",
   "execution_count": 53,
   "metadata": {},
   "outputs": [
    {
     "data": {
      "text/plain": [
       "0        19\n",
       "1         9\n",
       "2        23\n",
       "3        10\n",
       "4        17\n",
       "         ..\n",
       "41139    19\n",
       "41140    20\n",
       "41141    18\n",
       "41142    18\n",
       "41143    16\n",
       "Name: city08, Length: 41144, dtype: int64[pyarrow]"
      ]
     },
     "execution_count": 53,
     "metadata": {},
     "output_type": "execute_result"
    }
   ],
   "source": [
    "city2.reset_index(drop=True)"
   ]
  },
  {
   "cell_type": "markdown",
   "metadata": {},
   "source": [
    "`.loc` attribute deals with index `labels`. It allows you to pull out pieces of the series. You can pass:\n",
    "1. A scalar value of one of the index labels\n",
    "2. A list of index labels\n",
    "3. A slice of labels (closed interval so it includes the stop value)\n",
    "4. An index\n",
    "5. A boolean array (same index labels as the series, but with True or False values)\n",
    "6. A function that accepts a series and returns one of the above\n",
    "\n",
    "If you pass in a scalar with the label of an index, and there are duplicate labels, it will return a series, but if there is only one value for that label, it will return a scalar."
   ]
  },
  {
   "cell_type": "code",
   "execution_count": 54,
   "metadata": {},
   "outputs": [
    {
     "data": {
      "text/plain": [
       "Subaru    17\n",
       "Subaru    21\n",
       "Subaru    22\n",
       "Subaru    19\n",
       "Subaru    20\n",
       "          ..\n",
       "Subaru    19\n",
       "Subaru    20\n",
       "Subaru    18\n",
       "Subaru    18\n",
       "Subaru    16\n",
       "Name: city08, Length: 885, dtype: int64[pyarrow]"
      ]
     },
     "execution_count": 54,
     "metadata": {},
     "output_type": "execute_result"
    }
   ],
   "source": [
    "city2.loc['Subaru']"
   ]
  },
  {
   "cell_type": "code",
   "execution_count": 55,
   "metadata": {},
   "outputs": [
    {
     "data": {
      "text/plain": [
       "Fisker    20\n",
       "Name: city08, dtype: int64[pyarrow]"
      ]
     },
     "execution_count": 55,
     "metadata": {},
     "output_type": "execute_result"
    }
   ],
   "source": [
    "city2.loc[['Fisker']]"
   ]
  },
  {
   "cell_type": "code",
   "execution_count": 56,
   "metadata": {},
   "outputs": [
    {
     "data": {
      "text/plain": [
       "Ferrari         9\n",
       "Ferrari        12\n",
       "Ferrari        11\n",
       "Ferrari        10\n",
       "Ferrari        11\n",
       "               ..\n",
       "Lamborghini     6\n",
       "Lamborghini     8\n",
       "Lamborghini     8\n",
       "Lamborghini     8\n",
       "Lamborghini     8\n",
       "Name: city08, Length: 357, dtype: int64[pyarrow]"
      ]
     },
     "execution_count": 56,
     "metadata": {},
     "output_type": "execute_result"
    }
   ],
   "source": [
    "city2.loc[['Ferrari', 'Lamborghini']]"
   ]
  },
  {
   "cell_type": "markdown",
   "metadata": {},
   "source": [
    "`.loc` we can use a slice with string values. First, sort the index if slicing with duplicate index labels. When slicing with `.loc`, it follows the `closed interval`. The closed interval includes both the start index and the final index. This is different than Python's list slicing behavior which includes the starting index going up but excluding the final index. This is called, `half-open interval`"
   ]
  },
  {
   "cell_type": "code",
   "execution_count": 57,
   "metadata": {},
   "outputs": [
    {
     "ename": "KeyError",
     "evalue": "\"Cannot get left slice bound for non-unique label: 'Ferrari'\"",
     "output_type": "error",
     "traceback": [
      "\u001b[0;31m---------------------------------------------------------------------------\u001b[0m",
      "\u001b[0;31mKeyError\u001b[0m                                  Traceback (most recent call last)",
      "Cell \u001b[0;32mIn[57], line 1\u001b[0m\n\u001b[0;32m----> 1\u001b[0m \u001b[43mcity2\u001b[49m\u001b[38;5;241;43m.\u001b[39;49m\u001b[43mloc\u001b[49m\u001b[43m[\u001b[49m\u001b[38;5;124;43m\"\u001b[39;49m\u001b[38;5;124;43mFerrari\u001b[39;49m\u001b[38;5;124;43m\"\u001b[39;49m\u001b[43m:\u001b[49m\u001b[38;5;124;43m\"\u001b[39;49m\u001b[38;5;124;43mLamborghini\u001b[39;49m\u001b[38;5;124;43m\"\u001b[39;49m\u001b[43m]\u001b[49m\n",
      "File \u001b[0;32m~/dev/pyreview/envs/lib/python3.12/site-packages/pandas/core/indexing.py:1191\u001b[0m, in \u001b[0;36m_LocationIndexer.__getitem__\u001b[0;34m(self, key)\u001b[0m\n\u001b[1;32m   1189\u001b[0m maybe_callable \u001b[38;5;241m=\u001b[39m com\u001b[38;5;241m.\u001b[39mapply_if_callable(key, \u001b[38;5;28mself\u001b[39m\u001b[38;5;241m.\u001b[39mobj)\n\u001b[1;32m   1190\u001b[0m maybe_callable \u001b[38;5;241m=\u001b[39m \u001b[38;5;28mself\u001b[39m\u001b[38;5;241m.\u001b[39m_check_deprecated_callable_usage(key, maybe_callable)\n\u001b[0;32m-> 1191\u001b[0m \u001b[38;5;28;01mreturn\u001b[39;00m \u001b[38;5;28;43mself\u001b[39;49m\u001b[38;5;241;43m.\u001b[39;49m\u001b[43m_getitem_axis\u001b[49m\u001b[43m(\u001b[49m\u001b[43mmaybe_callable\u001b[49m\u001b[43m,\u001b[49m\u001b[43m \u001b[49m\u001b[43maxis\u001b[49m\u001b[38;5;241;43m=\u001b[39;49m\u001b[43maxis\u001b[49m\u001b[43m)\u001b[49m\n",
      "File \u001b[0;32m~/dev/pyreview/envs/lib/python3.12/site-packages/pandas/core/indexing.py:1411\u001b[0m, in \u001b[0;36m_LocIndexer._getitem_axis\u001b[0;34m(self, key, axis)\u001b[0m\n\u001b[1;32m   1409\u001b[0m \u001b[38;5;28;01mif\u001b[39;00m \u001b[38;5;28misinstance\u001b[39m(key, \u001b[38;5;28mslice\u001b[39m):\n\u001b[1;32m   1410\u001b[0m     \u001b[38;5;28mself\u001b[39m\u001b[38;5;241m.\u001b[39m_validate_key(key, axis)\n\u001b[0;32m-> 1411\u001b[0m     \u001b[38;5;28;01mreturn\u001b[39;00m \u001b[38;5;28;43mself\u001b[39;49m\u001b[38;5;241;43m.\u001b[39;49m\u001b[43m_get_slice_axis\u001b[49m\u001b[43m(\u001b[49m\u001b[43mkey\u001b[49m\u001b[43m,\u001b[49m\u001b[43m \u001b[49m\u001b[43maxis\u001b[49m\u001b[38;5;241;43m=\u001b[39;49m\u001b[43maxis\u001b[49m\u001b[43m)\u001b[49m\n\u001b[1;32m   1412\u001b[0m \u001b[38;5;28;01melif\u001b[39;00m com\u001b[38;5;241m.\u001b[39mis_bool_indexer(key):\n\u001b[1;32m   1413\u001b[0m     \u001b[38;5;28;01mreturn\u001b[39;00m \u001b[38;5;28mself\u001b[39m\u001b[38;5;241m.\u001b[39m_getbool_axis(key, axis\u001b[38;5;241m=\u001b[39maxis)\n",
      "File \u001b[0;32m~/dev/pyreview/envs/lib/python3.12/site-packages/pandas/core/indexing.py:1443\u001b[0m, in \u001b[0;36m_LocIndexer._get_slice_axis\u001b[0;34m(self, slice_obj, axis)\u001b[0m\n\u001b[1;32m   1440\u001b[0m     \u001b[38;5;28;01mreturn\u001b[39;00m obj\u001b[38;5;241m.\u001b[39mcopy(deep\u001b[38;5;241m=\u001b[39m\u001b[38;5;28;01mFalse\u001b[39;00m)\n\u001b[1;32m   1442\u001b[0m labels \u001b[38;5;241m=\u001b[39m obj\u001b[38;5;241m.\u001b[39m_get_axis(axis)\n\u001b[0;32m-> 1443\u001b[0m indexer \u001b[38;5;241m=\u001b[39m \u001b[43mlabels\u001b[49m\u001b[38;5;241;43m.\u001b[39;49m\u001b[43mslice_indexer\u001b[49m\u001b[43m(\u001b[49m\u001b[43mslice_obj\u001b[49m\u001b[38;5;241;43m.\u001b[39;49m\u001b[43mstart\u001b[49m\u001b[43m,\u001b[49m\u001b[43m \u001b[49m\u001b[43mslice_obj\u001b[49m\u001b[38;5;241;43m.\u001b[39;49m\u001b[43mstop\u001b[49m\u001b[43m,\u001b[49m\u001b[43m \u001b[49m\u001b[43mslice_obj\u001b[49m\u001b[38;5;241;43m.\u001b[39;49m\u001b[43mstep\u001b[49m\u001b[43m)\u001b[49m\n\u001b[1;32m   1445\u001b[0m \u001b[38;5;28;01mif\u001b[39;00m \u001b[38;5;28misinstance\u001b[39m(indexer, \u001b[38;5;28mslice\u001b[39m):\n\u001b[1;32m   1446\u001b[0m     \u001b[38;5;28;01mreturn\u001b[39;00m \u001b[38;5;28mself\u001b[39m\u001b[38;5;241m.\u001b[39mobj\u001b[38;5;241m.\u001b[39m_slice(indexer, axis\u001b[38;5;241m=\u001b[39maxis)\n",
      "File \u001b[0;32m~/dev/pyreview/envs/lib/python3.12/site-packages/pandas/core/indexes/base.py:6662\u001b[0m, in \u001b[0;36mIndex.slice_indexer\u001b[0;34m(self, start, end, step)\u001b[0m\n\u001b[1;32m   6618\u001b[0m \u001b[38;5;28;01mdef\u001b[39;00m \u001b[38;5;21mslice_indexer\u001b[39m(\n\u001b[1;32m   6619\u001b[0m     \u001b[38;5;28mself\u001b[39m,\n\u001b[1;32m   6620\u001b[0m     start: Hashable \u001b[38;5;241m|\u001b[39m \u001b[38;5;28;01mNone\u001b[39;00m \u001b[38;5;241m=\u001b[39m \u001b[38;5;28;01mNone\u001b[39;00m,\n\u001b[1;32m   6621\u001b[0m     end: Hashable \u001b[38;5;241m|\u001b[39m \u001b[38;5;28;01mNone\u001b[39;00m \u001b[38;5;241m=\u001b[39m \u001b[38;5;28;01mNone\u001b[39;00m,\n\u001b[1;32m   6622\u001b[0m     step: \u001b[38;5;28mint\u001b[39m \u001b[38;5;241m|\u001b[39m \u001b[38;5;28;01mNone\u001b[39;00m \u001b[38;5;241m=\u001b[39m \u001b[38;5;28;01mNone\u001b[39;00m,\n\u001b[1;32m   6623\u001b[0m ) \u001b[38;5;241m-\u001b[39m\u001b[38;5;241m>\u001b[39m \u001b[38;5;28mslice\u001b[39m:\n\u001b[1;32m   6624\u001b[0m \u001b[38;5;250m    \u001b[39m\u001b[38;5;124;03m\"\"\"\u001b[39;00m\n\u001b[1;32m   6625\u001b[0m \u001b[38;5;124;03m    Compute the slice indexer for input labels and step.\u001b[39;00m\n\u001b[1;32m   6626\u001b[0m \n\u001b[0;32m   (...)\u001b[0m\n\u001b[1;32m   6660\u001b[0m \u001b[38;5;124;03m    slice(1, 3, None)\u001b[39;00m\n\u001b[1;32m   6661\u001b[0m \u001b[38;5;124;03m    \"\"\"\u001b[39;00m\n\u001b[0;32m-> 6662\u001b[0m     start_slice, end_slice \u001b[38;5;241m=\u001b[39m \u001b[38;5;28;43mself\u001b[39;49m\u001b[38;5;241;43m.\u001b[39;49m\u001b[43mslice_locs\u001b[49m\u001b[43m(\u001b[49m\u001b[43mstart\u001b[49m\u001b[43m,\u001b[49m\u001b[43m \u001b[49m\u001b[43mend\u001b[49m\u001b[43m,\u001b[49m\u001b[43m \u001b[49m\u001b[43mstep\u001b[49m\u001b[38;5;241;43m=\u001b[39;49m\u001b[43mstep\u001b[49m\u001b[43m)\u001b[49m\n\u001b[1;32m   6664\u001b[0m     \u001b[38;5;66;03m# return a slice\u001b[39;00m\n\u001b[1;32m   6665\u001b[0m     \u001b[38;5;28;01mif\u001b[39;00m \u001b[38;5;129;01mnot\u001b[39;00m is_scalar(start_slice):\n",
      "File \u001b[0;32m~/dev/pyreview/envs/lib/python3.12/site-packages/pandas/core/indexes/base.py:6879\u001b[0m, in \u001b[0;36mIndex.slice_locs\u001b[0;34m(self, start, end, step)\u001b[0m\n\u001b[1;32m   6877\u001b[0m start_slice \u001b[38;5;241m=\u001b[39m \u001b[38;5;28;01mNone\u001b[39;00m\n\u001b[1;32m   6878\u001b[0m \u001b[38;5;28;01mif\u001b[39;00m start \u001b[38;5;129;01mis\u001b[39;00m \u001b[38;5;129;01mnot\u001b[39;00m \u001b[38;5;28;01mNone\u001b[39;00m:\n\u001b[0;32m-> 6879\u001b[0m     start_slice \u001b[38;5;241m=\u001b[39m \u001b[38;5;28;43mself\u001b[39;49m\u001b[38;5;241;43m.\u001b[39;49m\u001b[43mget_slice_bound\u001b[49m\u001b[43m(\u001b[49m\u001b[43mstart\u001b[49m\u001b[43m,\u001b[49m\u001b[43m \u001b[49m\u001b[38;5;124;43m\"\u001b[39;49m\u001b[38;5;124;43mleft\u001b[39;49m\u001b[38;5;124;43m\"\u001b[39;49m\u001b[43m)\u001b[49m\n\u001b[1;32m   6880\u001b[0m \u001b[38;5;28;01mif\u001b[39;00m start_slice \u001b[38;5;129;01mis\u001b[39;00m \u001b[38;5;28;01mNone\u001b[39;00m:\n\u001b[1;32m   6881\u001b[0m     start_slice \u001b[38;5;241m=\u001b[39m \u001b[38;5;241m0\u001b[39m\n",
      "File \u001b[0;32m~/dev/pyreview/envs/lib/python3.12/site-packages/pandas/core/indexes/base.py:6812\u001b[0m, in \u001b[0;36mIndex.get_slice_bound\u001b[0;34m(self, label, side)\u001b[0m\n\u001b[1;32m   6810\u001b[0m     slc \u001b[38;5;241m=\u001b[39m lib\u001b[38;5;241m.\u001b[39mmaybe_booleans_to_slice(slc\u001b[38;5;241m.\u001b[39mview(\u001b[38;5;124m\"\u001b[39m\u001b[38;5;124mu1\u001b[39m\u001b[38;5;124m\"\u001b[39m))\n\u001b[1;32m   6811\u001b[0m     \u001b[38;5;28;01mif\u001b[39;00m \u001b[38;5;28misinstance\u001b[39m(slc, np\u001b[38;5;241m.\u001b[39mndarray):\n\u001b[0;32m-> 6812\u001b[0m         \u001b[38;5;28;01mraise\u001b[39;00m \u001b[38;5;167;01mKeyError\u001b[39;00m(\n\u001b[1;32m   6813\u001b[0m             \u001b[38;5;124mf\u001b[39m\u001b[38;5;124m\"\u001b[39m\u001b[38;5;124mCannot get \u001b[39m\u001b[38;5;132;01m{\u001b[39;00mside\u001b[38;5;132;01m}\u001b[39;00m\u001b[38;5;124m slice bound for non-unique \u001b[39m\u001b[38;5;124m\"\u001b[39m\n\u001b[1;32m   6814\u001b[0m             \u001b[38;5;124mf\u001b[39m\u001b[38;5;124m\"\u001b[39m\u001b[38;5;124mlabel: \u001b[39m\u001b[38;5;132;01m{\u001b[39;00m\u001b[38;5;28mrepr\u001b[39m(original_label)\u001b[38;5;132;01m}\u001b[39;00m\u001b[38;5;124m\"\u001b[39m\n\u001b[1;32m   6815\u001b[0m         )\n\u001b[1;32m   6817\u001b[0m \u001b[38;5;28;01mif\u001b[39;00m \u001b[38;5;28misinstance\u001b[39m(slc, \u001b[38;5;28mslice\u001b[39m):\n\u001b[1;32m   6818\u001b[0m     \u001b[38;5;28;01mif\u001b[39;00m side \u001b[38;5;241m==\u001b[39m \u001b[38;5;124m\"\u001b[39m\u001b[38;5;124mleft\u001b[39m\u001b[38;5;124m\"\u001b[39m:\n",
      "\u001b[0;31mKeyError\u001b[0m: \"Cannot get left slice bound for non-unique label: 'Ferrari'\""
     ]
    }
   ],
   "source": [
    "city2.loc[\"Ferrari\":\"Lamborghini\"]"
   ]
  },
  {
   "cell_type": "code",
   "execution_count": null,
   "metadata": {},
   "outputs": [
    {
     "data": {
      "text/plain": [
       "Ferrari        10\n",
       "Ferrari        13\n",
       "Ferrari        13\n",
       "Ferrari         9\n",
       "Ferrari        10\n",
       "               ..\n",
       "Lamborghini    12\n",
       "Lamborghini     9\n",
       "Lamborghini     8\n",
       "Lamborghini    13\n",
       "Lamborghini     8\n",
       "Name: city08, Length: 11210, dtype: int64[pyarrow]"
      ]
     },
     "execution_count": 49,
     "metadata": {},
     "output_type": "execute_result"
    }
   ],
   "source": [
    "city2.sort_index().loc[\"Ferrari\":\"Lamborghini\"]"
   ]
  },
  {
   "cell_type": "markdown",
   "metadata": {},
   "source": [
    "All the labels in `city2` that start with `F` \"going up\" to `J`. "
   ]
  },
  {
   "cell_type": "code",
   "execution_count": null,
   "metadata": {},
   "outputs": [
    {
     "data": {
      "text/plain": [
       "Federal Coach    15\n",
       "Federal Coach    13\n",
       "Federal Coach    13\n",
       "Federal Coach    14\n",
       "Federal Coach    13\n",
       "                 ..\n",
       "Isuzu            15\n",
       "Isuzu            15\n",
       "Isuzu            15\n",
       "Isuzu            27\n",
       "Isuzu            18\n",
       "Name: city08, Length: 9040, dtype: int64[pyarrow]"
      ]
     },
     "execution_count": 50,
     "metadata": {},
     "output_type": "execute_result"
    }
   ],
   "source": [
    "city2.sort_index().loc[\"F\":\"J\"]"
   ]
  },
  {
   "cell_type": "markdown",
   "metadata": {},
   "source": [
    "If we index into `.loc` with a simple Index with only `Dodge` in it, we get back every value for that label. Using an index is useful if we want to align a series to a new index:"
   ]
  },
  {
   "cell_type": "code",
   "execution_count": null,
   "metadata": {},
   "outputs": [
    {
     "data": {
      "text/plain": [
       "Dodge    23\n",
       "Dodge    10\n",
       "Dodge    12\n",
       "Dodge    11\n",
       "Dodge    11\n",
       "         ..\n",
       "Dodge    18\n",
       "Dodge    17\n",
       "Dodge    14\n",
       "Dodge    14\n",
       "Dodge    11\n",
       "Name: city08, Length: 2583, dtype: int64[pyarrow]"
      ]
     },
     "execution_count": 51,
     "metadata": {},
     "output_type": "execute_result"
    }
   ],
   "source": [
    "idx = pd.Index(['Dodge'])\n",
    "city2.loc[idx]"
   ]
  },
  {
   "cell_type": "markdown",
   "metadata": {},
   "source": [
    "Pass in a boolean array to `.loc`. The boolean array is a series with the same index labels as the series that you are manipulating. If you do an indexing operation off of `.loc` with a boolean array, it will return only the values where the boolean array was true."
   ]
  },
  {
   "cell_type": "code",
   "execution_count": 58,
   "metadata": {},
   "outputs": [
    {
     "data": {
      "text/plain": [
       "Alfa Romeo    False\n",
       "Ferrari       False\n",
       "Dodge         False\n",
       "Dodge         False\n",
       "Subaru        False\n",
       "              ...  \n",
       "Subaru        False\n",
       "Subaru        False\n",
       "Subaru        False\n",
       "Subaru        False\n",
       "Subaru        False\n",
       "Name: city08, Length: 41144, dtype: bool[pyarrow]"
      ]
     },
     "execution_count": 58,
     "metadata": {},
     "output_type": "execute_result"
    }
   ],
   "source": [
    "mask = city2 > 50\n",
    "mask"
   ]
  },
  {
   "cell_type": "code",
   "execution_count": 59,
   "metadata": {},
   "outputs": [
    {
     "data": {
      "text/plain": [
       "Nissan     81\n",
       "Toyota     81\n",
       "Toyota     81\n",
       "Ford       74\n",
       "Nissan     84\n",
       "         ... \n",
       "Tesla     140\n",
       "Tesla     115\n",
       "Tesla     104\n",
       "Tesla      98\n",
       "Toyota     55\n",
       "Name: city08, Length: 236, dtype: int64[pyarrow]"
      ]
     },
     "execution_count": 59,
     "metadata": {},
     "output_type": "execute_result"
    }
   ],
   "source": [
    "city2.loc[mask]"
   ]
  },
  {
   "cell_type": "markdown",
   "metadata": {},
   "source": [
    "### Use Function with .loc\n",
    "Considering a 10% increase in cost over the last year...find all the new prices that are above $3 after inflation"
   ]
  },
  {
   "cell_type": "code",
   "execution_count": 61,
   "metadata": {},
   "outputs": [
    {
     "data": {
      "text/plain": [
       "Melon      4.389\n",
       "Carrots    3.069\n",
       "dtype: float64"
      ]
     },
     "execution_count": 61,
     "metadata": {},
     "output_type": "execute_result"
    }
   ],
   "source": [
    "cost = pd.Series([1.00, 2.25, 3.99, .99, 2.79], index=['Gum', 'Cookie', 'Melon', 'Roll', 'Carrots'])\n",
    "inflation = 1.10\n",
    "(cost.mul(inflation).loc[lambda s_:s_ > 3])"
   ]
  },
  {
   "cell_type": "markdown",
   "metadata": {},
   "source": [
    "If I calculate the boolearn array before taking into account the inflation, in other words, using the old series instead of the chained intermediate values, the answer is wrong"
   ]
  },
  {
   "cell_type": "code",
   "execution_count": 62,
   "metadata": {},
   "outputs": [
    {
     "data": {
      "text/plain": [
       "Melon    4.389\n",
       "dtype: float64"
      ]
     },
     "execution_count": 62,
     "metadata": {},
     "output_type": "execute_result"
    }
   ],
   "source": [
    "cost = pd.Series([1.00, 2.25, 3.99, .99, 2.79], index=['Gum', 'Cookie', 'Melon', 'Roll', 'Carrots'])\n",
    "inflation = 1.10\n",
    "mask = cost > 3\n",
    "(cost.mul(inflation).loc[mask])"
   ]
  },
  {
   "cell_type": "markdown",
   "metadata": {},
   "source": [
    "### .iloc Attribute\n",
    "When slicing off of this attribute, we pull out items by index position. The `.iloc` attribute supports indexing with the following:\n",
    "1. scalar index position (integer)\n",
    "2. list of index positions\n",
    "3. slice of positions (half-open interval, exclusive of stop index/value)\n",
    "4. NumPy array (or Python list) of boolean values\n",
    "5. Function that accepts a series and returns one of the above"
   ]
  },
  {
   "cell_type": "code",
   "execution_count": 63,
   "metadata": {},
   "outputs": [
    {
     "data": {
      "text/plain": [
       "19"
      ]
     },
     "execution_count": 63,
     "metadata": {},
     "output_type": "execute_result"
    }
   ],
   "source": [
    "city2.iloc[0]"
   ]
  },
  {
   "cell_type": "markdown",
   "metadata": {},
   "source": [
    "Use negative indexing to pull out the last value; same as Python list"
   ]
  },
  {
   "cell_type": "code",
   "execution_count": 64,
   "metadata": {},
   "outputs": [
    {
     "data": {
      "text/plain": [
       "16"
      ]
     },
     "execution_count": 64,
     "metadata": {},
     "output_type": "execute_result"
    }
   ],
   "source": [
    "city2.iloc[-1]"
   ]
  }
 ],
 "metadata": {
  "kernelspec": {
   "display_name": "Python 3",
   "language": "python",
   "name": "python3"
  },
  "language_info": {
   "codemirror_mode": {
    "name": "ipython",
    "version": 3
   },
   "file_extension": ".py",
   "mimetype": "text/x-python",
   "name": "python",
   "nbconvert_exporter": "python",
   "pygments_lexer": "ipython3",
   "version": "3.12.7"
  }
 },
 "nbformat": 4,
 "nbformat_minor": 2
}
