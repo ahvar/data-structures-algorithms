{
 "cells": [
  {
   "cell_type": "code",
   "execution_count": 1,
   "metadata": {},
   "outputs": [
    {
     "data": {
      "text/plain": [
       "420"
      ]
     },
     "execution_count": 1,
     "metadata": {},
     "output_type": "execute_result"
    }
   ],
   "source": [
    "import pandas as pd\n",
    "from rich import print as rprint\n",
    "url = 'https://github.com/mattharrison/datasets/raw/master/data/vehicles.csv.zip'\n",
    "df = pd.read_csv(url, dtype_backend='pyarrow', engine='pyarrow')\n",
    "city_mpg = df.city08\n",
    "highway_mpg = df.highway08\n",
    "len(dir(city_mpg))"
   ]
  },
  {
   "cell_type": "markdown",
   "metadata": {},
   "source": [
    "`.apply` applies function to an entire series or element-wise to every value. If it does the latter, you lose the optimized and fast storage of `numpy` because you pull data into Python. It breaks out of the fast vectorized code paths we can leverage in pandas"
   ]
  },
  {
   "cell_type": "code",
   "execution_count": 24,
   "metadata": {},
   "outputs": [
    {
     "name": "stdout",
     "output_type": "stream",
     "text": [
      "2.54 ms ± 28.2 μs per loop (mean ± std. dev. of 7 runs, 100 loops each)\n"
     ]
    }
   ],
   "source": [
    "%%timeit\n",
    "def gt20(val):\n",
    "    return val > 20\n",
    "\n",
    "city_mpg.apply(gt20)\n"
   ]
  },
  {
   "cell_type": "markdown",
   "metadata": {},
   "source": [
    "Use the broadcasted `.gt` method, and it runs almost 50 times faster"
   ]
  },
  {
   "cell_type": "code",
   "execution_count": 17,
   "metadata": {},
   "outputs": [
    {
     "name": "stdout",
     "output_type": "stream",
     "text": [
      "27.4 μs ± 295 ns per loop (mean ± std. dev. of 7 runs, 10,000 loops each)\n"
     ]
    }
   ],
   "source": [
    "%timeit city_mpg.gt(20)"
   ]
  },
  {
   "cell_type": "markdown",
   "metadata": {},
   "source": [
    "Show the top five makes and label everything else *other*"
   ]
  },
  {
   "cell_type": "code",
   "execution_count": 18,
   "metadata": {},
   "outputs": [
    {
     "data": {
      "text/plain": [
       "0        Alfa Romeo\n",
       "1           Ferrari\n",
       "2             Dodge\n",
       "3             Dodge\n",
       "4            Subaru\n",
       "            ...    \n",
       "41139        Subaru\n",
       "41140        Subaru\n",
       "41141        Subaru\n",
       "41142        Subaru\n",
       "41143        Subaru\n",
       "Name: make, Length: 41144, dtype: string[pyarrow]"
      ]
     },
     "execution_count": 18,
     "metadata": {},
     "output_type": "execute_result"
    }
   ],
   "source": [
    "make = df.make\n",
    "make"
   ]
  },
  {
   "cell_type": "code",
   "execution_count": 19,
   "metadata": {},
   "outputs": [
    {
     "data": {
      "text/plain": [
       "make\n",
       "Chevrolet                           4003\n",
       "Ford                                3371\n",
       "Dodge                               2583\n",
       "GMC                                 2494\n",
       "Toyota                              2071\n",
       "                                    ... \n",
       "Grumman Allied Industries              1\n",
       "Environmental Rsch and Devp Corp       1\n",
       "General Motors                         1\n",
       "Goldacre                               1\n",
       "Isis Imports Ltd                       1\n",
       "Name: count, Length: 136, dtype: int64[pyarrow]"
      ]
     },
     "execution_count": 19,
     "metadata": {},
     "output_type": "execute_result"
    }
   ],
   "source": [
    "make.value_counts()"
   ]
  },
  {
   "cell_type": "code",
   "execution_count": 21,
   "metadata": {},
   "outputs": [
    {
     "data": {
      "text/html": [
       "<pre style=\"white-space:pre;overflow-x:auto;line-height:normal;font-family:Menlo,'DejaVu Sans Mono',consolas,'Courier New',monospace\"><span style=\"color: #800080; text-decoration-color: #800080; font-weight: bold\">Index</span><span style=\"font-weight: bold\">([</span><span style=\"color: #008000; text-decoration-color: #008000\">'Chevrolet'</span>, <span style=\"color: #008000; text-decoration-color: #008000\">'Ford'</span>, <span style=\"color: #008000; text-decoration-color: #008000\">'Dodge'</span>, <span style=\"color: #008000; text-decoration-color: #008000\">'GMC'</span>, <span style=\"color: #008000; text-decoration-color: #008000\">'Toyota'</span><span style=\"font-weight: bold\">]</span>, <span style=\"color: #808000; text-decoration-color: #808000\">dtype</span>=<span style=\"color: #008000; text-decoration-color: #008000\">'string[pyarrow]'</span>, <span style=\"color: #808000; text-decoration-color: #808000\">name</span>=<span style=\"color: #008000; text-decoration-color: #008000\">'make'</span><span style=\"font-weight: bold\">)</span>\n",
       "</pre>\n"
      ],
      "text/plain": [
       "\u001b[1;35mIndex\u001b[0m\u001b[1m(\u001b[0m\u001b[1m[\u001b[0m\u001b[32m'Chevrolet'\u001b[0m, \u001b[32m'Ford'\u001b[0m, \u001b[32m'Dodge'\u001b[0m, \u001b[32m'GMC'\u001b[0m, \u001b[32m'Toyota'\u001b[0m\u001b[1m]\u001b[0m, \u001b[33mdtype\u001b[0m=\u001b[32m'string\u001b[0m\u001b[32m[\u001b[0m\u001b[32mpyarrow\u001b[0m\u001b[32m]\u001b[0m\u001b[32m'\u001b[0m, \u001b[33mname\u001b[0m=\u001b[32m'make'\u001b[0m\u001b[1m)\u001b[0m\n"
      ]
     },
     "metadata": {},
     "output_type": "display_data"
    }
   ],
   "source": [
    "top5 = make.value_counts().index[:5]\n",
    "rprint(top5)"
   ]
  },
  {
   "cell_type": "code",
   "execution_count": 25,
   "metadata": {},
   "outputs": [
    {
     "name": "stdout",
     "output_type": "stream",
     "text": [
      "18.9 ms ± 335 μs per loop (mean ± std. dev. of 7 runs, 100 loops each)\n"
     ]
    }
   ],
   "source": [
    "%%timeit\n",
    "def generalize_top5(val):\n",
    "    if val in top5:\n",
    "        return val\n",
    "    return 'Other'\n",
    "make.apply(generalize_top5)"
   ]
  },
  {
   "cell_type": "code",
   "execution_count": 29,
   "metadata": {},
   "outputs": [
    {
     "data": {
      "text/html": [
       "<pre style=\"white-space:pre;overflow-x:auto;line-height:normal;font-family:Menlo,'DejaVu Sans Mono',consolas,'Courier New',monospace\"><span style=\"color: #008080; text-decoration-color: #008080; font-weight: bold\">0</span>        Other\n",
       "<span style=\"color: #008080; text-decoration-color: #008080; font-weight: bold\">1</span>        Other\n",
       "<span style=\"color: #008080; text-decoration-color: #008080; font-weight: bold\">2</span>        Dodge\n",
       "<span style=\"color: #008080; text-decoration-color: #008080; font-weight: bold\">3</span>        Dodge\n",
       "<span style=\"color: #008080; text-decoration-color: #008080; font-weight: bold\">4</span>        Other\n",
       "         <span style=\"color: #808000; text-decoration-color: #808000\">...</span>  \n",
       "<span style=\"color: #008080; text-decoration-color: #008080; font-weight: bold\">41139</span>    Other\n",
       "<span style=\"color: #008080; text-decoration-color: #008080; font-weight: bold\">41140</span>    Other\n",
       "<span style=\"color: #008080; text-decoration-color: #008080; font-weight: bold\">41141</span>    Other\n",
       "<span style=\"color: #008080; text-decoration-color: #008080; font-weight: bold\">41142</span>    Other\n",
       "<span style=\"color: #008080; text-decoration-color: #008080; font-weight: bold\">41143</span>    Other\n",
       "Name: make, Length: <span style=\"color: #008080; text-decoration-color: #008080; font-weight: bold\">41144</span>, dtype: string<span style=\"font-weight: bold\">[</span>pyarrow<span style=\"font-weight: bold\">]</span>\n",
       "</pre>\n"
      ],
      "text/plain": [
       "\u001b[1;36m0\u001b[0m        Other\n",
       "\u001b[1;36m1\u001b[0m        Other\n",
       "\u001b[1;36m2\u001b[0m        Dodge\n",
       "\u001b[1;36m3\u001b[0m        Dodge\n",
       "\u001b[1;36m4\u001b[0m        Other\n",
       "         \u001b[33m...\u001b[0m  \n",
       "\u001b[1;36m41139\u001b[0m    Other\n",
       "\u001b[1;36m41140\u001b[0m    Other\n",
       "\u001b[1;36m41141\u001b[0m    Other\n",
       "\u001b[1;36m41142\u001b[0m    Other\n",
       "\u001b[1;36m41143\u001b[0m    Other\n",
       "Name: make, Length: \u001b[1;36m41144\u001b[0m, dtype: string\u001b[1m[\u001b[0mpyarrow\u001b[1m]\u001b[0m\n"
      ]
     },
     "metadata": {},
     "output_type": "display_data"
    }
   ],
   "source": [
    "rprint(make.where(make.isin(top5), other='Other'))"
   ]
  },
  {
   "cell_type": "code",
   "execution_count": 31,
   "metadata": {},
   "outputs": [
    {
     "name": "stdout",
     "output_type": "stream",
     "text": [
      "732 μs ± 10.6 μs per loop (mean ± std. dev. of 7 runs, 1,000 loops each)\n"
     ]
    }
   ],
   "source": [
    "%timeit make.where(make.isin(top5),other='Other')"
   ]
  },
  {
   "cell_type": "markdown",
   "metadata": {},
   "source": [
    "The complement of the `where` method is the `mask` method. Wherever the condition is `False` it keeps the original values; if it is `True` it replaces the value with the `other` parameter. The tilde, `~`, performs an inversion of the boolean array, switching all `True` values to `False` and vice versa"
   ]
  },
  {
   "cell_type": "code",
   "execution_count": 34,
   "metadata": {},
   "outputs": [
    {
     "data": {
      "text/plain": [
       "0        Other\n",
       "1        Other\n",
       "2        Dodge\n",
       "3        Dodge\n",
       "4        Other\n",
       "         ...  \n",
       "41139    Other\n",
       "41140    Other\n",
       "41141    Other\n",
       "41142    Other\n",
       "41143    Other\n",
       "Name: make, Length: 41144, dtype: string[pyarrow]"
      ]
     },
     "execution_count": 34,
     "metadata": {},
     "output_type": "execute_result"
    }
   ],
   "source": [
    "make.mask(~make.isin(top5),other='Other')"
   ]
  },
  {
   "cell_type": "markdown",
   "metadata": {},
   "source": [
    "Broadcast `numpy` function to entire series. `np.log` is a universal function ( *ufunc* ) and works on arrays."
   ]
  },
  {
   "cell_type": "code",
   "execution_count": 37,
   "metadata": {},
   "outputs": [
    {
     "name": "stdout",
     "output_type": "stream",
     "text": [
      "125 μs ± 687 ns per loop (mean ± std. dev. of 7 runs, 10,000 loops each)\n"
     ]
    }
   ],
   "source": [
    "import numpy as np\n",
    "\n",
    "np.__version__\n",
    "\n",
    "%timeit city_mpg.apply(np.log)"
   ]
  },
  {
   "cell_type": "markdown",
   "metadata": {},
   "source": [
    "Compare that with Python's math module:"
   ]
  },
  {
   "cell_type": "code",
   "execution_count": 38,
   "metadata": {},
   "outputs": [
    {
     "name": "stdout",
     "output_type": "stream",
     "text": [
      "2.29 ms ± 6.79 μs per loop (mean ± std. dev. of 7 runs, 100 loops each)\n"
     ]
    }
   ],
   "source": [
    "import math\n",
    "%timeit city_mpg.apply(math.log)"
   ]
  },
  {
   "cell_type": "markdown",
   "metadata": {},
   "source": [
    "keep the top five makes and get the top 10 for the remainder of the top ten, other for the rest"
   ]
  },
  {
   "cell_type": "code",
   "execution_count": 39,
   "metadata": {},
   "outputs": [
    {
     "data": {
      "text/plain": [
       "0        Other\n",
       "1        Other\n",
       "2        Dodge\n",
       "3        Dodge\n",
       "4        Other\n",
       "         ...  \n",
       "41139    Other\n",
       "41140    Other\n",
       "41141    Other\n",
       "41142    Other\n",
       "41143    Other\n",
       "Name: make, Length: 41144, dtype: object"
      ]
     },
     "execution_count": 39,
     "metadata": {},
     "output_type": "execute_result"
    }
   ],
   "source": [
    "vc = make.value_counts()\n",
    "top5 = vc.index[:5] # start at 0 stop at 5\n",
    "top10 = vc.index[:10] # start at 0 stop at 10\n",
    "\n",
    "def generalize(val):\n",
    "    if val in top5:\n",
    "        return val\n",
    "    elif val in top10:\n",
    "        return 'Top10'\n",
    "    else:\n",
    "        return 'Other'\n",
    "    \n",
    "make.apply(generalize)"
   ]
  },
  {
   "cell_type": "markdown",
   "metadata": {},
   "source": [
    "### `.case_when` method\n",
    "replace values where conditions are `True`\n",
    "provide list of tuples for `caselist` parameter:\n",
    "1. boolean array or function taking series and returning boolean array\n",
    "2. values when the boolean array is `True`\n",
    "3. series of boolean `True` values with `Other` as replacement value\n"
   ]
  },
  {
   "cell_type": "code",
   "execution_count": 40,
   "metadata": {},
   "outputs": [
    {
     "data": {
      "text/plain": [
       "0        Other\n",
       "1        Other\n",
       "2        Dodge\n",
       "3        Dodge\n",
       "4        Other\n",
       "         ...  \n",
       "41139    Other\n",
       "41140    Other\n",
       "41141    Other\n",
       "41142    Other\n",
       "41143    Other\n",
       "Name: make, Length: 41144, dtype: object"
      ]
     },
     "execution_count": 40,
     "metadata": {},
     "output_type": "execute_result"
    }
   ],
   "source": [
    "(make\n",
    " .case_when(caselist=[(make.isin(top5),make),\n",
    "                      (make.isin(top10),'Top10'),\n",
    "                      (pd.Series(True,index=make.index), 'Other')]))"
   ]
  },
  {
   "cell_type": "markdown",
   "metadata": {},
   "source": [
    "### Alternatively, with `.where`\n",
    "the same thing can be achieved...."
   ]
  },
  {
   "cell_type": "code",
   "execution_count": 41,
   "metadata": {},
   "outputs": [
    {
     "data": {
      "text/plain": [
       "0        Other\n",
       "1        Other\n",
       "2        Dodge\n",
       "3        Dodge\n",
       "4        Other\n",
       "         ...  \n",
       "41139    Other\n",
       "41140    Other\n",
       "41141    Other\n",
       "41142    Other\n",
       "41143    Other\n",
       "Name: make, Length: 41144, dtype: string[pyarrow]"
      ]
     },
     "execution_count": 41,
     "metadata": {},
     "output_type": "execute_result"
    }
   ],
   "source": [
    "(make\n",
    " .where(make.isin(top5), 'Top10')\n",
    " .where(make.isin(top10), 'Other'))"
   ]
  },
  {
   "cell_type": "markdown",
   "metadata": {},
   "source": [
    "The *cylinders* column has missing values. "
   ]
  },
  {
   "cell_type": "code",
   "execution_count": 44,
   "metadata": {},
   "outputs": [
    {
     "data": {
      "text/plain": [
       "np.int64(206)"
      ]
     },
     "execution_count": 44,
     "metadata": {},
     "output_type": "execute_result"
    }
   ],
   "source": [
    "cyl = df.cylinders\n",
    "(cyl\n",
    " .isna()\n",
    " .sum())\n"
   ]
  },
  {
   "cell_type": "code",
   "execution_count": 45,
   "metadata": {},
   "outputs": [
    {
     "data": {
      "text/plain": [
       "7138     Nissan\n",
       "7139     Toyota\n",
       "8143     Toyota\n",
       "8144       Ford\n",
       "8146       Ford\n",
       "          ...  \n",
       "34563     Tesla\n",
       "34564     Tesla\n",
       "34565     Tesla\n",
       "34566     Tesla\n",
       "34567     Tesla\n",
       "Name: make, Length: 206, dtype: string[pyarrow]"
      ]
     },
     "execution_count": 45,
     "metadata": {},
     "output_type": "execute_result"
    }
   ],
   "source": [
    "missing = cyl.isna()\n",
    "make.loc[missing]"
   ]
  },
  {
   "cell_type": "markdown",
   "metadata": {},
   "source": [
    "*index operation* is performed with square brackets `[ ]`\n",
    "If we index `.loc` with a boolean array, it returns rows where the boolean array is `True`\n",
    "The `.fillna` method allows user to specify replacement value for any missing data\n",
    "Operations return a new Series"
   ]
  },
  {
   "cell_type": "code",
   "execution_count": 46,
   "metadata": {},
   "outputs": [
    {
     "data": {
      "text/plain": [
       "7138     <NA>\n",
       "7139     <NA>\n",
       "8143     <NA>\n",
       "8144     <NA>\n",
       "8146     <NA>\n",
       "         ... \n",
       "34563    <NA>\n",
       "34564    <NA>\n",
       "34565    <NA>\n",
       "34566    <NA>\n",
       "34567    <NA>\n",
       "Name: cylinders, Length: 206, dtype: int64[pyarrow]"
      ]
     },
     "execution_count": 46,
     "metadata": {},
     "output_type": "execute_result"
    }
   ],
   "source": [
    "cyl[cyl.isna()]"
   ]
  },
  {
   "cell_type": "code",
   "execution_count": 48,
   "metadata": {},
   "outputs": [
    {
     "data": {
      "text/plain": [
       "7136    6\n",
       "7137    6\n",
       "7138    0\n",
       "7139    0\n",
       "7140    6\n",
       "7141    6\n",
       "Name: cylinders, dtype: int64[pyarrow]"
      ]
     },
     "execution_count": 48,
     "metadata": {},
     "output_type": "execute_result"
    }
   ],
   "source": [
    "cyl.fillna(0).loc[7136:7141]"
   ]
  },
  {
   "cell_type": "code",
   "execution_count": 50,
   "metadata": {},
   "outputs": [
    {
     "data": {
      "text/plain": [
       "0    32.0\n",
       "1    40.0\n",
       "2    <NA>\n",
       "3    42.0\n",
       "4    39.0\n",
       "5    32.0\n",
       "dtype: float[pyarrow]"
      ]
     },
     "execution_count": 50,
     "metadata": {},
     "output_type": "execute_result"
    }
   ],
   "source": [
    "temp = pd.Series([32,40,None,42,39,32], dtype='float[pyarrow]')\n",
    "temp"
   ]
  },
  {
   "cell_type": "markdown",
   "metadata": {},
   "source": [
    "### `.interpolate()` ordered data, like temperatures, to replace missing values"
   ]
  },
  {
   "cell_type": "code",
   "execution_count": 51,
   "metadata": {},
   "outputs": [
    {
     "data": {
      "text/plain": [
       "0    32.0\n",
       "1    40.0\n",
       "2    41.0\n",
       "3    42.0\n",
       "4    39.0\n",
       "5    32.0\n",
       "dtype: float[pyarrow]"
      ]
     },
     "execution_count": 51,
     "metadata": {},
     "output_type": "execute_result"
    }
   ],
   "source": [
    "temp.interpolate()"
   ]
  },
  {
   "cell_type": "markdown",
   "metadata": {},
   "source": [
    "### `.clip()` outliers in data\n",
    "The first 447 entries in `city_mpg` range from 9 - 31. Trim these values to be between 5th (11.0) and 95th (27.0) quantile"
   ]
  },
  {
   "cell_type": "code",
   "execution_count": 52,
   "metadata": {},
   "outputs": [
    {
     "data": {
      "text/plain": [
       "0      19\n",
       "1      11\n",
       "2      23\n",
       "3      11\n",
       "4      17\n",
       "       ..\n",
       "442    15\n",
       "443    15\n",
       "444    15\n",
       "445    15\n",
       "446    27\n",
       "Name: city08, Length: 447, dtype: int64[pyarrow]"
      ]
     },
     "execution_count": 52,
     "metadata": {},
     "output_type": "execute_result"
    }
   ],
   "source": [
    "(city_mpg\n",
    " .loc[:446]\n",
    " .clip(lower=city_mpg.quantile(.05),\n",
    "       upper=city_mpg.quantile(.95)))"
   ]
  },
  {
   "cell_type": "markdown",
   "metadata": {},
   "source": [
    "### Sorting values vs Sorting the index\n",
    "the `.sort_values()` method will sort values in ascending order and also rearrange the index accordingly:"
   ]
  },
  {
   "cell_type": "code",
   "execution_count": 53,
   "metadata": {},
   "outputs": [
    {
     "data": {
      "text/plain": [
       "7901       6\n",
       "21060      6\n",
       "34557      6\n",
       "35887      6\n",
       "37161      6\n",
       "        ... \n",
       "34563    138\n",
       "34564    140\n",
       "31256    150\n",
       "32599    150\n",
       "33423    150\n",
       "Name: city08, Length: 41144, dtype: int64[pyarrow]"
      ]
     },
     "execution_count": 53,
     "metadata": {},
     "output_type": "execute_result"
    }
   ],
   "source": [
    "city_mpg.sort_values()"
   ]
  },
  {
   "cell_type": "markdown",
   "metadata": {},
   "source": [
    "Because of index alignment, you can still do math operations on a sorted series"
   ]
  },
  {
   "cell_type": "code",
   "execution_count": 56,
   "metadata": {},
   "outputs": [
    {
     "data": {
      "text/plain": [
       "0        22.0\n",
       "1        11.5\n",
       "2        28.0\n",
       "3        11.0\n",
       "4        20.0\n",
       "         ... \n",
       "41139    22.5\n",
       "41140    24.0\n",
       "41141    21.0\n",
       "41142    21.0\n",
       "41143    18.5\n",
       "Length: 41144, dtype: double[pyarrow]"
      ]
     },
     "execution_count": 56,
     "metadata": {},
     "output_type": "execute_result"
    }
   ],
   "source": [
    "(city_mpg.sort_values() + highway_mpg) / 2"
   ]
  },
  {
   "cell_type": "code",
   "execution_count": 60,
   "metadata": {},
   "outputs": [
    {
     "data": {
      "text/html": [
       "<pre style=\"white-space:pre;overflow-x:auto;line-height:normal;font-family:Menlo,'DejaVu Sans Mono',consolas,'Courier New',monospace\"><span style=\"color: #008080; text-decoration-color: #008080; font-weight: bold\">0</span>        <span style=\"color: #008080; text-decoration-color: #008080; font-weight: bold\">19</span>\n",
       "<span style=\"color: #008080; text-decoration-color: #008080; font-weight: bold\">1</span>         <span style=\"color: #008080; text-decoration-color: #008080; font-weight: bold\">9</span>\n",
       "<span style=\"color: #008080; text-decoration-color: #008080; font-weight: bold\">2</span>        <span style=\"color: #008080; text-decoration-color: #008080; font-weight: bold\">23</span>\n",
       "<span style=\"color: #008080; text-decoration-color: #008080; font-weight: bold\">3</span>        <span style=\"color: #008080; text-decoration-color: #008080; font-weight: bold\">10</span>\n",
       "<span style=\"color: #008080; text-decoration-color: #008080; font-weight: bold\">4</span>        <span style=\"color: #008080; text-decoration-color: #008080; font-weight: bold\">17</span>\n",
       "         ..\n",
       "<span style=\"color: #008080; text-decoration-color: #008080; font-weight: bold\">41139</span>    <span style=\"color: #008080; text-decoration-color: #008080; font-weight: bold\">19</span>\n",
       "<span style=\"color: #008080; text-decoration-color: #008080; font-weight: bold\">41140</span>    <span style=\"color: #008080; text-decoration-color: #008080; font-weight: bold\">20</span>\n",
       "<span style=\"color: #008080; text-decoration-color: #008080; font-weight: bold\">41141</span>    <span style=\"color: #008080; text-decoration-color: #008080; font-weight: bold\">18</span>\n",
       "<span style=\"color: #008080; text-decoration-color: #008080; font-weight: bold\">41142</span>    <span style=\"color: #008080; text-decoration-color: #008080; font-weight: bold\">18</span>\n",
       "<span style=\"color: #008080; text-decoration-color: #008080; font-weight: bold\">41143</span>    <span style=\"color: #008080; text-decoration-color: #008080; font-weight: bold\">16</span>\n",
       "Name: city08, Length: <span style=\"color: #008080; text-decoration-color: #008080; font-weight: bold\">41144</span>, dtype: int64<span style=\"font-weight: bold\">[</span>pyarrow<span style=\"font-weight: bold\">]</span>\n",
       "</pre>\n"
      ],
      "text/plain": [
       "\u001b[1;36m0\u001b[0m        \u001b[1;36m19\u001b[0m\n",
       "\u001b[1;36m1\u001b[0m         \u001b[1;36m9\u001b[0m\n",
       "\u001b[1;36m2\u001b[0m        \u001b[1;36m23\u001b[0m\n",
       "\u001b[1;36m3\u001b[0m        \u001b[1;36m10\u001b[0m\n",
       "\u001b[1;36m4\u001b[0m        \u001b[1;36m17\u001b[0m\n",
       "         ..\n",
       "\u001b[1;36m41139\u001b[0m    \u001b[1;36m19\u001b[0m\n",
       "\u001b[1;36m41140\u001b[0m    \u001b[1;36m20\u001b[0m\n",
       "\u001b[1;36m41141\u001b[0m    \u001b[1;36m18\u001b[0m\n",
       "\u001b[1;36m41142\u001b[0m    \u001b[1;36m18\u001b[0m\n",
       "\u001b[1;36m41143\u001b[0m    \u001b[1;36m16\u001b[0m\n",
       "Name: city08, Length: \u001b[1;36m41144\u001b[0m, dtype: int64\u001b[1m[\u001b[0mpyarrow\u001b[1m]\u001b[0m\n"
      ]
     },
     "metadata": {},
     "output_type": "display_data"
    },
    {
     "data": {
      "text/html": [
       "<pre style=\"white-space:pre;overflow-x:auto;line-height:normal;font-family:Menlo,'DejaVu Sans Mono',consolas,'Courier New',monospace\"><span style=\"color: #008080; text-decoration-color: #008080; font-weight: bold\">7901</span>       <span style=\"color: #008080; text-decoration-color: #008080; font-weight: bold\">6</span>\n",
       "<span style=\"color: #008080; text-decoration-color: #008080; font-weight: bold\">21060</span>      <span style=\"color: #008080; text-decoration-color: #008080; font-weight: bold\">6</span>\n",
       "<span style=\"color: #008080; text-decoration-color: #008080; font-weight: bold\">34557</span>      <span style=\"color: #008080; text-decoration-color: #008080; font-weight: bold\">6</span>\n",
       "<span style=\"color: #008080; text-decoration-color: #008080; font-weight: bold\">35887</span>      <span style=\"color: #008080; text-decoration-color: #008080; font-weight: bold\">6</span>\n",
       "<span style=\"color: #008080; text-decoration-color: #008080; font-weight: bold\">37161</span>      <span style=\"color: #008080; text-decoration-color: #008080; font-weight: bold\">6</span>\n",
       "        <span style=\"color: #808000; text-decoration-color: #808000\">...</span> \n",
       "<span style=\"color: #008080; text-decoration-color: #008080; font-weight: bold\">34563</span>    <span style=\"color: #008080; text-decoration-color: #008080; font-weight: bold\">138</span>\n",
       "<span style=\"color: #008080; text-decoration-color: #008080; font-weight: bold\">34564</span>    <span style=\"color: #008080; text-decoration-color: #008080; font-weight: bold\">140</span>\n",
       "<span style=\"color: #008080; text-decoration-color: #008080; font-weight: bold\">31256</span>    <span style=\"color: #008080; text-decoration-color: #008080; font-weight: bold\">150</span>\n",
       "<span style=\"color: #008080; text-decoration-color: #008080; font-weight: bold\">32599</span>    <span style=\"color: #008080; text-decoration-color: #008080; font-weight: bold\">150</span>\n",
       "<span style=\"color: #008080; text-decoration-color: #008080; font-weight: bold\">33423</span>    <span style=\"color: #008080; text-decoration-color: #008080; font-weight: bold\">150</span>\n",
       "Name: city08, Length: <span style=\"color: #008080; text-decoration-color: #008080; font-weight: bold\">41144</span>, dtype: int64<span style=\"font-weight: bold\">[</span>pyarrow<span style=\"font-weight: bold\">]</span>\n",
       "</pre>\n"
      ],
      "text/plain": [
       "\u001b[1;36m7901\u001b[0m       \u001b[1;36m6\u001b[0m\n",
       "\u001b[1;36m21060\u001b[0m      \u001b[1;36m6\u001b[0m\n",
       "\u001b[1;36m34557\u001b[0m      \u001b[1;36m6\u001b[0m\n",
       "\u001b[1;36m35887\u001b[0m      \u001b[1;36m6\u001b[0m\n",
       "\u001b[1;36m37161\u001b[0m      \u001b[1;36m6\u001b[0m\n",
       "        \u001b[33m...\u001b[0m \n",
       "\u001b[1;36m34563\u001b[0m    \u001b[1;36m138\u001b[0m\n",
       "\u001b[1;36m34564\u001b[0m    \u001b[1;36m140\u001b[0m\n",
       "\u001b[1;36m31256\u001b[0m    \u001b[1;36m150\u001b[0m\n",
       "\u001b[1;36m32599\u001b[0m    \u001b[1;36m150\u001b[0m\n",
       "\u001b[1;36m33423\u001b[0m    \u001b[1;36m150\u001b[0m\n",
       "Name: city08, Length: \u001b[1;36m41144\u001b[0m, dtype: int64\u001b[1m[\u001b[0mpyarrow\u001b[1m]\u001b[0m\n"
      ]
     },
     "metadata": {},
     "output_type": "display_data"
    },
    {
     "data": {
      "text/html": [
       "<pre style=\"white-space:pre;overflow-x:auto;line-height:normal;font-family:Menlo,'DejaVu Sans Mono',consolas,'Courier New',monospace\"><span style=\"color: #008080; text-decoration-color: #008080; font-weight: bold\">0</span>        <span style=\"color: #008080; text-decoration-color: #008080; font-weight: bold\">19</span>\n",
       "<span style=\"color: #008080; text-decoration-color: #008080; font-weight: bold\">1</span>         <span style=\"color: #008080; text-decoration-color: #008080; font-weight: bold\">9</span>\n",
       "<span style=\"color: #008080; text-decoration-color: #008080; font-weight: bold\">2</span>        <span style=\"color: #008080; text-decoration-color: #008080; font-weight: bold\">23</span>\n",
       "<span style=\"color: #008080; text-decoration-color: #008080; font-weight: bold\">3</span>        <span style=\"color: #008080; text-decoration-color: #008080; font-weight: bold\">10</span>\n",
       "<span style=\"color: #008080; text-decoration-color: #008080; font-weight: bold\">4</span>        <span style=\"color: #008080; text-decoration-color: #008080; font-weight: bold\">17</span>\n",
       "         ..\n",
       "<span style=\"color: #008080; text-decoration-color: #008080; font-weight: bold\">41139</span>    <span style=\"color: #008080; text-decoration-color: #008080; font-weight: bold\">19</span>\n",
       "<span style=\"color: #008080; text-decoration-color: #008080; font-weight: bold\">41140</span>    <span style=\"color: #008080; text-decoration-color: #008080; font-weight: bold\">20</span>\n",
       "<span style=\"color: #008080; text-decoration-color: #008080; font-weight: bold\">41141</span>    <span style=\"color: #008080; text-decoration-color: #008080; font-weight: bold\">18</span>\n",
       "<span style=\"color: #008080; text-decoration-color: #008080; font-weight: bold\">41142</span>    <span style=\"color: #008080; text-decoration-color: #008080; font-weight: bold\">18</span>\n",
       "<span style=\"color: #008080; text-decoration-color: #008080; font-weight: bold\">41143</span>    <span style=\"color: #008080; text-decoration-color: #008080; font-weight: bold\">16</span>\n",
       "Name: city08, Length: <span style=\"color: #008080; text-decoration-color: #008080; font-weight: bold\">41144</span>, dtype: int64<span style=\"font-weight: bold\">[</span>pyarrow<span style=\"font-weight: bold\">]</span>\n",
       "</pre>\n"
      ],
      "text/plain": [
       "\u001b[1;36m0\u001b[0m        \u001b[1;36m19\u001b[0m\n",
       "\u001b[1;36m1\u001b[0m         \u001b[1;36m9\u001b[0m\n",
       "\u001b[1;36m2\u001b[0m        \u001b[1;36m23\u001b[0m\n",
       "\u001b[1;36m3\u001b[0m        \u001b[1;36m10\u001b[0m\n",
       "\u001b[1;36m4\u001b[0m        \u001b[1;36m17\u001b[0m\n",
       "         ..\n",
       "\u001b[1;36m41139\u001b[0m    \u001b[1;36m19\u001b[0m\n",
       "\u001b[1;36m41140\u001b[0m    \u001b[1;36m20\u001b[0m\n",
       "\u001b[1;36m41141\u001b[0m    \u001b[1;36m18\u001b[0m\n",
       "\u001b[1;36m41142\u001b[0m    \u001b[1;36m18\u001b[0m\n",
       "\u001b[1;36m41143\u001b[0m    \u001b[1;36m16\u001b[0m\n",
       "Name: city08, Length: \u001b[1;36m41144\u001b[0m, dtype: int64\u001b[1m[\u001b[0mpyarrow\u001b[1m]\u001b[0m\n"
      ]
     },
     "metadata": {},
     "output_type": "display_data"
    }
   ],
   "source": [
    "rprint(city_mpg)\n",
    "rprint(city_mpg.sort_values())\n",
    "rprint(city_mpg.sort_values().sort_index())"
   ]
  },
  {
   "cell_type": "markdown",
   "metadata": {},
   "source": [
    "The `.drop_duplicates()` method will remove values appearing more than once...you can keep the first, or last, or `False` to remove all duplicates, including the initial value"
   ]
  },
  {
   "cell_type": "code",
   "execution_count": 61,
   "metadata": {},
   "outputs": [
    {
     "data": {
      "text/plain": [
       "0         19\n",
       "1          9\n",
       "2         23\n",
       "3         10\n",
       "4         17\n",
       "        ... \n",
       "34364    127\n",
       "34409    114\n",
       "34564    140\n",
       "34565    115\n",
       "34566    104\n",
       "Name: city08, Length: 105, dtype: int64[pyarrow]"
      ]
     },
     "execution_count": 61,
     "metadata": {},
     "output_type": "execute_result"
    }
   ],
   "source": [
    "city_mpg.drop_duplicates()"
   ]
  }
 ],
 "metadata": {
  "kernelspec": {
   "display_name": "envs",
   "language": "python",
   "name": "python3"
  },
  "language_info": {
   "codemirror_mode": {
    "name": "ipython",
    "version": 3
   },
   "file_extension": ".py",
   "mimetype": "text/x-python",
   "name": "python",
   "nbconvert_exporter": "python",
   "pygments_lexer": "ipython3",
   "version": "3.12.7"
  }
 },
 "nbformat": 4,
 "nbformat_minor": 2
}
