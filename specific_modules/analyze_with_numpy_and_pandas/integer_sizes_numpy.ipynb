{
 "cells": [
  {
   "cell_type": "code",
   "execution_count": 2,
   "metadata": {},
   "outputs": [
    {
     "name": "stdout",
     "output_type": "stream",
     "text": [
      "int8 size: 1 bytes\n",
      "int32 size: 4 bytes\n",
      "int64 size: 8 bytes\n",
      "int8 size: 8 bits\n",
      "int32 size: 32 bits\n",
      "int64 size: 64 bits\n"
     ]
    }
   ],
   "source": [
    "import numpy as np\n",
    "print(\"int8 size:\", np.dtype(np.int8).itemsize, \"bytes\")\n",
    "print(\"int32 size:\", np.dtype(np.int32).itemsize, \"bytes\")\n",
    "print(\"int64 size:\", np.dtype(np.int64).itemsize, \"bytes\")\n",
    "\n",
    "print(\"int8 size:\", np.dtype(np.int8).itemsize * 8, \"bits\")\n",
    "print(\"int32 size:\", np.dtype(np.int32).itemsize * 8, \"bits\")\n",
    "print(\"int64 size:\", np.dtype(np.int64).itemsize * 8, \"bits\")"
   ]
  },
  {
   "cell_type": "markdown",
   "metadata": {},
   "source": [
    "Use builtin functions to determine ranges"
   ]
  },
  {
   "cell_type": "code",
   "execution_count": 4,
   "metadata": {},
   "outputs": [
    {
     "name": "stdout",
     "output_type": "stream",
     "text": [
      "int8 max: 127\n",
      "int8 min: -128\n",
      "int32 max: 2147483647\n",
      "int64 min: -9223372036854775808\n",
      "int64 max: 9223372036854775807\n"
     ]
    }
   ],
   "source": [
    "print(\"int8 max:\", np.iinfo(np.int8).max)\n",
    "print(\"int8 min:\", np.iinfo(np.int8).min)\n",
    "print(\"int32 max:\", np.iinfo(np.int32).max)\n",
    "print(\"int64 min:\", np.iinfo(np.int64).min)\n",
    "print(\"int64 max:\", np.iinfo(np.int64).max)"
   ]
  }
 ],
 "metadata": {
  "kernelspec": {
   "display_name": "envs",
   "language": "python",
   "name": "python3"
  },
  "language_info": {
   "codemirror_mode": {
    "name": "ipython",
    "version": 3
   },
   "file_extension": ".py",
   "mimetype": "text/x-python",
   "name": "python",
   "nbconvert_exporter": "python",
   "pygments_lexer": "ipython3",
   "version": "3.12.7"
  }
 },
 "nbformat": 4,
 "nbformat_minor": 2
}
