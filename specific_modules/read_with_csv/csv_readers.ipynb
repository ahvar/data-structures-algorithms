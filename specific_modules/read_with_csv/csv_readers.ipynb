{
 "cells": [
  {
   "cell_type": "markdown",
   "id": "f1c78e44-1a8a-4e07-830b-f5bac2c1dbbe",
   "metadata": {},
   "source": [
    "# Reading Comma-Separated Values with CSV"
   ]
  },
  {
   "cell_type": "markdown",
   "id": "3df5bacd-5558-49a7-a2e7-c0a6a8b05747",
   "metadata": {},
   "source": [
    "## Get a reader object by passing it an iterable of strings."
   ]
  },
  {
   "cell_type": "code",
   "execution_count": 9,
   "id": "0cec926c-d7e9-4428-bda1-2661b91e8ab5",
   "metadata": {},
   "outputs": [
    {
     "name": "stdout",
     "output_type": "stream",
     "text": [
      "['string1']\n",
      "['string2']\n",
      "['string3']\n"
     ]
    }
   ],
   "source": [
    "import csv\n",
    "reader = csv.reader([\"string1\",\"string2\",\"string3\"])\n",
    "for row in reader:\n",
    "    print(row)"
   ]
  },
  {
   "cell_type": "markdown",
   "id": "50d9923a-3075-436e-a59e-8feac32ad269",
   "metadata": {},
   "source": [
    "## Or a file-like object"
   ]
  },
  {
   "cell_type": "code",
   "execution_count": 16,
   "id": "a1343369-9bcb-44be-9648-2409f1606975",
   "metadata": {},
   "outputs": [
    {
     "name": "stdout",
     "output_type": "stream",
     "text": [
      "['Airport', 'Code', '2001 Rank', '2001 Total', '2010 Rank', '2010 Total', '2011 Rank', ' Total', 'Percent change 2001-2011', 'Percent change 2010-2011']\n",
      "['Atlanta, GA (Hartsfield-Jackson Atlanta International)', 'ATL', '1', '36,384,264', '1', '42,655,392', '1', '33,034,788', '-9.2', '-22.6', \"Chicago, IL (Chicago O'Hare International)\", 'ORD', '2', '28,626,694', '2', '30,033,313', '2', '22,367,052', '-21.9', '-25.5', 'Dallas, TX (Dallas/Fort Worth International)', 'DFW', '3', '25,198,256', '3', '26,785,739', '3', '20,430,281', '-18.9', '-23.7', 'Denver, CO (Denver International)', 'DEN', '6', '16,397,390', '4', '24,965,553', '4', '19,190,341', '17.0', '-23.1', 'Los Angeles, CA (Los Angeles International)', 'LAX', '4', '22,873,307', '5', '22,860,849', '5', '18,379,418', '-19.6', '-19.6', 'Phoenix, AZ (Phoenix Sky Harbor International)', 'PHX', '5', '16,540,686', '7', '18,657,891', '6', '14,680,444', '-11.2', '-21.3']\n"
     ]
    }
   ],
   "source": [
    "airport_file = open(\"../data/less_airport_boardings.csv\", \"r\")\n",
    "airport_reader = csv.reader(airport_file)\n",
    "header = next(airport_reader)\n",
    "airports = []\n",
    "for row in airport_reader:\n",
    "    airports.extend(row)\n",
    "print(header)\n",
    "print(airports)"
   ]
  },
  {
   "cell_type": "markdown",
   "id": "f186bba8-8920-417c-9750-0c8504da567a",
   "metadata": {},
   "source": [
    "## The with statement wraps the execution of a block with methods defined by a context mgr (IOBase in this case):"
   ]
  },
  {
   "cell_type": "code",
   "execution_count": 11,
   "id": "809f7a34-2fcd-4821-87ba-6e9f5dfd5456",
   "metadata": {
    "scrolled": true
   },
   "outputs": [
    {
     "name": "stdout",
     "output_type": "stream",
     "text": [
      "['Airport', 'Code', '2001 Rank', '2001 Total', '2010 Rank', '2010 Total', '2011 Rank', ' Total', 'Percent change 2001-2011', 'Percent change 2010-2011']\n",
      "['Atlanta, GA (Hartsfield-Jackson Atlanta International)', 'ATL', '1', '36,384,264', '1', '42,655,392', '1', '33,034,788', '-9.2', '-22.6']\n",
      "[\"Chicago, IL (Chicago O'Hare International)\", 'ORD', '2', '28,626,694', '2', '30,033,313', '2', '22,367,052', '-21.9', '-25.5']\n",
      "['Dallas, TX (Dallas/Fort Worth International)', 'DFW', '3', '25,198,256', '3', '26,785,739', '3', '20,430,281', '-18.9', '-23.7']\n",
      "['Denver, CO (Denver International)', 'DEN', '6', '16,397,390', '4', '24,965,553', '4', '19,190,341', '17.0', '-23.1']\n",
      "['Los Angeles, CA (Los Angeles International)', 'LAX', '4', '22,873,307', '5', '22,860,849', '5', '18,379,418', '-19.6', '-19.6']\n",
      "['Phoenix, AZ (Phoenix Sky Harbor International)', 'PHX', '5', '16,540,686', '7', '18,657,891', '6', '14,680,444', '-11.2', '-21.3']\n"
     ]
    }
   ],
   "source": [
    "with open(\"../data/less_airport_boardings.csv\", \"r\") as file_in:\n",
    "    reader = csv.reader(file_in)\n",
    "    for row in reader:\n",
    "        print(row)"
   ]
  }
 ],
 "metadata": {
  "kernelspec": {
   "display_name": "envs",
   "language": "python",
   "name": "python3"
  },
  "language_info": {
   "codemirror_mode": {
    "name": "ipython",
    "version": 3
   },
   "file_extension": ".py",
   "mimetype": "text/x-python",
   "name": "python",
   "nbconvert_exporter": "python",
   "pygments_lexer": "ipython3",
   "version": "3.12.7"
  }
 },
 "nbformat": 4,
 "nbformat_minor": 5
}
