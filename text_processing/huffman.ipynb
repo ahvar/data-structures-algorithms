{
 "cells": [
  {
   "cell_type": "markdown",
   "metadata": {},
   "source": [
    "### Huffman Code: A method for text compression\n",
    " - high-frequency chars are assigned shorter binary strings and low-frequency chars assigned longer,\n",
    " minimizing the total number of bits needed to encode a given text\n",
    " - convert each char in `X` to variable-length code word, concatenate to produce encoding `Y` for `X`\n",
    " - based on construction of binary tree where each edge represents a bit in a code-word, and the code-word\n",
    " for that character is defined by the sequence of bits associated with the edges in the path from the tree root"
   ]
  }
 ],
 "metadata": {
  "kernelspec": {
   "display_name": "envs",
   "language": "python",
   "name": "python3"
  },
  "language_info": {
   "name": "python",
   "version": "3.12.7"
  }
 },
 "nbformat": 4,
 "nbformat_minor": 2
}
