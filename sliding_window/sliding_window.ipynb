{
 "cells": [
  {
   "cell_type": "markdown",
   "id": "e20b622a-008a-470b-b32b-359af77ea4c5",
   "metadata": {},
   "source": [
    "# Find the length of the smallest subarray whose sum is greater than or equal to a given value `S`\n",
    "1. Construct an array of integers called nums.\n",
    "2. Set a pointer defining the left window edge to 0 (both pointers begin at 0)\n",
    "3. Set a floating point number to infinity to store the minimum window length\n",
    "4. Set a variable `current_sum` to store the sum of integers in the window"
   ]
  },
  {
   "cell_type": "code",
   "execution_count": 41,
   "id": "bedb1ba8-b7a1-4ff7-b6e5-93abd4a759c1",
   "metadata": {},
   "outputs": [],
   "source": [
    "nums = [3,56,2,43,98,3,5,29]\n",
    "S = 67\n",
    "min_length = float('inf')\n",
    "current_sum = 0\n",
    "left = 0"
   ]
  },
  {
   "cell_type": "markdown",
   "id": "0e991ae2-a7eb-4b7f-ab75-e85d5a2baf9b",
   "metadata": {},
   "source": [
    "1. With each iteration, the outer for loop unpacks an index and the integer from nums and expands the `right` edge of the window.\n",
    "2. `current_sum` accumulates the sum of elements as the window \"slides\" right\n",
    "3. When `current_sum` meets or exceeds `S`, we try to shrink the window from the left to find a smaller subarray that still satisfies the condition."
   ]
  },
  {
   "cell_type": "code",
   "execution_count": 42,
   "id": "3521d97c-6456-41d8-8b65-9a8e2dc034dd",
   "metadata": {},
   "outputs": [
    {
     "name": "stdout",
     "output_type": "stream",
     "text": [
      "current sum: 3\n",
      "current sum: 59\n",
      "current sum: 61\n",
      "current sum: 104\n",
      "current window boundaries: 0 --- 3\n",
      "current sum: 104\n",
      "shrinking window from inf to....\n",
      "new window length: 4\n",
      "current window boundaries: 1 --- 3\n",
      "current sum: 101\n",
      "shrinking window from 4 to....\n",
      "new window length: 3\n",
      "current sum: 143\n",
      "current window boundaries: 2 --- 4\n",
      "current sum: 143\n",
      "shrinking window from 3 to....\n",
      "new window length: 3\n",
      "current window boundaries: 3 --- 4\n",
      "current sum: 141\n",
      "shrinking window from 3 to....\n",
      "new window length: 2\n",
      "current window boundaries: 4 --- 4\n",
      "current sum: 98\n",
      "shrinking window from 2 to....\n",
      "new window length: 1\n",
      "current sum: 3\n",
      "current sum: 8\n",
      "current sum: 37\n"
     ]
    }
   ],
   "source": [
    "for right, num in enumerate(nums):\n",
    "    current_sum += num\n",
    "    print(f\"current sum: {current_sum}\")\n",
    "    while current_sum >= S:\n",
    "        print(f\"current window boundaries: {left} --- {right}\")\n",
    "        print(f\"current sum: {current_sum}\")\n",
    "        print(f\"shrinking window from {min_length} to....\")\n",
    "        min_length = min(min_length, right - left + 1)\n",
    "        print(f\"new window length: {min_length}\")\n",
    "        current_sum -= nums[left]\n",
    "        left += 1"
   ]
  },
  {
   "cell_type": "code",
   "execution_count": null,
   "id": "1bd1fd58-cc19-4cb6-8b54-905430642621",
   "metadata": {},
   "outputs": [],
   "source": []
  }
 ],
 "metadata": {
  "kernelspec": {
   "display_name": "Python 3 (ipykernel)",
   "language": "python",
   "name": "python3"
  },
  "language_info": {
   "codemirror_mode": {
    "name": "ipython",
    "version": 3
   },
   "file_extension": ".py",
   "mimetype": "text/x-python",
   "name": "python",
   "nbconvert_exporter": "python",
   "pygments_lexer": "ipython3",
   "version": "3.10.14"
  }
 },
 "nbformat": 4,
 "nbformat_minor": 5
}
