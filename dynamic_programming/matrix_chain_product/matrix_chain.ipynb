{
 "cells": [
  {
   "cell_type": "markdown",
   "metadata": {},
   "source": [
    "### A step-by-step demonstration of Matrix Chain Multiplication using small 2 x 2 matrices\n",
    "The *matrix chain-product* problem is to determine the parenthesization of the expression defining the product `A` that minimizes the total number of scalar multiplications performed."
   ]
  },
  {
   "cell_type": "code",
   "execution_count": 3,
   "metadata": {},
   "outputs": [
    {
     "name": "stdout",
     "output_type": "stream",
     "text": [
      "[[0, 0], [2, 2]]\n",
      "[[0, 0], [3, 3]]\n",
      "[[0, 0], [4, 4]]\n"
     ]
    }
   ],
   "source": [
    "a0 = [[ 2 * i ] * 2 for i in range(2)]\n",
    "a1 = [[ 3 * i ] * 2 for i in range(2)]\n",
    "a2 = [[ 4 * i ] * 2 for i in range(2)]\n",
    "print(a0)\n",
    "print(a1)\n",
    "print(a2)"
   ]
  },
  {
   "cell_type": "markdown",
   "metadata": {},
   "source": [
    "#### Perform matrix chain multiplication in pure Python\n",
    "Get the number of rows and columns for `a0` and `a1`"
   ]
  },
  {
   "cell_type": "code",
   "execution_count": 5,
   "metadata": {},
   "outputs": [],
   "source": [
    "rows_a, cols_a = len(a0), len(a0[0])\n",
    "rows_b, cols_b = len(a1), len(a1[0])"
   ]
  },
  {
   "cell_type": "markdown",
   "metadata": {},
   "source": [
    "Matrix `A` has `d` rows and `e` columns\n",
    "Matrix `B` has `e` rows and `f` columns\n",
    "Matrix `C` has `d` rows (from `A`) and `f` columns (from `B`)"
   ]
  },
  {
   "cell_type": "code",
   "execution_count": 6,
   "metadata": {},
   "outputs": [
    {
     "name": "stdout",
     "output_type": "stream",
     "text": [
      "[[0, 0], [0, 0]]\n"
     ]
    }
   ],
   "source": [
    "result = [[0] * cols_b for _ in range(rows_a)]\n",
    "print(result)"
   ]
  },
  {
   "cell_type": "markdown",
   "metadata": {},
   "source": [
    "**Matrix multiplication involves multiplying the rows of the first matrix by the colulmns of the second matrix and summing the products, such that, the resulting matrix has dimensions equal to the number of rows in the first matrix and the number of columns in the second matrix**\n",
    "\n",
    "1. Outer Loop (i): Iterates the rows of matrix `a0`\n",
    "2. Middle Loop (j): Iterates the columns of matrix `a1`\n",
    "3. Inner Loop (k): Iterates the columns of matrix `a0` (which is the same as the rows of matrix `a1`)\n",
    "    - Multiply the element in the `i`th row and the `k`-th column of matrix `a0` with the element in the `k`-th row and the `j`-th column of matrix `a1`.\n",
    "    - Add the product to the element in the `i`-th row and `j`-th column of the result matrix"
   ]
  },
  {
   "cell_type": "code",
   "execution_count": 7,
   "metadata": {},
   "outputs": [],
   "source": [
    "for i in range(rows_a):\n",
    "    for j in range(cols_b):\n",
    "        for k in range(cols_a):\n",
    "            result[i][j] += a0[i][k] * a1[k][j]"
   ]
  }
 ],
 "metadata": {
  "kernelspec": {
   "display_name": "Python 3",
   "language": "python",
   "name": "python3"
  },
  "language_info": {
   "codemirror_mode": {
    "name": "ipython",
    "version": 3
   },
   "file_extension": ".py",
   "mimetype": "text/x-python",
   "name": "python",
   "nbconvert_exporter": "python",
   "pygments_lexer": "ipython3",
   "version": "3.12.7"
  }
 },
 "nbformat": 4,
 "nbformat_minor": 2
}
