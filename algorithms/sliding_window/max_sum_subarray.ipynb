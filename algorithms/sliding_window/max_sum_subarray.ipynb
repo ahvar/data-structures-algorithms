{
 "cells": [
  {
   "cell_type": "markdown",
   "id": "44982b93-33f0-46a7-973e-ede86307c72b",
   "metadata": {},
   "source": [
    "# Maximum Sum Subarray of Size K\n",
    "Find the subarray with the max sum\n",
    "\n",
    "1. There is a list of integers called `nums`\n",
    "2. The length of the subarray is `k`\n",
    "3. `left` points to the left edge of the window\n",
    "4. `right` points to the right edge of the window"
   ]
  },
  {
   "cell_type": "code",
   "execution_count": 25,
   "id": "805aeb90-5d92-4ba6-82e8-f3f156873901",
   "metadata": {},
   "outputs": [],
   "source": [
    "nums = [4,2,9,9,4]\n",
    "k = 2\n",
    "window_max = 0\n",
    "left = 0\n",
    "right = k - 1"
   ]
  },
  {
   "cell_type": "code",
   "execution_count": 26,
   "id": "144f23b7-f319-4cd5-b148-959604e73085",
   "metadata": {},
   "outputs": [],
   "source": [
    "while right in range(len(nums)):\n",
    "    current_sum = sum(nums[left:right + 1])\n",
    "    if window_max < current_sum:\n",
    "        window_max = current_sum\n",
    "    left += 1\n",
    "    right += 1\n",
    "    "
   ]
  },
  {
   "cell_type": "code",
   "execution_count": 27,
   "id": "ae992b4b-8f74-4b62-b9a4-07df674783da",
   "metadata": {},
   "outputs": [
    {
     "name": "stdout",
     "output_type": "stream",
     "text": [
      "18\n"
     ]
    }
   ],
   "source": [
    "print(window_max)"
   ]
  }
 ],
 "metadata": {
  "kernelspec": {
   "display_name": "Python 3 (ipykernel)",
   "language": "python",
   "name": "python3"
  },
  "language_info": {
   "codemirror_mode": {
    "name": "ipython",
    "version": 3
   },
   "file_extension": ".py",
   "mimetype": "text/x-python",
   "name": "python",
   "nbconvert_exporter": "python",
   "pygments_lexer": "ipython3",
   "version": "3.10.14"
  }
 },
 "nbformat": 4,
 "nbformat_minor": 5
}
