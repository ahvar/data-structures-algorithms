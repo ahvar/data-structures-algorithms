{
 "cells": [
  {
   "cell_type": "markdown",
   "id": "44982b93-33f0-46a7-973e-ede86307c72b",
   "metadata": {},
   "source": [
    "# Maximum Sum Subarray of Size K\n",
    "Find the subarray with the max sum\n",
    "\n",
    "1. There is a list of integers called `nums`\n",
    "2. The length of the subarray is `k`\n",
    "3. `left` points to the left edge of the window\n",
    "4. `right` points to the right edge of the window"
   ]
  },
  {
   "cell_type": "code",
   "execution_count": 77,
   "id": "805aeb90-5d92-4ba6-82e8-f3f156873901",
   "metadata": {},
   "outputs": [],
   "source": [
    "nums = [1,2,43,2,7,1]\n",
    "k = 2\n",
    "max_sum = 0\n",
    "left = 0\n",
    "right = 0"
   ]
  },
  {
   "cell_type": "markdown",
   "id": "af787bfb",
   "metadata": {},
   "source": [
    "With the two pointers defining the `left` and `right` sides of the subarray, advance the right edge of the subarray until its length is equivalent to `k`. Then check the `max_sum` against the sum of the subarray, update if necessary, and move the left edge to the same position as the right edge. Finally, increment the right edge."
   ]
  },
  {
   "cell_type": "code",
   "execution_count": 78,
   "id": "5112abb6",
   "metadata": {},
   "outputs": [
    {
     "name": "stdout",
     "output_type": "stream",
     "text": [
      "45\n"
     ]
    }
   ],
   "source": [
    "while right < len(nums):\n",
    "    subarray = [i for i in nums[left:right + 1]]\n",
    "    if len(subarray) == k:\n",
    "        if max_sum < sum(subarray):\n",
    "            max_sum = sum(subarray)\n",
    "        left = right\n",
    "    right += 1\n",
    "print(max_sum)\n",
    "\n",
    "    "
   ]
  },
  {
   "cell_type": "markdown",
   "id": "d13ea391",
   "metadata": {},
   "source": [
    "Slightly shorter implementation using `range()` and list slicing"
   ]
  },
  {
   "cell_type": "code",
   "execution_count": 79,
   "id": "f98d0137",
   "metadata": {},
   "outputs": [
    {
     "name": "stdout",
     "output_type": "stream",
     "text": [
      "45\n"
     ]
    }
   ],
   "source": [
    "left = 0\n",
    "max_sum = 0\n",
    "for right in range(len(nums)):\n",
    "    if len(nums[left:right+1]) == k:\n",
    "        if max_sum < sum(nums[left:right+1]):\n",
    "            max_sum = sum(nums[left:right+1])\n",
    "        left = right\n",
    "print(max_sum)"
   ]
  },
  {
   "cell_type": "markdown",
   "id": "4f47ba98",
   "metadata": {},
   "source": [
    "Another implementation using `enumerate()` which returns a list of tuples containing the index and the value. This does not slice or index into `nums`"
   ]
  },
  {
   "cell_type": "code",
   "execution_count": 80,
   "id": "bc5b1e8f",
   "metadata": {},
   "outputs": [
    {
     "name": "stdout",
     "output_type": "stream",
     "text": [
      "45\n"
     ]
    }
   ],
   "source": [
    "left = 0\n",
    "max_sum = 0\n",
    "current_sum = 0\n",
    "for right, value in enumerate(nums):\n",
    "    if (right + 1) - left < k:\n",
    "        current_sum += value\n",
    "    elif (right + 1) - left == k:\n",
    "        current_sum += value\n",
    "        if max_sum < current_sum:\n",
    "            max_sum = current_sum\n",
    "        current_sum = value\n",
    "        left += 1\n",
    "print(max_sum)\n"
   ]
  }
 ],
 "metadata": {
  "kernelspec": {
   "display_name": "envs",
   "language": "python",
   "name": "python3"
  },
  "language_info": {
   "codemirror_mode": {
    "name": "ipython",
    "version": 3
   },
   "file_extension": ".py",
   "mimetype": "text/x-python",
   "name": "python",
   "nbconvert_exporter": "python",
   "pygments_lexer": "ipython3",
   "version": "3.12.7"
  }
 },
 "nbformat": 4,
 "nbformat_minor": 5
}
