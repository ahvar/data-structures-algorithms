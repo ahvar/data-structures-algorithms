{
 "cells": [
  {
   "cell_type": "markdown",
   "id": "44982b93-33f0-46a7-973e-ede86307c72b",
   "metadata": {},
   "source": [
    "# Maximum Sum Subarray of Size K\n",
    "Find the subarray with the max sum\n",
    "\n",
    "1. There is a list of integers called `nums`\n",
    "2. The length of the subarray is `k`\n",
    "3. `left` points to the left edge of the window\n",
    "4. `right` points to the right edge of the window"
   ]
  },
  {
   "cell_type": "code",
   "execution_count": 50,
   "id": "805aeb90-5d92-4ba6-82e8-f3f156873901",
   "metadata": {},
   "outputs": [],
   "source": [
    "nums = [5,6,1,3,6,2,1,4,0]\n",
    "k = 2\n",
    "max_sum = 0\n",
    "left = 0\n",
    "right = 0"
   ]
  },
  {
   "cell_type": "markdown",
   "id": "af787bfb",
   "metadata": {},
   "source": [
    "Using two pointers to define the `left` and `right` sides of the window, advance the right edge until the subarray"
   ]
  },
  {
   "cell_type": "code",
   "execution_count": null,
   "id": "5112abb6",
   "metadata": {},
   "outputs": [
    {
     "name": "stdout",
     "output_type": "stream",
     "text": [
      "11\n"
     ]
    }
   ],
   "source": [
    "while right < len(nums):\n",
    "    subarray = [i for i in nums[left:right + 1]]\n",
    "    if len(subarray) == k:\n",
    "        if max_sum < sum(subarray):\n",
    "            max_sum = sum(subarray)\n",
    "        left = right\n",
    "    right += 1\n",
    "print(max_sum)\n",
    "\n",
    "    "
   ]
  },
  {
   "cell_type": "code",
   "execution_count": null,
   "id": "144f23b7-f319-4cd5-b148-959604e73085",
   "metadata": {},
   "outputs": [],
   "source": [
    "while right in range(len(nums)):\n",
    "    current_sum = sum(nums[left:right + 1])\n",
    "    if max_sum < current_sum:\n",
    "        max_sum = current_sum\n",
    "    left += 1\n",
    "    right += 1\n",
    "    "
   ]
  },
  {
   "cell_type": "code",
   "execution_count": null,
   "id": "ae992b4b-8f74-4b62-b9a4-07df674783da",
   "metadata": {},
   "outputs": [
    {
     "name": "stdout",
     "output_type": "stream",
     "text": [
      "18\n"
     ]
    }
   ],
   "source": [
    "print(max_sum)"
   ]
  }
 ],
 "metadata": {
  "kernelspec": {
   "display_name": "envs",
   "language": "python",
   "name": "python3"
  },
  "language_info": {
   "codemirror_mode": {
    "name": "ipython",
    "version": 3
   },
   "file_extension": ".py",
   "mimetype": "text/x-python",
   "name": "python",
   "nbconvert_exporter": "python",
   "pygments_lexer": "ipython3",
   "version": "3.12.7"
  }
 },
 "nbformat": 4,
 "nbformat_minor": 5
}
