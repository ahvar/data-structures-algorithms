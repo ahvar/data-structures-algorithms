{
 "cells": [
  {
   "cell_type": "markdown",
   "id": "9cc8106c-445e-4cbe-9053-7ff2d6aa1703",
   "metadata": {},
   "source": [
    "# Longest Substring Without Repeating Characters"
   ]
  },
  {
   "cell_type": "markdown",
   "id": "6278a078",
   "metadata": {},
   "source": [
    "A substring is a contiguous sequence of characters within a string. Build a substring by iterating the input string, checking against the constraint of no repeat characters, and updating max length when necessary."
   ]
  },
  {
   "cell_type": "code",
   "execution_count": 3,
   "id": "e043288a-70cf-44c3-abff-0e20a8487716",
   "metadata": {},
   "outputs": [],
   "source": [
    "chars = ['g','q','r','p','x','t','a','o','t','r','a','a']\n",
    "left = 0\n",
    "max_length = 0\n",
    "current_substring = []"
   ]
  },
  {
   "cell_type": "markdown",
   "id": "32132a4e",
   "metadata": {},
   "source": [
    "1. The `enumerate()` function returns an iterator containing a tuple with the index and a letter in `chars`.\n",
    "2. If the substring is empty, we add the letter and `continue`\n",
    "3. If not, check if the letter is already in the substring\n",
    "4. If the letter is in the substring:\n",
    "    - update the max length\n",
    "    - empty the substring\n",
    "    - move the left side of the window to the end of the substring by assigning the `left` pointer to the `right` pointer's location\n",
    "5. If not, add the letter to the substring"
   ]
  },
  {
   "cell_type": "code",
   "execution_count": null,
   "id": "cac87b67-8790-4f0a-a810-ead8b6e994f7",
   "metadata": {},
   "outputs": [],
   "source": [
    "for right, char in enumerate(chars):\n",
    "    if not current_substring:\n",
    "        current_substring.append(char)\n",
    "        continue\n",
    "    if char in current_substring:\n",
    "        if max_length < len(current_substring):\n",
    "            max_length = len(current_substring)\n",
    "        current_substring = []\n",
    "        left = right + 1\n",
    "        continue\n",
    "    current_substring.append(char)\n",
    "    \n",
    "    \n",
    "        "
   ]
  },
  {
   "cell_type": "code",
   "execution_count": null,
   "id": "c7b091de-4434-4544-af71-e756eea62ab6",
   "metadata": {},
   "outputs": [
    {
     "name": "stdout",
     "output_type": "stream",
     "text": [
      "5\n"
     ]
    }
   ],
   "source": [
    "print(max_length)"
   ]
  }
 ],
 "metadata": {
  "kernelspec": {
   "display_name": "envs",
   "language": "python",
   "name": "python3"
  },
  "language_info": {
   "codemirror_mode": {
    "name": "ipython",
    "version": 3
   },
   "file_extension": ".py",
   "mimetype": "text/x-python",
   "name": "python",
   "nbconvert_exporter": "python",
   "pygments_lexer": "ipython3",
   "version": "3.12.7"
  }
 },
 "nbformat": 4,
 "nbformat_minor": 5
}
