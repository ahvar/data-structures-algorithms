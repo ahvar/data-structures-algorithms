{
 "cells": [
  {
   "cell_type": "markdown",
   "id": "9cc8106c-445e-4cbe-9053-7ff2d6aa1703",
   "metadata": {},
   "source": [
    "# Longest Substring Without Repeating Characters"
   ]
  },
  {
   "cell_type": "code",
   "execution_count": 19,
   "id": "e043288a-70cf-44c3-abff-0e20a8487716",
   "metadata": {},
   "outputs": [],
   "source": [
    "chars = ['g','q','t','o','t','r','a','a']\n",
    "left = 0\n",
    "substring_length = 0\n",
    "current_substring = []"
   ]
  },
  {
   "cell_type": "code",
   "execution_count": 20,
   "id": "cac87b67-8790-4f0a-a810-ead8b6e994f7",
   "metadata": {},
   "outputs": [
    {
     "name": "stdout",
     "output_type": "stream",
     "text": [
      "[]\n",
      "['g']\n",
      "['g', 'q']\n",
      "['g', 'q', 't']\n",
      "['g', 'q', 't', 'o']\n",
      "[]\n",
      "['r']\n",
      "['r', 'a']\n"
     ]
    }
   ],
   "source": [
    "for right, char in enumerate(chars):\n",
    "    print(current_substring)\n",
    "    if not current_substring:\n",
    "        current_substring.append(char)\n",
    "        continue\n",
    "    if len(current_substring) > 1 and char in current_substring:\n",
    "        if substring_length < len(current_substring):\n",
    "            substring_length = len(current_substring)\n",
    "        current_substring = []\n",
    "        left = right\n",
    "        continue\n",
    "    current_substring.append(char)\n",
    "    \n",
    "    \n",
    "        "
   ]
  },
  {
   "cell_type": "code",
   "execution_count": 21,
   "id": "c7b091de-4434-4544-af71-e756eea62ab6",
   "metadata": {},
   "outputs": [
    {
     "name": "stdout",
     "output_type": "stream",
     "text": [
      "4\n"
     ]
    }
   ],
   "source": [
    "print(substring_length)"
   ]
  },
  {
   "cell_type": "code",
   "execution_count": null,
   "id": "59e243d8-27bf-400c-8203-cf51066f628e",
   "metadata": {},
   "outputs": [],
   "source": []
  }
 ],
 "metadata": {
  "kernelspec": {
   "display_name": "Python 3 (ipykernel)",
   "language": "python",
   "name": "python3"
  },
  "language_info": {
   "codemirror_mode": {
    "name": "ipython",
    "version": 3
   },
   "file_extension": ".py",
   "mimetype": "text/x-python",
   "name": "python",
   "nbconvert_exporter": "python",
   "pygments_lexer": "ipython3",
   "version": "3.10.14"
  }
 },
 "nbformat": 4,
 "nbformat_minor": 5
}
