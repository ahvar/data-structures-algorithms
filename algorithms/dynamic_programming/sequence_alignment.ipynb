{
 "cells": [
  {
   "cell_type": "markdown",
   "metadata": {},
   "source": [
    "### Determining the Similarity Between Text Strings\n",
    " - A *subsequence* is a sequence of characters that are not necessarily contiguous but are nevertheless taken in order from a parent string.\n",
    " - The similarity problem addressed here is the longest common subsequence (LCS) between two strings, `X` and `Y`.\n",
    " - This can be solved by enumerating all subsequences of `X` and take the largest one that is also a subsequence of `Y`. Such brute-force approach yields an expoential-time algorithm, which is very inefficient.\n",
    " - The LCS problem can be efficiently solved using dynamic programming. Dynamic programming is used primarily for optimization problems, where we want to find the \"best\" way of doing something.\n",
    "\n",
    "#### Components of a Dynamic Programming Solution\n",
    " - Simple Subproblems: A way to break the global optimization problem into subproblems, and, a way to parameterize subproblems with just a few indicies, like `i`, `j`, `k`, etc.\n",
    " - $L_{j,k}$ == the length of the longest string that is a subsequence of both prefixes `X[0:j]` and `Y[0:k]`"
   ]
  },
  {
   "cell_type": "code",
   "execution_count": 6,
   "metadata": {},
   "outputs": [],
   "source": [
    "X = \"AB\"\n",
    "Y = \"ACB\"\n",
    "\n",
    "#prefix_x = X[0:j]\n",
    "#prefix_y = Y[0:k]\n",
    "\n"
   ]
  },
  {
   "cell_type": "markdown",
   "metadata": {},
   "source": [
    "$L_{j,k}$ = 1 + $L_{j-1,k-1}$ if $x_{j-1}$ = $y_{k-1}$\n",
    "\n",
    "- we have a match between the last character of each prefix\n",
    "- a longest common subsequence of both prefixes ends with $x_{j-1}$\n",
    "\n",
    "$L_{j,k}$ = max( $L_{j-1,k}$, $L_{j,k-1}$ ) if $x_{j-1}$ != $y_{k-1}$\n",
    "\n",
    " - we can have a common subsequence end with $x_{j-1}$ or $y_{k-1}$ but not both"
   ]
  },
  {
   "cell_type": "code",
   "execution_count": null,
   "metadata": {},
   "outputs": [],
   "source": [
    "L = [[0] * len(Y) + 1] * len(X) + 1\n",
    "for j in len(X):\n",
    "    for k in len(Y):\n",
    "        if X[j] == Y[k]:\n",
    "            L[j+1][k+1] = L[j][k] + 1\n",
    "        else:\n",
    "            L[j+1][k+1] = max(L[j][k+1], L[j+1][k])"
   ]
  }
 ],
 "metadata": {
  "kernelspec": {
   "display_name": "Python 3",
   "language": "python",
   "name": "python3"
  },
  "language_info": {
   "codemirror_mode": {
    "name": "ipython",
    "version": 3
   },
   "file_extension": ".py",
   "mimetype": "text/x-python",
   "name": "python",
   "nbconvert_exporter": "python",
   "pygments_lexer": "ipython3",
   "version": "3.12.7"
  }
 },
 "nbformat": 4,
 "nbformat_minor": 2
}
