{
 "cells": [
  {
   "cell_type": "markdown",
   "metadata": {},
   "source": [
    "## Add and Remove Elements from a Singly Linked List\n",
    "\n",
    "### Define a node"
   ]
  },
  {
   "cell_type": "code",
   "execution_count": 1,
   "metadata": {},
   "outputs": [],
   "source": [
    "from typing import Optional\n",
    "class ListNode:\n",
    "    def __init__(self, element=0, next: Optional['ListNode'] = None):\n",
    "        self.element = element\n",
    "        self.next = next\n"
   ]
  },
  {
   "cell_type": "markdown",
   "metadata": {},
   "source": [
    "### Define a list"
   ]
  },
  {
   "cell_type": "code",
   "execution_count": 2,
   "metadata": {},
   "outputs": [],
   "source": [
    "class SinglyLinkedList:\n",
    "    def __init__(self, element):\n",
    "        self.head = ListNode(element)\n",
    "        self.size = 0"
   ]
  },
  {
   "cell_type": "markdown",
   "metadata": {},
   "source": [
    "### Add function for inserting a new node at the front of the list\n",
    "  1. create a new node instance storing reference to the element\n",
    "  2. the current head will become the second node in the list, so point the new node to the list's head node\n",
    "  3. assign the list's head to the new node\n",
    "  4. increment size"
   ]
  },
  {
   "cell_type": "code",
   "execution_count": 3,
   "metadata": {},
   "outputs": [],
   "source": [
    "class SinglyLinkedList:\n",
    "    def __init__(self, element):\n",
    "        self.head = ListNode(element)\n",
    "        self.size = 0    \n",
    "    def add_first(self, element):\n",
    "        new = ListNode(element) \n",
    "        new.next = self.head # set the next pointer of the new node before reassigning self.head\n",
    "        self.head = new\n",
    "        self.size += 1"
   ]
  },
  {
   "cell_type": "markdown",
   "metadata": {},
   "source": [
    "### Add a function for inserting a new node at the end of the list\n",
    "1. create a new node instance storing reference to element\n",
    "2. set the node's next pointer to `None`\n",
    "3. assign the tail variable to the new node\n",
    "4. increment size"
   ]
  },
  {
   "cell_type": "code",
   "execution_count": 4,
   "metadata": {},
   "outputs": [],
   "source": [
    "class SinglyLinkedList:\n",
    "    def __init__(self, element):\n",
    "        self.head = ListNode(element)\n",
    "        self.size = 0\n",
    "        self.tail = None    \n",
    "    def add_first(self, element):\n",
    "        new = ListNode(element) \n",
    "        new.next = self.head # set the next pointer of the new node before reassigning self.head\n",
    "        self.head = new\n",
    "        self.size += 1\n",
    "    def add_last(self, element):\n",
    "        if not self.tail:\n",
    "            self.tail = ListNode(element)\n",
    "        else:\n",
    "            new = ListNode(element)\n",
    "            new.next = None\n",
    "            self.tail = new\n",
    "        self.size += 1\n",
    "        "
   ]
  },
  {
   "cell_type": "markdown",
   "metadata": {},
   "source": [
    "### Remove element from front of list\n",
    "\n",
    "1. point the head to the node after the current head\n",
    "2. decrement size"
   ]
  },
  {
   "cell_type": "code",
   "execution_count": 1,
   "metadata": {},
   "outputs": [],
   "source": [
    "class EmptyLinkedListException(Exception):\n",
    "    def __init__(self, *args):\n",
    "        super().__init__(*args)\n",
    "        for arg in args:\n",
    "            print(arg)\n",
    "\n",
    "class SinglyLinkedList:\n",
    "    def __init__(self, element):\n",
    "        self.head = ListNode(element)\n",
    "        self.size = 0\n",
    "        self.tail = None    \n",
    "    def add_first(self, element):\n",
    "        new = ListNode(element) \n",
    "        new.next = self.head # set the next pointer of the new node before reassigning self.head\n",
    "        self.head = new\n",
    "        self.size += 1\n",
    "    def add_last(self, element):\n",
    "        if not self.tail:\n",
    "            self.tail = ListNode(element)\n",
    "        else:\n",
    "            new = ListNode(element)\n",
    "            new.next = None\n",
    "            self.tail = new\n",
    "        self.size += 1\n",
    "    def remove_first(self):\n",
    "        if not self.head:\n",
    "            raise EmptyLinkedListException(\"Empty List\")\n",
    "        self.head = self.head.next\n",
    "        self.size =- 1 \n",
    "        "
   ]
  }
 ],
 "metadata": {
  "kernelspec": {
   "display_name": "envs",
   "language": "python",
   "name": "python3"
  },
  "language_info": {
   "codemirror_mode": {
    "name": "ipython",
    "version": 3
   },
   "file_extension": ".py",
   "mimetype": "text/x-python",
   "name": "python",
   "nbconvert_exporter": "python",
   "pygments_lexer": "ipython3",
   "version": "3.12.7"
  }
 },
 "nbformat": 4,
 "nbformat_minor": 2
}
