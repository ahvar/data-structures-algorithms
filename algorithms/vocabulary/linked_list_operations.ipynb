{
 "cells": [
  {
   "cell_type": "markdown",
   "metadata": {},
   "source": [
    "## Insert an Element at the Head of a Singly Linked List\n",
    "\n",
    "1. Define a node"
   ]
  },
  {
   "cell_type": "code",
   "execution_count": null,
   "metadata": {},
   "outputs": [],
   "source": [
    "from typing import Optional\n",
    "class ListNode:\n",
    "    def __init__(self, element=0, next: Optional['ListNode'] = None):\n",
    "        self.element = element\n",
    "        self.next = next\n"
   ]
  },
  {
   "cell_type": "markdown",
   "metadata": {},
   "source": [
    "2. Define a list"
   ]
  },
  {
   "cell_type": "code",
   "execution_count": 8,
   "metadata": {},
   "outputs": [],
   "source": [
    "class SinglyLinkedList:\n",
    "    def __init__(self, element):\n",
    "        self.head = ListNode(element)\n",
    "        self.size = 0"
   ]
  },
  {
   "cell_type": "markdown",
   "metadata": {},
   "source": [
    "3. Add function for inserting a new node at the front of the list\n",
    "  - create a new node instance storing reference to the element\n",
    "  - point the new node to the list's head node\n",
    "  - point the list's head to the new node"
   ]
  },
  {
   "cell_type": "code",
   "execution_count": null,
   "metadata": {},
   "outputs": [],
   "source": [
    "class SinglyLinkedList:\n",
    "    def __init__(self, element):\n",
    "        self.head = ListNode(element)\n",
    "        self.size = 0    \n",
    "    def add_first(self, element):\n",
    "        new = ListNode(element) # 1\n",
    "        new.next = self.head # 2\n",
    "        self.head = new # 3"
   ]
  }
 ],
 "metadata": {
  "kernelspec": {
   "display_name": "envs",
   "language": "python",
   "name": "python3"
  },
  "language_info": {
   "codemirror_mode": {
    "name": "ipython",
    "version": 3
   },
   "file_extension": ".py",
   "mimetype": "text/x-python",
   "name": "python",
   "nbconvert_exporter": "python",
   "pygments_lexer": "ipython3",
   "version": "3.12.7"
  }
 },
 "nbformat": 4,
 "nbformat_minor": 2
}
