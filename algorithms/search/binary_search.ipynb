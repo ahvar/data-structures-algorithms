{
 "cells": [
  {
   "cell_type": "markdown",
   "metadata": {},
   "source": [
    "A binary search is applied to a sorted array and an item. With binary search, you guess the middle number and eliminate half the remaining numbers every time. You'll keep track of what part of the array you have to search through. At the beginning, this is the entire array."
   ]
  },
  {
   "cell_type": "code",
   "execution_count": 4,
   "metadata": {},
   "outputs": [],
   "source": [
    "item = 8\n",
    "arr = [2,3,6,7,8,23,27,30,40,41]\n",
    "low = 0\n",
    "high = len(arr) - 1"
   ]
  },
  {
   "cell_type": "markdown",
   "metadata": {},
   "source": [
    "Check the middle element ( `//` rounds the result)\n",
    "- Find the item\n",
    "- Or the guess was too high, move `high` to the index just before the guess\n",
    "- Or the guess was too low, move `low` to the index after the guess "
   ]
  },
  {
   "cell_type": "code",
   "execution_count": 3,
   "metadata": {},
   "outputs": [],
   "source": [
    "\n",
    "while low <= high: \n",
    "    mid = (low + high) // 2\n",
    "    guess = arr[mid]\n",
    "    if guess == item:\n",
    "        print(mid)\n",
    "    elif guess > item:\n",
    "        high = mid - 1\n",
    "    else:\n",
    "        low = mid + 1\n",
    "print(\"not found\")"
   ]
  },
  {
   "cell_type": "code",
   "execution_count": null,
   "metadata": {},
   "outputs": [],
   "source": []
  }
 ],
 "metadata": {
  "kernelspec": {
   "display_name": "envs",
   "language": "python",
   "name": "python3"
  },
  "language_info": {
   "codemirror_mode": {
    "name": "ipython",
    "version": 3
   },
   "file_extension": ".py",
   "mimetype": "text/x-python",
   "name": "python",
   "nbconvert_exporter": "python",
   "pygments_lexer": "ipython3",
   "version": "3.12.7"
  }
 },
 "nbformat": 4,
 "nbformat_minor": 2
}
