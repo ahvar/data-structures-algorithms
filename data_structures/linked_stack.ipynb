{
 "cells": [
  {
   "cell_type": "markdown",
   "metadata": {},
   "source": [
    "## Singly Linked List Abstract Data Type (ADT)\n",
    "`LinkedStack` uses nonpublic, nested, lightweight `_Node` \n"
   ]
  },
  {
   "cell_type": "code",
   "execution_count": 10,
   "metadata": {},
   "outputs": [],
   "source": [
    "from typing import Optional\n",
    "\n",
    "class Empty(Exception):\n",
    "    def __init__(self, *args):\n",
    "        super().__init__(*args)\n",
    "\n",
    "class LinkedStack:\n",
    "    \"\"\"\n",
    "    Last In First Out (LIFO)\n",
    "    \"\"\"\n",
    "\n",
    "    # ----------------------- Nested _Node class ------------------------\n",
    "    class _Node:\n",
    "        \"\"\"Lightweight, nonpublic class for storing singly linked node\"\"\"\n",
    "        __slots__ = '_element', '_next'\n",
    "\n",
    "        def __init__(self, element: Optional['element'], next: Optional['_Node']):\n",
    "            self._element = element\n",
    "            self._next = next\n",
    "        @property\n",
    "        def element(self) -> Optional['element']:\n",
    "            return self._element\n",
    "        @property\n",
    "        def next(self) -> Optional['_Node']:\n",
    "            return self._next\n",
    "        \n",
    "    # ----------------------- LinkedStack methods ----------------------\n",
    "    def __init__(self):\n",
    "        \"\"\"Create an empty stack\"\"\"\n",
    "        self._head = None\n",
    "        self._size = 0\n",
    "\n",
    "    def __len__(self):\n",
    "        \"\"\"Return the number of elements in the stack\"\"\"\n",
    "        return self._size\n",
    "    \n",
    "    def is_empty(self):\n",
    "        \"\"\"Return True if the stack is empty\"\"\"\n",
    "        return self._size == 0\n",
    "    \n",
    "    def push(self, element):\n",
    "        \"\"\"\n",
    "        Add element to stack\n",
    "        \"\"\"\n",
    "        new = self._Node(element, None)\n",
    "        new.next = self._head\n",
    "        self._head = new\n",
    "        self._size += 1\n",
    "\n",
    "    def push_alt(self, element):\n",
    "        if self.is_empty():\n",
    "            self._head = self._Node(element=element, next=None)\n",
    "        else:\n",
    "            self._head = self._Node(element=element, next=self._head)\n",
    "            self._size += 1\n",
    "\n",
    "    def top(self) -> Optional['element']:\n",
    "        if self.is_empty():\n",
    "            raise Empty(\"Empty Stack\")\n",
    "        self._head.element\n",
    "\n",
    "    def pop(self) -> Optional['element']:\n",
    "        \"\"\"Remove and return element from top of stack (i.e. LIFO)\"\"\"\n",
    "        if self.is_empty():\n",
    "            raise Empty(\"Empty Stack\")\n",
    "        element = self._head.element\n",
    "        self._head = self._head.next\n",
    "        self._size -= 1\n",
    "        return element\n"
   ]
  },
  {
   "cell_type": "code",
   "execution_count": 11,
   "metadata": {},
   "outputs": [],
   "source": [
    "stack = LinkedStack()\n",
    "stack.push_alt(\"element1\")"
   ]
  }
 ],
 "metadata": {
  "kernelspec": {
   "display_name": "envs",
   "language": "python",
   "name": "python3"
  },
  "language_info": {
   "codemirror_mode": {
    "name": "ipython",
    "version": 3
   },
   "file_extension": ".py",
   "mimetype": "text/x-python",
   "name": "python",
   "nbconvert_exporter": "python",
   "pygments_lexer": "ipython3",
   "version": "3.12.7"
  }
 },
 "nbformat": 4,
 "nbformat_minor": 2
}
