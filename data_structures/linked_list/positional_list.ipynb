{
 "cells": [
  {
   "cell_type": "markdown",
   "metadata": {},
   "source": [
    "### Abstract Data Type: The Positional List \n",
    "- numeric indicies are not a good abstraction for describing local position in applications where the index of an entry is changing over time due to insertions/deletions happening earlier in the sequence\n",
    "- for example, a word processor uses the abstraction of a `cursor` to describe a position within the document without explicit use of an integer index, allowing operations such as \"delete the character at the cursor\" or \"insert a new character just after the cursor.\""
   ]
  },
  {
   "cell_type": "code",
   "execution_count": null,
   "metadata": {},
   "outputs": [],
   "source": []
  }
 ],
 "metadata": {
  "kernelspec": {
   "display_name": "envs",
   "language": "python",
   "name": "python3"
  },
  "language_info": {
   "name": "python",
   "version": "3.12.7"
  }
 },
 "nbformat": 4,
 "nbformat_minor": 2
}
