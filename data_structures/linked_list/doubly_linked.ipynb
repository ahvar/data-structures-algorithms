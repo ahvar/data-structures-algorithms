{
 "cells": [
  {
   "cell_type": "markdown",
   "metadata": {},
   "source": [
    "### Doubly Linked Lists\n",
    " - singly linked lists do not provide an efficient method for deleting a node from the list tail or an arbitrary node from the list interior because we cannot determine the node that immediately precedes the node to be deleted\n",
    " - Sentinel Nodes: header and trailer nodes, which do not store elements of primary sequence\n",
    " - In an empty list, the `next` field of the header points to the trailer the `prev` field of the trailer points to the header"
   ]
  },
  {
   "cell_type": "code",
   "execution_count": 2,
   "metadata": {},
   "outputs": [],
   "source": [
    "class _DoublyLinkedBase:\n",
    "    \n",
    "    class _Node:\n",
    "        __slot__ = '_element', '_prev', '_next' # streamline memory\n",
    "\n",
    "        def __init__(self, element, prev, next):\n",
    "            self._element = element\n",
    "            self._prev = prev\n",
    "            self._next = next\n",
    "\n",
    "    def __init__(self):\n",
    "        \"\"\"Create empty list\"\"\"\n",
    "        self._header = self._Node(None, None, None)\n",
    "        self._trailer = self._Node(None, None, None)\n",
    "        self._header._next = self._trailer\n",
    "        self._trailer._prev = self._header\n",
    "        self._size = 0\n",
    "\n",
    "    def __len__(self):\n",
    "        return self._size\n",
    "    \n",
    "    def is_empty(self):\n",
    "        return self._size == 0\n",
    "    \n",
    "    def _insert_between(self, element, predecessor, successor):\n",
    "        newest = self._Node(element, predecessor, successor)\n",
    "        predecessor._next = newest\n",
    "        successor._prev = newest\n",
    "        self._size += 1\n",
    "        return newest\n",
    "    \n",
    "    def _delete_node(self, node):\n",
    "        predecessor = node._prev\n",
    "        successor = node._next\n",
    "        predecessor._next = successor\n",
    "        successor._prev = predecessor\n",
    "        self._size -= 1\n",
    "        element = node._element\n",
    "        node._prev = node._next = node._element = None # deprecate node\n",
    "        return element\n",
    "\n",
    "\n"
   ]
  },
  {
   "cell_type": "markdown",
   "metadata": {},
   "source": [
    "### Implementing a Deque (doubly-ended queue) with a Doubly Linked list; Inheriting from _DoublyLinkedBase\n",
    " - With the use of sentinels, the `header` does not store the first element of the deque and the `trailer` does not store the last\n",
    " - Use inherited `_insert_between` method to insert at either end of the deque\n",
    " - Use inherited `_delete_node` method to remove an element from a nonempty deque, knowing that the designated node is assured to have neighbors on each side"
   ]
  },
  {
   "cell_type": "code",
   "execution_count": null,
   "metadata": {},
   "outputs": [],
   "source": [
    "class Empty(Exception):\n",
    "    \"\"\"\"\"\"\n",
    "\n",
    "class LinkedDeque(_DoublyLinkedBase):\n",
    "\n",
    "    def first(self):\n",
    "        \"\"\"Return but do not remove the element at the front of the deque\"\"\"\n",
    "        if self.is_empty():\n",
    "            raise Empty(\"Deque is empty\")\n",
    "        return self._header._next._element\n",
    "    \n",
    "    def last(self):\n",
    "        if self.is_empty():\n",
    "            raise Empty(\"Deque is empty\")\n",
    "        \n",
    "    def insert_first(self, element):\n",
    "        self._insert_between(element, self._header, self._header._next) # after header\n",
    "\n",
    "    def insert_last(self, element):\n",
    "        self._insert_between(element, self._trailer._prev, self._trailer)\n",
    "\n",
    "    def delete_first(self):\n",
    "        if self.is_empty():\n",
    "            raise Empty(\"Deque is empty\")\n",
    "        return self._delete_node(self._header._next)\n",
    "    \n",
    "    def delete_last(self):\n",
    "        if self.is_empty():\n",
    "            raise Empty(\"Deque is empty\")\n",
    "        return self._delete_node(self._trailer._prev)\n"
   ]
  }
 ],
 "metadata": {
  "kernelspec": {
   "display_name": "Python 3",
   "language": "python",
   "name": "python3"
  },
  "language_info": {
   "codemirror_mode": {
    "name": "ipython",
    "version": 3
   },
   "file_extension": ".py",
   "mimetype": "text/x-python",
   "name": "python",
   "nbconvert_exporter": "python",
   "pygments_lexer": "ipython3",
   "version": "3.12.7"
  }
 },
 "nbformat": 4,
 "nbformat_minor": 2
}
