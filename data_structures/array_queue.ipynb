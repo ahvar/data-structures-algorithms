{
 "cells": [
  {
   "cell_type": "markdown",
   "metadata": {},
   "source": [
    "### Queue Abstract Data Type (ADT)\n",
    " - First In First Out (FIFO)\n",
    " - Used by networked printer, or web server responding to requests\n",
    "\n",
    "#### The Queue ADT Supports Two Fundamental Methods:\n",
    " - `enqueue(e)`: add an element to the back of the list\n",
    " - `dequeue()`: remove and return the first element from queue\n",
    "Also supports methods for identifying an empty queue, the length of a queue, and reference to the element at the front of the queue (without removing it)"
   ]
  },
  {
   "cell_type": "markdown",
   "metadata": {},
   "source": [
    "### The Array Based Queue Implementation\n",
    " - A python list based queue implementation, similar to a stack, is very inefficient due to the shifting of all queue elements following removal of an element from the front of the queue.\n",
    " - Instead, contents of the queue \"wrap around\" the end of the underlying array. And we use the modulo operator `%` for implementing an array circularly. "
   ]
  },
  {
   "cell_type": "code",
   "execution_count": null,
   "metadata": {},
   "outputs": [],
   "source": [
    "class Empty(Exception):\n",
    "    \"\"\"\"\"\"\n",
    "class ArrayQueue:\n",
    "    DEFAULT_CAPACITY = 10\n",
    "    def __init__(self):\n",
    "        self._data = [None]\n",
    "        self._size = 0\n",
    "        self._front = 0\n",
    "    \n",
    "    def __len__(self):\n",
    "        return self._size\n",
    "    \n",
    "    def is_empty(self):\n",
    "        return self._size == 0\n",
    "    \n",
    "    def first(self):\n",
    "        if self.is_empty():\n",
    "            raise Exception(\"Empty Queue\")\n",
    "        return self._data[self._front]\n",
    "    \n",
    "    def dequeue(self):\n",
    "        if self.is_empty():\n",
    "            raise Exception(\"Empty Queue\")\n",
    "        answer = self._data[self._front] # dequeue from the front\n",
    "        self._data[self._front] = None # set front to None\n",
    "        self._front = (self._front + 1) % len(self._data) # advance front\n",
    "        self._size -= 1 # decrement size\n",
    "        return answer\n",
    "    \n",
    "    def enqueue(self, element):\n",
    "        if self._size == len(self._data):\n",
    "            self._resize(2 * len(self._data))\n",
    "        avail = (self._front + self._size) % len(self._data)\n",
    "        self._data[avail] = element\n",
    "        self._size += 1\n",
    "    \n",
    "    def _resize(self, cap):\n",
    "        old = self._data # store the current list\n",
    "        self._data = [None] * cap # make new capacity\n",
    "        walk = self._front \n",
    "        for k in range(self._size):\n",
    "            self._data[k] = old[walk]\n",
    "            walk = (1 + walk) % len(old)\n",
    "        self._front = 0"
   ]
  }
 ],
 "metadata": {
  "kernelspec": {
   "display_name": "envs",
   "language": "python",
   "name": "python3"
  },
  "language_info": {
   "name": "python",
   "version": "3.12.7"
  }
 },
 "nbformat": 4,
 "nbformat_minor": 2
}
