{
 "cells": [
  {
   "cell_type": "markdown",
   "metadata": {},
   "source": [
    "### UnsortedPriorityQueue Inheriting From PriorityQueueBase\n",
    " - For internal storage, key-value pairs are represented as composites, using instances of the inherited _Item class\n",
    " - Items stored within `PositionalList`, identified as `_data_` member (implemented with a doubly-linked list)"
   ]
  },
  {
   "cell_type": "code",
   "execution_count": null,
   "metadata": {},
   "outputs": [],
   "source": [
    "from linked_list.positional_list import PositionalList\n",
    "class PriorityBaseQueue:\n",
    "    class _Item:\n",
    "        __slots__ = '_key', '_value'\n",
    "\n",
    "        def __init__(self, key, value):\n",
    "            self._key = key\n",
    "            self._value = value\n",
    "\n",
    "        def __It__(self, other):\n",
    "            return self._key < other._key\n",
    "        \n",
    "    def is_empty(self):\n",
    "        return len(self) == 0\n",
    "\n",
    "class UnsortedPriorityQueue(PriorityBaseQueue):\n",
    "\n",
    "\n",
    "    def __init__(self):\n",
    "        self._data = PositionalList()\n",
    "\n",
    "    \n",
    "\n",
    "\n",
    "\n",
    "    "
   ]
  }
 ],
 "metadata": {
  "kernelspec": {
   "display_name": "envs",
   "language": "python",
   "name": "python3"
  },
  "language_info": {
   "name": "python",
   "version": "3.12.7"
  }
 },
 "nbformat": 4,
 "nbformat_minor": 2
}
