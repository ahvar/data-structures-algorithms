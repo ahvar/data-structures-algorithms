{
 "cells": [
  {
   "cell_type": "markdown",
   "metadata": {},
   "source": [
    "### UnsortedPriorityQueue Inheriting From PriorityQueueBase\n",
    " - For internal storage, key-value pairs are represented as composites, using instances of the inherited _Item class\n",
    " - Items stored within `PositionalList`, identified as `_data_` member (implemented with a doubly-linked list)"
   ]
  },
  {
   "cell_type": "code",
   "execution_count": null,
   "metadata": {},
   "outputs": [],
   "source": [
    "from linked_list.positional_list import PositionalList\n",
    "class Empty(Exception):\n",
    "    \"\"\"Thrown when ADT is empty\"\"\"\n",
    "class PriorityBaseQueue:\n",
    "    class _Item:\n",
    "        __slots__ = '_key', '_value'\n",
    "\n",
    "        def __init__(self, key, value):\n",
    "            self._key = key\n",
    "            self._value = value\n",
    "\n",
    "        def __It__(self, other):\n",
    "            return self._key < other._key\n",
    "        \n",
    "    def is_empty(self):\n",
    "        return len(self) == 0\n",
    "\n",
    "class UnsortedPriorityQueue(PriorityBaseQueue):\n",
    "\n",
    "\n",
    "    def __init__(self):\n",
    "        self._data = PositionalList()\n",
    "\n",
    "    def _find_min(self):\n",
    "        \"\"\"Return Position of itme with minimum key.\"\"\"\n",
    "        if self.is_empty():\n",
    "            raise Empty(\"Priority queue is empty\")\n",
    "        small = self._data.first()\n",
    "        walk = self._data.after(small)\n",
    "        while walk is not None:\n",
    "            if walk.element() < small.element():\n",
    "                small = walk\n",
    "            walk = self._data.after(walk)\n",
    "        return small\n",
    "    \n",
    "    def __len__(self):\n",
    "        return len(self._data)\n",
    "    \n",
    "    def add(self, key, value):\n",
    "        self._data.add_last(self._Item(key, value))\n",
    "\n",
    "    def min(self):\n",
    "        \"\"\"Return but do not remove (k,v) tuple with minimum key.\"\"\"\n",
    "        p = self._find_min()\n",
    "        item = p.element()\n",
    "        return (item._key, item._value)\n",
    "    \n",
    "    def remove_min(self):\n",
    "        p = self._find_min()\n",
    "        item = self._data.delete(p)\n",
    "        return (item._key, item._value)\n",
    "    \n",
    "\n",
    "\n",
    "    \n",
    "\n",
    "\n",
    "\n",
    "    "
   ]
  }
 ],
 "metadata": {
  "kernelspec": {
   "display_name": "envs",
   "language": "python",
   "name": "python3"
  },
  "language_info": {
   "name": "python",
   "version": "3.12.7"
  }
 },
 "nbformat": 4,
 "nbformat_minor": 2
}
