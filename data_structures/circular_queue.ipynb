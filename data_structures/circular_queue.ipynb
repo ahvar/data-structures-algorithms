{
 "cells": [
  {
   "cell_type": "markdown",
   "metadata": {},
   "source": [
    "## Implementing a Queue with Circularly Linked List\n",
    "When an operation involves the front of the queue, we recognize `self._tail._next` as the head of the queue. When `enqueue` is called, a new node is placed just after the tail but before the current head, and then the new node becomes the tail \n",
    "\n",
    "When `dequeue` is called, the current head (`self._tail._next`) is assigned to the `_Node` after the old head"
   ]
  },
  {
   "cell_type": "code",
   "execution_count": null,
   "metadata": {},
   "outputs": [],
   "source": [
    "from typing import Optional\n",
    "\n",
    "class Empty(Exception):\n",
    "    def __init__(self, *args):\n",
    "        super().__init__(*args)\n",
    "\n",
    "class CircularQueue:\n",
    "    \"\"\"Queue implementing circularly linked list for storage\"\"\"\n",
    "\n",
    "    class _Node:\n",
    "        \"\"\"Lightweight, nonpublic class for storing a singly linked node\"\"\"\n",
    "        __slot__ = '_element', '_next'\n",
    "\n",
    "        def __init__(self, element: Optional['CircularQueue._Node._element'], next: Optional['CircularQueue._Node']):\n",
    "            self._element = element\n",
    "            self._next = next\n",
    "\n",
    "    def __init__(self) -> None:\n",
    "        self._tail = None\n",
    "        self._size = 0\n",
    "\n",
    "    def __len__(self) -> int:\n",
    "        return self._size\n",
    "    \n",
    "    def is_empty(self) -> bool:\n",
    "        return self._size == 0\n",
    "    \n",
    "    def first(self) -> Optional['_Node._element']:\n",
    "        \"\"\"Return, but do not remove, the element at the front of the queue\"\"\"\n",
    "        if self.is_empty():\n",
    "            raise Empty(\"Empty Queue\")\n",
    "        head = self._tail._next\n",
    "        return head._element\n",
    "    \n",
    "    def dequeue(self) -> Optional['_Node._element']:\n",
    "        \"\"\"Remove and return first element of the queue (FIFO)\"\"\"\n",
    "        if self.is_empty():\n",
    "            raise Empty(\"Empty Queue\")\n",
    "        old_head = self._tail._next\n",
    "        if self._size == 1:\n",
    "            self._size -= 1\n",
    "            self._tail = None\n",
    "        else:\n",
    "            self._tail._next = old_head._next\n",
    "        self._size -= 1\n",
    "        return old_head._element\n",
    "        \n",
    "\n",
    "        \n",
    "    \n",
    "    "
   ]
  }
 ],
 "metadata": {
  "kernelspec": {
   "display_name": "envs",
   "language": "python",
   "name": "python3"
  },
  "language_info": {
   "name": "python",
   "version": "3.12.7"
  }
 },
 "nbformat": 4,
 "nbformat_minor": 2
}
