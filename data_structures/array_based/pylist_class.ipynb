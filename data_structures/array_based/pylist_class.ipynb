{
 "cells": [
  {
   "cell_type": "markdown",
   "metadata": {},
   "source": [
    "### Python's list class uses a form of dynamic array for storage\n",
    "Python's implementation of the append method exhibits amortized constant-time behavior. Notice some of the more expensive operations in which a resize is performed:"
   ]
  },
  {
   "cell_type": "code",
   "execution_count": null,
   "metadata": {},
   "outputs": [
    {
     "name": "stdout",
     "output_type": "stream",
     "text": [
      "0.0000000477\n",
      "0.0000000260\n",
      "0.0000000406\n",
      "0.0000000364\n",
      "0.0000000217\n",
      "0.0000000128\n"
     ]
    }
   ],
   "source": [
    "from time import time\n",
    "def compute_average(n):\n",
    "    data = []\n",
    "    start = time()\n",
    "    for k in range(n):\n",
    "        data.append(None)\n",
    "    end = time()\n",
    "    return (end - start) / n\n",
    "print(\"{:.10f}\".format(compute_average(100)))\n",
    "print(\"{:.10f}\".format(compute_average(1000)))\n",
    "print(\"{:.10f}\".format(compute_average(10000)))\n",
    "print(\"{:.10f}\".format(compute_average(100000)))\n",
    "print(\"{:.10f}\".format(compute_average(1000000)))\n",
    "print(\"{:.10f}\".format(compute_average(100000000)))"
   ]
  },
  {
   "cell_type": "markdown",
   "metadata": {},
   "source": [
    "### Adding Elements to an Array\n"
   ]
  },
  {
   "cell_type": "code",
   "execution_count": 17,
   "metadata": {},
   "outputs": [
    {
     "name": "stdout",
     "output_type": "stream",
     "text": [
      "capacity: 10\n",
      "number of elements: 9\n",
      "move elements to the right before inserting new value\n",
      "capacity: 10\n",
      "number of elements: 10\n"
     ]
    }
   ],
   "source": [
    "import ctypes\n",
    "array = (ctypes.py_object * 10)()\n",
    "insertion_index = 2\n",
    "value = \"value\"\n",
    "none = None\n",
    "capcity = 10\n",
    "array[0] = 0\n",
    "array[1] = 1\n",
    "array[2] = 2\n",
    "array[3] = 3\n",
    "array[4] = 4\n",
    "array[5] = 5\n",
    "array[6] = 6\n",
    "array[7] = 7\n",
    "array[8] = 8\n",
    "print(\"capacity: {}\".format(len(array)))\n",
    "print(\"number of elements: {}\".format(9))\n",
    "print(\"move elements to the right before inserting new value\")\n",
    "for j in range(9,insertion_index,-1):\n",
    "    array[j] = array[j - 1]\n",
    "print(\"capacity: {}\".format(len(array)))\n",
    "count = 0\n",
    "for obj in array:\n",
    "    count += 1\n",
    "print(\"number of elements: {}\".format(count))\n",
    "array[insertion_index] = value\n",
    "\n",
    "\n",
    "\n",
    "\n"
   ]
  },
  {
   "cell_type": "markdown",
   "metadata": {},
   "source": [
    "### Alternate Implementation to Add Element\n",
    "Shifting elements rightward and evaluating results during operation\n"
   ]
  },
  {
   "cell_type": "code",
   "execution_count": 32,
   "metadata": {},
   "outputs": [
    {
     "name": "stdout",
     "output_type": "stream",
     "text": [
      "starting array: [1, 2, 3, 4, 5, 6, 7, 8]\n",
      "adding capacity....\n",
      "moving elements to the right...\n",
      "starting array: [1, 2, 3, 4, 5, 6, 7, 8, None]\n",
      "pointer: 8, nums: [1, 2, 3, 4, 5, 6, 7, 8, 8]\n",
      "pointer: 7, nums: [1, 2, 3, 4, 5, 6, 7, 7, 8]\n",
      "pointer: 6, nums: [1, 2, 3, 4, 5, 6, 6, 7, 8]\n",
      "pointer: 5, nums: [1, 2, 3, 4, 5, 5, 6, 7, 8]\n",
      "pointer: 4, nums: [1, 2, 3, 4, 4, 5, 6, 7, 8]\n",
      "nums: [1, 2, 3, 'element', 4, 5, 6, 7, 8]\n"
     ]
    }
   ],
   "source": [
    "nums = [1,2,3,4,5,6,7,8]\n",
    "def insert_element(insertion_index, element):\n",
    "    print(\"starting array: {}\".format(nums))\n",
    "    if insertion_index > len(nums):\n",
    "        print(\"extending nums...\")\n",
    "        nums.extend([None] * insertion_index - (len(nums) - 1))\n",
    "        print(\"new nums: {}\".format(nums))\n",
    "    else:\n",
    "        print(\"adding capacity....\")\n",
    "        nums.append(None)\n",
    "    last = nums.index(nums[-1])\n",
    "    print(\"moving elements to the right...\")\n",
    "    print(\"starting array: {}\".format(nums))\n",
    "    while last > insertion_index:\n",
    "        nums[last] = nums[last - 1]\n",
    "        print(\"pointer: {}, nums: {}\".format(last, nums))\n",
    "        last -= 1 \n",
    "    nums[insertion_index] = element\n",
    "insert_element(3,\"element\")\n",
    "print(\"nums: {}\".format(nums))\n",
    "\n",
    "\n",
    "\n",
    "\n",
    "\n",
    "\n",
    "\n",
    "\n",
    "\n",
    "\n"
   ]
  },
  {
   "cell_type": "markdown",
   "metadata": {},
   "source": [
    "### Removing Elements from a list: By Index\n",
    " - `pop()` effectively an O(1) operation, but the bound is amortized bc Python will occasionally shrink the underlying dynamic array to conserve memory\n",
    " - `pop(k)` shifts all subsequent elements leftward and efficiency is O(n - k); `pop(0)` is the most expensive call\n"
   ]
  },
  {
   "cell_type": "code",
   "execution_count": 39,
   "metadata": {},
   "outputs": [
    {
     "name": "stdout",
     "output_type": "stream",
     "text": [
      "remove and return: 1\n",
      "Nums: [2, 3, 4, 5, 6, 7, None]\n"
     ]
    }
   ],
   "source": [
    "nums = [1,2,3,4,5,6,7]\n",
    "\n",
    "def remove_and_return(index) -> int:\n",
    "    if not nums:\n",
    "        return None\n",
    "    element = nums[index]\n",
    "    nums[index] = None\n",
    "    pointer = index\n",
    "    while pointer < len(nums) - 1:\n",
    "        nums[pointer] = nums[pointer + 1]\n",
    "        pointer += 1\n",
    "    nums[-1] = None\n",
    "    return element\n",
    "\n",
    "print(\"remove and return: {}\".format(remove_and_return(0)))\n",
    "print(\"Nums: {}\".format(nums))\n",
    "\n"
   ]
  },
  {
   "cell_type": "markdown",
   "metadata": {},
   "source": [
    "### Remove and Return this Element\n",
    " - The list class offers another method allowing the value that should be removed to be passed\n",
    " - There is no \"efficient\" case for remove"
   ]
  },
  {
   "cell_type": "code",
   "execution_count": 3,
   "metadata": {},
   "outputs": [
    {
     "name": "stdout",
     "output_type": "stream",
     "text": [
      "return 6: 6\n",
      "nums: [1, 2, 3, 4, 5, 7, None]\n"
     ]
    }
   ],
   "source": [
    "nums = [1,2,3,4,5,6,7]\n",
    "def remove_and_return(element):\n",
    "    k = 0\n",
    "    for num in nums:\n",
    "        k = nums.index(num)\n",
    "        if num == element:\n",
    "            break\n",
    "    if k == len(nums) - 1:\n",
    "        print(\"element not found\")\n",
    "        return None\n",
    "    num = nums[k]\n",
    "    while k < len(nums) - 1:\n",
    "        nums[k] = nums[k + 1]\n",
    "        k += 1\n",
    "    nums[-1] = None\n",
    "    return num\n",
    "print(\"return 6: {}\".format(remove_and_return(6)))\n",
    "print(\"nums: {}\".format(nums))\n"
   ]
  },
  {
   "cell_type": "markdown",
   "metadata": {},
   "source": [
    "### Extending a List\n",
    " - due to constant factors hidden in asymptotic analysis being smaller, preferable to repeated calls to `append()`\n",
    " - resulting size of the updated list can be calculated in advance. Avoids potential resize of extending dataset is large "
   ]
  }
 ],
 "metadata": {
  "kernelspec": {
   "display_name": "envs",
   "language": "python",
   "name": "python3"
  },
  "language_info": {
   "codemirror_mode": {
    "name": "ipython",
    "version": 3
   },
   "file_extension": ".py",
   "mimetype": "text/x-python",
   "name": "python",
   "nbconvert_exporter": "python",
   "pygments_lexer": "ipython3",
   "version": "3.12.7"
  }
 },
 "nbformat": 4,
 "nbformat_minor": 2
}
