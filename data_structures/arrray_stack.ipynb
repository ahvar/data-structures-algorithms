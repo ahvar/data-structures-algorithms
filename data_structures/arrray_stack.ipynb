{
 "cells": [
  {
   "cell_type": "markdown",
   "metadata": {},
   "source": [
    "### Implementing a Stack Using Python List\n",
    "Adapter design pattern modifies an existing class so methods match those of a related, but different, class or interface. For stack Abstract Data Type (ADT), we adapt Python's list class.\n"
   ]
  },
  {
   "cell_type": "code",
   "execution_count": 3,
   "metadata": {},
   "outputs": [],
   "source": [
    "class Empty(Exception):\n",
    "    \"\"\"Custom exception class for empty stacks\"\"\"\n",
    "\n",
    "class ArrayStack:\n",
    "    \"\"\"Last In First Out (LIFO) Stack implmentation using a Python list as underlying storage\"\"\"\n",
    "    def __init__(self):\n",
    "        self._data = []\n",
    "    \n",
    "    def __len__(self):\n",
    "        return len(self._data)\n",
    "    \n",
    "    def is_empty(self):\n",
    "        return len(self._data) == 0\n",
    "    \n",
    "    def top(self):\n",
    "        if not self.is_empty():\n",
    "            return self._data[-1]\n",
    "        else:\n",
    "            raise Empty(\"Empty Stack\")\n",
    "\n",
    "    def push(self, element):\n",
    "        self._data.append(element)\n",
    "\n",
    "    def pop(self):\n",
    "        if self.is_empty():\n",
    "            raise Empty(\"Empty Stack\")\n",
    "        return self._data.pop() "
   ]
  },
  {
   "cell_type": "markdown",
   "metadata": {},
   "source": [
    "### The LIFO protocol can be used to reverse a data sequence.\n",
    "For example, if the values `1`, `2`, `3`, are pushed onto a stack in that order, they will be popped from the stack in the order `3`,`2`,`1`.\n",
    "\n",
    "Suppose we wish to print lines of a file in reverse order to display a data set in decreasing, rather than increasing, order. This can be accomplished by reading each line, pushing it onto the stack, then writing the lines in the order they're popped from the list"
   ]
  },
  {
   "cell_type": "code",
   "execution_count": 4,
   "metadata": {},
   "outputs": [],
   "source": [
    "def reverse_file(filename):\n",
    "    s = ArrayStack()\n",
    "    original = open(filename)\n",
    "    for line in original:\n",
    "        s.push(line.rstrip(\"\\n\"))\n",
    "    original.close()\n",
    "    output = open(filename,'w')\n",
    "    while not s.is_empty():\n",
    "        output.write(s.pop() + \"\\n\")\n",
    "    output.close()"
   ]
  },
  {
   "cell_type": "markdown",
   "metadata": {},
   "source": [
    "### Validating Matching Pairs of Delimiters\n",
    "Arthimetic expressions that may contain various pairs of grouping symbols\n",
    "1. left-to-right scan of the original sequence\n",
    "2. opening symbol goes on the stack\n",
    "3. closing symbol popped from stack (if not empty) and check that it is the opening bracket\n",
    "\n",
    "runs in `O(n)` time\n"
   ]
  },
  {
   "cell_type": "code",
   "execution_count": 5,
   "metadata": {},
   "outputs": [],
   "source": [
    "def is_matched(expression) -> bool:\n",
    "    left = \"({[\"\n",
    "    right = \")}]\"\n",
    "    stack = ArrayStack()\n",
    "    for c in expression:\n",
    "        if c in left:\n",
    "            stack.push(c)\n",
    "        elif c in right:\n",
    "            if stack.is_empty():\n",
    "                return False\n",
    "            if right.index(c) != left.index(stack.pop()): # index of closing bracket diff than index of opening bracket\n",
    "                return False\n",
    "    return stack.is_empty() # if all were matched then the stack is empty"
   ]
  },
  {
   "cell_type": "markdown",
   "metadata": {},
   "source": [
    "### Validation of Markup Languages\n"
   ]
  },
  {
   "cell_type": "code",
   "execution_count": 7,
   "metadata": {},
   "outputs": [],
   "source": [
    "def is_matched_html(raw) -> bool:\n",
    "    open = \"<body><h1><center><p><ol><li>\"\n",
    "    close = \"</body></h1></center></p></ol></li>\"\n",
    "    j = 0\n",
    "    stack = ArrayStack()\n",
    "    while j < len(raw) - 1:\n",
    "        if raw[j] == \"<\":\n",
    "            k = j\n",
    "            stack.push(raw[j])\n",
    "        elif raw[j] == \">\":\n",
    "            if stack.is_empty():\n",
    "                return False\n",
    "            elif stack.top == \"<\" and raw[k:j+1] not in close:\n",
    "                return False\n",
    "    return stack.is_empty()\n",
    "            \n",
    "\n"
   ]
  },
  {
   "cell_type": "code",
   "execution_count": null,
   "metadata": {},
   "outputs": [],
   "source": [
    "def is_matched_html_alt(raw):\n",
    "    s = ArrayStack()\n",
    "    j = raw.find(\"<\")\n",
    "    while j < -1:\n",
    "        k = raw.find(\">\", j + 1) # look for the closing delimiter starting from the character immediately following raw[j]\n",
    "        if k == -1:\n",
    "            return False # Closing Delimiter Missing. Reached the end without a closing delimiter\n",
    "        tag = raw[j+1:k] # slice raw from the character immediately after raw[j] (inclusive) to k (exclusive)\n",
    "        if not tag.startswith(\"/\"): # Opening Tag Found. Push it on the stack\n",
    "            s.push(tag)\n",
    "        else:\n",
    "            if s.is_empty():\n",
    "                return False # Invalid HTML. Found closing delimiter with no preceding opening delimiter\n",
    "            if tag[1:] != s.pop(): # slice off the beginning '/' to get only the tag name and pop off tag at top of the stack\n",
    "                return False # Invalid HTML. This closing tag does not match\n",
    "        j = raw.find(\"<\", k + 1) # find the next opening delimiter"
   ]
  }
 ],
 "metadata": {
  "kernelspec": {
   "display_name": "envs",
   "language": "python",
   "name": "python3"
  },
  "language_info": {
   "codemirror_mode": {
    "name": "ipython",
    "version": 3
   },
   "file_extension": ".py",
   "mimetype": "text/x-python",
   "name": "python",
   "nbconvert_exporter": "python",
   "pygments_lexer": "ipython3",
   "version": "3.12.7"
  }
 },
 "nbformat": 4,
 "nbformat_minor": 2
}
