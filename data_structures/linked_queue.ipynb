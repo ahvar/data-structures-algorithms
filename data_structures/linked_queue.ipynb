{
 "cells": [
  {
   "cell_type": "markdown",
   "metadata": {},
   "source": [
    "## Implementing a Queue with a Singly Linked List\n",
    "We will enqueue elements at the back, and dequeue them from the front: First In First Out (FIFO). We cannot easily delete the last node of a singly linked list, even with the tail reference, because we must be able to access the node before the last node\n",
    "\n",
    "- When `dequeue` is invoked on a queue with one element, we are simultaneously removing the tail of the list, so set `self._tail` to `None`"
   ]
  },
  {
   "cell_type": "code",
   "execution_count": 1,
   "metadata": {},
   "outputs": [],
   "source": [
    "from typing import Optional\n",
    "\n",
    "class Empty(Exception):\n",
    "    def __init__(self, *args):\n",
    "        super().__init__(*args)\n",
    "\n",
    "class LinkedQueue:\n",
    "    \"\"\"FIFO queue implementation using a singly linked list\"\"\"\n",
    "    class _Node:\n",
    "        __slot__ = '_element', '_next'\n",
    "\n",
    "        def __init__(self, element: Optional['element'], next: Optional['_Node']):\n",
    "            self._element = element\n",
    "            self._next = next\n",
    "        \n",
    "    def __init__(self) -> None:\n",
    "        self._head = None\n",
    "        self._size = 0\n",
    "        self._tail = None\n",
    "\n",
    "    def __len__(self) -> int:\n",
    "        return self._size\n",
    "    \n",
    "    def is_empty(self) -> bool:\n",
    "        return self._size == 0\n",
    "    \n",
    "    def first(self) -> Optional['_Node._element']:\n",
    "        if self.is_empty():\n",
    "            raise Empty(\"Empty Queue\")\n",
    "        return self._head._element\n",
    "    \n",
    "    def dequeue(self) -> Optional['_Node._element']:\n",
    "        if self.is_empty():\n",
    "            raise Empty(\"Empty Queue\")\n",
    "        element = self._head._element\n",
    "        self._head = self._head._next\n",
    "        self._size -= 1\n",
    "        if self.is_empty():\n",
    "            self._tail = None\n",
    "        return element\n",
    "    \n",
    "    def enqueue(self, element: Optional['_Node._element']) -> None:\n",
    "        newest = self._Node(element=element, next=None)\n",
    "        if self.is_empty():\n",
    "            self._head = newest\n",
    "        else:\n",
    "            self._tail._next = newest\n",
    "            self._tail = newest\n",
    "            self._size += 1\n",
    "\n",
    "\n",
    "    \n"
   ]
  }
 ],
 "metadata": {
  "kernelspec": {
   "display_name": "envs",
   "language": "python",
   "name": "python3"
  },
  "language_info": {
   "codemirror_mode": {
    "name": "ipython",
    "version": 3
   },
   "file_extension": ".py",
   "mimetype": "text/x-python",
   "name": "python",
   "nbconvert_exporter": "python",
   "pygments_lexer": "ipython3",
   "version": "3.12.7"
  }
 },
 "nbformat": 4,
 "nbformat_minor": 2
}
